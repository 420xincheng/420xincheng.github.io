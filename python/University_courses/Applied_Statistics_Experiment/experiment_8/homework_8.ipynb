{
 "cells": [
  {
   "cell_type": "markdown",
   "metadata": {
    "collapsed": true,
    "pycharm": {
     "name": "#%% md\n"
    }
   },
   "source": [
    "# 实验八 时间序列分析与预测"
   ]
  },
  {
   "cell_type": "code",
   "execution_count": 1,
   "metadata": {
    "pycharm": {
     "name": "#%%\n"
    }
   },
   "outputs": [],
   "source": [
    "import pandas as pd\n",
    "import numpy as np\n",
    "import matplotlib.pyplot as plt\n",
    "import statsmodels.api as sm\n",
    "import statsmodels.stats.weightstats as sw\n",
    "from sklearn.linear_model import LinearRegression\n",
    "import scipy.stats as sta\n",
    "import random\n",
    "\n",
    "\n",
    "plt.rcParams['font.sans-serif'] = ['Microsoft YaHei']\n",
    "plt.rcParams['axes.unicode_minus'] = False"
   ]
  },
  {
   "cell_type": "markdown",
   "metadata": {
    "pycharm": {
     "name": "#%% md\n"
    }
   },
   "source": [
    "## 1.时间序列的描述\n",
    "根据我国2012-2017年的汽车产量(万辆)资料绘制时间序列折线图并计算汽车产量的增长量、平均增长量、发展速度和平均发展速度。"
   ]
  },
  {
   "cell_type": "code",
   "execution_count": 2,
   "metadata": {
    "pycharm": {
     "name": "#%%\n"
    }
   },
   "outputs": [],
   "source": [
    "data = pd.read_excel('第10章  时间序列分析与预测.xlsx', None)"
   ]
  },
  {
   "cell_type": "code",
   "execution_count": 3,
   "metadata": {
    "pycharm": {
     "name": "#%%\n"
    }
   },
   "outputs": [
    {
     "data": {
      "text/plain": "     年份  我国汽车产量(万吨)\n0  2012     1927.62\n1  2013     2212.09\n2  2014     2372.52\n3  2015     2450.00\n4  2016     2812.00\n5  2017     2902.00",
      "text/html": "<div>\n<style scoped>\n    .dataframe tbody tr th:only-of-type {\n        vertical-align: middle;\n    }\n\n    .dataframe tbody tr th {\n        vertical-align: top;\n    }\n\n    .dataframe thead th {\n        text-align: right;\n    }\n</style>\n<table border=\"1\" class=\"dataframe\">\n  <thead>\n    <tr style=\"text-align: right;\">\n      <th></th>\n      <th>年份</th>\n      <th>我国汽车产量(万吨)</th>\n    </tr>\n  </thead>\n  <tbody>\n    <tr>\n      <th>0</th>\n      <td>2012</td>\n      <td>1927.62</td>\n    </tr>\n    <tr>\n      <th>1</th>\n      <td>2013</td>\n      <td>2212.09</td>\n    </tr>\n    <tr>\n      <th>2</th>\n      <td>2014</td>\n      <td>2372.52</td>\n    </tr>\n    <tr>\n      <th>3</th>\n      <td>2015</td>\n      <td>2450.00</td>\n    </tr>\n    <tr>\n      <th>4</th>\n      <td>2016</td>\n      <td>2812.00</td>\n    </tr>\n    <tr>\n      <th>5</th>\n      <td>2017</td>\n      <td>2902.00</td>\n    </tr>\n  </tbody>\n</table>\n</div>"
     },
     "execution_count": 3,
     "metadata": {},
     "output_type": "execute_result"
    }
   ],
   "source": [
    "df1 = data['表10-8']\n",
    "df1.columns = ['年份','我国汽车产量(万吨)']\n",
    "df1"
   ]
  },
  {
   "cell_type": "markdown",
   "metadata": {
    "pycharm": {
     "name": "#%% md\n"
    }
   },
   "source": [
    "### 折线图"
   ]
  },
  {
   "cell_type": "code",
   "execution_count": 4,
   "metadata": {
    "pycharm": {
     "name": "#%%\n"
    }
   },
   "outputs": [
    {
     "data": {
      "text/plain": "<AxesSubplot:xlabel='年份'>"
     },
     "execution_count": 4,
     "metadata": {},
     "output_type": "execute_result"
    },
    {
     "data": {
      "text/plain": "<Figure size 432x288 with 1 Axes>",
      "image/png": "[encoded data removed]"
     },
     "metadata": {
      "needs_background": "light"
     },
     "output_type": "display_data"
    }
   ],
   "source": [
    "df1.plot(kind='line',x='年份',y='我国汽车产量(万吨)')"
   ]
  },
  {
   "cell_type": "markdown",
   "metadata": {
    "pycharm": {
     "name": "#%% md\n"
    }
   },
   "source": [
    "### 增长量"
   ]
  },
  {
   "cell_type": "code",
   "execution_count": 5,
   "metadata": {
    "pycharm": {
     "name": "#%%\n"
    }
   },
   "outputs": [
    {
     "data": {
      "text/plain": "      我国汽车产量(万吨)  逐期增长量(万辆)  累积增长量(万辆)\n年份                                    \n2012     1927.62       0.00       0.00\n2013     2212.09     284.47     284.47\n2014     2372.52     160.43     444.90\n2015     2450.00      77.48     522.38\n2016     2812.00     362.00     884.38\n2017     2902.00      90.00     974.38",
      "text/html": "<div>\n<style scoped>\n    .dataframe tbody tr th:only-of-type {\n        vertical-align: middle;\n    }\n\n    .dataframe tbody tr th {\n        vertical-align: top;\n    }\n\n    .dataframe thead th {\n        text-align: right;\n    }\n</style>\n<table border=\"1\" class=\"dataframe\">\n  <thead>\n    <tr style=\"text-align: right;\">\n      <th></th>\n      <th>我国汽车产量(万吨)</th>\n      <th>逐期增长量(万辆)</th>\n      <th>累积增长量(万辆)</th>\n    </tr>\n    <tr>\n      <th>年份</th>\n      <th></th>\n      <th></th>\n      <th></th>\n    </tr>\n  </thead>\n  <tbody>\n    <tr>\n      <th>2012</th>\n      <td>1927.62</td>\n      <td>0.00</td>\n      <td>0.00</td>\n    </tr>\n    <tr>\n      <th>2013</th>\n      <td>2212.09</td>\n      <td>284.47</td>\n      <td>284.47</td>\n    </tr>\n    <tr>\n      <th>2014</th>\n      <td>2372.52</td>\n      <td>160.43</td>\n      <td>444.90</td>\n    </tr>\n    <tr>\n      <th>2015</th>\n      <td>2450.00</td>\n      <td>77.48</td>\n      <td>522.38</td>\n    </tr>\n    <tr>\n      <th>2016</th>\n      <td>2812.00</td>\n      <td>362.00</td>\n      <td>884.38</td>\n    </tr>\n    <tr>\n      <th>2017</th>\n      <td>2902.00</td>\n      <td>90.00</td>\n      <td>974.38</td>\n    </tr>\n  </tbody>\n</table>\n</div>"
     },
     "execution_count": 5,
     "metadata": {},
     "output_type": "execute_result"
    }
   ],
   "source": [
    "output_car = df1['我国汽车产量(万吨)'].values.flatten()\n",
    "period_growth = [0]\n",
    "accumulate_growth = [0]\n",
    "\n",
    "for i in range(1,len(output_car)):\n",
    "    period_growth.append(round(output_car[i] - output_car[i - 1],2))\n",
    "    accumulate_growth.append(round(period_growth[i] + accumulate_growth[i - 1],2))\n",
    "\n",
    "df2 = df1\n",
    "df2['逐期增长量(万辆)'] = pd.Series(period_growth)\n",
    "df2['累积增长量(万辆)'] = pd.Series(accumulate_growth)\n",
    "\n",
    "df2 = df2.set_index('年份')\n",
    "df2"
   ]
  },
  {
   "cell_type": "markdown",
   "source": [
    "### 平均增长量"
   ],
   "metadata": {
    "collapsed": false,
    "pycharm": {
     "name": "#%% md\n"
    }
   }
  },
  {
   "cell_type": "code",
   "execution_count": 6,
   "metadata": {
    "pycharm": {
     "name": "#%%\n"
    }
   },
   "outputs": [
    {
     "name": "stdout",
     "output_type": "stream",
     "text": [
      "平均增长量为：194.88\n"
     ]
    }
   ],
   "source": [
    "print('平均增长量为：{:.2f}'.format((df2.iloc[-1,0] - df2.iloc[0,0]) / 5))"
   ]
  },
  {
   "cell_type": "markdown",
   "metadata": {
    "pycharm": {
     "name": "#%% md\n"
    }
   },
   "source": [
    "方法二:\n",
    "```python\n",
    "df1 = df1.set_index('年份')\n",
    "growth = [df1.iloc[i + 1, 0] - df1.iloc[i, 0] for i in range(len(df1) - 1)]  # df1此时是以年份为索引，且只有一列\n",
    "growth.insert(0,0)\n",
    "acc = growth.copy()\n",
    "for i in range(len(df1) - 1):\n",
    "    acc[i + 1] += acc[i]\n",
    "df1['增长量'] = growth\n",
    "df1['累积增长量'] = acc\n",
    "```"
   ]
  },
  {
   "cell_type": "markdown",
   "metadata": {
    "pycharm": {
     "name": "#%% md\n"
    }
   },
   "source": [
    "### 发展速度"
   ]
  },
  {
   "cell_type": "code",
   "execution_count": 7,
   "metadata": {
    "pycharm": {
     "name": "#%%\n"
    }
   },
   "outputs": [
    {
     "data": {
      "text/plain": "      我国汽车产量(万吨)  逐期增长量(万辆)  累积增长量(万辆)  环比发展速度%  定基发展速度%\n年份                                                      \n2012     1927.62       0.00       0.00      0.0      0.0\n2013     2212.09     284.47     284.47    114.8    114.8\n2014     2372.52     160.43     444.90    107.3    123.1\n2015     2450.00      77.48     522.38    103.3    127.1\n2016     2812.00     362.00     884.38    114.8    145.9\n2017     2902.00      90.00     974.38    103.2    150.5",
      "text/html": "<div>\n<style scoped>\n    .dataframe tbody tr th:only-of-type {\n        vertical-align: middle;\n    }\n\n    .dataframe tbody tr th {\n        vertical-align: top;\n    }\n\n    .dataframe thead th {\n        text-align: right;\n    }\n</style>\n<table border=\"1\" class=\"dataframe\">\n  <thead>\n    <tr style=\"text-align: right;\">\n      <th></th>\n      <th>我国汽车产量(万吨)</th>\n      <th>逐期增长量(万辆)</th>\n      <th>累积增长量(万辆)</th>\n      <th>环比发展速度%</th>\n      <th>定基发展速度%</th>\n    </tr>\n    <tr>\n      <th>年份</th>\n      <th></th>\n      <th></th>\n      <th></th>\n      <th></th>\n      <th></th>\n    </tr>\n  </thead>\n  <tbody>\n    <tr>\n      <th>2012</th>\n      <td>1927.62</td>\n      <td>0.00</td>\n      <td>0.00</td>\n      <td>0.0</td>\n      <td>0.0</td>\n    </tr>\n    <tr>\n      <th>2013</th>\n      <td>2212.09</td>\n      <td>284.47</td>\n      <td>284.47</td>\n      <td>114.8</td>\n      <td>114.8</td>\n    </tr>\n    <tr>\n      <th>2014</th>\n      <td>2372.52</td>\n      <td>160.43</td>\n      <td>444.90</td>\n      <td>107.3</td>\n      <td>123.1</td>\n    </tr>\n    <tr>\n      <th>2015</th>\n      <td>2450.00</td>\n      <td>77.48</td>\n      <td>522.38</td>\n      <td>103.3</td>\n      <td>127.1</td>\n    </tr>\n    <tr>\n      <th>2016</th>\n      <td>2812.00</td>\n      <td>362.00</td>\n      <td>884.38</td>\n      <td>114.8</td>\n      <td>145.9</td>\n    </tr>\n    <tr>\n      <th>2017</th>\n      <td>2902.00</td>\n      <td>90.00</td>\n      <td>974.38</td>\n      <td>103.2</td>\n      <td>150.5</td>\n    </tr>\n  </tbody>\n</table>\n</div>"
     },
     "execution_count": 7,
     "metadata": {},
     "output_type": "execute_result"
    }
   ],
   "source": [
    "speed1 = [0]\n",
    "speed2 = [0]\n",
    "\n",
    "for i in range(1,len(output_car)):\n",
    "    speed1.append(round(output_car[i] / output_car[i - 1] * 100,1))\n",
    "    speed2.append(round(output_car[i] / output_car[0] * 100,1))\n",
    "\n",
    "df2['环比发展速度%'] = speed1\n",
    "df2['定基发展速度%'] = speed2\n",
    "df2"
   ]
  },
  {
   "cell_type": "markdown",
   "source": [
    "### 平均发展速度"
   ],
   "metadata": {
    "collapsed": false,
    "pycharm": {
     "name": "#%% md\n"
    }
   }
  },
  {
   "cell_type": "code",
   "execution_count": 8,
   "metadata": {
    "pycharm": {
     "name": "#%%\n"
    }
   },
   "outputs": [
    {
     "name": "stdout",
     "output_type": "stream",
     "text": [
      "平均发展速度为：8.53%\n"
     ]
    }
   ],
   "source": [
    "avg_speed = (df2.iloc[-1,0] / df2.iloc[0,0]) ** 0.2 - 1\n",
    "print('平均发展速度为：{:.2f}%'.format(avg_speed * 100))"
   ]
  },
  {
   "cell_type": "markdown",
   "metadata": {
    "pycharm": {
     "name": "#%% md\n"
    }
   },
   "source": [
    "## 2.时间序列外推预测\n",
    "根据某超市12周营业额数据绘制折线图，并使用移动平均法、指数平滑法和线性回归两种方法进行预测"
   ]
  },
  {
   "cell_type": "code",
   "execution_count": 9,
   "metadata": {
    "pycharm": {
     "name": "#%%\n"
    }
   },
   "outputs": [
    {
     "data": {
      "text/plain": "    月份  营业额（万元）\n0    1       24\n1    2       28\n2    3       26\n3    4       32\n4    5       23\n5    6       30\n6    7       31\n7    8       23\n8    9       25\n9   10       29\n10  11       31\n11  12       29",
      "text/html": "<div>\n<style scoped>\n    .dataframe tbody tr th:only-of-type {\n        vertical-align: middle;\n    }\n\n    .dataframe tbody tr th {\n        vertical-align: top;\n    }\n\n    .dataframe thead th {\n        text-align: right;\n    }\n</style>\n<table border=\"1\" class=\"dataframe\">\n  <thead>\n    <tr style=\"text-align: right;\">\n      <th></th>\n      <th>月份</th>\n      <th>营业额（万元）</th>\n    </tr>\n  </thead>\n  <tbody>\n    <tr>\n      <th>0</th>\n      <td>1</td>\n      <td>24</td>\n    </tr>\n    <tr>\n      <th>1</th>\n      <td>2</td>\n      <td>28</td>\n    </tr>\n    <tr>\n      <th>2</th>\n      <td>3</td>\n      <td>26</td>\n    </tr>\n    <tr>\n      <th>3</th>\n      <td>4</td>\n      <td>32</td>\n    </tr>\n    <tr>\n      <th>4</th>\n      <td>5</td>\n      <td>23</td>\n    </tr>\n    <tr>\n      <th>5</th>\n      <td>6</td>\n      <td>30</td>\n    </tr>\n    <tr>\n      <th>6</th>\n      <td>7</td>\n      <td>31</td>\n    </tr>\n    <tr>\n      <th>7</th>\n      <td>8</td>\n      <td>23</td>\n    </tr>\n    <tr>\n      <th>8</th>\n      <td>9</td>\n      <td>25</td>\n    </tr>\n    <tr>\n      <th>9</th>\n      <td>10</td>\n      <td>29</td>\n    </tr>\n    <tr>\n      <th>10</th>\n      <td>11</td>\n      <td>31</td>\n    </tr>\n    <tr>\n      <th>11</th>\n      <td>12</td>\n      <td>29</td>\n    </tr>\n  </tbody>\n</table>\n</div>"
     },
     "execution_count": 9,
     "metadata": {},
     "output_type": "execute_result"
    }
   ],
   "source": [
    "df3 = data['表10-11']\n",
    "df3.columns = ['月份','营业额（万元）']\n",
    "df3"
   ]
  },
  {
   "cell_type": "code",
   "execution_count": 10,
   "metadata": {
    "pycharm": {
     "name": "#%%\n"
    }
   },
   "outputs": [
    {
     "data": {
      "text/plain": "<AxesSubplot:xlabel='月份'>"
     },
     "execution_count": 10,
     "metadata": {},
     "output_type": "execute_result"
    },
    {
     "data": {
      "text/plain": "<Figure size 432x288 with 1 Axes>",
      "image/png": "[encoded data removed]"
     },
     "metadata": {
      "needs_background": "light"
     },
     "output_type": "display_data"
    }
   ],
   "source": [
    "df3.plot(kind='line',x='月份',y='营业额（万元）')"
   ]
  },
  {
   "cell_type": "markdown",
   "metadata": {
    "pycharm": {
     "name": "#%% md\n"
    }
   },
   "source": [
    "### 2.1移动平均法"
   ]
  },
  {
   "cell_type": "code",
   "execution_count": 11,
   "metadata": {
    "pycharm": {
     "name": "#%%\n"
    }
   },
   "outputs": [
    {
     "data": {
      "text/plain": "    月份  营业额（万元）  3次移动平均预测值\n0    1     24.0        NaN\n1    2     28.0        NaN\n2    3     26.0        NaN\n3    4     32.0  26.000000\n4    5     23.0  28.666667\n5    6     30.0  27.000000\n6    7     31.0  28.333333\n7    8     23.0  28.000000\n8    9     25.0  28.000000\n9   10     29.0  26.333333\n10  11     31.0  25.666667\n11  12     29.0  28.333333\n12  13      NaN  29.666667",
      "text/html": "<div>\n<style scoped>\n    .dataframe tbody tr th:only-of-type {\n        vertical-align: middle;\n    }\n\n    .dataframe tbody tr th {\n        vertical-align: top;\n    }\n\n    .dataframe thead th {\n        text-align: right;\n    }\n</style>\n<table border=\"1\" class=\"dataframe\">\n  <thead>\n    <tr style=\"text-align: right;\">\n      <th></th>\n      <th>月份</th>\n      <th>营业额（万元）</th>\n      <th>3次移动平均预测值</th>\n    </tr>\n  </thead>\n  <tbody>\n    <tr>\n      <th>0</th>\n      <td>1</td>\n      <td>24.0</td>\n      <td>NaN</td>\n    </tr>\n    <tr>\n      <th>1</th>\n      <td>2</td>\n      <td>28.0</td>\n      <td>NaN</td>\n    </tr>\n    <tr>\n      <th>2</th>\n      <td>3</td>\n      <td>26.0</td>\n      <td>NaN</td>\n    </tr>\n    <tr>\n      <th>3</th>\n      <td>4</td>\n      <td>32.0</td>\n      <td>26.000000</td>\n    </tr>\n    <tr>\n      <th>4</th>\n      <td>5</td>\n      <td>23.0</td>\n      <td>28.666667</td>\n    </tr>\n    <tr>\n      <th>5</th>\n      <td>6</td>\n      <td>30.0</td>\n      <td>27.000000</td>\n    </tr>\n    <tr>\n      <th>6</th>\n      <td>7</td>\n      <td>31.0</td>\n      <td>28.333333</td>\n    </tr>\n    <tr>\n      <th>7</th>\n      <td>8</td>\n      <td>23.0</td>\n      <td>28.000000</td>\n    </tr>\n    <tr>\n      <th>8</th>\n      <td>9</td>\n      <td>25.0</td>\n      <td>28.000000</td>\n    </tr>\n    <tr>\n      <th>9</th>\n      <td>10</td>\n      <td>29.0</td>\n      <td>26.333333</td>\n    </tr>\n    <tr>\n      <th>10</th>\n      <td>11</td>\n      <td>31.0</td>\n      <td>25.666667</td>\n    </tr>\n    <tr>\n      <th>11</th>\n      <td>12</td>\n      <td>29.0</td>\n      <td>28.333333</td>\n    </tr>\n    <tr>\n      <th>12</th>\n      <td>13</td>\n      <td>NaN</td>\n      <td>29.666667</td>\n    </tr>\n  </tbody>\n</table>\n</div>"
     },
     "execution_count": 11,
     "metadata": {},
     "output_type": "execute_result"
    }
   ],
   "source": [
    "move_avg = [np.nan] * 3\n",
    "t = 13\n",
    "\n",
    "for i in range(1, len(df3) - 1):\n",
    "    move_avg.append(round((df3.iloc[i - 1,1] + df3.iloc[i,1] + df3.iloc[i + 1,1]) / 3,6))\n",
    "\n",
    "df3.loc[t - 1] = [13, np.nan]\n",
    "df3['3次移动平均预测值'] = move_avg\n",
    "df3['月份'] = df3['月份'].astype(int)\n",
    "df3"
   ]
  },
  {
   "cell_type": "markdown",
   "source": [
    "可以直接使用rolling方法   <br>\n",
    "`df3['3次移动平均预测值'] = df3['营业额（万元）'].rolling(window=3).mean()` <br>\n",
    "再将上述预测值与window=5计算的预测值进行对比、评估（可使用均方误差）。(~~这里偷懒不再实现了~~"
   ],
   "metadata": {
    "collapsed": false,
    "pycharm": {
     "name": "#%% md\n"
    }
   }
  },
  {
   "cell_type": "markdown",
   "metadata": {
    "pycharm": {
     "name": "#%% md\n"
    }
   },
   "source": [
    "### 2.2指数平滑法"
   ]
  },
  {
   "cell_type": "code",
   "execution_count": 12,
   "metadata": {
    "pycharm": {
     "name": "#%%\n"
    }
   },
   "outputs": [
    {
     "data": {
      "text/plain": "    月份  营业额（万元）  3次移动平均预测值  指数平滑预测值(a=0.1)\n0    1     24.0        NaN             NaN\n1    2     28.0        NaN       24.000000\n2    3     26.0        NaN       24.400000\n3    4     32.0  26.000000       24.560000\n4    5     23.0  28.666667       25.304000\n5    6     30.0  27.000000       25.073600\n6    7     31.0  28.333333       25.566240\n7    8     23.0  28.000000       26.109616\n8    9     25.0  28.000000       25.798654\n9   10     29.0  26.333333       25.718789\n10  11     31.0  25.666667       26.046910\n11  12     29.0  28.333333       26.542219\n12  13      NaN  29.666667       26.787997",
      "text/html": "<div>\n<style scoped>\n    .dataframe tbody tr th:only-of-type {\n        vertical-align: middle;\n    }\n\n    .dataframe tbody tr th {\n        vertical-align: top;\n    }\n\n    .dataframe thead th {\n        text-align: right;\n    }\n</style>\n<table border=\"1\" class=\"dataframe\">\n  <thead>\n    <tr style=\"text-align: right;\">\n      <th></th>\n      <th>月份</th>\n      <th>营业额（万元）</th>\n      <th>3次移动平均预测值</th>\n      <th>指数平滑预测值(a=0.1)</th>\n    </tr>\n  </thead>\n  <tbody>\n    <tr>\n      <th>0</th>\n      <td>1</td>\n      <td>24.0</td>\n      <td>NaN</td>\n      <td>NaN</td>\n    </tr>\n    <tr>\n      <th>1</th>\n      <td>2</td>\n      <td>28.0</td>\n      <td>NaN</td>\n      <td>24.000000</td>\n    </tr>\n    <tr>\n      <th>2</th>\n      <td>3</td>\n      <td>26.0</td>\n      <td>NaN</td>\n      <td>24.400000</td>\n    </tr>\n    <tr>\n      <th>3</th>\n      <td>4</td>\n      <td>32.0</td>\n      <td>26.000000</td>\n      <td>24.560000</td>\n    </tr>\n    <tr>\n      <th>4</th>\n      <td>5</td>\n      <td>23.0</td>\n      <td>28.666667</td>\n      <td>25.304000</td>\n    </tr>\n    <tr>\n      <th>5</th>\n      <td>6</td>\n      <td>30.0</td>\n      <td>27.000000</td>\n      <td>25.073600</td>\n    </tr>\n    <tr>\n      <th>6</th>\n      <td>7</td>\n      <td>31.0</td>\n      <td>28.333333</td>\n      <td>25.566240</td>\n    </tr>\n    <tr>\n      <th>7</th>\n      <td>8</td>\n      <td>23.0</td>\n      <td>28.000000</td>\n      <td>26.109616</td>\n    </tr>\n    <tr>\n      <th>8</th>\n      <td>9</td>\n      <td>25.0</td>\n      <td>28.000000</td>\n      <td>25.798654</td>\n    </tr>\n    <tr>\n      <th>9</th>\n      <td>10</td>\n      <td>29.0</td>\n      <td>26.333333</td>\n      <td>25.718789</td>\n    </tr>\n    <tr>\n      <th>10</th>\n      <td>11</td>\n      <td>31.0</td>\n      <td>25.666667</td>\n      <td>26.046910</td>\n    </tr>\n    <tr>\n      <th>11</th>\n      <td>12</td>\n      <td>29.0</td>\n      <td>28.333333</td>\n      <td>26.542219</td>\n    </tr>\n    <tr>\n      <th>12</th>\n      <td>13</td>\n      <td>NaN</td>\n      <td>29.666667</td>\n      <td>26.787997</td>\n    </tr>\n  </tbody>\n</table>\n</div>"
     },
     "execution_count": 12,
     "metadata": {},
     "output_type": "execute_result"
    }
   ],
   "source": [
    "exp_smooth = [np.nan,df3.iloc[0,1]]\n",
    "a = 0.1\n",
    "for i in range(1, len(df3) - 1):\n",
    "    exp_smooth.append(round(a * df3.iloc[i,1] + (1 - a) * exp_smooth[-1],6))\n",
    "df3['指数平滑预测值(a=0.1)'] = exp_smooth\n",
    "df3"
   ]
  },
  {
   "cell_type": "markdown",
   "source": [
    "可以直接调用api计算\n",
    "```python\n",
    "from statsmodels.tsa.api import SimpleExpSmoothing\n",
    "y = df3['营业额（万元）']\n",
    "a = 0.1\n",
    "fit1 = SimpleExpSmoothing(y).fit(smoothing_level=a,optimized=False)\n",
    "fit1.forecast(1)  # 第13个周期的预测值\n",
    "fit1.fittedvalues # 1 - 12 周期的预测值\n",
    "```\n",
    "同理可以取不同的a值，并比较均方误差，并选取最合适的a进行预测得到最后的结果"
   ],
   "metadata": {
    "collapsed": false,
    "pycharm": {
     "name": "#%% md\n"
    }
   }
  },
  {
   "cell_type": "code",
   "execution_count": 13,
   "outputs": [
    {
     "data": {
      "text/plain": "<AxesSubplot:title={'center':'实际值和移动平均预测值。指数平滑预测值对比'}, xlabel='月份'>"
     },
     "execution_count": 13,
     "metadata": {},
     "output_type": "execute_result"
    },
    {
     "data": {
      "text/plain": "<Figure size 720x576 with 1 Axes>",
      "image/png": "[encoded data removed]"
     },
     "metadata": {
      "needs_background": "light"
     },
     "output_type": "display_data"
    }
   ],
   "source": [
    "df3.plot(kind='line',x='月份',y=['营业额（万元）','3次移动平均预测值','指数平滑预测值(a=0.1)'],grid=True,figsize=(10,8),ylim=15,title='实际值和移动平均预测值。指数平滑预测值对比')"
   ],
   "metadata": {
    "collapsed": false,
    "pycharm": {
     "name": "#%%\n"
    }
   }
  },
  {
   "cell_type": "markdown",
   "metadata": {
    "pycharm": {
     "name": "#%% md\n"
    }
   },
   "source": [
    "### 2.3线性回归预测\n",
    "对表10-13中某公司2006-2017的销售额进行回归预测"
   ]
  },
  {
   "cell_type": "code",
   "execution_count": 14,
   "metadata": {
    "pycharm": {
     "name": "#%%\n"
    }
   },
   "outputs": [
    {
     "data": {
      "text/plain": "      年份   t  销售额实际观察值（万元）\n0   2006   1           490\n1   2007   2           480\n2   2008   3           510\n3   2009   4           590\n4   2010   5           570\n5   2011   6           640\n6   2012   7           680\n7   2013   8           670\n8   2014   9           690\n9   2015  10           760\n10  2016  11           750\n11  2017  12           800",
      "text/html": "<div>\n<style scoped>\n    .dataframe tbody tr th:only-of-type {\n        vertical-align: middle;\n    }\n\n    .dataframe tbody tr th {\n        vertical-align: top;\n    }\n\n    .dataframe thead th {\n        text-align: right;\n    }\n</style>\n<table border=\"1\" class=\"dataframe\">\n  <thead>\n    <tr style=\"text-align: right;\">\n      <th></th>\n      <th>年份</th>\n      <th>t</th>\n      <th>销售额实际观察值（万元）</th>\n    </tr>\n  </thead>\n  <tbody>\n    <tr>\n      <th>0</th>\n      <td>2006</td>\n      <td>1</td>\n      <td>490</td>\n    </tr>\n    <tr>\n      <th>1</th>\n      <td>2007</td>\n      <td>2</td>\n      <td>480</td>\n    </tr>\n    <tr>\n      <th>2</th>\n      <td>2008</td>\n      <td>3</td>\n      <td>510</td>\n    </tr>\n    <tr>\n      <th>3</th>\n      <td>2009</td>\n      <td>4</td>\n      <td>590</td>\n    </tr>\n    <tr>\n      <th>4</th>\n      <td>2010</td>\n      <td>5</td>\n      <td>570</td>\n    </tr>\n    <tr>\n      <th>5</th>\n      <td>2011</td>\n      <td>6</td>\n      <td>640</td>\n    </tr>\n    <tr>\n      <th>6</th>\n      <td>2012</td>\n      <td>7</td>\n      <td>680</td>\n    </tr>\n    <tr>\n      <th>7</th>\n      <td>2013</td>\n      <td>8</td>\n      <td>670</td>\n    </tr>\n    <tr>\n      <th>8</th>\n      <td>2014</td>\n      <td>9</td>\n      <td>690</td>\n    </tr>\n    <tr>\n      <th>9</th>\n      <td>2015</td>\n      <td>10</td>\n      <td>760</td>\n    </tr>\n    <tr>\n      <th>10</th>\n      <td>2016</td>\n      <td>11</td>\n      <td>750</td>\n    </tr>\n    <tr>\n      <th>11</th>\n      <td>2017</td>\n      <td>12</td>\n      <td>800</td>\n    </tr>\n  </tbody>\n</table>\n</div>"
     },
     "execution_count": 14,
     "metadata": {},
     "output_type": "execute_result"
    }
   ],
   "source": [
    "df4 = data['表10-13']\n",
    "df4.columns = ['年份','t','销售额实际观察值（万元）']\n",
    "df4"
   ]
  },
  {
   "cell_type": "code",
   "execution_count": 15,
   "outputs": [
    {
     "name": "stderr",
     "output_type": "stream",
     "text": [
      "d:\\python\\software\\lib\\site-packages\\scipy\\stats\\stats.py:1541: UserWarning: kurtosistest only valid for n>=20 ... continuing anyway, n=12\n",
      "  warnings.warn(\"kurtosistest only valid for n>=20 ... continuing \"\n"
     ]
    },
    {
     "data": {
      "text/plain": "<class 'statsmodels.iolib.summary.Summary'>\n\"\"\"\n                            OLS Regression Results                            \n==============================================================================\nDep. Variable:           销售额实际观察值（万元）   R-squared:                       0.961\nModel:                            OLS   Adj. R-squared:                  0.957\nMethod:                 Least Squares   F-statistic:                     245.9\nDate:                Wed, 15 Jun 2022   Prob (F-statistic):           2.28e-08\nTime:                        09:11:45   Log-Likelihood:                -53.283\nNo. Observations:                  12   AIC:                             110.6\nDf Residuals:                      10   BIC:                             111.5\nDf Model:                           1                                         \nCovariance Type:            nonrobust                                         \n==============================================================================\n                 coef    std err          t      P>|t|      [0.025      0.975]\n------------------------------------------------------------------------------\nconst        444.2424     13.834     32.113      0.000     413.419     475.066\nt             29.4755      1.880     15.681      0.000      25.287      33.664\n==============================================================================\nOmnibus:                        6.717   Durbin-Watson:                   2.688\nProb(Omnibus):                  0.035   Jarque-Bera (JB):                1.490\nSkew:                           0.178   Prob(JB):                        0.475\nKurtosis:                       1.311   Cond. No.                         15.9\n==============================================================================\n\nNotes:\n[1] Standard Errors assume that the covariance matrix of the errors is correctly specified.\n\"\"\"",
      "text/html": "<table class=\"simpletable\">\n<caption>OLS Regression Results</caption>\n<tr>\n  <th>Dep. Variable:</th>      <td>销售额实际观察值（万元）</td>   <th>  R-squared:         </th> <td>   0.961</td>\n</tr>\n<tr>\n  <th>Model:</th>                   <td>OLS</td>       <th>  Adj. R-squared:    </th> <td>   0.957</td>\n</tr>\n<tr>\n  <th>Method:</th>             <td>Least Squares</td>  <th>  F-statistic:       </th> <td>   245.9</td>\n</tr>\n<tr>\n  <th>Date:</th>             <td>Wed, 15 Jun 2022</td> <th>  Prob (F-statistic):</th> <td>2.28e-08</td>\n</tr>\n<tr>\n  <th>Time:</th>                 <td>09:11:45</td>     <th>  Log-Likelihood:    </th> <td> -53.283</td>\n</tr>\n<tr>\n  <th>No. Observations:</th>      <td>    12</td>      <th>  AIC:               </th> <td>   110.6</td>\n</tr>\n<tr>\n  <th>Df Residuals:</th>          <td>    10</td>      <th>  BIC:               </th> <td>   111.5</td>\n</tr>\n<tr>\n  <th>Df Model:</th>              <td>     1</td>      <th>                     </th>     <td> </td>   \n</tr>\n<tr>\n  <th>Covariance Type:</th>      <td>nonrobust</td>    <th>                     </th>     <td> </td>   \n</tr>\n</table>\n<table class=\"simpletable\">\n<tr>\n    <td></td>       <th>coef</th>     <th>std err</th>      <th>t</th>      <th>P>|t|</th>  <th>[0.025</th>    <th>0.975]</th>  \n</tr>\n<tr>\n  <th>const</th> <td>  444.2424</td> <td>   13.834</td> <td>   32.113</td> <td> 0.000</td> <td>  413.419</td> <td>  475.066</td>\n</tr>\n<tr>\n  <th>t</th>     <td>   29.4755</td> <td>    1.880</td> <td>   15.681</td> <td> 0.000</td> <td>   25.287</td> <td>   33.664</td>\n</tr>\n</table>\n<table class=\"simpletable\">\n<tr>\n  <th>Omnibus:</th>       <td> 6.717</td> <th>  Durbin-Watson:     </th> <td>   2.688</td>\n</tr>\n<tr>\n  <th>Prob(Omnibus):</th> <td> 0.035</td> <th>  Jarque-Bera (JB):  </th> <td>   1.490</td>\n</tr>\n<tr>\n  <th>Skew:</th>          <td> 0.178</td> <th>  Prob(JB):          </th> <td>   0.475</td>\n</tr>\n<tr>\n  <th>Kurtosis:</th>      <td> 1.311</td> <th>  Cond. No.          </th> <td>    15.9</td>\n</tr>\n</table><br/><br/>Notes:<br/>[1] Standard Errors assume that the covariance matrix of the errors is correctly specified."
     },
     "execution_count": 15,
     "metadata": {},
     "output_type": "execute_result"
    }
   ],
   "source": [
    "x = sm.add_constant(df4['t'])\n",
    "y = df4.iloc[:,2]\n",
    "model1 = sm.OLS(y,x)\n",
    "res1 = model1.fit()\n",
    "res1.summary()"
   ],
   "metadata": {
    "collapsed": false,
    "pycharm": {
     "name": "#%%\n"
    }
   }
  },
  {
   "cell_type": "markdown",
   "source": [
    "### 线性趋势方程"
   ],
   "metadata": {
    "collapsed": false,
    "pycharm": {
     "name": "#%% md\n"
    }
   }
  },
  {
   "cell_type": "code",
   "execution_count": 16,
   "outputs": [
    {
     "name": "stdout",
     "output_type": "stream",
     "text": [
      "线性趋势方程为：y = 444.24 + 29.48t\n"
     ]
    }
   ],
   "source": [
    "k = res1.params[0]\n",
    "b = res1.params[1]\n",
    "print(\"线性趋势方程为：y = {:.2f} + {:.2f}t\".format(k,b))"
   ],
   "metadata": {
    "collapsed": false,
    "pycharm": {
     "name": "#%%\n"
    }
   }
  },
  {
   "cell_type": "markdown",
   "source": [
    "### 预测值"
   ],
   "metadata": {
    "collapsed": false
   }
  },
  {
   "cell_type": "code",
   "execution_count": 17,
   "outputs": [
    {
     "name": "stdout",
     "output_type": "stream",
     "text": [
      "2018年销售额的预测值为：827.42万元\n"
     ]
    }
   ],
   "source": [
    "y_pre = k + b * t\n",
    "print(\"2018年销售额的预测值为：{:.2f}万元\".format(y_pre))"
   ],
   "metadata": {
    "collapsed": false,
    "pycharm": {
     "name": "#%%\n"
    }
   }
  },
  {
   "cell_type": "markdown",
   "metadata": {
    "pycharm": {
     "name": "#%% md\n"
    }
   },
   "source": [
    "## 3.季节变动预测\n",
    "已有数据：某产品销售量（万件）在2015-2017年的季节数据"
   ]
  },
  {
   "cell_type": "markdown",
   "metadata": {
    "pycharm": {
     "name": "#%% md\n"
    }
   },
   "source": [
    "### 3.1计算季节指数"
   ]
  },
  {
   "cell_type": "code",
   "execution_count": 18,
   "metadata": {
    "pycharm": {
     "name": "#%%\n"
    }
   },
   "outputs": [
    {
     "data": {
      "text/plain": "  季度  2015  2016  2017\n0  一    24    26    25\n1  二    12    13    15\n2  三     8    10     9\n3  四    30    32    33",
      "text/html": "<div>\n<style scoped>\n    .dataframe tbody tr th:only-of-type {\n        vertical-align: middle;\n    }\n\n    .dataframe tbody tr th {\n        vertical-align: top;\n    }\n\n    .dataframe thead th {\n        text-align: right;\n    }\n</style>\n<table border=\"1\" class=\"dataframe\">\n  <thead>\n    <tr style=\"text-align: right;\">\n      <th></th>\n      <th>季度</th>\n      <th>2015</th>\n      <th>2016</th>\n      <th>2017</th>\n    </tr>\n  </thead>\n  <tbody>\n    <tr>\n      <th>0</th>\n      <td>一</td>\n      <td>24</td>\n      <td>26</td>\n      <td>25</td>\n    </tr>\n    <tr>\n      <th>1</th>\n      <td>二</td>\n      <td>12</td>\n      <td>13</td>\n      <td>15</td>\n    </tr>\n    <tr>\n      <th>2</th>\n      <td>三</td>\n      <td>8</td>\n      <td>10</td>\n      <td>9</td>\n    </tr>\n    <tr>\n      <th>3</th>\n      <td>四</td>\n      <td>30</td>\n      <td>32</td>\n      <td>33</td>\n    </tr>\n  </tbody>\n</table>\n</div>"
     },
     "execution_count": 18,
     "metadata": {},
     "output_type": "execute_result"
    }
   ],
   "source": [
    "df5 = data['表10-16']\n",
    "df5"
   ]
  },
  {
   "cell_type": "code",
   "execution_count": 19,
   "outputs": [
    {
     "data": {
      "text/plain": "  季度  2015  2016  2017  同季平均数\n0  一    24    26    25  25.00\n1  二    12    13    15  13.33\n2  三     8    10     9   9.00\n3  四    30    32    33  31.67",
      "text/html": "<div>\n<style scoped>\n    .dataframe tbody tr th:only-of-type {\n        vertical-align: middle;\n    }\n\n    .dataframe tbody tr th {\n        vertical-align: top;\n    }\n\n    .dataframe thead th {\n        text-align: right;\n    }\n</style>\n<table border=\"1\" class=\"dataframe\">\n  <thead>\n    <tr style=\"text-align: right;\">\n      <th></th>\n      <th>季度</th>\n      <th>2015</th>\n      <th>2016</th>\n      <th>2017</th>\n      <th>同季平均数</th>\n    </tr>\n  </thead>\n  <tbody>\n    <tr>\n      <th>0</th>\n      <td>一</td>\n      <td>24</td>\n      <td>26</td>\n      <td>25</td>\n      <td>25.00</td>\n    </tr>\n    <tr>\n      <th>1</th>\n      <td>二</td>\n      <td>12</td>\n      <td>13</td>\n      <td>15</td>\n      <td>13.33</td>\n    </tr>\n    <tr>\n      <th>2</th>\n      <td>三</td>\n      <td>8</td>\n      <td>10</td>\n      <td>9</td>\n      <td>9.00</td>\n    </tr>\n    <tr>\n      <th>3</th>\n      <td>四</td>\n      <td>30</td>\n      <td>32</td>\n      <td>33</td>\n      <td>31.67</td>\n    </tr>\n  </tbody>\n</table>\n</div>"
     },
     "execution_count": 19,
     "metadata": {},
     "output_type": "execute_result"
    }
   ],
   "source": [
    "# df5.iloc[:,1:].mean(axis=1)   # 也可以实现\n",
    "df5['同季平均数'] = df5.iloc[:,1:].apply(lambda x : round(x.sum() / len(x), 2), axis = 1)\n",
    "df5"
   ],
   "metadata": {
    "collapsed": false,
    "pycharm": {
     "name": "#%%\n"
    }
   }
  },
  {
   "cell_type": "code",
   "execution_count": 20,
   "outputs": [
    {
     "name": "stdout",
     "output_type": "stream",
     "text": [
      "3年总的季平均数为： 19.75\n"
     ]
    }
   ],
   "source": [
    "season_avg =sum(df5['同季平均数'].values) / len(df5)\n",
    "print(\"3年总的季平均数为：\", season_avg)"
   ],
   "metadata": {
    "collapsed": false,
    "pycharm": {
     "name": "#%%\n"
    }
   }
  },
  {
   "cell_type": "code",
   "execution_count": 21,
   "outputs": [
    {
     "data": {
      "text/plain": "  季度  2015  2016  2017  同季平均数       季节指数%\n0  一    24    26    25  25.00  126.582278\n1  二    12    13    15  13.33   67.493671\n2  三     8    10     9   9.00   45.569620\n3  四    30    32    33  31.67  160.354430",
      "text/html": "<div>\n<style scoped>\n    .dataframe tbody tr th:only-of-type {\n        vertical-align: middle;\n    }\n\n    .dataframe tbody tr th {\n        vertical-align: top;\n    }\n\n    .dataframe thead th {\n        text-align: right;\n    }\n</style>\n<table border=\"1\" class=\"dataframe\">\n  <thead>\n    <tr style=\"text-align: right;\">\n      <th></th>\n      <th>季度</th>\n      <th>2015</th>\n      <th>2016</th>\n      <th>2017</th>\n      <th>同季平均数</th>\n      <th>季节指数%</th>\n    </tr>\n  </thead>\n  <tbody>\n    <tr>\n      <th>0</th>\n      <td>一</td>\n      <td>24</td>\n      <td>26</td>\n      <td>25</td>\n      <td>25.00</td>\n      <td>126.582278</td>\n    </tr>\n    <tr>\n      <th>1</th>\n      <td>二</td>\n      <td>12</td>\n      <td>13</td>\n      <td>15</td>\n      <td>13.33</td>\n      <td>67.493671</td>\n    </tr>\n    <tr>\n      <th>2</th>\n      <td>三</td>\n      <td>8</td>\n      <td>10</td>\n      <td>9</td>\n      <td>9.00</td>\n      <td>45.569620</td>\n    </tr>\n    <tr>\n      <th>3</th>\n      <td>四</td>\n      <td>30</td>\n      <td>32</td>\n      <td>33</td>\n      <td>31.67</td>\n      <td>160.354430</td>\n    </tr>\n  </tbody>\n</table>\n</div>"
     },
     "execution_count": 21,
     "metadata": {},
     "output_type": "execute_result"
    }
   ],
   "source": [
    "df5['季节指数%'] = df5['同季平均数'].values / season_avg * 100\n",
    "df5"
   ],
   "metadata": {
    "collapsed": false,
    "pycharm": {
     "name": "#%%\n"
    }
   }
  },
  {
   "cell_type": "markdown",
   "metadata": {
    "pycharm": {
     "name": "#%% md\n"
    }
   },
   "source": [
    "### 3.2利用季节指数预测"
   ]
  },
  {
   "cell_type": "code",
   "execution_count": 22,
   "metadata": {
    "pycharm": {
     "name": "#%%\n"
    }
   },
   "outputs": [
    {
     "data": {
      "text/plain": "  季度  2015  2016  2017  同季平均数       季节指数%         预测\n0  一    24    26    25  25.00  126.582278  28.481013\n1  二    12    13    15  13.33   67.493671  15.186076\n2  三     8    10     9   9.00   45.569620  10.253165\n3  四    30    32    33  31.67  160.354430  36.079747",
      "text/html": "<div>\n<style scoped>\n    .dataframe tbody tr th:only-of-type {\n        vertical-align: middle;\n    }\n\n    .dataframe tbody tr th {\n        vertical-align: top;\n    }\n\n    .dataframe thead th {\n        text-align: right;\n    }\n</style>\n<table border=\"1\" class=\"dataframe\">\n  <thead>\n    <tr style=\"text-align: right;\">\n      <th></th>\n      <th>季度</th>\n      <th>2015</th>\n      <th>2016</th>\n      <th>2017</th>\n      <th>同季平均数</th>\n      <th>季节指数%</th>\n      <th>预测</th>\n    </tr>\n  </thead>\n  <tbody>\n    <tr>\n      <th>0</th>\n      <td>一</td>\n      <td>24</td>\n      <td>26</td>\n      <td>25</td>\n      <td>25.00</td>\n      <td>126.582278</td>\n      <td>28.481013</td>\n    </tr>\n    <tr>\n      <th>1</th>\n      <td>二</td>\n      <td>12</td>\n      <td>13</td>\n      <td>15</td>\n      <td>13.33</td>\n      <td>67.493671</td>\n      <td>15.186076</td>\n    </tr>\n    <tr>\n      <th>2</th>\n      <td>三</td>\n      <td>8</td>\n      <td>10</td>\n      <td>9</td>\n      <td>9.00</td>\n      <td>45.569620</td>\n      <td>10.253165</td>\n    </tr>\n    <tr>\n      <th>3</th>\n      <td>四</td>\n      <td>30</td>\n      <td>32</td>\n      <td>33</td>\n      <td>31.67</td>\n      <td>160.354430</td>\n      <td>36.079747</td>\n    </tr>\n  </tbody>\n</table>\n</div>"
     },
     "execution_count": 22,
     "metadata": {},
     "output_type": "execute_result"
    }
   ],
   "source": [
    "df5['预测'] = df5['季节指数%'].values * 22.5 / 100  # 22.5 = 90 / 4   [90为2018年要达到的销售总量]\n",
    "df5"
   ]
  },
  {
   "cell_type": "markdown",
   "metadata": {},
   "source": [
    "## 4.Walmartdata.xls\n",
    "Walmartdata.xls包含1994—2009年间沃尔玛的季度收益。使用移动平均比率法来预测2009年季度3季度和4季度以及2010年季度1和季度2的收益.使用季度49～季度60来创建一个用于预测的趋势估算"
   ]
  },
  {
   "cell_type": "code",
   "execution_count": 2,
   "metadata": {
    "pycharm": {
     "name": "#%%"
    }
   },
   "outputs": [
    {
     "data": {
      "text/plain": "    Year  Quarter  season       Sales\n0   1994        1       1   17686.000\n1   1994        2       2   19942.315\n2   1994        3       3   20417.717\n3   1994        4       4   25365.968\n4   1995        5       1   20440.000\n..   ...      ...     ...         ...\n61  2009       62       2  102342.000\n62  2009       63       3   99473.000\n63  2009       64       4  113651.000\n64  2010       64       1   99848.000\n65  2010       64       2  103689.000\n\n[66 rows x 4 columns]",
      "text/html": "<div>\n<style scoped>\n    .dataframe tbody tr th:only-of-type {\n        vertical-align: middle;\n    }\n\n    .dataframe tbody tr th {\n        vertical-align: top;\n    }\n\n    .dataframe thead th {\n        text-align: right;\n    }\n</style>\n<table border=\"1\" class=\"dataframe\">\n  <thead>\n    <tr style=\"text-align: right;\">\n      <th></th>\n      <th>Year</th>\n      <th>Quarter</th>\n      <th>season</th>\n      <th>Sales</th>\n    </tr>\n  </thead>\n  <tbody>\n    <tr>\n      <th>0</th>\n      <td>1994</td>\n      <td>1</td>\n      <td>1</td>\n      <td>17686.000</td>\n    </tr>\n    <tr>\n      <th>1</th>\n      <td>1994</td>\n      <td>2</td>\n      <td>2</td>\n      <td>19942.315</td>\n    </tr>\n    <tr>\n      <th>2</th>\n      <td>1994</td>\n      <td>3</td>\n      <td>3</td>\n      <td>20417.717</td>\n    </tr>\n    <tr>\n      <th>3</th>\n      <td>1994</td>\n      <td>4</td>\n      <td>4</td>\n      <td>25365.968</td>\n    </tr>\n    <tr>\n      <th>4</th>\n      <td>1995</td>\n      <td>5</td>\n      <td>1</td>\n      <td>20440.000</td>\n    </tr>\n    <tr>\n      <th>...</th>\n      <td>...</td>\n      <td>...</td>\n      <td>...</td>\n      <td>...</td>\n    </tr>\n    <tr>\n      <th>61</th>\n      <td>2009</td>\n      <td>62</td>\n      <td>2</td>\n      <td>102342.000</td>\n    </tr>\n    <tr>\n      <th>62</th>\n      <td>2009</td>\n      <td>63</td>\n      <td>3</td>\n      <td>99473.000</td>\n    </tr>\n    <tr>\n      <th>63</th>\n      <td>2009</td>\n      <td>64</td>\n      <td>4</td>\n      <td>113651.000</td>\n    </tr>\n    <tr>\n      <th>64</th>\n      <td>2010</td>\n      <td>64</td>\n      <td>1</td>\n      <td>99848.000</td>\n    </tr>\n    <tr>\n      <th>65</th>\n      <td>2010</td>\n      <td>64</td>\n      <td>2</td>\n      <td>103689.000</td>\n    </tr>\n  </tbody>\n</table>\n<p>66 rows × 4 columns</p>\n</div>"
     },
     "execution_count": 2,
     "metadata": {},
     "output_type": "execute_result"
    }
   ],
   "source": [
    "df6 = pd.read_excel('Walmartdata.xls',skiprows=9)\n",
    "df6 = df6.iloc[:,4:]\n",
    "df6"
   ]
  },
  {
   "cell_type": "markdown",
   "source": [
    "### 移动平均比率法预测"
   ],
   "metadata": {
    "collapsed": false,
    "pycharm": {
     "name": "#%% md\n"
    }
   }
  },
  {
   "cell_type": "code",
   "execution_count": 3,
   "outputs": [
    {
     "data": {
      "text/plain": "                  Sales\nYear season            \n1994 1        17686.000\n     2        19942.315\n     3        20417.717\n     4        25365.968\n1995 1        20440.000\n...                 ...\n2009 2       102342.000\n     3        99473.000\n     4       113651.000\n2010 1        99848.000\n     2       103689.000\n\n[66 rows x 1 columns]",
      "text/html": "<div>\n<style scoped>\n    .dataframe tbody tr th:only-of-type {\n        vertical-align: middle;\n    }\n\n    .dataframe tbody tr th {\n        vertical-align: top;\n    }\n\n    .dataframe thead th {\n        text-align: right;\n    }\n</style>\n<table border=\"1\" class=\"dataframe\">\n  <thead>\n    <tr style=\"text-align: right;\">\n      <th></th>\n      <th></th>\n      <th>Sales</th>\n    </tr>\n    <tr>\n      <th>Year</th>\n      <th>season</th>\n      <th></th>\n    </tr>\n  </thead>\n  <tbody>\n    <tr>\n      <th rowspan=\"4\" valign=\"top\">1994</th>\n      <th>1</th>\n      <td>17686.000</td>\n    </tr>\n    <tr>\n      <th>2</th>\n      <td>19942.315</td>\n    </tr>\n    <tr>\n      <th>3</th>\n      <td>20417.717</td>\n    </tr>\n    <tr>\n      <th>4</th>\n      <td>25365.968</td>\n    </tr>\n    <tr>\n      <th>1995</th>\n      <th>1</th>\n      <td>20440.000</td>\n    </tr>\n    <tr>\n      <th>...</th>\n      <th>...</th>\n      <td>...</td>\n    </tr>\n    <tr>\n      <th rowspan=\"3\" valign=\"top\">2009</th>\n      <th>2</th>\n      <td>102342.000</td>\n    </tr>\n    <tr>\n      <th>3</th>\n      <td>99473.000</td>\n    </tr>\n    <tr>\n      <th>4</th>\n      <td>113651.000</td>\n    </tr>\n    <tr>\n      <th rowspan=\"2\" valign=\"top\">2010</th>\n      <th>1</th>\n      <td>99848.000</td>\n    </tr>\n    <tr>\n      <th>2</th>\n      <td>103689.000</td>\n    </tr>\n  </tbody>\n</table>\n<p>66 rows × 1 columns</p>\n</div>"
     },
     "execution_count": 3,
     "metadata": {},
     "output_type": "execute_result"
    }
   ],
   "source": [
    "table = pd.pivot_table(df6, index=['Year','season'], values = ['Sales'], aggfunc='sum')\n",
    "table"
   ],
   "metadata": {
    "collapsed": false,
    "pycharm": {
     "name": "#%%\n"
    }
   }
  },
  {
   "cell_type": "code",
   "execution_count": 4,
   "outputs": [
    {
     "data": {
      "text/plain": "                  Sales       移动平均n=4        移动平均n=2       季节比率%\nYear season                                                     \n1994 1        17686.000           NaN            NaN         NaN\n     2        19942.315   20853.00000            NaN         NaN\n     3        20417.717   21541.50000   21197.250000  103.817924\n     4        25365.968   22236.67125   21889.085625   86.293122\n1995 1        20440.000   22860.49200   22548.581625  110.315957\n...                 ...           ...            ...         ...\n2009 2       102342.000  102376.50000  101588.000000   99.263255\n     3        99473.000  103828.50000  103102.500000  103.648729\n     4       113651.000  104165.25000  103996.875000   91.505464\n2010 1        99848.000           NaN            NaN         NaN\n     2       103689.000           NaN            NaN         NaN\n\n[66 rows x 4 columns]",
      "text/html": "<div>\n<style scoped>\n    .dataframe tbody tr th:only-of-type {\n        vertical-align: middle;\n    }\n\n    .dataframe tbody tr th {\n        vertical-align: top;\n    }\n\n    .dataframe thead th {\n        text-align: right;\n    }\n</style>\n<table border=\"1\" class=\"dataframe\">\n  <thead>\n    <tr style=\"text-align: right;\">\n      <th></th>\n      <th></th>\n      <th>Sales</th>\n      <th>移动平均n=4</th>\n      <th>移动平均n=2</th>\n      <th>季节比率%</th>\n    </tr>\n    <tr>\n      <th>Year</th>\n      <th>season</th>\n      <th></th>\n      <th></th>\n      <th></th>\n      <th></th>\n    </tr>\n  </thead>\n  <tbody>\n    <tr>\n      <th rowspan=\"4\" valign=\"top\">1994</th>\n      <th>1</th>\n      <td>17686.000</td>\n      <td>NaN</td>\n      <td>NaN</td>\n      <td>NaN</td>\n    </tr>\n    <tr>\n      <th>2</th>\n      <td>19942.315</td>\n      <td>20853.00000</td>\n      <td>NaN</td>\n      <td>NaN</td>\n    </tr>\n    <tr>\n      <th>3</th>\n      <td>20417.717</td>\n      <td>21541.50000</td>\n      <td>21197.250000</td>\n      <td>103.817924</td>\n    </tr>\n    <tr>\n      <th>4</th>\n      <td>25365.968</td>\n      <td>22236.67125</td>\n      <td>21889.085625</td>\n      <td>86.293122</td>\n    </tr>\n    <tr>\n      <th>1995</th>\n      <th>1</th>\n      <td>20440.000</td>\n      <td>22860.49200</td>\n      <td>22548.581625</td>\n      <td>110.315957</td>\n    </tr>\n    <tr>\n      <th>...</th>\n      <th>...</th>\n      <td>...</td>\n      <td>...</td>\n      <td>...</td>\n      <td>...</td>\n    </tr>\n    <tr>\n      <th rowspan=\"3\" valign=\"top\">2009</th>\n      <th>2</th>\n      <td>102342.000</td>\n      <td>102376.50000</td>\n      <td>101588.000000</td>\n      <td>99.263255</td>\n    </tr>\n    <tr>\n      <th>3</th>\n      <td>99473.000</td>\n      <td>103828.50000</td>\n      <td>103102.500000</td>\n      <td>103.648729</td>\n    </tr>\n    <tr>\n      <th>4</th>\n      <td>113651.000</td>\n      <td>104165.25000</td>\n      <td>103996.875000</td>\n      <td>91.505464</td>\n    </tr>\n    <tr>\n      <th rowspan=\"2\" valign=\"top\">2010</th>\n      <th>1</th>\n      <td>99848.000</td>\n      <td>NaN</td>\n      <td>NaN</td>\n      <td>NaN</td>\n    </tr>\n    <tr>\n      <th>2</th>\n      <td>103689.000</td>\n      <td>NaN</td>\n      <td>NaN</td>\n      <td>NaN</td>\n    </tr>\n  </tbody>\n</table>\n<p>66 rows × 4 columns</p>\n</div>"
     },
     "execution_count": 4,
     "metadata": {},
     "output_type": "execute_result"
    }
   ],
   "source": [
    "table['移动平均n=4'] = table['Sales'].rolling(window=4).mean().shift(-2)\n",
    "table['移动平均n=2'] = table.iloc[:,1].rolling(window=2).mean()\n",
    "table['季节比率%'] = table['移动平均n=2'] / table['Sales'] * 100\n",
    "table"
   ],
   "metadata": {
    "collapsed": false,
    "pycharm": {
     "name": "#%%\n"
    }
   }
  },
  {
   "cell_type": "code",
   "execution_count": 5,
   "outputs": [
    {
     "data": {
      "text/plain": "             季节指数%\nseason            \n1       104.507482\n2        98.147794\n3       107.806826\n4        89.537897",
      "text/html": "<div>\n<style scoped>\n    .dataframe tbody tr th:only-of-type {\n        vertical-align: middle;\n    }\n\n    .dataframe tbody tr th {\n        vertical-align: top;\n    }\n\n    .dataframe thead th {\n        text-align: right;\n    }\n</style>\n<table border=\"1\" class=\"dataframe\">\n  <thead>\n    <tr style=\"text-align: right;\">\n      <th></th>\n      <th>季节指数%</th>\n    </tr>\n    <tr>\n      <th>season</th>\n      <th></th>\n    </tr>\n  </thead>\n  <tbody>\n    <tr>\n      <th>1</th>\n      <td>104.507482</td>\n    </tr>\n    <tr>\n      <th>2</th>\n      <td>98.147794</td>\n    </tr>\n    <tr>\n      <th>3</th>\n      <td>107.806826</td>\n    </tr>\n    <tr>\n      <th>4</th>\n      <td>89.537897</td>\n    </tr>\n  </tbody>\n</table>\n</div>"
     },
     "execution_count": 5,
     "metadata": {},
     "output_type": "execute_result"
    }
   ],
   "source": [
    "avg_season = (table.groupby(by='season').sum() / (2010-1994))['季节比率%']\n",
    "\n",
    "seasonal_index = pd.DataFrame(data={'季节指数%':avg_season / sum(avg_season) * 4 * 100})\n",
    "seasonal_index"
   ],
   "metadata": {
    "collapsed": false,
    "pycharm": {
     "name": "#%%\n"
    }
   }
  },
  {
   "cell_type": "code",
   "execution_count": 11,
   "outputs": [
    {
     "name": "stdout",
     "output_type": "stream",
     "text": [
      "2009年季度3: 110344.41\n",
      "2009年季度4: 92936.59\n",
      "2010年季度1: 109981.38\n",
      "2010年季度2: 104703.87\n"
     ]
    }
   ],
   "source": [
    "x = df6.iloc[:-4,1]\n",
    "y = df6.iloc[:-4,-1]\n",
    "X = sm.add_constant(x)\n",
    "model2 = sm.OLS(y,X)\n",
    "res2 = model2.fit()\n",
    "\n",
    "x2 = list(range(63,67))\n",
    "X2 = sm.add_constant(x2)\n",
    "y_pre = res2.predict(X2)\n",
    "\n",
    "season = seasonal_index.values\n",
    "print(\"2009年季度3: {:.2f}\".format(y_pre[0] * season[2][0] / 100))\n",
    "print(\"2009年季度4: {:.2f}\".format(y_pre[1] * season[3][0] / 100))\n",
    "print(\"2010年季度1: {:.2f}\".format(y_pre[2] * season[0][0] / 100))\n",
    "print(\"2010年季度2: {:.2f}\".format(y_pre[3] * season[1][0] / 100))"
   ],
   "metadata": {
    "collapsed": false,
    "pycharm": {
     "name": "#%%\n"
    }
   }
  },
  {
   "cell_type": "markdown",
   "source": [
    "### 一个预测的趋势估算"
   ],
   "metadata": {
    "collapsed": false,
    "pycharm": {
     "name": "#%% md\n"
    }
   }
  },
  {
   "cell_type": "code",
   "execution_count": 28,
   "outputs": [
    {
     "data": {
      "text/plain": "Year        2006      2007      2008          同季平均数       同季指数%\nseason                                                         \n1        79613.0   85387.0   86378.0   83792.666667   91.264076\n2        84524.0   91990.0   92999.0   89837.666667   97.848081\n3        83543.0   90880.0   91865.0   88762.666667   96.677229\n4       100970.0  106269.0  107343.0  104860.666667  114.210614",
      "text/html": "<div>\n<style scoped>\n    .dataframe tbody tr th:only-of-type {\n        vertical-align: middle;\n    }\n\n    .dataframe tbody tr th {\n        vertical-align: top;\n    }\n\n    .dataframe thead th {\n        text-align: right;\n    }\n</style>\n<table border=\"1\" class=\"dataframe\">\n  <thead>\n    <tr style=\"text-align: right;\">\n      <th>Year</th>\n      <th>2006</th>\n      <th>2007</th>\n      <th>2008</th>\n      <th>同季平均数</th>\n      <th>同季指数%</th>\n    </tr>\n    <tr>\n      <th>season</th>\n      <th></th>\n      <th></th>\n      <th></th>\n      <th></th>\n      <th></th>\n    </tr>\n  </thead>\n  <tbody>\n    <tr>\n      <th>1</th>\n      <td>79613.0</td>\n      <td>85387.0</td>\n      <td>86378.0</td>\n      <td>83792.666667</td>\n      <td>91.264076</td>\n    </tr>\n    <tr>\n      <th>2</th>\n      <td>84524.0</td>\n      <td>91990.0</td>\n      <td>92999.0</td>\n      <td>89837.666667</td>\n      <td>97.848081</td>\n    </tr>\n    <tr>\n      <th>3</th>\n      <td>83543.0</td>\n      <td>90880.0</td>\n      <td>91865.0</td>\n      <td>88762.666667</td>\n      <td>96.677229</td>\n    </tr>\n    <tr>\n      <th>4</th>\n      <td>100970.0</td>\n      <td>106269.0</td>\n      <td>107343.0</td>\n      <td>104860.666667</td>\n      <td>114.210614</td>\n    </tr>\n  </tbody>\n</table>\n</div>"
     },
     "execution_count": 28,
     "metadata": {},
     "output_type": "execute_result"
    }
   ],
   "source": [
    "df7 = df6.iloc[48:60,:]\n",
    "t = pd.pivot_table(df7,index='season',columns='Year',values='Sales',aggfunc='sum')\n",
    "\n",
    "t['同季平均数'] = t.iloc[:,:].mean(axis=1)\n",
    "avg = t['同季平均数'].mean()\n",
    "t['同季指数%'] = t['同季平均数'] / avg * 100\n",
    "t"
   ],
   "metadata": {
    "collapsed": false,
    "pycharm": {
     "name": "#%%\n"
    }
   }
  }
 ],
 "metadata": {
  "kernelspec": {
   "display_name": "Python 3 (ipykernel)",
   "language": "python",
   "name": "python3"
  },
  "language_info": {
   "codemirror_mode": {
    "name": "ipython",
    "version": 3
   },
   "file_extension": ".py",
   "mimetype": "text/x-python",
   "name": "python",
   "nbconvert_exporter": "python",
   "pygments_lexer": "ipython3",
   "version": "3.8.2"
  }
 },
 "nbformat": 4,
 "nbformat_minor": 1
}