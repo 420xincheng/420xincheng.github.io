{
 "cells": [
  {
   "cell_type": "markdown",
   "metadata": {
    "pycharm": {
     "name": "#%% md\n"
    }
   },
   "source": [
    "# 实验二\n"
   ]
  },
  {
   "cell_type": "markdown",
   "metadata": {},
   "source": [
    "## 0.数据导入"
   ]
  },
  {
   "cell_type": "code",
   "execution_count": 12,
   "metadata": {},
   "outputs": [],
   "source": [
    "import pandas as pd\n",
    "import numpy as np\n",
    "import matplotlib.pyplot as plt\n",
    "from scipy import stats\n",
    "from pylab import rcParams\n",
    "rcParams['font.sans-serif'] = ['SimHei']\n",
    "rcParams['axes.unicode_minus'] = False"
   ]
  },
  {
   "cell_type": "code",
   "execution_count": 13,
   "metadata": {
    "pycharm": {
     "name": "#%%\n"
    }
   },
   "outputs": [
    {
     "data": {
      "text/plain": [
       "{'调和平均数':     单价  购买金额（元）\n",
       " 0  2.0        1\n",
       " 1  2.3        1\n",
       " 2  2.6        1,\n",
       " '算术平均数':      学生编号  月消费支出额（元）\n",
       " 0       1        410\n",
       " 1       2        350\n",
       " 2       3        466\n",
       " 3       4        385\n",
       " 4       5        500\n",
       " ..    ...        ...\n",
       " 105   106        811\n",
       " 106   107       1109\n",
       " 107   108       1276\n",
       " 108   109        745\n",
       " 109   110        678\n",
       " \n",
       " [110 rows x 2 columns],\n",
       " '加权调和平均数':     单价  购买金额（元）\n",
       " 0  2.0      1.0\n",
       " 1  2.3      1.2\n",
       " 2  2.6      1.5}"
      ]
     },
     "execution_count": 13,
     "metadata": {},
     "output_type": "execute_result"
    }
   ],
   "source": [
    "data = pd.read_excel('1 第4章 数据特征的描述.xlsx',None)\n",
    "data_mean = data['算术平均数']\n",
    "data_hmean = data['调和平均数']\n",
    "data_w_hmean = data['加权调和平均数']\n",
    "data"
   ]
  },
  {
   "cell_type": "markdown",
   "metadata": {},
   "source": [
    "## 1.第一题"
   ]
  },
  {
   "cell_type": "markdown",
   "metadata": {},
   "source": [
    "### 1.1算术平均数"
   ]
  },
  {
   "cell_type": "code",
   "execution_count": 14,
   "metadata": {
    "pycharm": {
     "name": "#%%\n"
    }
   },
   "outputs": [
    {
     "data": {
      "text/plain": [
       "597.0181818181818"
      ]
     },
     "execution_count": 14,
     "metadata": {},
     "output_type": "execute_result"
    }
   ],
   "source": [
    "arithmetic_mean = data_mean['月消费支出额（元）'].mean()\n",
    "arithmetic_mean"
   ]
  },
  {
   "cell_type": "markdown",
   "metadata": {},
   "source": [
    "### 1.2调和平均数"
   ]
  },
  {
   "cell_type": "code",
   "execution_count": 15,
   "metadata": {
    "pycharm": {
     "name": "#%%\n"
    }
   },
   "outputs": [
    {
     "data": {
      "text/plain": [
       "2.2737642585551328"
      ]
     },
     "execution_count": 15,
     "metadata": {},
     "output_type": "execute_result"
    }
   ],
   "source": [
    "harmonic_mean = stats.hmean(data_hmean['单价'])\n",
    "harmonic_mean"
   ]
  },
  {
   "cell_type": "markdown",
   "metadata": {},
   "source": [
    "### 1.3中位数"
   ]
  },
  {
   "cell_type": "code",
   "execution_count": 16,
   "metadata": {
    "pycharm": {
     "name": "#%%\n"
    }
   },
   "outputs": [
    {
     "data": {
      "text/plain": [
       "562.0"
      ]
     },
     "execution_count": 16,
     "metadata": {},
     "output_type": "execute_result"
    }
   ],
   "source": [
    "median = data_mean['月消费支出额（元）'].median()\n",
    "median"
   ]
  },
  {
   "cell_type": "markdown",
   "metadata": {},
   "source": [
    "### 1.4众数"
   ]
  },
  {
   "cell_type": "code",
   "execution_count": 17,
   "metadata": {
    "pycharm": {
     "name": "#%%\n"
    }
   },
   "outputs": [
    {
     "data": {
      "text/plain": [
       "520"
      ]
     },
     "execution_count": 17,
     "metadata": {},
     "output_type": "execute_result"
    }
   ],
   "source": [
    "mode = data_mean['月消费支出额（元）'].mode()\n",
    "mode[0] # mode是dataframe形式"
   ]
  },
  {
   "cell_type": "markdown",
   "metadata": {},
   "source": [
    "### 1.5几何平均数"
   ]
  },
  {
   "cell_type": "code",
   "execution_count": 18,
   "metadata": {
    "pycharm": {
     "name": "#%%\n"
    }
   },
   "outputs": [
    {
     "data": {
      "text/plain": [
       "579.0721701196758"
      ]
     },
     "execution_count": 18,
     "metadata": {},
     "output_type": "execute_result"
    }
   ],
   "source": [
    "geometric_mean = stats.gmean(data_mean['月消费支出额（元）'])\n",
    "geometric_mean"
   ]
  },
  {
   "cell_type": "markdown",
   "metadata": {},
   "source": [
    "### 1.6加权调和平均数"
   ]
  },
  {
   "cell_type": "code",
   "execution_count": 19,
   "metadata": {
    "pycharm": {
     "name": "#%%\n"
    }
   },
   "outputs": [
    {
     "data": {
      "text/plain": [
       "2.3144351464435147"
      ]
     },
     "execution_count": 19,
     "metadata": {},
     "output_type": "execute_result"
    }
   ],
   "source": [
    "x = data_w_hmean['购买金额（元）'] / data_w_hmean['单价']\n",
    "x_sum = x.sum()\n",
    "weighted_harmonic_mean = data_w_hmean['购买金额（元）'].sum() / x_sum\n",
    "weighted_harmonic_mean"
   ]
  },
  {
   "cell_type": "markdown",
   "metadata": {},
   "source": [
    "## 2.第二题"
   ]
  },
  {
   "cell_type": "markdown",
   "metadata": {},
   "source": [
    "### 2.1最大值"
   ]
  },
  {
   "cell_type": "code",
   "execution_count": 20,
   "metadata": {
    "pycharm": {
     "name": "#%%\n"
    }
   },
   "outputs": [
    {
     "data": {
      "text/plain": [
       "1276"
      ]
     },
     "execution_count": 20,
     "metadata": {},
     "output_type": "execute_result"
    }
   ],
   "source": [
    "data_mean['月消费支出额（元）'].max()"
   ]
  },
  {
   "cell_type": "markdown",
   "metadata": {},
   "source": [
    "### 2.2最小值"
   ]
  },
  {
   "cell_type": "code",
   "execution_count": 21,
   "metadata": {
    "pycharm": {
     "name": "#%%\n"
    }
   },
   "outputs": [
    {
     "data": {
      "text/plain": [
       "347"
      ]
     },
     "execution_count": 21,
     "metadata": {},
     "output_type": "execute_result"
    }
   ],
   "source": [
    "data_mean['月消费支出额（元）'].min()"
   ]
  },
  {
   "cell_type": "markdown",
   "metadata": {},
   "source": [
    "### 2.3四分位点"
   ]
  },
  {
   "cell_type": "code",
   "execution_count": 22,
   "metadata": {
    "pycharm": {
     "name": "#%%\n"
    }
   },
   "outputs": [
    {
     "data": {
      "text/plain": [
       "0.25    496.25\n",
       "0.50    562.00\n",
       "0.75    675.50\n",
       "Name: 月消费支出额（元）, dtype: float64"
      ]
     },
     "execution_count": 22,
     "metadata": {},
     "output_type": "execute_result"
    }
   ],
   "source": [
    "data_mean['月消费支出额（元）'].quantile([0.25,0.5,0.75])"
   ]
  },
  {
   "cell_type": "markdown",
   "metadata": {},
   "source": [
    "### 2.4样本标准差"
   ]
  },
  {
   "cell_type": "code",
   "execution_count": 23,
   "metadata": {
    "pycharm": {
     "name": "#%%\n"
    }
   },
   "outputs": [
    {
     "data": {
      "text/plain": [
       "156.96291748229515"
      ]
     },
     "execution_count": 23,
     "metadata": {},
     "output_type": "execute_result"
    }
   ],
   "source": [
    "data_mean['月消费支出额（元）'].std()"
   ]
  },
  {
   "cell_type": "markdown",
   "metadata": {},
   "source": [
    "### 2.5峰度系数"
   ]
  },
  {
   "cell_type": "code",
   "execution_count": 24,
   "metadata": {
    "pycharm": {
     "name": "#%%\n"
    }
   },
   "outputs": [
    {
     "data": {
      "text/plain": [
       "3.0365767586677097"
      ]
     },
     "execution_count": 24,
     "metadata": {},
     "output_type": "execute_result"
    }
   ],
   "source": [
    "data_mean['月消费支出额（元）'].kurt()"
   ]
  },
  {
   "cell_type": "markdown",
   "metadata": {},
   "source": [
    "### 2.6偏态系数"
   ]
  },
  {
   "cell_type": "code",
   "execution_count": 25,
   "metadata": {
    "pycharm": {
     "name": "#%%\n"
    }
   },
   "outputs": [
    {
     "data": {
      "text/plain": [
       "1.3732950318171815"
      ]
     },
     "execution_count": 25,
     "metadata": {},
     "output_type": "execute_result"
    }
   ],
   "source": [
    "data_mean['月消费支出额（元）'].skew()"
   ]
  },
  {
   "cell_type": "markdown",
   "metadata": {},
   "source": [
    "## 3.第三题"
   ]
  },
  {
   "cell_type": "code",
   "execution_count": 26,
   "metadata": {
    "pycharm": {
     "name": "#%%\n"
    }
   },
   "outputs": [
    {
     "data": {
      "text/html": [
       "<div>\n",
       "<style scoped>\n",
       "    .dataframe tbody tr th:only-of-type {\n",
       "        vertical-align: middle;\n",
       "    }\n",
       "\n",
       "    .dataframe tbody tr th {\n",
       "        vertical-align: top;\n",
       "    }\n",
       "\n",
       "    .dataframe thead th {\n",
       "        text-align: right;\n",
       "    }\n",
       "</style>\n",
       "<table border=\"1\" class=\"dataframe\">\n",
       "  <thead>\n",
       "    <tr style=\"text-align: right;\">\n",
       "      <th></th>\n",
       "      <th>Date</th>\n",
       "      <th>Cakes</th>\n",
       "      <th>Pies</th>\n",
       "      <th>Cookies</th>\n",
       "      <th>Smoothies</th>\n",
       "      <th>Coffee</th>\n",
       "    </tr>\n",
       "  </thead>\n",
       "  <tbody>\n",
       "    <tr>\n",
       "      <th>0</th>\n",
       "      <td>2013-01-01</td>\n",
       "      <td>79</td>\n",
       "      <td>46</td>\n",
       "      <td>518</td>\n",
       "      <td>60</td>\n",
       "      <td>233</td>\n",
       "    </tr>\n",
       "    <tr>\n",
       "      <th>1</th>\n",
       "      <td>2013-01-02</td>\n",
       "      <td>91</td>\n",
       "      <td>50</td>\n",
       "      <td>539</td>\n",
       "      <td>161</td>\n",
       "      <td>427</td>\n",
       "    </tr>\n",
       "    <tr>\n",
       "      <th>2</th>\n",
       "      <td>2013-01-03</td>\n",
       "      <td>47</td>\n",
       "      <td>60</td>\n",
       "      <td>222</td>\n",
       "      <td>166</td>\n",
       "      <td>347</td>\n",
       "    </tr>\n",
       "    <tr>\n",
       "      <th>3</th>\n",
       "      <td>2013-01-04</td>\n",
       "      <td>89</td>\n",
       "      <td>64</td>\n",
       "      <td>734</td>\n",
       "      <td>153</td>\n",
       "      <td>358</td>\n",
       "    </tr>\n",
       "    <tr>\n",
       "      <th>4</th>\n",
       "      <td>2013-01-05</td>\n",
       "      <td>112</td>\n",
       "      <td>73</td>\n",
       "      <td>764</td>\n",
       "      <td>240</td>\n",
       "      <td>392</td>\n",
       "    </tr>\n",
       "    <tr>\n",
       "      <th>...</th>\n",
       "      <td>...</td>\n",
       "      <td>...</td>\n",
       "      <td>...</td>\n",
       "      <td>...</td>\n",
       "      <td>...</td>\n",
       "      <td>...</td>\n",
       "    </tr>\n",
       "    <tr>\n",
       "      <th>1090</th>\n",
       "      <td>2015-12-27</td>\n",
       "      <td>136</td>\n",
       "      <td>49</td>\n",
       "      <td>700</td>\n",
       "      <td>265</td>\n",
       "      <td>483</td>\n",
       "    </tr>\n",
       "    <tr>\n",
       "      <th>1091</th>\n",
       "      <td>2015-12-28</td>\n",
       "      <td>77</td>\n",
       "      <td>45</td>\n",
       "      <td>605</td>\n",
       "      <td>69</td>\n",
       "      <td>408</td>\n",
       "    </tr>\n",
       "    <tr>\n",
       "      <th>1092</th>\n",
       "      <td>2015-12-29</td>\n",
       "      <td>93</td>\n",
       "      <td>56</td>\n",
       "      <td>508</td>\n",
       "      <td>185</td>\n",
       "      <td>452</td>\n",
       "    </tr>\n",
       "    <tr>\n",
       "      <th>1093</th>\n",
       "      <td>2015-12-30</td>\n",
       "      <td>62</td>\n",
       "      <td>28</td>\n",
       "      <td>458</td>\n",
       "      <td>141</td>\n",
       "      <td>356</td>\n",
       "    </tr>\n",
       "    <tr>\n",
       "      <th>1094</th>\n",
       "      <td>2015-12-31</td>\n",
       "      <td>65</td>\n",
       "      <td>56</td>\n",
       "      <td>491</td>\n",
       "      <td>190</td>\n",
       "      <td>446</td>\n",
       "    </tr>\n",
       "  </tbody>\n",
       "</table>\n",
       "<p>1095 rows × 6 columns</p>\n",
       "</div>"
      ],
      "text/plain": [
       "           Date  Cakes  Pies  Cookies  Smoothies  Coffee\n",
       "0    2013-01-01     79    46      518         60     233\n",
       "1    2013-01-02     91    50      539        161     427\n",
       "2    2013-01-03     47    60      222        166     347\n",
       "3    2013-01-04     89    64      734        153     358\n",
       "4    2013-01-05    112    73      764        240     392\n",
       "...         ...    ...   ...      ...        ...     ...\n",
       "1090 2015-12-27    136    49      700        265     483\n",
       "1091 2015-12-28     77    45      605         69     408\n",
       "1092 2015-12-29     93    56      508        185     452\n",
       "1093 2015-12-30     62    28      458        141     356\n",
       "1094 2015-12-31     65    56      491        190     446\n",
       "\n",
       "[1095 rows x 6 columns]"
      ]
     },
     "execution_count": 26,
     "metadata": {},
     "output_type": "execute_result"
    }
   ],
   "source": [
    "food_data = pd.read_excel('2 descriptive stats.xlsx')\n",
    "food_data"
   ]
  },
  {
   "cell_type": "markdown",
   "metadata": {},
   "source": [
    "### 偏态系数"
   ]
  },
  {
   "cell_type": "code",
   "execution_count": 27,
   "metadata": {
    "pycharm": {
     "name": "#%%\n"
    }
   },
   "outputs": [
    {
     "data": {
      "text/plain": [
       "0.4402865556120628"
      ]
     },
     "execution_count": 27,
     "metadata": {},
     "output_type": "execute_result"
    }
   ],
   "source": [
    "food_data['Cookies'].skew()"
   ]
  },
  {
   "cell_type": "markdown",
   "metadata": {},
   "source": [
    "### 算术平均数、众数、中位数"
   ]
  },
  {
   "cell_type": "code",
   "execution_count": 28,
   "metadata": {
    "pycharm": {
     "name": "#%%\n"
    }
   },
   "outputs": [
    {
     "name": "stdout",
     "output_type": "stream",
     "text": [
      "算术平均数为： 540.4511415525114\n",
      "众数为： 0    397\n",
      "1    552\n",
      "dtype: int64\n",
      "中位数为： 533.0\n"
     ]
    }
   ],
   "source": [
    "mean_cookies = food_data['Cookies'].mean()\n",
    "mode_cookies = food_data['Cookies'].mode()\n",
    "median_cookies = food_data['Cookies'].median()\n",
    "print(\"算术平均数为：\",mean_cookies)\n",
    "print(\"众数为：\",mode_cookies)\n",
    "print(\"中位数为：\",median_cookies)"
   ]
  },
  {
   "cell_type": "markdown",
   "metadata": {},
   "source": [
    "注意到有两个众数：<br>\n",
    "算术平均数(540) >   中位数(533)      >   众数(397) <br>\n",
    "众数(552)      >   算术平均数(540)   >   中位数(533) <br>\n",
    "<br>\n",
    "注意到：\n",
    "偏态系数 > 0 且 其中一个众数满足 $\\bar x > M_o > M_e $ <br>\n",
    "所以得出结论：\n",
    "Cookies的日销量是偏斜的"
   ]
  },
  {
   "cell_type": "markdown",
   "metadata": {},
   "source": [
    "## 4.第四题\n",
    "根据经验法则，你预计在95％的日子中，每天对沙冰（Smoothies）的需求位于___和 ___之间。确定沙冰需求是异常点的天数比例。"
   ]
  },
  {
   "cell_type": "code",
   "execution_count": 29,
   "metadata": {
    "pycharm": {
     "name": "#%%\n"
    }
   },
   "outputs": [
    {
     "name": "stdout",
     "output_type": "stream",
     "text": [
      "算术平均数为： 218.46666666666667\n",
      "标准差为： 74.35093016617384\n"
     ]
    }
   ],
   "source": [
    "mean_Smoothies = food_data['Smoothies'].mean()\n",
    "std_Smoothies = food_data['Smoothies'].std()\n",
    "print(\"算术平均数为：\",mean_Smoothies)\n",
    "print(\"标准差为：\",std_Smoothies)"
   ]
  },
  {
   "cell_type": "code",
   "execution_count": 30,
   "metadata": {
    "pycharm": {
     "name": "#%%\n"
    }
   },
   "outputs": [
    {
     "name": "stdout",
     "output_type": "stream",
     "text": [
      "在95％的日子中，每天对沙冰（Smoothies）的需求位于70和367之间\n"
     ]
    }
   ],
   "source": [
    "left = mean_Smoothies - 2 * std_Smoothies\n",
    "right = mean_Smoothies + 2 * std_Smoothies\n",
    "print(\"在95％的日子中，每天对沙冰（Smoothies）的需求位于{}和{}之间\".format(round(left),round(right)))"
   ]
  },
  {
   "cell_type": "markdown",
   "metadata": {
    "pycharm": {
     "name": "#%% md\n"
    }
   },
   "source": [
    "### 异常点"
   ]
  },
  {
   "cell_type": "code",
   "execution_count": 31,
   "metadata": {
    "pycharm": {
     "name": "#%%\n"
    }
   },
   "outputs": [
    {
     "name": "stdout",
     "output_type": "stream",
     "text": [
      "在-5和442之外的点均为异常点\n"
     ]
    }
   ],
   "source": [
    "abnormal_left = mean_Smoothies - 3 * std_Smoothies\n",
    "abnormal_right = mean_Smoothies + 3 * std_Smoothies\n",
    "print(\"在{}和{}之外的点均为异常点\".format(round(abnormal_left),round(abnormal_right)))"
   ]
  },
  {
   "cell_type": "code",
   "execution_count": 32,
   "metadata": {
    "pycharm": {
     "name": "#%%\n"
    }
   },
   "outputs": [
    {
     "name": "stdout",
     "output_type": "stream",
     "text": [
      "异常点数量：8\n",
      "异常点天数所占比例为0.731%\n"
     ]
    }
   ],
   "source": [
    "cnt = 0\n",
    "for i in food_data['Smoothies'].values:\n",
    "    if i < abnormal_left or i > abnormal_right:\n",
    "        cnt += 1\n",
    "print(\"异常点数量：{}\".format(cnt))\n",
    "print(\"异常点天数所占比例为{:.3f}%\".format(cnt / len(food_data['Smoothies']) * 100))"
   ]
  },
  {
   "cell_type": "markdown",
   "metadata": {},
   "source": [
    "## 5.第五题\n",
    "在每天至少售出500个饼干（cookies）的日子中找出蛋糕销售的中位数"
   ]
  },
  {
   "cell_type": "code",
   "execution_count": 33,
   "metadata": {
    "pycharm": {
     "name": "#%%\n"
    }
   },
   "outputs": [
    {
     "data": {
      "text/plain": [
       "600.0"
      ]
     },
     "execution_count": 33,
     "metadata": {},
     "output_type": "execute_result"
    }
   ],
   "source": [
    "food_data[food_data['Cookies'] >= 500]['Cookies'].median()"
   ]
  },
  {
   "cell_type": "markdown",
   "metadata": {
    "pycharm": {
     "name": "#%% md\n"
    }
   },
   "source": [
    "在每天至少售出500个饼干（cookies）的日子中蛋糕销售的中位数为 600（个）"
   ]
  }
 ],
 "metadata": {
  "kernelspec": {
   "display_name": "Python 3 (ipykernel)",
   "language": "python",
   "name": "python3"
  },
  "language_info": {
   "codemirror_mode": {
    "name": "ipython",
    "version": 3
   },
   "file_extension": ".py",
   "mimetype": "text/x-python",
   "name": "python",
   "nbconvert_exporter": "python",
   "pygments_lexer": "ipython3",
   "version": "3.8.2"
  }
 },
 "nbformat": 4,
 "nbformat_minor": 1
}