{
 "cells": [
  {
   "cell_type": "markdown",
   "metadata": {
    "collapsed": true,
    "pycharm": {
     "name": "#%% md\n"
    }
   },
   "source": [
    "# 实验六 相关分析与回归分析"
   ]
  },
  {
   "cell_type": "code",
   "execution_count": 1,
   "metadata": {
    "pycharm": {
     "name": "#%%\n"
    }
   },
   "outputs": [],
   "source": [
    "import pandas as pd\n",
    "import numpy as np\n",
    "import statsmodels\n",
    "import scipy.stats as sts\n",
    "import matplotlib.pyplot as plt\n",
    "from sklearn.linear_model import LinearRegression\n",
    "import statsmodels.api as sm\n",
    "\n",
    "plt.rcParams['font.sans-serif'] = ['Microsoft YaHei']\n",
    "plt.rcParams['axes.unicode_minus'] = False"
   ]
  },
  {
   "cell_type": "markdown",
   "metadata": {
    "pycharm": {
     "name": "#%% md\n"
    }
   },
   "source": [
    "##  1.例9-1\n",
    "一家电器销售公司的管理人员收集了公司12月的月销售收入与电视广告费用的数据，提问：销售收入与电视广告费用之间是否存在一定的关系，关系有多大？"
   ]
  },
  {
   "cell_type": "markdown",
   "metadata": {
    "pycharm": {
     "name": "#%% md\n"
    }
   },
   "source": [
    "### 绘制散点图"
   ]
  },
  {
   "cell_type": "code",
   "execution_count": 2,
   "metadata": {
    "pycharm": {
     "name": "#%%\n"
    }
   },
   "outputs": [
    {
     "data": {
      "text/html": [
       "<div>\n",
       "<style scoped>\n",
       "    .dataframe tbody tr th:only-of-type {\n",
       "        vertical-align: middle;\n",
       "    }\n",
       "\n",
       "    .dataframe tbody tr th {\n",
       "        vertical-align: top;\n",
       "    }\n",
       "\n",
       "    .dataframe thead th {\n",
       "        text-align: right;\n",
       "    }\n",
       "</style>\n",
       "<table border=\"1\" class=\"dataframe\">\n",
       "  <thead>\n",
       "    <tr style=\"text-align: right;\">\n",
       "      <th></th>\n",
       "      <th>月份</th>\n",
       "      <th>电视广告费用x</th>\n",
       "      <th>月销售收入y</th>\n",
       "      <th>x·y</th>\n",
       "      <th>y²</th>\n",
       "      <th>x²</th>\n",
       "    </tr>\n",
       "  </thead>\n",
       "  <tbody>\n",
       "    <tr>\n",
       "      <th>0</th>\n",
       "      <td>1</td>\n",
       "      <td>35</td>\n",
       "      <td>650</td>\n",
       "      <td>22750</td>\n",
       "      <td>422500</td>\n",
       "      <td>1225</td>\n",
       "    </tr>\n",
       "    <tr>\n",
       "      <th>1</th>\n",
       "      <td>2</td>\n",
       "      <td>30</td>\n",
       "      <td>591</td>\n",
       "      <td>17730</td>\n",
       "      <td>349281</td>\n",
       "      <td>900</td>\n",
       "    </tr>\n",
       "    <tr>\n",
       "      <th>2</th>\n",
       "      <td>3</td>\n",
       "      <td>28</td>\n",
       "      <td>570</td>\n",
       "      <td>15960</td>\n",
       "      <td>324900</td>\n",
       "      <td>784</td>\n",
       "    </tr>\n",
       "    <tr>\n",
       "      <th>3</th>\n",
       "      <td>4</td>\n",
       "      <td>18</td>\n",
       "      <td>540</td>\n",
       "      <td>9720</td>\n",
       "      <td>291600</td>\n",
       "      <td>324</td>\n",
       "    </tr>\n",
       "    <tr>\n",
       "      <th>4</th>\n",
       "      <td>5</td>\n",
       "      <td>21</td>\n",
       "      <td>570</td>\n",
       "      <td>11970</td>\n",
       "      <td>324900</td>\n",
       "      <td>441</td>\n",
       "    </tr>\n",
       "    <tr>\n",
       "      <th>5</th>\n",
       "      <td>6</td>\n",
       "      <td>24</td>\n",
       "      <td>564</td>\n",
       "      <td>13536</td>\n",
       "      <td>318096</td>\n",
       "      <td>576</td>\n",
       "    </tr>\n",
       "    <tr>\n",
       "      <th>6</th>\n",
       "      <td>7</td>\n",
       "      <td>17</td>\n",
       "      <td>520</td>\n",
       "      <td>8840</td>\n",
       "      <td>270400</td>\n",
       "      <td>289</td>\n",
       "    </tr>\n",
       "    <tr>\n",
       "      <th>7</th>\n",
       "      <td>8</td>\n",
       "      <td>21</td>\n",
       "      <td>565</td>\n",
       "      <td>11865</td>\n",
       "      <td>319225</td>\n",
       "      <td>441</td>\n",
       "    </tr>\n",
       "    <tr>\n",
       "      <th>8</th>\n",
       "      <td>9</td>\n",
       "      <td>32</td>\n",
       "      <td>595</td>\n",
       "      <td>19040</td>\n",
       "      <td>354025</td>\n",
       "      <td>1024</td>\n",
       "    </tr>\n",
       "    <tr>\n",
       "      <th>9</th>\n",
       "      <td>10</td>\n",
       "      <td>30</td>\n",
       "      <td>610</td>\n",
       "      <td>18300</td>\n",
       "      <td>372100</td>\n",
       "      <td>900</td>\n",
       "    </tr>\n",
       "    <tr>\n",
       "      <th>10</th>\n",
       "      <td>11</td>\n",
       "      <td>25</td>\n",
       "      <td>560</td>\n",
       "      <td>14000</td>\n",
       "      <td>313600</td>\n",
       "      <td>625</td>\n",
       "    </tr>\n",
       "    <tr>\n",
       "      <th>11</th>\n",
       "      <td>12</td>\n",
       "      <td>25</td>\n",
       "      <td>570</td>\n",
       "      <td>14250</td>\n",
       "      <td>324900</td>\n",
       "      <td>625</td>\n",
       "    </tr>\n",
       "    <tr>\n",
       "      <th>12</th>\n",
       "      <td>合计</td>\n",
       "      <td>306</td>\n",
       "      <td>6905</td>\n",
       "      <td>177961</td>\n",
       "      <td>3985527</td>\n",
       "      <td>8154</td>\n",
       "    </tr>\n",
       "  </tbody>\n",
       "</table>\n",
       "</div>"
      ],
      "text/plain": [
       "    月份  电视广告费用x  月销售收入y     x·y       y²    x²\n",
       "0    1       35     650   22750   422500  1225\n",
       "1    2       30     591   17730   349281   900\n",
       "2    3       28     570   15960   324900   784\n",
       "3    4       18     540    9720   291600   324\n",
       "4    5       21     570   11970   324900   441\n",
       "5    6       24     564   13536   318096   576\n",
       "6    7       17     520    8840   270400   289\n",
       "7    8       21     565   11865   319225   441\n",
       "8    9       32     595   19040   354025  1024\n",
       "9   10       30     610   18300   372100   900\n",
       "10  11       25     560   14000   313600   625\n",
       "11  12       25     570   14250   324900   625\n",
       "12  合计      306    6905  177961  3985527  8154"
      ]
     },
     "execution_count": 2,
     "metadata": {},
     "output_type": "execute_result"
    }
   ],
   "source": [
    "data = pd.read_excel('第9章 相关与回归.xlsx',None)\n",
    "df1 = data['表9-2']\n",
    "df1.columns = ['月份','电视广告费用x','月销售收入y','x·y','y²','x²']\n",
    "df1"
   ]
  },
  {
   "cell_type": "code",
   "execution_count": 3,
   "metadata": {
    "pycharm": {
     "name": "#%%\n"
    }
   },
   "outputs": [
    {
     "data": {
      "text/plain": [
       "<AxesSubplot:xlabel='电视广告费用x', ylabel='月销售收入y'>"
      ]
     },
     "execution_count": 3,
     "metadata": {},
     "output_type": "execute_result"
    },
    {
     "data": {
      "image/png": "[encoded data removed]",
      "text/plain": [
       "<Figure size 432x288 with 1 Axes>"
      ]
     },
     "metadata": {
      "needs_background": "light"
     },
     "output_type": "display_data"
    }
   ],
   "source": [
    "df1[:-1].plot(kind='scatter',x='电视广告费用x',y='月销售收入y')"
   ]
  },
  {
   "cell_type": "markdown",
   "metadata": {
    "pycharm": {
     "name": "#%% md\n"
    }
   },
   "source": [
    "### 计算相关系数"
   ]
  },
  {
   "cell_type": "code",
   "execution_count": 4,
   "metadata": {
    "pycharm": {
     "name": "#%%\n"
    }
   },
   "outputs": [
    {
     "name": "stdout",
     "output_type": "stream",
     "text": [
      "相关系数为： 0.907408389191994\n"
     ]
    }
   ],
   "source": [
    "n = len(df1) - 1\n",
    "_xy = n * df1.iloc[12,3] - df1.iloc[12,1] * df1.iloc[12,2]\n",
    "_x = (n * df1.iloc[12,5] - df1.iloc[12,1] ** 2) ** 0.5\n",
    "_y = (n * df1.iloc[12,4] - df1.iloc[12,2] ** 2) ** 0.5\n",
    "r = _xy / (_x * _y)\n",
    "print(\"相关系数为：\" ,r)\n",
    "\n",
    "# stats.peasonr(x,y)[0] 也可以计算相关系数"
   ]
  },
  {
   "cell_type": "markdown",
   "metadata": {
    "pycharm": {
     "name": "#%% md\n"
    }
   },
   "source": [
    "pandas和scipy.stats.pearsonr()计算相关系数"
   ]
  },
  {
   "cell_type": "code",
   "execution_count": 5,
   "metadata": {
    "pycharm": {
     "name": "#%%\n"
    }
   },
   "outputs": [
    {
     "data": {
      "text/plain": [
       "0.9074083891919941"
      ]
     },
     "execution_count": 5,
     "metadata": {},
     "output_type": "execute_result"
    }
   ],
   "source": [
    "df1[['电视广告费用x','月销售收入y']].iloc[:-1].corr() # 要去掉最后一行的总计\n",
    "sts.pearsonr(df1['电视广告费用x'][:-1],df1['月销售收入y'][:-1])[0]"
   ]
  },
  {
   "cell_type": "markdown",
   "metadata": {
    "pycharm": {
     "name": "#%% md\n"
    }
   },
   "source": [
    "由于 r = 0.91,接近1，故认为月销售收入与广告费用高度线性相关"
   ]
  },
  {
   "cell_type": "markdown",
   "metadata": {
    "pycharm": {
     "name": "#%% md\n"
    }
   },
   "source": [
    "## 2.回归分析\n",
    "利用例9-1的数据，对其进行回归分析"
   ]
  },
  {
   "cell_type": "code",
   "execution_count": 6,
   "metadata": {
    "pycharm": {
     "name": "#%%\n"
    }
   },
   "outputs": [
    {
     "name": "stdout",
     "output_type": "stream",
     "text": [
      "14.72369932922166\n",
      "0.8057289832536096\n",
      "0.8233899847760088\n"
     ]
    }
   ],
   "source": [
    "model =  LinearRegression()\n",
    "x = df1.iloc[:-1,1].values.reshape((-1,1))\n",
    "y = df1.iloc[:-1,2].values\n",
    "model.fit(x,y)\n",
    "\n",
    "r_sq = model.score(x, y)\n",
    "y_pred = model.predict(x)\n",
    "Adjusted_R = 1 - (1 - r_sq) * (n - 1) / (n - 1 - 1)\n",
    "S_e = (sum([(y_1 - y_2) ** 2 for y_1 , y_2 in zip(y, y_pred)]) / (n - 1 - 1)) ** 0.5\n",
    "\n",
    "print(S_e)\n",
    "print(Adjusted_R)\n",
    "print(r_sq)"
   ]
  },
  {
   "cell_type": "code",
   "execution_count": 7,
   "metadata": {
    "pycharm": {
     "name": "#%%\n"
    }
   },
   "outputs": [
    {
     "data": {
      "text/html": [
       "<div>\n",
       "<style scoped>\n",
       "    .dataframe tbody tr th:only-of-type {\n",
       "        vertical-align: middle;\n",
       "    }\n",
       "\n",
       "    .dataframe tbody tr th {\n",
       "        vertical-align: top;\n",
       "    }\n",
       "\n",
       "    .dataframe thead th {\n",
       "        text-align: right;\n",
       "    }\n",
       "</style>\n",
       "<table border=\"1\" class=\"dataframe\">\n",
       "  <thead>\n",
       "    <tr style=\"text-align: right;\">\n",
       "      <th></th>\n",
       "      <th>回归统计</th>\n",
       "    </tr>\n",
       "  </thead>\n",
       "  <tbody>\n",
       "    <tr>\n",
       "      <th>Multiple</th>\n",
       "      <td>0.907408</td>\n",
       "    </tr>\n",
       "    <tr>\n",
       "      <th>R Square</th>\n",
       "      <td>0.823390</td>\n",
       "    </tr>\n",
       "    <tr>\n",
       "      <th>Adjusted</th>\n",
       "      <td>0.805729</td>\n",
       "    </tr>\n",
       "    <tr>\n",
       "      <th>标准误差</th>\n",
       "      <td>14.723699</td>\n",
       "    </tr>\n",
       "    <tr>\n",
       "      <th>观测值</th>\n",
       "      <td>12.000000</td>\n",
       "    </tr>\n",
       "  </tbody>\n",
       "</table>\n",
       "</div>"
      ],
      "text/plain": [
       "               回归统计\n",
       "Multiple   0.907408\n",
       "R Square   0.823390\n",
       "Adjusted   0.805729\n",
       "标准误差      14.723699\n",
       "观测值       12.000000"
      ]
     },
     "execution_count": 7,
     "metadata": {},
     "output_type": "execute_result"
    }
   ],
   "source": [
    "regression_res = pd.DataFrame(index=['Multiple','R Square','Adjusted','标准误差','观测值'],\n",
    "                             data={'回归统计':[r,r_sq,Adjusted_R,S_e,n]})\n",
    "regression_res"
   ]
  },
  {
   "cell_type": "markdown",
   "metadata": {
    "pycharm": {
     "name": "#%% md\n"
    }
   },
   "source": [
    "### 方差分析"
   ]
  },
  {
   "cell_type": "code",
   "execution_count": 8,
   "metadata": {
    "pycharm": {
     "name": "#%%\n"
    }
   },
   "outputs": [
    {
     "data": {
      "text/html": [
       "<div>\n",
       "<style scoped>\n",
       "    .dataframe tbody tr th:only-of-type {\n",
       "        vertical-align: middle;\n",
       "    }\n",
       "\n",
       "    .dataframe tbody tr th {\n",
       "        vertical-align: top;\n",
       "    }\n",
       "\n",
       "    .dataframe thead th {\n",
       "        text-align: right;\n",
       "    }\n",
       "</style>\n",
       "<table border=\"1\" class=\"dataframe\">\n",
       "  <thead>\n",
       "    <tr style=\"text-align: right;\">\n",
       "      <th></th>\n",
       "      <th>df</th>\n",
       "      <th>SS</th>\n",
       "      <th>MS</th>\n",
       "      <th>F</th>\n",
       "      <th>P</th>\n",
       "    </tr>\n",
       "  </thead>\n",
       "  <tbody>\n",
       "    <tr>\n",
       "      <th>回归分析</th>\n",
       "      <td>1</td>\n",
       "      <td>10107.043447</td>\n",
       "      <td>10107.043447</td>\n",
       "      <td>46.62193</td>\n",
       "      <td>0.000046</td>\n",
       "    </tr>\n",
       "    <tr>\n",
       "      <th>残差</th>\n",
       "      <td>10</td>\n",
       "      <td>2167.873219</td>\n",
       "      <td>216.787322</td>\n",
       "      <td>NaN</td>\n",
       "      <td>NaN</td>\n",
       "    </tr>\n",
       "    <tr>\n",
       "      <th>总计</th>\n",
       "      <td>11</td>\n",
       "      <td>12274.916667</td>\n",
       "      <td>NaN</td>\n",
       "      <td>NaN</td>\n",
       "      <td>NaN</td>\n",
       "    </tr>\n",
       "  </tbody>\n",
       "</table>\n",
       "</div>"
      ],
      "text/plain": [
       "      df            SS            MS         F         P\n",
       "回归分析   1  10107.043447  10107.043447  46.62193  0.000046\n",
       "残差    10   2167.873219    216.787322       NaN       NaN\n",
       "总计    11  12274.916667           NaN       NaN       NaN"
      ]
     },
     "execution_count": 8,
     "metadata": {},
     "output_type": "execute_result"
    }
   ],
   "source": [
    "dfa = 1\n",
    "dfb = n - 2\n",
    "a = 0.05\n",
    "y_mean = [y.mean()] * n\n",
    "\n",
    "ssa = sum([(y_ - y_mean) ** 2 for y_, y_mean in zip(y_pred,y_mean)])\n",
    "ssb = sum([(y_ - y_p) ** 2 for y_, y_p in zip(y,y_pred)])\n",
    "\n",
    "msa = ssa / dfa\n",
    "msb = ssb / dfb\n",
    "F = msa / msb\n",
    "f_ = sts.f.ppf(1 - a, dfa, dfb) # f临界值\n",
    "p = 1 - sts.f.cdf(F, dfa, dfb) # p值\n",
    "\n",
    "pd.DataFrame(index=['回归分析','残差','总计'],\n",
    "                             data={'df':[dfa, dfb, dfa + dfb],\n",
    "                                   'SS':[ssa, ssb, ssa + ssb],\n",
    "                                   'MS':[msa, msb,np.nan],\n",
    "                                   'F':[F,np.nan,np.nan],\n",
    "                                   'P':[p,np.nan,np.nan],\n",
    "                                   })"
   ]
  },
  {
   "cell_type": "markdown",
   "metadata": {
    "pycharm": {
     "name": "#%% md\n"
    }
   },
   "source": [
    "### 回归系数的检验"
   ]
  },
  {
   "cell_type": "code",
   "execution_count": 9,
   "metadata": {
    "pycharm": {
     "name": "#%%\n"
    }
   },
   "outputs": [
    {
     "data": {
      "text/html": [
       "<div>\n",
       "<style scoped>\n",
       "    .dataframe tbody tr th:only-of-type {\n",
       "        vertical-align: middle;\n",
       "    }\n",
       "\n",
       "    .dataframe tbody tr th {\n",
       "        vertical-align: top;\n",
       "    }\n",
       "\n",
       "    .dataframe thead th {\n",
       "        text-align: right;\n",
       "    }\n",
       "</style>\n",
       "<table border=\"1\" class=\"dataframe\">\n",
       "  <thead>\n",
       "    <tr style=\"text-align: right;\">\n",
       "      <th></th>\n",
       "      <th>Coef</th>\n",
       "      <th>标准误差</th>\n",
       "      <th>t Stat</th>\n",
       "      <th>P-value</th>\n",
       "      <th>下限 95%</th>\n",
       "      <th>上限 95%</th>\n",
       "    </tr>\n",
       "  </thead>\n",
       "  <tbody>\n",
       "    <tr>\n",
       "      <th>Intercept</th>\n",
       "      <td>438.581197</td>\n",
       "      <td>20.486045</td>\n",
       "      <td>21.408779</td>\n",
       "      <td>1.102082e-09</td>\n",
       "      <td>392.935445</td>\n",
       "      <td>484.226948</td>\n",
       "    </tr>\n",
       "    <tr>\n",
       "      <th>X Variable 1</th>\n",
       "      <td>5.366097</td>\n",
       "      <td>0.785893</td>\n",
       "      <td>6.828025</td>\n",
       "      <td>4.580176e-05</td>\n",
       "      <td>3.615018</td>\n",
       "      <td>7.117175</td>\n",
       "    </tr>\n",
       "  </tbody>\n",
       "</table>\n",
       "</div>"
      ],
      "text/plain": [
       "                    Coef       标准误差     t Stat       P-value      下限 95%  \\\n",
       "Intercept     438.581197  20.486045  21.408779  1.102082e-09  392.935445   \n",
       "X Variable 1    5.366097   0.785893   6.828025  4.580176e-05    3.615018   \n",
       "\n",
       "                  上限 95%  \n",
       "Intercept     484.226948  \n",
       "X Variable 1    7.117175  "
      ]
     },
     "execution_count": 9,
     "metadata": {},
     "output_type": "execute_result"
    }
   ],
   "source": [
    "X = sm.add_constant(x)\n",
    "model1 = sm.OLS(y,X)\n",
    "res = model1.fit()\n",
    "params = res.params\n",
    "std_errors = res.bse\n",
    "t_stat = res.tvalues\n",
    "p_value = res.pvalues\n",
    "limit = res.conf_int()\n",
    "\n",
    "\n",
    "pd.DataFrame(index = ['Intercept','X Variable 1'],\n",
    "             data={'Coef':[params[0],params[1]],\n",
    "                   '标准误差':[std_errors[0],std_errors[1]],\n",
    "                   't Stat':[t_stat[0],t_stat[1]],\n",
    "                   'P-value':[p_value[0],p_value[1]],\n",
    "                   '下限 95%':[limit[0][0],limit[1][0]],\n",
    "                   '上限 95%':[limit[0][1],limit[1][1]]})"
   ]
  },
  {
   "cell_type": "markdown",
   "metadata": {
    "pycharm": {
     "name": "#%% md\n"
    }
   },
   "source": [
    "## 3.对Maospalace.excel中的数据进行一元回归分析。"
   ]
  },
  {
   "cell_type": "code",
   "execution_count": 10,
   "metadata": {
    "pycharm": {
     "name": "#%%"
    }
   },
   "outputs": [
    {
     "data": {
      "text/html": [
       "<div>\n",
       "<style scoped>\n",
       "    .dataframe tbody tr th:only-of-type {\n",
       "        vertical-align: middle;\n",
       "    }\n",
       "\n",
       "    .dataframe tbody tr th {\n",
       "        vertical-align: top;\n",
       "    }\n",
       "\n",
       "    .dataframe thead th {\n",
       "        text-align: right;\n",
       "    }\n",
       "</style>\n",
       "<table border=\"1\" class=\"dataframe\">\n",
       "  <thead>\n",
       "    <tr style=\"text-align: right;\">\n",
       "      <th></th>\n",
       "      <th>Bowl Price</th>\n",
       "      <th>Bowls</th>\n",
       "      <th>Soda</th>\n",
       "      <th>Beer</th>\n",
       "    </tr>\n",
       "  </thead>\n",
       "  <tbody>\n",
       "    <tr>\n",
       "      <th>0</th>\n",
       "      <td>9.3</td>\n",
       "      <td>391</td>\n",
       "      <td>313</td>\n",
       "      <td>90</td>\n",
       "    </tr>\n",
       "    <tr>\n",
       "      <th>1</th>\n",
       "      <td>9.1</td>\n",
       "      <td>418</td>\n",
       "      <td>326</td>\n",
       "      <td>100</td>\n",
       "    </tr>\n",
       "    <tr>\n",
       "      <th>2</th>\n",
       "      <td>8.5</td>\n",
       "      <td>459</td>\n",
       "      <td>358</td>\n",
       "      <td>115</td>\n",
       "    </tr>\n",
       "    <tr>\n",
       "      <th>3</th>\n",
       "      <td>9.5</td>\n",
       "      <td>424</td>\n",
       "      <td>331</td>\n",
       "      <td>81</td>\n",
       "    </tr>\n",
       "    <tr>\n",
       "      <th>4</th>\n",
       "      <td>8.7</td>\n",
       "      <td>447</td>\n",
       "      <td>380</td>\n",
       "      <td>89</td>\n",
       "    </tr>\n",
       "    <tr>\n",
       "      <th>...</th>\n",
       "      <td>...</td>\n",
       "      <td>...</td>\n",
       "      <td>...</td>\n",
       "      <td>...</td>\n",
       "    </tr>\n",
       "    <tr>\n",
       "      <th>181</th>\n",
       "      <td>8.5</td>\n",
       "      <td>447</td>\n",
       "      <td>380</td>\n",
       "      <td>103</td>\n",
       "    </tr>\n",
       "    <tr>\n",
       "      <th>182</th>\n",
       "      <td>9.4</td>\n",
       "      <td>404</td>\n",
       "      <td>327</td>\n",
       "      <td>81</td>\n",
       "    </tr>\n",
       "    <tr>\n",
       "      <th>183</th>\n",
       "      <td>9.9</td>\n",
       "      <td>408</td>\n",
       "      <td>310</td>\n",
       "      <td>61</td>\n",
       "    </tr>\n",
       "    <tr>\n",
       "      <th>184</th>\n",
       "      <td>8.0</td>\n",
       "      <td>457</td>\n",
       "      <td>356</td>\n",
       "      <td>82</td>\n",
       "    </tr>\n",
       "    <tr>\n",
       "      <th>185</th>\n",
       "      <td>9.5</td>\n",
       "      <td>421</td>\n",
       "      <td>324</td>\n",
       "      <td>93</td>\n",
       "    </tr>\n",
       "  </tbody>\n",
       "</table>\n",
       "<p>186 rows × 4 columns</p>\n",
       "</div>"
      ],
      "text/plain": [
       "     Bowl Price  Bowls  Soda  Beer\n",
       "0           9.3    391   313    90\n",
       "1           9.1    418   326   100\n",
       "2           8.5    459   358   115\n",
       "3           9.5    424   331    81\n",
       "4           8.7    447   380    89\n",
       "..          ...    ...   ...   ...\n",
       "181         8.5    447   380   103\n",
       "182         9.4    404   327    81\n",
       "183         9.9    408   310    61\n",
       "184         8.0    457   356    82\n",
       "185         9.5    421   324    93\n",
       "\n",
       "[186 rows x 4 columns]"
      ]
     },
     "execution_count": 10,
     "metadata": {},
     "output_type": "execute_result"
    }
   ],
   "source": [
    "data = pd.read_excel('Maospalace.xlsx')\n",
    "data = data.iloc[:,:-2]\n",
    "data"
   ]
  },
  {
   "cell_type": "markdown",
   "metadata": {
    "pycharm": {
     "name": "#%% md\n"
    }
   },
   "source": [
    "### 牛肉面的价格和卖出的碗数之间的回归分析"
   ]
  },
  {
   "cell_type": "code",
   "execution_count": 11,
   "metadata": {
    "pycharm": {
     "name": "#%%\n"
    }
   },
   "outputs": [
    {
     "data": {
      "text/html": [
       "<table class=\"simpletable\">\n",
       "<caption>OLS Regression Results</caption>\n",
       "<tr>\n",
       "  <th>Dep. Variable:</th>            <td>y</td>        <th>  R-squared:         </th> <td>   0.507</td>\n",
       "</tr>\n",
       "<tr>\n",
       "  <th>Model:</th>                   <td>OLS</td>       <th>  Adj. R-squared:    </th> <td>   0.504</td>\n",
       "</tr>\n",
       "<tr>\n",
       "  <th>Method:</th>             <td>Least Squares</td>  <th>  F-statistic:       </th> <td>   189.0</td>\n",
       "</tr>\n",
       "<tr>\n",
       "  <th>Date:</th>             <td>Thu, 09 Jun 2022</td> <th>  Prob (F-statistic):</th> <td>4.75e-30</td>\n",
       "</tr>\n",
       "<tr>\n",
       "  <th>Time:</th>                 <td>19:57:35</td>     <th>  Log-Likelihood:    </th> <td> -794.42</td>\n",
       "</tr>\n",
       "<tr>\n",
       "  <th>No. Observations:</th>      <td>   186</td>      <th>  AIC:               </th> <td>   1593.</td>\n",
       "</tr>\n",
       "<tr>\n",
       "  <th>Df Residuals:</th>          <td>   184</td>      <th>  BIC:               </th> <td>   1599.</td>\n",
       "</tr>\n",
       "<tr>\n",
       "  <th>Df Model:</th>              <td>     1</td>      <th>                     </th>     <td> </td>   \n",
       "</tr>\n",
       "<tr>\n",
       "  <th>Covariance Type:</th>      <td>nonrobust</td>    <th>                     </th>     <td> </td>   \n",
       "</tr>\n",
       "</table>\n",
       "<table class=\"simpletable\">\n",
       "<tr>\n",
       "    <td></td>       <th>coef</th>     <th>std err</th>      <th>t</th>      <th>P>|t|</th>  <th>[0.025</th>    <th>0.975]</th>  \n",
       "</tr>\n",
       "<tr>\n",
       "  <th>const</th> <td>  695.8741</td> <td>   19.491</td> <td>   35.703</td> <td> 0.000</td> <td>  657.420</td> <td>  734.328</td>\n",
       "</tr>\n",
       "<tr>\n",
       "  <th>x1</th>    <td>  -29.5945</td> <td>    2.152</td> <td>  -13.749</td> <td> 0.000</td> <td>  -33.841</td> <td>  -25.348</td>\n",
       "</tr>\n",
       "</table>\n",
       "<table class=\"simpletable\">\n",
       "<tr>\n",
       "  <th>Omnibus:</th>       <td>94.072</td> <th>  Durbin-Watson:     </th> <td>   2.044</td>\n",
       "</tr>\n",
       "<tr>\n",
       "  <th>Prob(Omnibus):</th> <td> 0.000</td> <th>  Jarque-Bera (JB):  </th> <td>  11.702</td>\n",
       "</tr>\n",
       "<tr>\n",
       "  <th>Skew:</th>          <td> 0.068</td> <th>  Prob(JB):          </th> <td> 0.00288</td>\n",
       "</tr>\n",
       "<tr>\n",
       "  <th>Kurtosis:</th>      <td> 1.779</td> <th>  Cond. No.          </th> <td>    140.</td>\n",
       "</tr>\n",
       "</table><br/><br/>Notes:<br/>[1] Standard Errors assume that the covariance matrix of the errors is correctly specified."
      ],
      "text/plain": [
       "<class 'statsmodels.iolib.summary.Summary'>\n",
       "\"\"\"\n",
       "                            OLS Regression Results                            \n",
       "==============================================================================\n",
       "Dep. Variable:                      y   R-squared:                       0.507\n",
       "Model:                            OLS   Adj. R-squared:                  0.504\n",
       "Method:                 Least Squares   F-statistic:                     189.0\n",
       "Date:                Thu, 09 Jun 2022   Prob (F-statistic):           4.75e-30\n",
       "Time:                        19:57:35   Log-Likelihood:                -794.42\n",
       "No. Observations:                 186   AIC:                             1593.\n",
       "Df Residuals:                     184   BIC:                             1599.\n",
       "Df Model:                           1                                         \n",
       "Covariance Type:            nonrobust                                         \n",
       "==============================================================================\n",
       "                 coef    std err          t      P>|t|      [0.025      0.975]\n",
       "------------------------------------------------------------------------------\n",
       "const        695.8741     19.491     35.703      0.000     657.420     734.328\n",
       "x1           -29.5945      2.152    -13.749      0.000     -33.841     -25.348\n",
       "==============================================================================\n",
       "Omnibus:                       94.072   Durbin-Watson:                   2.044\n",
       "Prob(Omnibus):                  0.000   Jarque-Bera (JB):               11.702\n",
       "Skew:                           0.068   Prob(JB):                      0.00288\n",
       "Kurtosis:                       1.779   Cond. No.                         140.\n",
       "==============================================================================\n",
       "\n",
       "Notes:\n",
       "[1] Standard Errors assume that the covariance matrix of the errors is correctly specified.\n",
       "\"\"\""
      ]
     },
     "execution_count": 11,
     "metadata": {},
     "output_type": "execute_result"
    }
   ],
   "source": [
    "x = data.iloc[:,0].values.reshape((-1,1))\n",
    "y1 = data.iloc[:,1].values\n",
    "X = sm.add_constant(x)\n",
    "\n",
    "model = sm.OLS(y1, X)\n",
    "res = model.fit()\n",
    "res.summary()"
   ]
  },
  {
   "cell_type": "markdown",
   "metadata": {
    "pycharm": {
     "name": "#%% md\n"
    }
   },
   "source": [
    "$R^2=0.507$相关性较强，说明牛肉面都额单价与卖出的牛肉面的数量存在一定的线性相关关系，但不够明显"
   ]
  },
  {
   "cell_type": "markdown",
   "metadata": {},
   "source": [
    "### 牛肉面的价格和卖出的Soda数量之间的回归分析"
   ]
  },
  {
   "cell_type": "code",
   "execution_count": 12,
   "metadata": {
    "pycharm": {
     "name": "#%%\n"
    }
   },
   "outputs": [
    {
     "data": {
      "text/html": [
       "<table class=\"simpletable\">\n",
       "<caption>OLS Regression Results</caption>\n",
       "<tr>\n",
       "  <th>Dep. Variable:</th>            <td>y</td>        <th>  R-squared:         </th> <td>   0.338</td>\n",
       "</tr>\n",
       "<tr>\n",
       "  <th>Model:</th>                   <td>OLS</td>       <th>  Adj. R-squared:    </th> <td>   0.334</td>\n",
       "</tr>\n",
       "<tr>\n",
       "  <th>Method:</th>             <td>Least Squares</td>  <th>  F-statistic:       </th> <td>   93.74</td>\n",
       "</tr>\n",
       "<tr>\n",
       "  <th>Date:</th>             <td>Thu, 09 Jun 2022</td> <th>  Prob (F-statistic):</th> <td>3.54e-18</td>\n",
       "</tr>\n",
       "<tr>\n",
       "  <th>Time:</th>                 <td>19:57:35</td>     <th>  Log-Likelihood:    </th> <td> -824.55</td>\n",
       "</tr>\n",
       "<tr>\n",
       "  <th>No. Observations:</th>      <td>   186</td>      <th>  AIC:               </th> <td>   1653.</td>\n",
       "</tr>\n",
       "<tr>\n",
       "  <th>Df Residuals:</th>          <td>   184</td>      <th>  BIC:               </th> <td>   1660.</td>\n",
       "</tr>\n",
       "<tr>\n",
       "  <th>Df Model:</th>              <td>     1</td>      <th>                     </th>     <td> </td>   \n",
       "</tr>\n",
       "<tr>\n",
       "  <th>Covariance Type:</th>      <td>nonrobust</td>    <th>                     </th>     <td> </td>   \n",
       "</tr>\n",
       "</table>\n",
       "<table class=\"simpletable\">\n",
       "<tr>\n",
       "    <td></td>       <th>coef</th>     <th>std err</th>      <th>t</th>      <th>P>|t|</th>  <th>[0.025</th>    <th>0.975]</th>  \n",
       "</tr>\n",
       "<tr>\n",
       "  <th>const</th> <td>  562.3356</td> <td>   22.918</td> <td>   24.537</td> <td> 0.000</td> <td>  517.120</td> <td>  607.551</td>\n",
       "</tr>\n",
       "<tr>\n",
       "  <th>x1</th>    <td>  -24.5046</td> <td>    2.531</td> <td>   -9.682</td> <td> 0.000</td> <td>  -29.498</td> <td>  -19.511</td>\n",
       "</tr>\n",
       "</table>\n",
       "<table class=\"simpletable\">\n",
       "<tr>\n",
       "  <th>Omnibus:</th>       <td> 7.250</td> <th>  Durbin-Watson:     </th> <td>   1.917</td>\n",
       "</tr>\n",
       "<tr>\n",
       "  <th>Prob(Omnibus):</th> <td> 0.027</td> <th>  Jarque-Bera (JB):  </th> <td>   4.092</td>\n",
       "</tr>\n",
       "<tr>\n",
       "  <th>Skew:</th>          <td> 0.154</td> <th>  Prob(JB):          </th> <td>   0.129</td>\n",
       "</tr>\n",
       "<tr>\n",
       "  <th>Kurtosis:</th>      <td> 2.342</td> <th>  Cond. No.          </th> <td>    140.</td>\n",
       "</tr>\n",
       "</table><br/><br/>Notes:<br/>[1] Standard Errors assume that the covariance matrix of the errors is correctly specified."
      ],
      "text/plain": [
       "<class 'statsmodels.iolib.summary.Summary'>\n",
       "\"\"\"\n",
       "                            OLS Regression Results                            \n",
       "==============================================================================\n",
       "Dep. Variable:                      y   R-squared:                       0.338\n",
       "Model:                            OLS   Adj. R-squared:                  0.334\n",
       "Method:                 Least Squares   F-statistic:                     93.74\n",
       "Date:                Thu, 09 Jun 2022   Prob (F-statistic):           3.54e-18\n",
       "Time:                        19:57:35   Log-Likelihood:                -824.55\n",
       "No. Observations:                 186   AIC:                             1653.\n",
       "Df Residuals:                     184   BIC:                             1660.\n",
       "Df Model:                           1                                         \n",
       "Covariance Type:            nonrobust                                         \n",
       "==============================================================================\n",
       "                 coef    std err          t      P>|t|      [0.025      0.975]\n",
       "------------------------------------------------------------------------------\n",
       "const        562.3356     22.918     24.537      0.000     517.120     607.551\n",
       "x1           -24.5046      2.531     -9.682      0.000     -29.498     -19.511\n",
       "==============================================================================\n",
       "Omnibus:                        7.250   Durbin-Watson:                   1.917\n",
       "Prob(Omnibus):                  0.027   Jarque-Bera (JB):                4.092\n",
       "Skew:                           0.154   Prob(JB):                        0.129\n",
       "Kurtosis:                       2.342   Cond. No.                         140.\n",
       "==============================================================================\n",
       "\n",
       "Notes:\n",
       "[1] Standard Errors assume that the covariance matrix of the errors is correctly specified.\n",
       "\"\"\""
      ]
     },
     "execution_count": 12,
     "metadata": {},
     "output_type": "execute_result"
    }
   ],
   "source": [
    "y2 = data.iloc[:,2].values\n",
    "model2 = sm.OLS(y2, X)\n",
    "res2 = model2.fit()\n",
    "res2.summary()"
   ]
  },
  {
   "cell_type": "markdown",
   "metadata": {},
   "source": [
    "$R^2=0.338$相关性较弱，说明牛肉面都额单价与卖出的Soda数量可能存在一定的线性相关关系"
   ]
  },
  {
   "cell_type": "markdown",
   "metadata": {},
   "source": [
    "### 牛肉面的价格和卖出的Beer数量之间的回归分析"
   ]
  },
  {
   "cell_type": "code",
   "execution_count": 13,
   "metadata": {
    "pycharm": {
     "name": "#%%\n"
    }
   },
   "outputs": [
    {
     "data": {
      "text/html": [
       "<table class=\"simpletable\">\n",
       "<caption>OLS Regression Results</caption>\n",
       "<tr>\n",
       "  <th>Dep. Variable:</th>            <td>y</td>        <th>  R-squared:         </th> <td>   0.038</td>\n",
       "</tr>\n",
       "<tr>\n",
       "  <th>Model:</th>                   <td>OLS</td>       <th>  Adj. R-squared:    </th> <td>   0.032</td>\n",
       "</tr>\n",
       "<tr>\n",
       "  <th>Method:</th>             <td>Least Squares</td>  <th>  F-statistic:       </th> <td>   7.170</td>\n",
       "</tr>\n",
       "<tr>\n",
       "  <th>Date:</th>             <td>Thu, 09 Jun 2022</td> <th>  Prob (F-statistic):</th>  <td>0.00808</td>\n",
       "</tr>\n",
       "<tr>\n",
       "  <th>Time:</th>                 <td>19:57:35</td>     <th>  Log-Likelihood:    </th> <td> -756.55</td>\n",
       "</tr>\n",
       "<tr>\n",
       "  <th>No. Observations:</th>      <td>   186</td>      <th>  AIC:               </th> <td>   1517.</td>\n",
       "</tr>\n",
       "<tr>\n",
       "  <th>Df Residuals:</th>          <td>   184</td>      <th>  BIC:               </th> <td>   1524.</td>\n",
       "</tr>\n",
       "<tr>\n",
       "  <th>Df Model:</th>              <td>     1</td>      <th>                     </th>     <td> </td>   \n",
       "</tr>\n",
       "<tr>\n",
       "  <th>Covariance Type:</th>      <td>nonrobust</td>    <th>                     </th>     <td> </td>   \n",
       "</tr>\n",
       "</table>\n",
       "<table class=\"simpletable\">\n",
       "<tr>\n",
       "    <td></td>       <th>coef</th>     <th>std err</th>      <th>t</th>      <th>P>|t|</th>  <th>[0.025</th>    <th>0.975]</th>  \n",
       "</tr>\n",
       "<tr>\n",
       "  <th>const</th> <td>  127.4591</td> <td>   15.901</td> <td>    8.016</td> <td> 0.000</td> <td>   96.088</td> <td>  158.830</td>\n",
       "</tr>\n",
       "<tr>\n",
       "  <th>x1</th>    <td>   -4.7021</td> <td>    1.756</td> <td>   -2.678</td> <td> 0.008</td> <td>   -8.167</td> <td>   -1.238</td>\n",
       "</tr>\n",
       "</table>\n",
       "<table class=\"simpletable\">\n",
       "<tr>\n",
       "  <th>Omnibus:</th>       <td>32.362</td> <th>  Durbin-Watson:     </th> <td>   2.020</td>\n",
       "</tr>\n",
       "<tr>\n",
       "  <th>Prob(Omnibus):</th> <td> 0.000</td> <th>  Jarque-Bera (JB):  </th> <td>   8.005</td>\n",
       "</tr>\n",
       "<tr>\n",
       "  <th>Skew:</th>          <td> 0.066</td> <th>  Prob(JB):          </th> <td>  0.0183</td>\n",
       "</tr>\n",
       "<tr>\n",
       "  <th>Kurtosis:</th>      <td> 1.992</td> <th>  Cond. No.          </th> <td>    140.</td>\n",
       "</tr>\n",
       "</table><br/><br/>Notes:<br/>[1] Standard Errors assume that the covariance matrix of the errors is correctly specified."
      ],
      "text/plain": [
       "<class 'statsmodels.iolib.summary.Summary'>\n",
       "\"\"\"\n",
       "                            OLS Regression Results                            \n",
       "==============================================================================\n",
       "Dep. Variable:                      y   R-squared:                       0.038\n",
       "Model:                            OLS   Adj. R-squared:                  0.032\n",
       "Method:                 Least Squares   F-statistic:                     7.170\n",
       "Date:                Thu, 09 Jun 2022   Prob (F-statistic):            0.00808\n",
       "Time:                        19:57:35   Log-Likelihood:                -756.55\n",
       "No. Observations:                 186   AIC:                             1517.\n",
       "Df Residuals:                     184   BIC:                             1524.\n",
       "Df Model:                           1                                         \n",
       "Covariance Type:            nonrobust                                         \n",
       "==============================================================================\n",
       "                 coef    std err          t      P>|t|      [0.025      0.975]\n",
       "------------------------------------------------------------------------------\n",
       "const        127.4591     15.901      8.016      0.000      96.088     158.830\n",
       "x1            -4.7021      1.756     -2.678      0.008      -8.167      -1.238\n",
       "==============================================================================\n",
       "Omnibus:                       32.362   Durbin-Watson:                   2.020\n",
       "Prob(Omnibus):                  0.000   Jarque-Bera (JB):                8.005\n",
       "Skew:                           0.066   Prob(JB):                       0.0183\n",
       "Kurtosis:                       1.992   Cond. No.                         140.\n",
       "==============================================================================\n",
       "\n",
       "Notes:\n",
       "[1] Standard Errors assume that the covariance matrix of the errors is correctly specified.\n",
       "\"\"\""
      ]
     },
     "execution_count": 13,
     "metadata": {},
     "output_type": "execute_result"
    }
   ],
   "source": [
    "y3 = data.iloc[:,3].values\n",
    "model3 = sm.OLS(y3, X)\n",
    "res3 = model3.fit()\n",
    "res3.summary()"
   ]
  },
  {
   "cell_type": "markdown",
   "metadata": {},
   "source": [
    "$R^2=0.038$相关性极其弱，说明牛肉面都额单价与卖出的Beer数量无关"
   ]
  }
 ],
 "metadata": {
  "kernelspec": {
   "display_name": "Python 3 (ipykernel)",
   "language": "python",
   "name": "python3"
  },
  "language_info": {
   "codemirror_mode": {
    "name": "ipython",
    "version": 3
   },
   "file_extension": ".py",
   "mimetype": "text/x-python",
   "name": "python",
   "nbconvert_exporter": "python",
   "pygments_lexer": "ipython3",
   "version": "3.8.2"
  }
 },
 "nbformat": 4,
 "nbformat_minor": 1
}
