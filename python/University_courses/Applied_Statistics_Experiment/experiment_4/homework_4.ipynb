{
 "cells": [
  {
   "cell_type": "markdown",
   "metadata": {
    "collapsed": true,
    "pycharm": {
     "name": "#%% md\n"
    }
   },
   "source": [
    "# 实验四 假设检验"
   ]
  },
  {
   "cell_type": "markdown",
   "metadata": {
    "pycharm": {
     "name": "#%% md\n"
    }
   },
   "source": [
    "实验目标：对假设检验.xlsx中的数据进行z和t的p值计算"
   ]
  },
  {
   "cell_type": "markdown",
   "metadata": {
    "pycharm": {
     "name": "#%% md\n"
    }
   },
   "source": [
    "## 0.导入包和数据"
   ]
  },
  {
   "cell_type": "code",
   "execution_count": 1,
   "metadata": {
    "pycharm": {
     "name": "#%%\n"
    }
   },
   "outputs": [],
   "source": [
    "import pandas as pd\n",
    "from scipy import stats\n",
    "import numpy as np\n",
    "import math\n",
    "import statsmodels.stats.weightstats as sw"
   ]
  },
  {
   "cell_type": "code",
   "execution_count": 2,
   "metadata": {
    "pycharm": {
     "name": "#%%\n"
    }
   },
   "outputs": [],
   "source": [
    "data = pd.read_excel('第6章 假设检验 .xls')\n",
    "male_data = data.iloc[:,0:4]\n",
    "female_data = data.iloc[:,4:]"
   ]
  },
  {
   "cell_type": "markdown",
   "metadata": {
    "pycharm": {
     "name": "#%% md\n"
    }
   },
   "source": [
    "## 1.预处理数据"
   ]
  },
  {
   "cell_type": "code",
   "execution_count": 3,
   "metadata": {
    "pycharm": {
     "name": "#%%\n"
    }
   },
   "outputs": [],
   "source": [
    "# 拼接40个样本数据为两列\n",
    "def process_data(df):\n",
    "    # print(df.head())\n",
    "    df.columns = df.iloc[0,:].values\n",
    "\n",
    "    df = df.drop([0])\n",
    "    df_1 = df.iloc[:,:2]\n",
    "    df_2 = df.iloc[:,2:4]\n",
    "    # frames = [df_1,df_2]\n",
    "    # df = pd.concat(frames).reset_index(drop=True)\n",
    "    df = df_1.append(df_2,ignore_index=True)\n",
    "    return df"
   ]
  },
  {
   "cell_type": "code",
   "execution_count": 4,
   "metadata": {
    "pycharm": {
     "name": "#%%\n"
    }
   },
   "outputs": [
    {
     "data": {
      "text/html": [
       "<div>\n",
       "<style scoped>\n",
       "    .dataframe tbody tr th:only-of-type {\n",
       "        vertical-align: middle;\n",
       "    }\n",
       "\n",
       "    .dataframe tbody tr th {\n",
       "        vertical-align: top;\n",
       "    }\n",
       "\n",
       "    .dataframe thead th {\n",
       "        text-align: right;\n",
       "    }\n",
       "</style>\n",
       "<table border=\"1\" class=\"dataframe\">\n",
       "  <thead>\n",
       "    <tr style=\"text-align: right;\">\n",
       "      <th></th>\n",
       "      <th>编号</th>\n",
       "      <th>平均月支出</th>\n",
       "    </tr>\n",
       "  </thead>\n",
       "  <tbody>\n",
       "    <tr>\n",
       "      <th>35</th>\n",
       "      <td>36</td>\n",
       "      <td>700</td>\n",
       "    </tr>\n",
       "    <tr>\n",
       "      <th>36</th>\n",
       "      <td>37</td>\n",
       "      <td>700</td>\n",
       "    </tr>\n",
       "    <tr>\n",
       "      <th>37</th>\n",
       "      <td>38</td>\n",
       "      <td>1 000</td>\n",
       "    </tr>\n",
       "    <tr>\n",
       "      <th>38</th>\n",
       "      <td>39</td>\n",
       "      <td>1 200</td>\n",
       "    </tr>\n",
       "    <tr>\n",
       "      <th>39</th>\n",
       "      <td>40</td>\n",
       "      <td>1 500</td>\n",
       "    </tr>\n",
       "  </tbody>\n",
       "</table>\n",
       "</div>"
      ],
      "text/plain": [
       "    编号  平均月支出\n",
       "35  36    700\n",
       "36  37    700\n",
       "37  38  1 000\n",
       "38  39  1 200\n",
       "39  40  1 500"
      ]
     },
     "execution_count": 4,
     "metadata": {},
     "output_type": "execute_result"
    }
   ],
   "source": [
    "male_data = process_data(male_data)\n",
    "female_data = process_data(female_data)\n",
    "male_data.tail()"
   ]
  },
  {
   "cell_type": "code",
   "execution_count": 5,
   "metadata": {
    "pycharm": {
     "name": "#%%\n"
    }
   },
   "outputs": [],
   "source": [
    "# 获取样本数据的值\n",
    "def get_value(df):\n",
    "    arr = []\n",
    "    for idx in df['平均月支出'].values:\n",
    "        idx = ''.join(str(idx).split())  # 除去空格\n",
    "        arr.append(int(idx))\n",
    "    return arr"
   ]
  },
  {
   "cell_type": "code",
   "execution_count": 6,
   "metadata": {
    "pycharm": {
     "name": "#%%\n"
    }
   },
   "outputs": [
    {
     "name": "stdout",
     "output_type": "stream",
     "text": [
      "[800, 1200, 800, 1000, 700, 500, 1200, 1000, 1500, 800, 1000, 1200, 800, 800, 700, 500, 900, 1000, 1200, 800, 1000, 900, 1200, 600, 500, 700, 600, 1000, 1200, 1200, 900, 900, 1200, 800, 500, 700, 700, 1000, 1200, 1500]\n",
      "[700, 1000, 800, 1200, 1200, 800, 600, 800, 900, 1000, 700, 900, 800, 1000, 1200, 900, 600, 800, 900, 1000, 700, 1400, 800, 1000, 900, 1200, 2000, 1300, 800, 900, 600, 1400, 900, 1000, 900, 1500, 2000, 1400, 800, 900]\n"
     ]
    }
   ],
   "source": [
    "male = get_value(male_data)\n",
    "female = get_value(female_data)\n",
    "print(male)\n",
    "print(female)"
   ]
  },
  {
   "cell_type": "markdown",
   "metadata": {
    "pycharm": {
     "name": "#%% md\n"
    }
   },
   "source": [
    "## 2.作出假设：\n",
    "\n",
    "设男生平均月消费支出为 $u_1$, 女生平均月消费支出为 $u_2$ <br>\n",
    "设原假设$H_0$: $u_1$ - $u_2$ = 0 , $\\quad$ (即：男女生平均月消费支出无明显差异) <br>\n",
    "备择假设$H_1$: $u_1$ - $u_2$ $\\neq$ 0："
   ]
  },
  {
   "cell_type": "markdown",
   "metadata": {
    "pycharm": {
     "name": "#%% md\n"
    }
   },
   "source": [
    "## 3.z检验"
   ]
  },
  {
   "cell_type": "code",
   "execution_count": 7,
   "metadata": {
    "pycharm": {
     "name": "#%%\n"
    }
   },
   "outputs": [
    {
     "name": "stdout",
     "output_type": "stream",
     "text": [
      "Z检验统计量=-1.32，Z_[a/2]=1.96\n",
      "Z检验统计量=-1.32, p值为：0.18561069860827706\n"
     ]
    }
   ],
   "source": [
    "male_mean = np.mean(male)\n",
    "male_std = np.std(male,ddof=1)\n",
    "\n",
    "female_mean = np.mean(female)\n",
    "female_std = np.std(female,ddof=1)\n",
    "\n",
    "z = (male_mean - female_mean) / math.sqrt((male_std ** 2 + female_std ** 2) / len(male))\n",
    "\n",
    "level = 0.95\n",
    "alpha = 1 - level\n",
    "z_a = stats.norm.ppf(alpha / 2,loc=0,scale=1)\n",
    "z_a = -z_a\n",
    "print(\"Z检验统计量={:.2f}，Z_[a/2]={:.2f}\".format(z,z_a))\n",
    "\n",
    "# P1 = 2 * stats.norm.sf(abs(z))\n",
    "# print(\"Z检验下p值为：{}\".format(P1))\n",
    "z_test = sw.ztest(male,female,value=0)\n",
    "print(\"Z检验统计量={:.2f}, p值为：{}\".format(z_test[0],z_test[1]))"
   ]
  },
  {
   "cell_type": "markdown",
   "metadata": {
    "pycharm": {
     "name": "#%% md\n"
    }
   },
   "source": [
    "在$\\alpha$ = 0.05的显著性下：\n",
    "|Z| = 1.32 < $Z_{\\frac \\alpha2 }$ = 1.96 <br>\n",
    "所以没有落入拒绝域，即认为男女生平均月消费支出无明显差异"
   ]
  },
  {
   "cell_type": "markdown",
   "metadata": {
    "pycharm": {
     "name": "#%% md\n"
    }
   },
   "source": [
    "## 4.t检验"
   ]
  },
  {
   "cell_type": "code",
   "execution_count": 8,
   "metadata": {
    "pycharm": {
     "name": "#%%\n"
    }
   },
   "outputs": [
    {
     "name": "stdout",
     "output_type": "stream",
     "text": [
      "方差齐性检验p值为：0.8750884814724933\n",
      "t检验p值为：0.18947719784107386\n"
     ]
    }
   ],
   "source": [
    "m_levene = stats.levene(male,female) # 对两组数据进行方差齐性检验 p > 0.05认为方差齐\n",
    "print(\"方差齐性检验p值为：{}\".format(m_levene.pvalue))\n",
    "m_t = stats.ttest_ind(male,female,equal_var=True) # equal_var=True 表示方差齐，为False 方差不齐\n",
    "print(\"t检验p值为：{}\".format(m_t.pvalue))"
   ]
  },
  {
   "cell_type": "markdown",
   "metadata": {
    "pycharm": {
     "name": "#%% md\n"
    }
   },
   "source": [
    "t检验的p=0.18947719784107386 远大于 $\\alpha$ = 0.05 <br>\n",
    "所以接受原假设，认为男女生平均月消费支出无明显差异"
   ]
  }
 ],
 "metadata": {
  "kernelspec": {
   "display_name": "Python 3 (ipykernel)",
   "language": "python",
   "name": "python3"
  },
  "language_info": {
   "codemirror_mode": {
    "name": "ipython",
    "version": 3
   },
   "file_extension": ".py",
   "mimetype": "text/x-python",
   "name": "python",
   "nbconvert_exporter": "python",
   "pygments_lexer": "ipython3",
   "version": "3.8.2"
  }
 },
 "nbformat": 4,
 "nbformat_minor": 1
}
