{
 "cells": [
  {
   "cell_type": "markdown",
   "metadata": {
    "pycharm": {
     "name": "#%% md\n"
    }
   },
   "source": [
    "# 实验五 方差分析与统计指数"
   ]
  },
  {
   "cell_type": "code",
   "execution_count": 1,
   "metadata": {
    "collapsed": true
   },
   "outputs": [],
   "source": [
    "import pandas as pd\n",
    "import numpy as np\n",
    "import statsmodels as st\n",
    "from statsmodels.formula.api import ols\n",
    "from statsmodels.stats.anova import anova_lm\n",
    "from statsmodels.stats.multicomp import pairwise_tukeyhsd"
   ]
  },
  {
   "cell_type": "markdown",
   "metadata": {
    "pycharm": {
     "name": "#%% md\n"
    }
   },
   "source": [
    "## 1、计算例题7-2与本章案例引入。\n",
    "### 1.1 例题7-2\n",
    "根据 \"实验5 方差分析.xls\" 中的表'例7-2'中的数据，给定显著性水平 $\\alpha = 0.05$ ，检验不同层次管理者的满意度评分是否存在显著性差异"
   ]
  },
  {
   "cell_type": "code",
   "execution_count": 2,
   "metadata": {
    "pycharm": {
     "name": "#%%\n"
    }
   },
   "outputs": [],
   "source": [
    "data = pd.read_excel('实验5 方差分析.xls',None)"
   ]
  },
  {
   "cell_type": "markdown",
   "metadata": {
    "pycharm": {
     "name": "#%% md\n"
    }
   },
   "source": [
    "合并为一列并重置索引"
   ]
  },
  {
   "cell_type": "code",
   "execution_count": 3,
   "metadata": {
    "pycharm": {
     "name": "#%%\n"
    }
   },
   "outputs": [
    {
     "data": {
      "text/plain": "   variable  value\n0     高级管理者    7.0\n1     高级管理者    7.0\n2     高级管理者    8.0\n3     高级管理者    7.0\n4     高级管理者    9.0\n5     中级管理者    8.0\n6     中级管理者    9.0\n7     中级管理者    8.0\n8     中级管理者   10.0\n9     中级管理者    9.0\n10    中级管理者   10.0\n11    中级管理者    8.0\n12    初级管理者    5.0\n13    初级管理者    6.0\n14    初级管理者    5.0\n15    初级管理者    7.0\n16    初级管理者    4.0\n17    初级管理者    8.0",
      "text/html": "<div>\n<style scoped>\n    .dataframe tbody tr th:only-of-type {\n        vertical-align: middle;\n    }\n\n    .dataframe tbody tr th {\n        vertical-align: top;\n    }\n\n    .dataframe thead th {\n        text-align: right;\n    }\n</style>\n<table border=\"1\" class=\"dataframe\">\n  <thead>\n    <tr style=\"text-align: right;\">\n      <th></th>\n      <th>variable</th>\n      <th>value</th>\n    </tr>\n  </thead>\n  <tbody>\n    <tr>\n      <th>0</th>\n      <td>高级管理者</td>\n      <td>7.0</td>\n    </tr>\n    <tr>\n      <th>1</th>\n      <td>高级管理者</td>\n      <td>7.0</td>\n    </tr>\n    <tr>\n      <th>2</th>\n      <td>高级管理者</td>\n      <td>8.0</td>\n    </tr>\n    <tr>\n      <th>3</th>\n      <td>高级管理者</td>\n      <td>7.0</td>\n    </tr>\n    <tr>\n      <th>4</th>\n      <td>高级管理者</td>\n      <td>9.0</td>\n    </tr>\n    <tr>\n      <th>5</th>\n      <td>中级管理者</td>\n      <td>8.0</td>\n    </tr>\n    <tr>\n      <th>6</th>\n      <td>中级管理者</td>\n      <td>9.0</td>\n    </tr>\n    <tr>\n      <th>7</th>\n      <td>中级管理者</td>\n      <td>8.0</td>\n    </tr>\n    <tr>\n      <th>8</th>\n      <td>中级管理者</td>\n      <td>10.0</td>\n    </tr>\n    <tr>\n      <th>9</th>\n      <td>中级管理者</td>\n      <td>9.0</td>\n    </tr>\n    <tr>\n      <th>10</th>\n      <td>中级管理者</td>\n      <td>10.0</td>\n    </tr>\n    <tr>\n      <th>11</th>\n      <td>中级管理者</td>\n      <td>8.0</td>\n    </tr>\n    <tr>\n      <th>12</th>\n      <td>初级管理者</td>\n      <td>5.0</td>\n    </tr>\n    <tr>\n      <th>13</th>\n      <td>初级管理者</td>\n      <td>6.0</td>\n    </tr>\n    <tr>\n      <th>14</th>\n      <td>初级管理者</td>\n      <td>5.0</td>\n    </tr>\n    <tr>\n      <th>15</th>\n      <td>初级管理者</td>\n      <td>7.0</td>\n    </tr>\n    <tr>\n      <th>16</th>\n      <td>初级管理者</td>\n      <td>4.0</td>\n    </tr>\n    <tr>\n      <th>17</th>\n      <td>初级管理者</td>\n      <td>8.0</td>\n    </tr>\n  </tbody>\n</table>\n</div>"
     },
     "execution_count": 3,
     "metadata": {},
     "output_type": "execute_result"
    }
   ],
   "source": [
    "manage_data = data['例7-2']\n",
    "melt_manage_data = manage_data.melt().dropna().reset_index(drop=True)\n",
    "melt_manage_data"
   ]
  },
  {
   "cell_type": "markdown",
   "metadata": {
    "pycharm": {
     "name": "#%% md\n"
    }
   },
   "source": [
    "将不同层级管理者指定号对应标签"
   ]
  },
  {
   "cell_type": "code",
   "execution_count": 4,
   "metadata": {
    "pycharm": {
     "name": "#%%\n"
    }
   },
   "outputs": [
    {
     "data": {
      "text/plain": "['高级管理者', '中级管理者', '初级管理者']"
     },
     "execution_count": 4,
     "metadata": {},
     "output_type": "execute_result"
    }
   ],
   "source": [
    "admin_dict = melt_manage_data['variable'].unique().tolist()\n",
    "admin_dict"
   ]
  },
  {
   "cell_type": "code",
   "execution_count": 5,
   "metadata": {
    "pycharm": {
     "name": "#%%\n"
    }
   },
   "outputs": [
    {
     "data": {
      "text/plain": "   variable  value  group\n0     高级管理者    7.0      1\n1     高级管理者    7.0      1\n2     高级管理者    8.0      1\n3     高级管理者    7.0      1\n4     高级管理者    9.0      1\n5     中级管理者    8.0      2\n6     中级管理者    9.0      2\n7     中级管理者    8.0      2\n8     中级管理者   10.0      2\n9     中级管理者    9.0      2\n10    中级管理者   10.0      2\n11    中级管理者    8.0      2\n12    初级管理者    5.0      3\n13    初级管理者    6.0      3\n14    初级管理者    5.0      3\n15    初级管理者    7.0      3\n16    初级管理者    4.0      3\n17    初级管理者    8.0      3",
      "text/html": "<div>\n<style scoped>\n    .dataframe tbody tr th:only-of-type {\n        vertical-align: middle;\n    }\n\n    .dataframe tbody tr th {\n        vertical-align: top;\n    }\n\n    .dataframe thead th {\n        text-align: right;\n    }\n</style>\n<table border=\"1\" class=\"dataframe\">\n  <thead>\n    <tr style=\"text-align: right;\">\n      <th></th>\n      <th>variable</th>\n      <th>value</th>\n      <th>group</th>\n    </tr>\n  </thead>\n  <tbody>\n    <tr>\n      <th>0</th>\n      <td>高级管理者</td>\n      <td>7.0</td>\n      <td>1</td>\n    </tr>\n    <tr>\n      <th>1</th>\n      <td>高级管理者</td>\n      <td>7.0</td>\n      <td>1</td>\n    </tr>\n    <tr>\n      <th>2</th>\n      <td>高级管理者</td>\n      <td>8.0</td>\n      <td>1</td>\n    </tr>\n    <tr>\n      <th>3</th>\n      <td>高级管理者</td>\n      <td>7.0</td>\n      <td>1</td>\n    </tr>\n    <tr>\n      <th>4</th>\n      <td>高级管理者</td>\n      <td>9.0</td>\n      <td>1</td>\n    </tr>\n    <tr>\n      <th>5</th>\n      <td>中级管理者</td>\n      <td>8.0</td>\n      <td>2</td>\n    </tr>\n    <tr>\n      <th>6</th>\n      <td>中级管理者</td>\n      <td>9.0</td>\n      <td>2</td>\n    </tr>\n    <tr>\n      <th>7</th>\n      <td>中级管理者</td>\n      <td>8.0</td>\n      <td>2</td>\n    </tr>\n    <tr>\n      <th>8</th>\n      <td>中级管理者</td>\n      <td>10.0</td>\n      <td>2</td>\n    </tr>\n    <tr>\n      <th>9</th>\n      <td>中级管理者</td>\n      <td>9.0</td>\n      <td>2</td>\n    </tr>\n    <tr>\n      <th>10</th>\n      <td>中级管理者</td>\n      <td>10.0</td>\n      <td>2</td>\n    </tr>\n    <tr>\n      <th>11</th>\n      <td>中级管理者</td>\n      <td>8.0</td>\n      <td>2</td>\n    </tr>\n    <tr>\n      <th>12</th>\n      <td>初级管理者</td>\n      <td>5.0</td>\n      <td>3</td>\n    </tr>\n    <tr>\n      <th>13</th>\n      <td>初级管理者</td>\n      <td>6.0</td>\n      <td>3</td>\n    </tr>\n    <tr>\n      <th>14</th>\n      <td>初级管理者</td>\n      <td>5.0</td>\n      <td>3</td>\n    </tr>\n    <tr>\n      <th>15</th>\n      <td>初级管理者</td>\n      <td>7.0</td>\n      <td>3</td>\n    </tr>\n    <tr>\n      <th>16</th>\n      <td>初级管理者</td>\n      <td>4.0</td>\n      <td>3</td>\n    </tr>\n    <tr>\n      <th>17</th>\n      <td>初级管理者</td>\n      <td>8.0</td>\n      <td>3</td>\n    </tr>\n  </tbody>\n</table>\n</div>"
     },
     "execution_count": 5,
     "metadata": {},
     "output_type": "execute_result"
    }
   ],
   "source": [
    "melt_manage_data['group'] = melt_manage_data['variable'].apply(lambda x : (admin_dict.index(x) + 1) )\n",
    "melt_manage_data"
   ]
  },
  {
   "cell_type": "markdown",
   "metadata": {
    "pycharm": {
     "name": "#%% md\n"
    }
   },
   "source": [
    "进行方差分析"
   ]
  },
  {
   "cell_type": "code",
   "execution_count": 6,
   "metadata": {
    "pycharm": {
     "name": "#%%\n"
    }
   },
   "outputs": [
    {
     "data": {
      "text/plain": "            df     sum_sq    mean_sq          F    PR(>F)\nC(group)   2.0  29.609524  14.804762  11.755735  0.000849\nResidual  15.0  18.890476   1.259365        NaN       NaN",
      "text/html": "<div>\n<style scoped>\n    .dataframe tbody tr th:only-of-type {\n        vertical-align: middle;\n    }\n\n    .dataframe tbody tr th {\n        vertical-align: top;\n    }\n\n    .dataframe thead th {\n        text-align: right;\n    }\n</style>\n<table border=\"1\" class=\"dataframe\">\n  <thead>\n    <tr style=\"text-align: right;\">\n      <th></th>\n      <th>df</th>\n      <th>sum_sq</th>\n      <th>mean_sq</th>\n      <th>F</th>\n      <th>PR(&gt;F)</th>\n    </tr>\n  </thead>\n  <tbody>\n    <tr>\n      <th>C(group)</th>\n      <td>2.0</td>\n      <td>29.609524</td>\n      <td>14.804762</td>\n      <td>11.755735</td>\n      <td>0.000849</td>\n    </tr>\n    <tr>\n      <th>Residual</th>\n      <td>15.0</td>\n      <td>18.890476</td>\n      <td>1.259365</td>\n      <td>NaN</td>\n      <td>NaN</td>\n    </tr>\n  </tbody>\n</table>\n</div>"
     },
     "execution_count": 6,
     "metadata": {},
     "output_type": "execute_result"
    }
   ],
   "source": [
    "new_data = melt_manage_data.drop('variable',axis=1)\n",
    "model = ols('value ~C(group)', data=new_data).fit()\n",
    "anovat = anova_lm(model)\n",
    "anovat"
   ]
  },
  {
   "cell_type": "markdown",
   "metadata": {
    "pycharm": {
     "name": "#%% md\n"
    }
   },
   "source": [
    "设高中初级管理者评分的均值分别为 $\\mu_1,\\mu_2,\\mu_3$ .<br>\n",
    "\n",
    "**1.提出假设:** <br>\n",
    "\n",
    "$H_0: \\mu_1 = \\mu_2 = \\mu_3 $  <br>\n",
    "$H_1:\\mu_1,\\mu_2,\\mu_3$ 不全相等 <br>\n",
    "<br>\n",
    "**2.进行方差分析** <br>\n",
    "\n",
    "| -  | df |  sum_sq | mean_sq | F | PR(>F) |\n",
    "| --- | ----------- |  --- | ----------- | --- | ----------- |\n",
    "| C(group)  | 2.0 | 29.609524 | 14.804762 | 11.755735 | 0.000849 |\n",
    "| Residual | 15.0  | 18.890476 | 1.259365 |  |  |\n",
    "\n",
    "组间自由度$df_A$=2,组内自由度$df_E$=15 <br>\n",
    "\n",
    "其他分析结果如上图所示\n",
    "<br>\n",
    "<br>\n",
    "**3.统计决策** <br>\n",
    "\n",
    "检验统计量$F=11.7555735 > F_{0.05} (2,15) = 3.682$, 所以 **拒绝原假设** ，即认为不同层次管理的满意度评分之间是存在显著差异的 <br>\n",
    "根据P值规则，由于P=0.000849< $\\alpha$ = 0.05 ,故同样拒绝原假设。"
   ]
  },
  {
   "cell_type": "markdown",
   "metadata": {
    "pycharm": {
     "name": "#%% md\n"
    }
   },
   "source": [
    "### 1.2 案例引入\n",
    "观察不同品种种子的产量数据，思考在显著性水平 $\\alpha = 0.05$ 下，不同品种种子的产量是否存在显著性差异"
   ]
  },
  {
   "cell_type": "code",
   "execution_count": 7,
   "metadata": {
    "pycharm": {
     "name": "#%%\n"
    }
   },
   "outputs": [
    {
     "data": {
      "text/plain": "  种子品种  产量数据（公斤）  Unnamed: 2  Unnamed: 3  Unnamed: 4  Unnamed: 5  Unnamed: 6  \\\n0    甲        58          62          70          63          52          65   \n1    乙        89          72          80          66          63          73   \n2    丙        76          73          66          78          66          69   \n\n   Unnamed: 7  Unnamed: 8  Unnamed: 9  Unnamed: 10  Unnamed: 11  Unnamed: 12  \\\n0          56          60          59           67           63           66   \n1          84          64          68           50           76           71   \n2          68          62          72           67           70           63   \n\n   Unnamed: 13  Unnamed: 14  Unnamed: 15  Unnamed: 16  \n0           55           57           59           52  \n1           56           81           63           65  \n2           72           76           63           67  ",
      "text/html": "<div>\n<style scoped>\n    .dataframe tbody tr th:only-of-type {\n        vertical-align: middle;\n    }\n\n    .dataframe tbody tr th {\n        vertical-align: top;\n    }\n\n    .dataframe thead th {\n        text-align: right;\n    }\n</style>\n<table border=\"1\" class=\"dataframe\">\n  <thead>\n    <tr style=\"text-align: right;\">\n      <th></th>\n      <th>种子品种</th>\n      <th>产量数据（公斤）</th>\n      <th>Unnamed: 2</th>\n      <th>Unnamed: 3</th>\n      <th>Unnamed: 4</th>\n      <th>Unnamed: 5</th>\n      <th>Unnamed: 6</th>\n      <th>Unnamed: 7</th>\n      <th>Unnamed: 8</th>\n      <th>Unnamed: 9</th>\n      <th>Unnamed: 10</th>\n      <th>Unnamed: 11</th>\n      <th>Unnamed: 12</th>\n      <th>Unnamed: 13</th>\n      <th>Unnamed: 14</th>\n      <th>Unnamed: 15</th>\n      <th>Unnamed: 16</th>\n    </tr>\n  </thead>\n  <tbody>\n    <tr>\n      <th>0</th>\n      <td>甲</td>\n      <td>58</td>\n      <td>62</td>\n      <td>70</td>\n      <td>63</td>\n      <td>52</td>\n      <td>65</td>\n      <td>56</td>\n      <td>60</td>\n      <td>59</td>\n      <td>67</td>\n      <td>63</td>\n      <td>66</td>\n      <td>55</td>\n      <td>57</td>\n      <td>59</td>\n      <td>52</td>\n    </tr>\n    <tr>\n      <th>1</th>\n      <td>乙</td>\n      <td>89</td>\n      <td>72</td>\n      <td>80</td>\n      <td>66</td>\n      <td>63</td>\n      <td>73</td>\n      <td>84</td>\n      <td>64</td>\n      <td>68</td>\n      <td>50</td>\n      <td>76</td>\n      <td>71</td>\n      <td>56</td>\n      <td>81</td>\n      <td>63</td>\n      <td>65</td>\n    </tr>\n    <tr>\n      <th>2</th>\n      <td>丙</td>\n      <td>76</td>\n      <td>73</td>\n      <td>66</td>\n      <td>78</td>\n      <td>66</td>\n      <td>69</td>\n      <td>68</td>\n      <td>62</td>\n      <td>72</td>\n      <td>67</td>\n      <td>70</td>\n      <td>63</td>\n      <td>72</td>\n      <td>76</td>\n      <td>63</td>\n      <td>67</td>\n    </tr>\n  </tbody>\n</table>\n</div>"
     },
     "execution_count": 7,
     "metadata": {},
     "output_type": "execute_result"
    }
   ],
   "source": [
    "filed_data = data['案例引入']\n",
    "filed_data"
   ]
  },
  {
   "cell_type": "markdown",
   "metadata": {
    "pycharm": {
     "name": "#%% md\n"
    }
   },
   "source": [
    "合并为一列并按组制定标签"
   ]
  },
  {
   "cell_type": "code",
   "execution_count": 27,
   "metadata": {
    "pycharm": {
     "name": "#%%\n"
    }
   },
   "outputs": [
    {
     "data": {
      "text/plain": "    level  value\n0       0     58\n1       0     62\n2       0     70\n3       0     63\n4       0     52\n5       0     65\n6       0     56\n7       0     60\n8       0     59\n9       0     67\n10      0     63\n11      0     66\n12      0     55\n13      0     57\n14      0     59\n15      0     52\n16      1     89\n17      1     72\n18      1     80\n19      1     66\n20      1     63\n21      1     73\n22      1     84\n23      1     64\n24      1     68\n25      1     50\n26      1     76\n27      1     71\n28      1     56\n29      1     81\n30      1     63\n31      1     65\n32      2     76\n33      2     73\n34      2     66\n35      2     78\n36      2     66\n37      2     69\n38      2     68\n39      2     62\n40      2     72\n41      2     67\n42      2     70\n43      2     63\n44      2     72\n45      2     76\n46      2     63\n47      2     67",
      "text/html": "<div>\n<style scoped>\n    .dataframe tbody tr th:only-of-type {\n        vertical-align: middle;\n    }\n\n    .dataframe tbody tr th {\n        vertical-align: top;\n    }\n\n    .dataframe thead th {\n        text-align: right;\n    }\n</style>\n<table border=\"1\" class=\"dataframe\">\n  <thead>\n    <tr style=\"text-align: right;\">\n      <th></th>\n      <th>level</th>\n      <th>value</th>\n    </tr>\n  </thead>\n  <tbody>\n    <tr>\n      <th>0</th>\n      <td>0</td>\n      <td>58</td>\n    </tr>\n    <tr>\n      <th>1</th>\n      <td>0</td>\n      <td>62</td>\n    </tr>\n    <tr>\n      <th>2</th>\n      <td>0</td>\n      <td>70</td>\n    </tr>\n    <tr>\n      <th>3</th>\n      <td>0</td>\n      <td>63</td>\n    </tr>\n    <tr>\n      <th>4</th>\n      <td>0</td>\n      <td>52</td>\n    </tr>\n    <tr>\n      <th>5</th>\n      <td>0</td>\n      <td>65</td>\n    </tr>\n    <tr>\n      <th>6</th>\n      <td>0</td>\n      <td>56</td>\n    </tr>\n    <tr>\n      <th>7</th>\n      <td>0</td>\n      <td>60</td>\n    </tr>\n    <tr>\n      <th>8</th>\n      <td>0</td>\n      <td>59</td>\n    </tr>\n    <tr>\n      <th>9</th>\n      <td>0</td>\n      <td>67</td>\n    </tr>\n    <tr>\n      <th>10</th>\n      <td>0</td>\n      <td>63</td>\n    </tr>\n    <tr>\n      <th>11</th>\n      <td>0</td>\n      <td>66</td>\n    </tr>\n    <tr>\n      <th>12</th>\n      <td>0</td>\n      <td>55</td>\n    </tr>\n    <tr>\n      <th>13</th>\n      <td>0</td>\n      <td>57</td>\n    </tr>\n    <tr>\n      <th>14</th>\n      <td>0</td>\n      <td>59</td>\n    </tr>\n    <tr>\n      <th>15</th>\n      <td>0</td>\n      <td>52</td>\n    </tr>\n    <tr>\n      <th>16</th>\n      <td>1</td>\n      <td>89</td>\n    </tr>\n    <tr>\n      <th>17</th>\n      <td>1</td>\n      <td>72</td>\n    </tr>\n    <tr>\n      <th>18</th>\n      <td>1</td>\n      <td>80</td>\n    </tr>\n    <tr>\n      <th>19</th>\n      <td>1</td>\n      <td>66</td>\n    </tr>\n    <tr>\n      <th>20</th>\n      <td>1</td>\n      <td>63</td>\n    </tr>\n    <tr>\n      <th>21</th>\n      <td>1</td>\n      <td>73</td>\n    </tr>\n    <tr>\n      <th>22</th>\n      <td>1</td>\n      <td>84</td>\n    </tr>\n    <tr>\n      <th>23</th>\n      <td>1</td>\n      <td>64</td>\n    </tr>\n    <tr>\n      <th>24</th>\n      <td>1</td>\n      <td>68</td>\n    </tr>\n    <tr>\n      <th>25</th>\n      <td>1</td>\n      <td>50</td>\n    </tr>\n    <tr>\n      <th>26</th>\n      <td>1</td>\n      <td>76</td>\n    </tr>\n    <tr>\n      <th>27</th>\n      <td>1</td>\n      <td>71</td>\n    </tr>\n    <tr>\n      <th>28</th>\n      <td>1</td>\n      <td>56</td>\n    </tr>\n    <tr>\n      <th>29</th>\n      <td>1</td>\n      <td>81</td>\n    </tr>\n    <tr>\n      <th>30</th>\n      <td>1</td>\n      <td>63</td>\n    </tr>\n    <tr>\n      <th>31</th>\n      <td>1</td>\n      <td>65</td>\n    </tr>\n    <tr>\n      <th>32</th>\n      <td>2</td>\n      <td>76</td>\n    </tr>\n    <tr>\n      <th>33</th>\n      <td>2</td>\n      <td>73</td>\n    </tr>\n    <tr>\n      <th>34</th>\n      <td>2</td>\n      <td>66</td>\n    </tr>\n    <tr>\n      <th>35</th>\n      <td>2</td>\n      <td>78</td>\n    </tr>\n    <tr>\n      <th>36</th>\n      <td>2</td>\n      <td>66</td>\n    </tr>\n    <tr>\n      <th>37</th>\n      <td>2</td>\n      <td>69</td>\n    </tr>\n    <tr>\n      <th>38</th>\n      <td>2</td>\n      <td>68</td>\n    </tr>\n    <tr>\n      <th>39</th>\n      <td>2</td>\n      <td>62</td>\n    </tr>\n    <tr>\n      <th>40</th>\n      <td>2</td>\n      <td>72</td>\n    </tr>\n    <tr>\n      <th>41</th>\n      <td>2</td>\n      <td>67</td>\n    </tr>\n    <tr>\n      <th>42</th>\n      <td>2</td>\n      <td>70</td>\n    </tr>\n    <tr>\n      <th>43</th>\n      <td>2</td>\n      <td>63</td>\n    </tr>\n    <tr>\n      <th>44</th>\n      <td>2</td>\n      <td>72</td>\n    </tr>\n    <tr>\n      <th>45</th>\n      <td>2</td>\n      <td>76</td>\n    </tr>\n    <tr>\n      <th>46</th>\n      <td>2</td>\n      <td>63</td>\n    </tr>\n    <tr>\n      <th>47</th>\n      <td>2</td>\n      <td>67</td>\n    </tr>\n  </tbody>\n</table>\n</div>"
     },
     "execution_count": 27,
     "metadata": {},
     "output_type": "execute_result"
    }
   ],
   "source": [
    "df1 = filed_data.iloc[:,1:].stack()\n",
    "\n",
    "df2 = df1.reset_index(level=0).reset_index(drop=True)\n",
    "df2.columns = ['level','value']\n",
    "df2"
   ]
  },
  {
   "cell_type": "markdown",
   "metadata": {
    "pycharm": {
     "name": "#%% md\n"
    }
   },
   "source": [
    "方差分析"
   ]
  },
  {
   "cell_type": "code",
   "execution_count": 9,
   "metadata": {
    "pycharm": {
     "name": "#%%\n"
    }
   },
   "outputs": [
    {
     "data": {
      "text/plain": "            df       sum_sq     mean_sq        F    PR(>F)\nC(level)   2.0   949.041667  474.520833  8.97604  0.000524\nResidual  45.0  2378.937500   52.865278      NaN       NaN",
      "text/html": "<div>\n<style scoped>\n    .dataframe tbody tr th:only-of-type {\n        vertical-align: middle;\n    }\n\n    .dataframe tbody tr th {\n        vertical-align: top;\n    }\n\n    .dataframe thead th {\n        text-align: right;\n    }\n</style>\n<table border=\"1\" class=\"dataframe\">\n  <thead>\n    <tr style=\"text-align: right;\">\n      <th></th>\n      <th>df</th>\n      <th>sum_sq</th>\n      <th>mean_sq</th>\n      <th>F</th>\n      <th>PR(&gt;F)</th>\n    </tr>\n  </thead>\n  <tbody>\n    <tr>\n      <th>C(level)</th>\n      <td>2.0</td>\n      <td>949.041667</td>\n      <td>474.520833</td>\n      <td>8.97604</td>\n      <td>0.000524</td>\n    </tr>\n    <tr>\n      <th>Residual</th>\n      <td>45.0</td>\n      <td>2378.937500</td>\n      <td>52.865278</td>\n      <td>NaN</td>\n      <td>NaN</td>\n    </tr>\n  </tbody>\n</table>\n</div>"
     },
     "execution_count": 9,
     "metadata": {},
     "output_type": "execute_result"
    }
   ],
   "source": [
    "model_2 = ols('value ~C(level)', data=df2).fit()\n",
    "anovat_2 = anova_lm(model_2)\n",
    "anovat_2"
   ]
  },
  {
   "cell_type": "markdown",
   "metadata": {
    "pycharm": {
     "name": "#%% md\n"
    }
   },
   "source": [
    "设甲、乙、丙三个种子品种的产量均值分别为 $\\mu_1,\\mu_2,\\mu_3$ .<br>\n",
    "<br>\n",
    "**1.提出假设：** <br>\n",
    "\n",
    "$H_0: \\mu_1 = \\mu_2 = \\mu_3 $  <br>\n",
    "$H_1:\\mu_1,\\mu_2,\\mu_3$ 不全相等 <br>\n",
    "<br>\n",
    "**2.进行方差分析** <br>\n",
    "\n",
    "| -  | df |  sum_sq | mean_sq | F | PR(>F) |\n",
    "| --- | ----------- |  --- | ----------- | --- | ----------- |\n",
    "| C(group)  | 2.0 | 949.041667 | 474.520833 | 8.97604\t | 0.000524 |\n",
    "| Residual | 45.0  | 2378.937500 | 52.865278 |  |  |\n",
    "\n",
    "组间自由度$df_A$=2,组内自由度$df_E$=45 <br>\n",
    "\n",
    "其他分析结果如上图所示\n",
    "<br>\n",
    "<br>\n",
    "**3.统计决策**\n",
    "\n",
    "根据P值规则，由于P=0.000524< $\\alpha$ = 0.05 ,故同样拒绝原假设。即认为不同品种种子的产量是存在显著差异的"
   ]
  },
  {
   "cell_type": "markdown",
   "metadata": {},
   "source": [
    "## 2、例题7-5\n",
    "根据某商品不同地区不同包装方式的销售资料表格，已知包装方式为因素A，销售地区为因素B。请问：在显著性水平 $\\alpha = 0.05$ 下，销售地区和包装方式是否对销售量有显著影响？"
   ]
  },
  {
   "cell_type": "code",
   "execution_count": 10,
   "metadata": {
    "pycharm": {
     "name": "#%%\n"
    }
   },
   "outputs": [
    {
     "data": {
      "text/plain": "  销售地区  包装方式 Unnamed: 2 Unnamed: 3 Unnamed: 4 Unnamed: 5   行均值\n0  NaN    A1         A2         A3         A4         A5   NaN\n1   B1    20         12         20         10         14  15.2\n2   B2    22         10         20         12          6  14.0\n3   B3    24         14         18         18         10  16.8\n4   B4    16          4          8          6         18  10.4\n5  列均值  20.5         10       16.5       11.5         12  14.1",
      "text/html": "<div>\n<style scoped>\n    .dataframe tbody tr th:only-of-type {\n        vertical-align: middle;\n    }\n\n    .dataframe tbody tr th {\n        vertical-align: top;\n    }\n\n    .dataframe thead th {\n        text-align: right;\n    }\n</style>\n<table border=\"1\" class=\"dataframe\">\n  <thead>\n    <tr style=\"text-align: right;\">\n      <th></th>\n      <th>销售地区</th>\n      <th>包装方式</th>\n      <th>Unnamed: 2</th>\n      <th>Unnamed: 3</th>\n      <th>Unnamed: 4</th>\n      <th>Unnamed: 5</th>\n      <th>行均值</th>\n    </tr>\n  </thead>\n  <tbody>\n    <tr>\n      <th>0</th>\n      <td>NaN</td>\n      <td>A1</td>\n      <td>A2</td>\n      <td>A3</td>\n      <td>A4</td>\n      <td>A5</td>\n      <td>NaN</td>\n    </tr>\n    <tr>\n      <th>1</th>\n      <td>B1</td>\n      <td>20</td>\n      <td>12</td>\n      <td>20</td>\n      <td>10</td>\n      <td>14</td>\n      <td>15.2</td>\n    </tr>\n    <tr>\n      <th>2</th>\n      <td>B2</td>\n      <td>22</td>\n      <td>10</td>\n      <td>20</td>\n      <td>12</td>\n      <td>6</td>\n      <td>14.0</td>\n    </tr>\n    <tr>\n      <th>3</th>\n      <td>B3</td>\n      <td>24</td>\n      <td>14</td>\n      <td>18</td>\n      <td>18</td>\n      <td>10</td>\n      <td>16.8</td>\n    </tr>\n    <tr>\n      <th>4</th>\n      <td>B4</td>\n      <td>16</td>\n      <td>4</td>\n      <td>8</td>\n      <td>6</td>\n      <td>18</td>\n      <td>10.4</td>\n    </tr>\n    <tr>\n      <th>5</th>\n      <td>列均值</td>\n      <td>20.5</td>\n      <td>10</td>\n      <td>16.5</td>\n      <td>11.5</td>\n      <td>12</td>\n      <td>14.1</td>\n    </tr>\n  </tbody>\n</table>\n</div>"
     },
     "execution_count": 10,
     "metadata": {},
     "output_type": "execute_result"
    }
   ],
   "source": [
    "goods_data = data['例7-5']\n",
    "goods_data"
   ]
  },
  {
   "cell_type": "code",
   "execution_count": 11,
   "metadata": {
    "pycharm": {
     "name": "#%%\n"
    }
   },
   "outputs": [
    {
     "data": {
      "text/plain": "A   A1  A2  A3  A4  A5\nB                     \nB1  20  12  20  10  14\nB2  22  10  20  12   6\nB3  24  14  18  18  10\nB4  16   4   8   6  18",
      "text/html": "<div>\n<style scoped>\n    .dataframe tbody tr th:only-of-type {\n        vertical-align: middle;\n    }\n\n    .dataframe tbody tr th {\n        vertical-align: top;\n    }\n\n    .dataframe thead th {\n        text-align: right;\n    }\n</style>\n<table border=\"1\" class=\"dataframe\">\n  <thead>\n    <tr style=\"text-align: right;\">\n      <th>A</th>\n      <th>A1</th>\n      <th>A2</th>\n      <th>A3</th>\n      <th>A4</th>\n      <th>A5</th>\n    </tr>\n    <tr>\n      <th>B</th>\n      <th></th>\n      <th></th>\n      <th></th>\n      <th></th>\n      <th></th>\n    </tr>\n  </thead>\n  <tbody>\n    <tr>\n      <th>B1</th>\n      <td>20</td>\n      <td>12</td>\n      <td>20</td>\n      <td>10</td>\n      <td>14</td>\n    </tr>\n    <tr>\n      <th>B2</th>\n      <td>22</td>\n      <td>10</td>\n      <td>20</td>\n      <td>12</td>\n      <td>6</td>\n    </tr>\n    <tr>\n      <th>B3</th>\n      <td>24</td>\n      <td>14</td>\n      <td>18</td>\n      <td>18</td>\n      <td>10</td>\n    </tr>\n    <tr>\n      <th>B4</th>\n      <td>16</td>\n      <td>4</td>\n      <td>8</td>\n      <td>6</td>\n      <td>18</td>\n    </tr>\n  </tbody>\n</table>\n</div>"
     },
     "execution_count": 11,
     "metadata": {},
     "output_type": "execute_result"
    }
   ],
   "source": [
    "goods_columns = goods_data.iloc[0,1:-1].values\n",
    "goods_index = goods_data.iloc[1:-1,0].values\n",
    "\n",
    "goods = goods_data.iloc[1:-1,1:-1]\n",
    "goods.columns = pd.Index(goods_columns,name='A')\n",
    "goods.index = pd.Index(goods_index,name='B')\n",
    "goods"
   ]
  },
  {
   "cell_type": "code",
   "execution_count": 12,
   "metadata": {
    "pycharm": {
     "name": "#%%\n"
    }
   },
   "outputs": [
    {
     "data": {
      "text/plain": "     B   A value\n0   B1  A1    20\n1   B1  A2    12\n2   B1  A3    20\n3   B1  A4    10\n4   B1  A5    14\n5   B2  A1    22\n6   B2  A2    10\n7   B2  A3    20\n8   B2  A4    12\n9   B2  A5     6\n10  B3  A1    24\n11  B3  A2    14\n12  B3  A3    18\n13  B3  A4    18\n14  B3  A5    10\n15  B4  A1    16\n16  B4  A2     4\n17  B4  A3     8\n18  B4  A4     6\n19  B4  A5    18",
      "text/html": "<div>\n<style scoped>\n    .dataframe tbody tr th:only-of-type {\n        vertical-align: middle;\n    }\n\n    .dataframe tbody tr th {\n        vertical-align: top;\n    }\n\n    .dataframe thead th {\n        text-align: right;\n    }\n</style>\n<table border=\"1\" class=\"dataframe\">\n  <thead>\n    <tr style=\"text-align: right;\">\n      <th></th>\n      <th>B</th>\n      <th>A</th>\n      <th>value</th>\n    </tr>\n  </thead>\n  <tbody>\n    <tr>\n      <th>0</th>\n      <td>B1</td>\n      <td>A1</td>\n      <td>20</td>\n    </tr>\n    <tr>\n      <th>1</th>\n      <td>B1</td>\n      <td>A2</td>\n      <td>12</td>\n    </tr>\n    <tr>\n      <th>2</th>\n      <td>B1</td>\n      <td>A3</td>\n      <td>20</td>\n    </tr>\n    <tr>\n      <th>3</th>\n      <td>B1</td>\n      <td>A4</td>\n      <td>10</td>\n    </tr>\n    <tr>\n      <th>4</th>\n      <td>B1</td>\n      <td>A5</td>\n      <td>14</td>\n    </tr>\n    <tr>\n      <th>5</th>\n      <td>B2</td>\n      <td>A1</td>\n      <td>22</td>\n    </tr>\n    <tr>\n      <th>6</th>\n      <td>B2</td>\n      <td>A2</td>\n      <td>10</td>\n    </tr>\n    <tr>\n      <th>7</th>\n      <td>B2</td>\n      <td>A3</td>\n      <td>20</td>\n    </tr>\n    <tr>\n      <th>8</th>\n      <td>B2</td>\n      <td>A4</td>\n      <td>12</td>\n    </tr>\n    <tr>\n      <th>9</th>\n      <td>B2</td>\n      <td>A5</td>\n      <td>6</td>\n    </tr>\n    <tr>\n      <th>10</th>\n      <td>B3</td>\n      <td>A1</td>\n      <td>24</td>\n    </tr>\n    <tr>\n      <th>11</th>\n      <td>B3</td>\n      <td>A2</td>\n      <td>14</td>\n    </tr>\n    <tr>\n      <th>12</th>\n      <td>B3</td>\n      <td>A3</td>\n      <td>18</td>\n    </tr>\n    <tr>\n      <th>13</th>\n      <td>B3</td>\n      <td>A4</td>\n      <td>18</td>\n    </tr>\n    <tr>\n      <th>14</th>\n      <td>B3</td>\n      <td>A5</td>\n      <td>10</td>\n    </tr>\n    <tr>\n      <th>15</th>\n      <td>B4</td>\n      <td>A1</td>\n      <td>16</td>\n    </tr>\n    <tr>\n      <th>16</th>\n      <td>B4</td>\n      <td>A2</td>\n      <td>4</td>\n    </tr>\n    <tr>\n      <th>17</th>\n      <td>B4</td>\n      <td>A3</td>\n      <td>8</td>\n    </tr>\n    <tr>\n      <th>18</th>\n      <td>B4</td>\n      <td>A4</td>\n      <td>6</td>\n    </tr>\n    <tr>\n      <th>19</th>\n      <td>B4</td>\n      <td>A5</td>\n      <td>18</td>\n    </tr>\n  </tbody>\n</table>\n</div>"
     },
     "execution_count": 12,
     "metadata": {},
     "output_type": "execute_result"
    }
   ],
   "source": [
    "goods = goods.stack().reset_index().rename(columns={0:'value'})\n",
    "goods"
   ]
  },
  {
   "cell_type": "code",
   "execution_count": 13,
   "metadata": {
    "pycharm": {
     "name": "#%%\n"
    }
   },
   "outputs": [
    {
     "data": {
      "text/plain": "            df  sum_sq  mean_sq         F    PR(>F)\nC(A)       4.0   298.8     74.7  3.830769  0.031324\nC(B)       3.0   111.0     37.0  1.897436  0.183889\nResidual  12.0   234.0     19.5       NaN       NaN",
      "text/html": "<div>\n<style scoped>\n    .dataframe tbody tr th:only-of-type {\n        vertical-align: middle;\n    }\n\n    .dataframe tbody tr th {\n        vertical-align: top;\n    }\n\n    .dataframe thead th {\n        text-align: right;\n    }\n</style>\n<table border=\"1\" class=\"dataframe\">\n  <thead>\n    <tr style=\"text-align: right;\">\n      <th></th>\n      <th>df</th>\n      <th>sum_sq</th>\n      <th>mean_sq</th>\n      <th>F</th>\n      <th>PR(&gt;F)</th>\n    </tr>\n  </thead>\n  <tbody>\n    <tr>\n      <th>C(A)</th>\n      <td>4.0</td>\n      <td>298.8</td>\n      <td>74.7</td>\n      <td>3.830769</td>\n      <td>0.031324</td>\n    </tr>\n    <tr>\n      <th>C(B)</th>\n      <td>3.0</td>\n      <td>111.0</td>\n      <td>37.0</td>\n      <td>1.897436</td>\n      <td>0.183889</td>\n    </tr>\n    <tr>\n      <th>Residual</th>\n      <td>12.0</td>\n      <td>234.0</td>\n      <td>19.5</td>\n      <td>NaN</td>\n      <td>NaN</td>\n    </tr>\n  </tbody>\n</table>\n</div>"
     },
     "execution_count": 13,
     "metadata": {},
     "output_type": "execute_result"
    }
   ],
   "source": [
    "goods['value'] = goods['value'].astype(int)\n",
    "model_3 = ols('value ~C(A)+C(B)', goods).fit()\n",
    "anovat_3 = anova_lm(model_3)\n",
    "anovat_3"
   ]
  },
  {
   "cell_type": "markdown",
   "source": [
    "**1.提出假设:** <br>\n",
    "\n",
    "对列因素A： <br>\n",
    "$H_0: \\mu_1 = \\mu_2 = \\mu_3 = \\mu_4 = \\mu_5$  <br>\n",
    "$H_1:\\mu_1,\\mu_2,\\mu_3,\\mu_4,\\mu_5$ 不全相等 <br>\n",
    "\n",
    "对行因素B： <br>\n",
    "$H_0: \\mu_1 = \\mu_2 = \\mu_3 = \\mu_4 $  <br>\n",
    "$H_1:\\mu_1,\\mu_2,\\mu_3,\\mu_4$ 不全相等 <br>\n",
    "<br>\n",
    "**2.进行方差分析** <br>\n",
    "\n",
    "| -  | df |  sum_sq | mean_sq | F | PR(>F) |\n",
    "| --- | ----------- |  --- | ----------- | --- | ----------- |\n",
    "| C(A)  | 4.0\t | 298.8 | 74.7|3.830769 | 0.031324 |\n",
    "| C(B)  | 3.0\t |111.0| 37.0\t|1.897436 | 0.183889 |\n",
    "| Residual | 12.0 | 234.0| 19.5 |  |  |\n",
    "\n",
    "\n",
    "**3.统计决策** <br>\n",
    "\n",
    "\n",
    "对于列因素A，\n",
    "根据P值规则，由于P=0.031324< $\\alpha$ = 0.05 ,故拒绝原假设。即认为不同包装方式对销售量有显著影响。<br>\n",
    "\n",
    "对于行因素B，\n",
    "根据P值规则，由于P=0.183889> $\\alpha$ = 0.05 ,故不拒绝原假设。即认为不同地区对销售量没有显著影响。<br>\n"
   ],
   "metadata": {
    "collapsed": false,
    "pycharm": {
     "name": "#%% md\n"
    }
   }
  },
  {
   "cell_type": "markdown",
   "metadata": {
    "pycharm": {
     "name": "#%% md\n"
    }
   },
   "source": [
    "## 3、例题8-1\n",
    "某店9月和10月的销售价格和销售量的情况如下表所示。每种商品价格和销售量的变动程度不同，3中商品价格和销售量的平均变动程度为？"
   ]
  },
  {
   "cell_type": "code",
   "execution_count": 14,
   "outputs": [
    {
     "data": {
      "text/plain": "    商品种类                                               计量单位    销售量 Unnamed: 3  \\\n0    NaN                                                NaN  9月 q0     10月 q1   \n1      甲                                                  台    220        340   \n2      乙                                                  袋   3400       4270   \n3      丙                                                  件    141        199   \n4    NaN                                                NaN    NaN        NaN   \n5    NaN                                                NaN    NaN        NaN   \n6    NaN                                                NaN    NaN        NaN   \n7    NaN                                                NaN    NaN        NaN   \n8  例8-1：                                                NaN    NaN        NaN   \n9    NaN  某商店从10月1日起开始为期一个月的促销活动。10月的销售统计表明，其中3种商品的销售额比9...    NaN        NaN   \n\n      价格 Unnamed: 5  \n0  9月 p0     10月 p1  \n1    750        680  \n2    150        120  \n3    328        286  \n4    NaN        NaN  \n5    NaN        NaN  \n6    NaN        NaN  \n7    NaN        NaN  \n8    NaN        NaN  \n9    NaN        NaN  ",
      "text/html": "<div>\n<style scoped>\n    .dataframe tbody tr th:only-of-type {\n        vertical-align: middle;\n    }\n\n    .dataframe tbody tr th {\n        vertical-align: top;\n    }\n\n    .dataframe thead th {\n        text-align: right;\n    }\n</style>\n<table border=\"1\" class=\"dataframe\">\n  <thead>\n    <tr style=\"text-align: right;\">\n      <th></th>\n      <th>商品种类</th>\n      <th>计量单位</th>\n      <th>销售量</th>\n      <th>Unnamed: 3</th>\n      <th>价格</th>\n      <th>Unnamed: 5</th>\n    </tr>\n  </thead>\n  <tbody>\n    <tr>\n      <th>0</th>\n      <td>NaN</td>\n      <td>NaN</td>\n      <td>9月 q0</td>\n      <td>10月 q1</td>\n      <td>9月 p0</td>\n      <td>10月 p1</td>\n    </tr>\n    <tr>\n      <th>1</th>\n      <td>甲</td>\n      <td>台</td>\n      <td>220</td>\n      <td>340</td>\n      <td>750</td>\n      <td>680</td>\n    </tr>\n    <tr>\n      <th>2</th>\n      <td>乙</td>\n      <td>袋</td>\n      <td>3400</td>\n      <td>4270</td>\n      <td>150</td>\n      <td>120</td>\n    </tr>\n    <tr>\n      <th>3</th>\n      <td>丙</td>\n      <td>件</td>\n      <td>141</td>\n      <td>199</td>\n      <td>328</td>\n      <td>286</td>\n    </tr>\n    <tr>\n      <th>4</th>\n      <td>NaN</td>\n      <td>NaN</td>\n      <td>NaN</td>\n      <td>NaN</td>\n      <td>NaN</td>\n      <td>NaN</td>\n    </tr>\n    <tr>\n      <th>5</th>\n      <td>NaN</td>\n      <td>NaN</td>\n      <td>NaN</td>\n      <td>NaN</td>\n      <td>NaN</td>\n      <td>NaN</td>\n    </tr>\n    <tr>\n      <th>6</th>\n      <td>NaN</td>\n      <td>NaN</td>\n      <td>NaN</td>\n      <td>NaN</td>\n      <td>NaN</td>\n      <td>NaN</td>\n    </tr>\n    <tr>\n      <th>7</th>\n      <td>NaN</td>\n      <td>NaN</td>\n      <td>NaN</td>\n      <td>NaN</td>\n      <td>NaN</td>\n      <td>NaN</td>\n    </tr>\n    <tr>\n      <th>8</th>\n      <td>例8-1：</td>\n      <td>NaN</td>\n      <td>NaN</td>\n      <td>NaN</td>\n      <td>NaN</td>\n      <td>NaN</td>\n    </tr>\n    <tr>\n      <th>9</th>\n      <td>NaN</td>\n      <td>某商店从10月1日起开始为期一个月的促销活动。10月的销售统计表明，其中3种商品的销售额比9...</td>\n      <td>NaN</td>\n      <td>NaN</td>\n      <td>NaN</td>\n      <td>NaN</td>\n    </tr>\n  </tbody>\n</table>\n</div>"
     },
     "execution_count": 14,
     "metadata": {},
     "output_type": "execute_result"
    }
   ],
   "source": [
    "stock_data = pd.read_excel('指数-例8-1.xlsx')\n",
    "stock_data"
   ],
   "metadata": {
    "collapsed": false,
    "pycharm": {
     "name": "#%%\n"
    }
   }
  },
  {
   "cell_type": "code",
   "execution_count": 15,
   "outputs": [
    {
     "data": {
      "text/plain": "  9月 q0 10月 q1 9月 p0 10月 p1\n甲   220    340   750    680\n乙  3400   4270   150    120\n丙   141    199   328    286",
      "text/html": "<div>\n<style scoped>\n    .dataframe tbody tr th:only-of-type {\n        vertical-align: middle;\n    }\n\n    .dataframe tbody tr th {\n        vertical-align: top;\n    }\n\n    .dataframe thead th {\n        text-align: right;\n    }\n</style>\n<table border=\"1\" class=\"dataframe\">\n  <thead>\n    <tr style=\"text-align: right;\">\n      <th></th>\n      <th>9月 q0</th>\n      <th>10月 q1</th>\n      <th>9月 p0</th>\n      <th>10月 p1</th>\n    </tr>\n  </thead>\n  <tbody>\n    <tr>\n      <th>甲</th>\n      <td>220</td>\n      <td>340</td>\n      <td>750</td>\n      <td>680</td>\n    </tr>\n    <tr>\n      <th>乙</th>\n      <td>3400</td>\n      <td>4270</td>\n      <td>150</td>\n      <td>120</td>\n    </tr>\n    <tr>\n      <th>丙</th>\n      <td>141</td>\n      <td>199</td>\n      <td>328</td>\n      <td>286</td>\n    </tr>\n  </tbody>\n</table>\n</div>"
     },
     "execution_count": 15,
     "metadata": {},
     "output_type": "execute_result"
    }
   ],
   "source": [
    "df3 = stock_data.iloc[1:4,2:7]\n",
    "df3.index = stock_data.iloc[1:4,0].values\n",
    "df3.columns = stock_data.iloc[0,2:7].values\n",
    "df3"
   ],
   "metadata": {
    "collapsed": false,
    "pycharm": {
     "name": "#%%\n"
    }
   }
  },
  {
   "cell_type": "code",
   "execution_count": 16,
   "outputs": [
    {
     "data": {
      "text/plain": "  9月 q0 10月 q1 9月 p0 10月 p1    p0q0    p1q0    p0q1    p1q1\n甲   220    340   750    680  165000  149600  255000  231200\n乙  3400   4270   150    120  510000  408000  640500  512400\n丙   141    199   328    286   46248   40326   65272   56914",
      "text/html": "<div>\n<style scoped>\n    .dataframe tbody tr th:only-of-type {\n        vertical-align: middle;\n    }\n\n    .dataframe tbody tr th {\n        vertical-align: top;\n    }\n\n    .dataframe thead th {\n        text-align: right;\n    }\n</style>\n<table border=\"1\" class=\"dataframe\">\n  <thead>\n    <tr style=\"text-align: right;\">\n      <th></th>\n      <th>9月 q0</th>\n      <th>10月 q1</th>\n      <th>9月 p0</th>\n      <th>10月 p1</th>\n      <th>p0q0</th>\n      <th>p1q0</th>\n      <th>p0q1</th>\n      <th>p1q1</th>\n    </tr>\n  </thead>\n  <tbody>\n    <tr>\n      <th>甲</th>\n      <td>220</td>\n      <td>340</td>\n      <td>750</td>\n      <td>680</td>\n      <td>165000</td>\n      <td>149600</td>\n      <td>255000</td>\n      <td>231200</td>\n    </tr>\n    <tr>\n      <th>乙</th>\n      <td>3400</td>\n      <td>4270</td>\n      <td>150</td>\n      <td>120</td>\n      <td>510000</td>\n      <td>408000</td>\n      <td>640500</td>\n      <td>512400</td>\n    </tr>\n    <tr>\n      <th>丙</th>\n      <td>141</td>\n      <td>199</td>\n      <td>328</td>\n      <td>286</td>\n      <td>46248</td>\n      <td>40326</td>\n      <td>65272</td>\n      <td>56914</td>\n    </tr>\n  </tbody>\n</table>\n</div>"
     },
     "execution_count": 16,
     "metadata": {},
     "output_type": "execute_result"
    }
   ],
   "source": [
    "df3['p0q0'] = [df3.iloc[i,0] * df3.iloc[i,2] for i in range(len(df3))]\n",
    "df3['p1q0'] = [df3.iloc[i,0] * df3.iloc[i,3] for i in range(len(df3))]\n",
    "df3['p0q1'] = [df3.iloc[i,1] * df3.iloc[i,2] for i in range(len(df3))]\n",
    "df3['p1q1'] = [df3.iloc[i,1] * df3.iloc[i,3] for i in range(len(df3))]\n",
    "df3"
   ],
   "metadata": {
    "collapsed": false,
    "pycharm": {
     "name": "#%%\n"
    }
   }
  },
  {
   "cell_type": "code",
   "execution_count": 17,
   "outputs": [
    {
     "name": "stdout",
     "output_type": "stream",
     "text": [
      "拉氏销售量综合指数为133.21%,帕氏销售量综合指数为133.88%。\n",
      "拉氏价格综合指数为82.90%,帕氏价格综合指数为83.32%。 \n"
     ]
    }
   ],
   "source": [
    "q1 = sum(df3['p0q1']) / sum(df3['p0q0'])\n",
    "q2 = sum(df3['p1q1']) / sum(df3['p1q0'])\n",
    "p1 = sum(df3['p1q0']) / sum(df3['p0q0'])\n",
    "p2 = sum(df3['p1q1']) / sum(df3['p0q1'])\n",
    "print(\"拉氏销售量综合指数为{:.2f}%,帕氏销售量综合指数为{:.2f}%。\\n拉氏价格综合指数为{:.2f}%,帕氏价格综合指数为{:.2f}%。 \".format(q1 * 100,q2 * 100,p1 * 100,p2 * 100))"
   ],
   "metadata": {
    "collapsed": false,
    "pycharm": {
     "name": "#%%\n"
    }
   }
  },
  {
   "cell_type": "markdown",
   "source": [
    "销售量 <br>\n",
    "拉氏销售量综合指数表明，在维持基期价格价格水平$p_0$不变的前提下，10月份3中商品的销售量总体**增加了33.21%**，<br>\n",
    "\n",
    "价格 <br>\n",
    "帕氏价格综合指数表明，在报告期销售量$q_1$的水平上，10月份3种商品的价格总体**下降了16.88%**。尽管帕氏价格综合指数没有能够消除销售量自身变动对指数的影响，但从实际应用角度来看，可以用该指数来反映不同价格的综合变动程度。"
   ],
   "metadata": {
    "collapsed": false,
    "pycharm": {
     "name": "#%% md\n"
    }
   }
  },
  {
   "cell_type": "markdown",
   "metadata": {
    "pycharm": {
     "name": "#%% md\n"
    }
   },
   "source": [
    "## 4、计算例题8-2和8-3\n",
    "以加权算术平均指数的形式计算甲、乙、丙3种商品的销售量总指数和价格总指数。"
   ]
  },
  {
   "cell_type": "code",
   "execution_count": 18,
   "outputs": [
    {
     "name": "stdout",
     "output_type": "stream",
     "text": [
      "  9月 q0 10月 q1\n",
      "甲   220    340\n",
      "乙  3400   4270\n",
      "丙   141    199\n",
      "  9月 p0 10月 p1\n",
      "甲   750    680\n",
      "乙   150    120\n",
      "丙   328    286\n"
     ]
    }
   ],
   "source": [
    "data4 = pd.read_excel('指数-例8-2.xlsx')\n",
    "data5 = pd.read_excel('指数-例8-3.xlsx')\n",
    "\n",
    "df4 = data4.iloc[1:4,2:4]\n",
    "df5 = data5.iloc[1:4,2:4]\n",
    "\n",
    "df4.index = data4.iloc[1:4,0].values\n",
    "df4.columns = data4.iloc[0,2:4].values\n",
    "\n",
    "df5.index = data5.iloc[1:4,0].values\n",
    "df5.columns = data5.iloc[0,2:4].values\n",
    "print(df4)\n",
    "print(df5)"
   ],
   "metadata": {
    "collapsed": false,
    "pycharm": {
     "name": "#%%\n"
    }
   }
  },
  {
   "cell_type": "code",
   "execution_count": 19,
   "outputs": [
    {
     "data": {
      "text/plain": "  9月 q0 10月 q1     q1/q0    p0q0  k * p0q0\n甲   220    340  1.545455  165000  255000.0\n乙  3400   4270  1.255882  510000  640500.0\n丙   141    199  1.411348   46248   65272.0",
      "text/html": "<div>\n<style scoped>\n    .dataframe tbody tr th:only-of-type {\n        vertical-align: middle;\n    }\n\n    .dataframe tbody tr th {\n        vertical-align: top;\n    }\n\n    .dataframe thead th {\n        text-align: right;\n    }\n</style>\n<table border=\"1\" class=\"dataframe\">\n  <thead>\n    <tr style=\"text-align: right;\">\n      <th></th>\n      <th>9月 q0</th>\n      <th>10月 q1</th>\n      <th>q1/q0</th>\n      <th>p0q0</th>\n      <th>k * p0q0</th>\n    </tr>\n  </thead>\n  <tbody>\n    <tr>\n      <th>甲</th>\n      <td>220</td>\n      <td>340</td>\n      <td>1.545455</td>\n      <td>165000</td>\n      <td>255000.0</td>\n    </tr>\n    <tr>\n      <th>乙</th>\n      <td>3400</td>\n      <td>4270</td>\n      <td>1.255882</td>\n      <td>510000</td>\n      <td>640500.0</td>\n    </tr>\n    <tr>\n      <th>丙</th>\n      <td>141</td>\n      <td>199</td>\n      <td>1.411348</td>\n      <td>46248</td>\n      <td>65272.0</td>\n    </tr>\n  </tbody>\n</table>\n</div>"
     },
     "execution_count": 19,
     "metadata": {},
     "output_type": "execute_result"
    }
   ],
   "source": [
    "df4['q1/q0'] = [df4.iloc[i,1] / df4.iloc[i,0] for i in range(len(df4))]\n",
    "df4['p0q0'] = [df5.iloc[i,0] * df4.iloc[i,0] for i in range(len(df4))]\n",
    "df4['k * p0q0'] = [df4.iloc[i,2] * df4.iloc[i,3] for i in range(len(df4))]\n",
    "df4"
   ],
   "metadata": {
    "collapsed": false,
    "pycharm": {
     "name": "#%%\n"
    }
   }
  },
  {
   "cell_type": "code",
   "execution_count": 20,
   "outputs": [
    {
     "data": {
      "text/plain": "  9月 p0 10月 p1     p1/p0    p1q1  1/k * p1q1\n甲   750    680  0.906667  231200    255000.0\n乙   150    120  0.800000  512400    640500.0\n丙   328    286  0.871951   56914     65272.0",
      "text/html": "<div>\n<style scoped>\n    .dataframe tbody tr th:only-of-type {\n        vertical-align: middle;\n    }\n\n    .dataframe tbody tr th {\n        vertical-align: top;\n    }\n\n    .dataframe thead th {\n        text-align: right;\n    }\n</style>\n<table border=\"1\" class=\"dataframe\">\n  <thead>\n    <tr style=\"text-align: right;\">\n      <th></th>\n      <th>9月 p0</th>\n      <th>10月 p1</th>\n      <th>p1/p0</th>\n      <th>p1q1</th>\n      <th>1/k * p1q1</th>\n    </tr>\n  </thead>\n  <tbody>\n    <tr>\n      <th>甲</th>\n      <td>750</td>\n      <td>680</td>\n      <td>0.906667</td>\n      <td>231200</td>\n      <td>255000.0</td>\n    </tr>\n    <tr>\n      <th>乙</th>\n      <td>150</td>\n      <td>120</td>\n      <td>0.800000</td>\n      <td>512400</td>\n      <td>640500.0</td>\n    </tr>\n    <tr>\n      <th>丙</th>\n      <td>328</td>\n      <td>286</td>\n      <td>0.871951</td>\n      <td>56914</td>\n      <td>65272.0</td>\n    </tr>\n  </tbody>\n</table>\n</div>"
     },
     "execution_count": 20,
     "metadata": {},
     "output_type": "execute_result"
    }
   ],
   "source": [
    "df5['p1/p0'] = [df5.iloc[i,1] / df5.iloc[i,0] for i in range(len(df5))]\n",
    "df5['p1q1'] = [df5.iloc[i,1] * df4.iloc[i,1] for i in range(len(df5))]\n",
    "df5['1/k * p1q1'] = [df5.iloc[i,3] / df5.iloc[i,2] for i in range(len(df5))]\n",
    "df5"
   ],
   "metadata": {
    "collapsed": false,
    "pycharm": {
     "name": "#%%\n"
    }
   }
  },
  {
   "cell_type": "code",
   "execution_count": 21,
   "outputs": [
    {
     "name": "stdout",
     "output_type": "stream",
     "text": [
      "销售量总指数为：133.21%， 价格总指数为：83.32%\n"
     ]
    }
   ],
   "source": [
    "Iq = sum(df4['k * p0q0']) / sum(df4['p0q0'])\n",
    "Ip = sum(df5['p1q1']) / sum(df5['1/k * p1q1'])\n",
    "print(\"销售量总指数为：{:.2f}%， 价格总指数为：{:.2f}%\".format(Iq * 100,Ip * 100))"
   ],
   "metadata": {
    "collapsed": false,
    "pycharm": {
     "name": "#%%\n"
    }
   }
  },
  {
   "cell_type": "markdown",
   "metadata": {
    "pycharm": {
     "name": "#%% md\n"
    }
   },
   "source": [
    "## 5、Makeup2007\n",
    "Makeup2007中的数据，计算销售量综合指数和价格综合指数，\n",
    "以及销售量指数和价格指数的平均指数。将综合指数和平均指数的结果进行对比。"
   ]
  },
  {
   "cell_type": "code",
   "execution_count": 22,
   "outputs": [
    {
     "data": {
      "text/plain": "      Transaction number      Name   Date     Product  Units     Dollars  \\\n0                      1     Betsy  38078   lip gloss     45  137.204558   \n1                      2  Hallagan  38056  foundation     50  152.007303   \n2                      3    Ashley  38408    lipstick      9   28.719483   \n3                      4  Hallagan  38859   lip gloss     55  167.075323   \n4                      5     Zaret  38155   lip gloss     43  130.602872   \n...                  ...       ...    ...         ...    ...         ...   \n1699                1887    Ashley  38397  foundation     36  109.842599   \n1700                1888   Colleen  38661   lip gloss     46  140.408899   \n1701                1889     Zaret  38001    lipstick     72  217.835886   \n1702                1890  Hallagan  39024   eye liner     28   85.656830   \n1703                1891  Cristina  38881   eye liner     54  164.487334   \n\n     Location  \n0       south  \n1     midwest  \n2     midwest  \n3        west  \n4     midwest  \n...       ...  \n1699     east  \n1700     west  \n1701     west  \n1702    south  \n1703  midwest  \n\n[1704 rows x 7 columns]",
      "text/html": "<div>\n<style scoped>\n    .dataframe tbody tr th:only-of-type {\n        vertical-align: middle;\n    }\n\n    .dataframe tbody tr th {\n        vertical-align: top;\n    }\n\n    .dataframe thead th {\n        text-align: right;\n    }\n</style>\n<table border=\"1\" class=\"dataframe\">\n  <thead>\n    <tr style=\"text-align: right;\">\n      <th></th>\n      <th>Transaction number</th>\n      <th>Name</th>\n      <th>Date</th>\n      <th>Product</th>\n      <th>Units</th>\n      <th>Dollars</th>\n      <th>Location</th>\n    </tr>\n  </thead>\n  <tbody>\n    <tr>\n      <th>0</th>\n      <td>1</td>\n      <td>Betsy</td>\n      <td>38078</td>\n      <td>lip gloss</td>\n      <td>45</td>\n      <td>137.204558</td>\n      <td>south</td>\n    </tr>\n    <tr>\n      <th>1</th>\n      <td>2</td>\n      <td>Hallagan</td>\n      <td>38056</td>\n      <td>foundation</td>\n      <td>50</td>\n      <td>152.007303</td>\n      <td>midwest</td>\n    </tr>\n    <tr>\n      <th>2</th>\n      <td>3</td>\n      <td>Ashley</td>\n      <td>38408</td>\n      <td>lipstick</td>\n      <td>9</td>\n      <td>28.719483</td>\n      <td>midwest</td>\n    </tr>\n    <tr>\n      <th>3</th>\n      <td>4</td>\n      <td>Hallagan</td>\n      <td>38859</td>\n      <td>lip gloss</td>\n      <td>55</td>\n      <td>167.075323</td>\n      <td>west</td>\n    </tr>\n    <tr>\n      <th>4</th>\n      <td>5</td>\n      <td>Zaret</td>\n      <td>38155</td>\n      <td>lip gloss</td>\n      <td>43</td>\n      <td>130.602872</td>\n      <td>midwest</td>\n    </tr>\n    <tr>\n      <th>...</th>\n      <td>...</td>\n      <td>...</td>\n      <td>...</td>\n      <td>...</td>\n      <td>...</td>\n      <td>...</td>\n      <td>...</td>\n    </tr>\n    <tr>\n      <th>1699</th>\n      <td>1887</td>\n      <td>Ashley</td>\n      <td>38397</td>\n      <td>foundation</td>\n      <td>36</td>\n      <td>109.842599</td>\n      <td>east</td>\n    </tr>\n    <tr>\n      <th>1700</th>\n      <td>1888</td>\n      <td>Colleen</td>\n      <td>38661</td>\n      <td>lip gloss</td>\n      <td>46</td>\n      <td>140.408899</td>\n      <td>west</td>\n    </tr>\n    <tr>\n      <th>1701</th>\n      <td>1889</td>\n      <td>Zaret</td>\n      <td>38001</td>\n      <td>lipstick</td>\n      <td>72</td>\n      <td>217.835886</td>\n      <td>west</td>\n    </tr>\n    <tr>\n      <th>1702</th>\n      <td>1890</td>\n      <td>Hallagan</td>\n      <td>39024</td>\n      <td>eye liner</td>\n      <td>28</td>\n      <td>85.656830</td>\n      <td>south</td>\n    </tr>\n    <tr>\n      <th>1703</th>\n      <td>1891</td>\n      <td>Cristina</td>\n      <td>38881</td>\n      <td>eye liner</td>\n      <td>54</td>\n      <td>164.487334</td>\n      <td>midwest</td>\n    </tr>\n  </tbody>\n</table>\n<p>1704 rows × 7 columns</p>\n</div>"
     },
     "execution_count": 22,
     "metadata": {},
     "output_type": "execute_result"
    }
   ],
   "source": [
    "makeup = pd.read_excel('Makeup2007.xls',skiprows=2)\n",
    "makeup = makeup.iloc[:,2:]\n",
    "makeup"
   ],
   "metadata": {
    "collapsed": false,
    "pycharm": {
     "name": "#%%\n"
    }
   }
  },
  {
   "cell_type": "code",
   "execution_count": 23,
   "outputs": [
    {
     "name": "stdout",
     "output_type": "stream",
     "text": [
      "38540\n"
     ]
    },
    {
     "data": {
      "text/plain": "     Time     Product  Units     Dollars\n0       0   lip gloss     45  137.204558\n1       0  foundation     50  152.007303\n2       0    lipstick      9   28.719483\n3       1   lip gloss     55  167.075323\n4       0   lip gloss     43  130.602872\n...   ...         ...    ...         ...\n1699    0  foundation     36  109.842599\n1700    1   lip gloss     46  140.408899\n1701    0    lipstick     72  217.835886\n1702    1   eye liner     28   85.656830\n1703    1   eye liner     54  164.487334\n\n[1704 rows x 4 columns]",
      "text/html": "<div>\n<style scoped>\n    .dataframe tbody tr th:only-of-type {\n        vertical-align: middle;\n    }\n\n    .dataframe tbody tr th {\n        vertical-align: top;\n    }\n\n    .dataframe thead th {\n        text-align: right;\n    }\n</style>\n<table border=\"1\" class=\"dataframe\">\n  <thead>\n    <tr style=\"text-align: right;\">\n      <th></th>\n      <th>Time</th>\n      <th>Product</th>\n      <th>Units</th>\n      <th>Dollars</th>\n    </tr>\n  </thead>\n  <tbody>\n    <tr>\n      <th>0</th>\n      <td>0</td>\n      <td>lip gloss</td>\n      <td>45</td>\n      <td>137.204558</td>\n    </tr>\n    <tr>\n      <th>1</th>\n      <td>0</td>\n      <td>foundation</td>\n      <td>50</td>\n      <td>152.007303</td>\n    </tr>\n    <tr>\n      <th>2</th>\n      <td>0</td>\n      <td>lipstick</td>\n      <td>9</td>\n      <td>28.719483</td>\n    </tr>\n    <tr>\n      <th>3</th>\n      <td>1</td>\n      <td>lip gloss</td>\n      <td>55</td>\n      <td>167.075323</td>\n    </tr>\n    <tr>\n      <th>4</th>\n      <td>0</td>\n      <td>lip gloss</td>\n      <td>43</td>\n      <td>130.602872</td>\n    </tr>\n    <tr>\n      <th>...</th>\n      <td>...</td>\n      <td>...</td>\n      <td>...</td>\n      <td>...</td>\n    </tr>\n    <tr>\n      <th>1699</th>\n      <td>0</td>\n      <td>foundation</td>\n      <td>36</td>\n      <td>109.842599</td>\n    </tr>\n    <tr>\n      <th>1700</th>\n      <td>1</td>\n      <td>lip gloss</td>\n      <td>46</td>\n      <td>140.408899</td>\n    </tr>\n    <tr>\n      <th>1701</th>\n      <td>0</td>\n      <td>lipstick</td>\n      <td>72</td>\n      <td>217.835886</td>\n    </tr>\n    <tr>\n      <th>1702</th>\n      <td>1</td>\n      <td>eye liner</td>\n      <td>28</td>\n      <td>85.656830</td>\n    </tr>\n    <tr>\n      <th>1703</th>\n      <td>1</td>\n      <td>eye liner</td>\n      <td>54</td>\n      <td>164.487334</td>\n    </tr>\n  </tbody>\n</table>\n<p>1704 rows × 4 columns</p>\n</div>"
     },
     "execution_count": 23,
     "metadata": {},
     "output_type": "execute_result"
    }
   ],
   "source": [
    "date = sorted(makeup['Date'].unique())\n",
    "mid_time = date[len(date) // 2]\n",
    "print(mid_time) # 38540\n",
    "\n",
    "# 将所有时间分为两段\n",
    "def address_time(t):\n",
    "    if t <= mid_time:\n",
    "        return \"0\"\n",
    "    else:\n",
    "        return \"1\"\n",
    "\n",
    "makeup['Time'] = makeup['Date'].apply(address_time)\n",
    "\n",
    "df6 = makeup[['Time','Product','Units','Dollars']]\n",
    "df6"
   ],
   "metadata": {
    "collapsed": false,
    "pycharm": {
     "name": "#%%\n"
    }
   }
  },
  {
   "cell_type": "code",
   "execution_count": 24,
   "outputs": [
    {
     "data": {
      "text/plain": "                 Dollars               Units      \nTime                   0             1     0     1\nProduct                                           \neye liner   30422.385570  26381.512499  9994  8675\nfoundation  27968.198120  27677.628859  9192  9106\nlip gloss   25808.319788  24533.106539  8475  8059\nlipstick    16024.297254  11100.630698  5267  3649\nmascara     28148.657445  24220.511675  9253  7955",
      "text/html": "<div>\n<style scoped>\n    .dataframe tbody tr th:only-of-type {\n        vertical-align: middle;\n    }\n\n    .dataframe tbody tr th {\n        vertical-align: top;\n    }\n\n    .dataframe thead tr th {\n        text-align: left;\n    }\n\n    .dataframe thead tr:last-of-type th {\n        text-align: right;\n    }\n</style>\n<table border=\"1\" class=\"dataframe\">\n  <thead>\n    <tr>\n      <th></th>\n      <th colspan=\"2\" halign=\"left\">Dollars</th>\n      <th colspan=\"2\" halign=\"left\">Units</th>\n    </tr>\n    <tr>\n      <th>Time</th>\n      <th>0</th>\n      <th>1</th>\n      <th>0</th>\n      <th>1</th>\n    </tr>\n    <tr>\n      <th>Product</th>\n      <th></th>\n      <th></th>\n      <th></th>\n      <th></th>\n    </tr>\n  </thead>\n  <tbody>\n    <tr>\n      <th>eye liner</th>\n      <td>30422.385570</td>\n      <td>26381.512499</td>\n      <td>9994</td>\n      <td>8675</td>\n    </tr>\n    <tr>\n      <th>foundation</th>\n      <td>27968.198120</td>\n      <td>27677.628859</td>\n      <td>9192</td>\n      <td>9106</td>\n    </tr>\n    <tr>\n      <th>lip gloss</th>\n      <td>25808.319788</td>\n      <td>24533.106539</td>\n      <td>8475</td>\n      <td>8059</td>\n    </tr>\n    <tr>\n      <th>lipstick</th>\n      <td>16024.297254</td>\n      <td>11100.630698</td>\n      <td>5267</td>\n      <td>3649</td>\n    </tr>\n    <tr>\n      <th>mascara</th>\n      <td>28148.657445</td>\n      <td>24220.511675</td>\n      <td>9253</td>\n      <td>7955</td>\n    </tr>\n  </tbody>\n</table>\n</div>"
     },
     "execution_count": 24,
     "metadata": {},
     "output_type": "execute_result"
    }
   ],
   "source": [
    "df7 = pd.pivot_table(df6,values=['Units','Dollars'],index=['Product'],columns=['Time'],aggfunc='sum')\n",
    "df7"
   ],
   "metadata": {
    "collapsed": false,
    "pycharm": {
     "name": "#%%\n"
    }
   }
  },
  {
   "cell_type": "code",
   "execution_count": 25,
   "outputs": [
    {
     "name": "stdout",
     "output_type": "stream",
     "text": [
      "拉氏销售量综合指数为89.71%, 帕氏价格综合指数为90.37%\n"
     ]
    }
   ],
   "source": [
    "p0q1 = sum([p0 * q1 for p0, q1 in zip(df7['Dollars']['0'],df7['Units']['1'])])\n",
    "p0q0 = sum([p0 * q0 for p0, q0 in zip(df7['Dollars']['0'],df7['Units']['0'])])\n",
    "\n",
    "p1q1 = sum([p1 * q1 for p1, q1 in zip(df7['Dollars']['1'],df7['Units']['1'])])\n",
    "p1q0 = sum([p1 * q0 for p1, q0 in zip(df7['Dollars']['1'],df7['Units']['0'])])\n",
    "\n",
    "sell_l =  p0q1 / p0q0 # 拉氏销售量\n",
    "price_p = p1q1 / p0q1 # 帕氏价格\n",
    "print(\"拉氏销售量综合指数为{:.2f}%, 帕氏价格综合指数为{:.2f}%\".format(sell_l * 100, price_p * 100))"
   ],
   "metadata": {
    "collapsed": false,
    "pycharm": {
     "name": "#%%\n"
    }
   }
  },
  {
   "cell_type": "code",
   "execution_count": 26,
   "outputs": [
    {
     "name": "stdout",
     "output_type": "stream",
     "text": [
      "销售量平均指数为89.71%, 价格平均指数为90.37%\n"
     ]
    }
   ],
   "source": [
    "k_p0_q0 = sum([k * p0 * q0 for k, p0, q0 in zip(df7['Units']['1'] / df7['Units']['0'],df7['Dollars']['0'],df7['Units']['0'])])\n",
    "p1q1_k = sum([(1 / k) * p1 * q1 for k, p1, q1 in zip(df7['Dollars']['1'] / df7['Dollars']['0'],df7['Dollars']['1'],df7['Units']['1'])])\n",
    "sell_avg = k_p0_q0 / p0q0\n",
    "price_avg = p1q1 / p1q1_k\n",
    "print(\"销售量平均指数为{:.2f}%, 价格平均指数为{:.2f}%\".format(sell_avg * 100, price_avg * 100))"
   ],
   "metadata": {
    "collapsed": false,
    "pycharm": {
     "name": "#%%\n"
    }
   }
  },
  {
   "cell_type": "markdown",
   "source": [
    "由于使用了全面的资料，故计算得到的综合指数和平均指数的结果具有一致性。"
   ],
   "metadata": {
    "collapsed": false,
    "pycharm": {
     "name": "#%% md\n"
    }
   }
  }
 ],
 "metadata": {
  "kernelspec": {
   "display_name": "Python 3 (ipykernel)",
   "language": "python",
   "name": "python3"
  },
  "language_info": {
   "codemirror_mode": {
    "name": "ipython",
    "version": 3
   },
   "file_extension": ".py",
   "mimetype": "text/x-python",
   "name": "python",
   "nbconvert_exporter": "python",
   "pygments_lexer": "ipython3",
   "version": "3.8.2"
  }
 },
 "nbformat": 4,
 "nbformat_minor": 1
}