{
 "cells": [
  {
   "cell_type": "markdown",
   "metadata": {
    "id": "G0QOuMy0xow2"
   },
   "source": [
    "# 实验1"
   ]
  },
  {
   "cell_type": "markdown",
   "metadata": {
    "id": "kHDKMaC_x5QK"
   },
   "source": [
    "## 0.数据导入"
   ]
  },
  {
   "cell_type": "code",
   "execution_count": 96,
   "metadata": {
    "colab": {
     "base_uri": "https://localhost:8080/"
    },
    "id": "SwbXoPqntmtz",
    "outputId": "9f4bae5f-0601-4a03-dbf1-2de1a1faf1de"
   },
   "outputs": [
    {
     "name": "stdout",
     "output_type": "stream",
     "text": [
      "   编号   满意度  代码\n",
      "0   1  比较满意   4\n",
      "1   2  非常满意   5\n",
      "2   3  比较满意   4\n",
      "3   4  非常满意   5\n",
      "4   5  非常满意   5\n",
      "   编号    工资\n",
      "0  27  2300\n",
      "1  13  2400\n",
      "2  11  2500\n",
      "3  30  2500\n",
      "4  44  2600\n",
      "   编号 等红灯的时候做什么  代码\n",
      "0   1    静静等待红灯   7\n",
      "1   2    静静等待红灯   7\n",
      "2   3       打电话   2\n",
      "3   4    静静等待红灯   7\n",
      "4   5       听音乐   5\n"
     ]
    }
   ],
   "source": [
    "\n",
    "import pandas as pd\n",
    "\n",
    "data = pd.read_excel('1、第3章 数据整理与显示.xls',None)\n",
    "sheets = data.keys()\n",
    "sheets\n",
    "\n",
    "sheet1_satisfication = data['满意度']\n",
    "sheet2_wage = data['工资']\n",
    "sheet3_satisfication = data['等红灯']\n",
    "print(sheet1_satisfication.head())\n",
    "print(sheet2_wage.head())\n",
    "print(sheet3_satisfication.head())"
   ]
  },
  {
   "cell_type": "markdown",
   "metadata": {
    "id": "Lj56EjiDyNS0"
   },
   "source": [
    "## 1.分类汇总、数据透视表、直方图、频数编制"
   ]
  },
  {
   "cell_type": "markdown",
   "metadata": {
    "id": "-ZVtOF6_ydcg"
   },
   "source": [
    "### 1.1分类汇总"
   ]
  },
  {
   "cell_type": "code",
   "execution_count": 97,
   "metadata": {
    "colab": {
     "base_uri": "https://localhost:8080/",
     "height": 238
    },
    "id": "wUyTFUtUyMsp",
    "outputId": "3abc91d1-0e24-4d8a-ead1-210e95ccfbd5"
   },
   "outputs": [
    {
     "data": {
      "text/plain": "           汇总\n代码 满意度       \n1  非常不满意    4\n2  比较不满意   31\n3  一般      56\n4  比较满意   132\n5  非常满意    77",
      "text/html": "<div>\n<style scoped>\n    .dataframe tbody tr th:only-of-type {\n        vertical-align: middle;\n    }\n\n    .dataframe tbody tr th {\n        vertical-align: top;\n    }\n\n    .dataframe thead th {\n        text-align: right;\n    }\n</style>\n<table border=\"1\" class=\"dataframe\">\n  <thead>\n    <tr style=\"text-align: right;\">\n      <th></th>\n      <th></th>\n      <th>汇总</th>\n    </tr>\n    <tr>\n      <th>代码</th>\n      <th>满意度</th>\n      <th></th>\n    </tr>\n  </thead>\n  <tbody>\n    <tr>\n      <th>1</th>\n      <th>非常不满意</th>\n      <td>4</td>\n    </tr>\n    <tr>\n      <th>2</th>\n      <th>比较不满意</th>\n      <td>31</td>\n    </tr>\n    <tr>\n      <th>3</th>\n      <th>一般</th>\n      <td>56</td>\n    </tr>\n    <tr>\n      <th>4</th>\n      <th>比较满意</th>\n      <td>132</td>\n    </tr>\n    <tr>\n      <th>5</th>\n      <th>非常满意</th>\n      <td>77</td>\n    </tr>\n  </tbody>\n</table>\n</div>"
     },
     "execution_count": 97,
     "metadata": {},
     "output_type": "execute_result"
    }
   ],
   "source": [
    "s1 = sheet1_satisfication.groupby(['代码','满意度']).count()\n",
    "s1.columns = ['汇总']\n",
    "s1"
   ]
  },
  {
   "cell_type": "code",
   "execution_count": 98,
   "metadata": {
    "colab": {
     "base_uri": "https://localhost:8080/",
     "height": 1000
    },
    "id": "MGe_pD9u3hkc",
    "outputId": "56a208db-6050-4132-e4a0-c139ee9d59e1"
   },
   "outputs": [
    {
     "data": {
      "text/plain": "       频数\n工资       \n2300    1\n2400    1\n2500    2\n2600    1\n2700    2\n2800    1\n3000    2\n3100    1\n3300    1\n3400    2\n3500    2\n3600    1\n3700    1\n3800    1\n4100    1\n4400    1\n4500    1\n4600    2\n4700    1\n4900    3\n5000    1\n5200    1\n5400    1\n5500    1\n5700    1\n5800    1\n6000    1\n6300    1\n6400    1\n6500    1\n7500    1\n7900    1\n8200    1\n8900    1\n9400    1\n11700   1\n12999   1",
      "text/html": "<div>\n<style scoped>\n    .dataframe tbody tr th:only-of-type {\n        vertical-align: middle;\n    }\n\n    .dataframe tbody tr th {\n        vertical-align: top;\n    }\n\n    .dataframe thead th {\n        text-align: right;\n    }\n</style>\n<table border=\"1\" class=\"dataframe\">\n  <thead>\n    <tr style=\"text-align: right;\">\n      <th></th>\n      <th>频数</th>\n    </tr>\n    <tr>\n      <th>工资</th>\n      <th></th>\n    </tr>\n  </thead>\n  <tbody>\n    <tr>\n      <th>2300</th>\n      <td>1</td>\n    </tr>\n    <tr>\n      <th>2400</th>\n      <td>1</td>\n    </tr>\n    <tr>\n      <th>2500</th>\n      <td>2</td>\n    </tr>\n    <tr>\n      <th>2600</th>\n      <td>1</td>\n    </tr>\n    <tr>\n      <th>2700</th>\n      <td>2</td>\n    </tr>\n    <tr>\n      <th>2800</th>\n      <td>1</td>\n    </tr>\n    <tr>\n      <th>3000</th>\n      <td>2</td>\n    </tr>\n    <tr>\n      <th>3100</th>\n      <td>1</td>\n    </tr>\n    <tr>\n      <th>3300</th>\n      <td>1</td>\n    </tr>\n    <tr>\n      <th>3400</th>\n      <td>2</td>\n    </tr>\n    <tr>\n      <th>3500</th>\n      <td>2</td>\n    </tr>\n    <tr>\n      <th>3600</th>\n      <td>1</td>\n    </tr>\n    <tr>\n      <th>3700</th>\n      <td>1</td>\n    </tr>\n    <tr>\n      <th>3800</th>\n      <td>1</td>\n    </tr>\n    <tr>\n      <th>4100</th>\n      <td>1</td>\n    </tr>\n    <tr>\n      <th>4400</th>\n      <td>1</td>\n    </tr>\n    <tr>\n      <th>4500</th>\n      <td>1</td>\n    </tr>\n    <tr>\n      <th>4600</th>\n      <td>2</td>\n    </tr>\n    <tr>\n      <th>4700</th>\n      <td>1</td>\n    </tr>\n    <tr>\n      <th>4900</th>\n      <td>3</td>\n    </tr>\n    <tr>\n      <th>5000</th>\n      <td>1</td>\n    </tr>\n    <tr>\n      <th>5200</th>\n      <td>1</td>\n    </tr>\n    <tr>\n      <th>5400</th>\n      <td>1</td>\n    </tr>\n    <tr>\n      <th>5500</th>\n      <td>1</td>\n    </tr>\n    <tr>\n      <th>5700</th>\n      <td>1</td>\n    </tr>\n    <tr>\n      <th>5800</th>\n      <td>1</td>\n    </tr>\n    <tr>\n      <th>6000</th>\n      <td>1</td>\n    </tr>\n    <tr>\n      <th>6300</th>\n      <td>1</td>\n    </tr>\n    <tr>\n      <th>6400</th>\n      <td>1</td>\n    </tr>\n    <tr>\n      <th>6500</th>\n      <td>1</td>\n    </tr>\n    <tr>\n      <th>7500</th>\n      <td>1</td>\n    </tr>\n    <tr>\n      <th>7900</th>\n      <td>1</td>\n    </tr>\n    <tr>\n      <th>8200</th>\n      <td>1</td>\n    </tr>\n    <tr>\n      <th>8900</th>\n      <td>1</td>\n    </tr>\n    <tr>\n      <th>9400</th>\n      <td>1</td>\n    </tr>\n    <tr>\n      <th>11700</th>\n      <td>1</td>\n    </tr>\n    <tr>\n      <th>12999</th>\n      <td>1</td>\n    </tr>\n  </tbody>\n</table>\n</div>"
     },
     "execution_count": 98,
     "metadata": {},
     "output_type": "execute_result"
    }
   ],
   "source": [
    "s2 = sheet2_wage.groupby('工资').count()\n",
    "s2.columns = ['频数']\n",
    "s2"
   ]
  },
  {
   "cell_type": "code",
   "execution_count": 99,
   "metadata": {
    "colab": {
     "base_uri": "https://localhost:8080/",
     "height": 331
    },
    "id": "k6uwMYfl1s9S",
    "outputId": "cedab6e1-75db-4055-bca9-2d1e5e22fc73"
   },
   "outputs": [
    {
     "data": {
      "text/plain": "                计数\n代码 等红灯的时候做什么      \n1  拿出手机，无目的地翻看  13\n2  打电话           6\n3  手机上网          6\n4  手机打游戏         2\n5  听音乐           7\n6  看报纸、杂志等       2\n7  静静等待红灯       85\n8  其他            5",
      "text/html": "<div>\n<style scoped>\n    .dataframe tbody tr th:only-of-type {\n        vertical-align: middle;\n    }\n\n    .dataframe tbody tr th {\n        vertical-align: top;\n    }\n\n    .dataframe thead th {\n        text-align: right;\n    }\n</style>\n<table border=\"1\" class=\"dataframe\">\n  <thead>\n    <tr style=\"text-align: right;\">\n      <th></th>\n      <th></th>\n      <th>计数</th>\n    </tr>\n    <tr>\n      <th>代码</th>\n      <th>等红灯的时候做什么</th>\n      <th></th>\n    </tr>\n  </thead>\n  <tbody>\n    <tr>\n      <th>1</th>\n      <th>拿出手机，无目的地翻看</th>\n      <td>13</td>\n    </tr>\n    <tr>\n      <th>2</th>\n      <th>打电话</th>\n      <td>6</td>\n    </tr>\n    <tr>\n      <th>3</th>\n      <th>手机上网</th>\n      <td>6</td>\n    </tr>\n    <tr>\n      <th>4</th>\n      <th>手机打游戏</th>\n      <td>2</td>\n    </tr>\n    <tr>\n      <th>5</th>\n      <th>听音乐</th>\n      <td>7</td>\n    </tr>\n    <tr>\n      <th>6</th>\n      <th>看报纸、杂志等</th>\n      <td>2</td>\n    </tr>\n    <tr>\n      <th>7</th>\n      <th>静静等待红灯</th>\n      <td>85</td>\n    </tr>\n    <tr>\n      <th>8</th>\n      <th>其他</th>\n      <td>5</td>\n    </tr>\n  </tbody>\n</table>\n</div>"
     },
     "execution_count": 99,
     "metadata": {},
     "output_type": "execute_result"
    }
   ],
   "source": [
    "s3 = sheet3_satisfication.groupby(['代码','等红灯的时候做什么']).count()\n",
    "s3.columns = ['计数']\n",
    "s3"
   ]
  },
  {
   "cell_type": "markdown",
   "metadata": {
    "id": "lDpSZ0csxjr7"
   },
   "source": [
    "### 1.2数据透视表"
   ]
  },
  {
   "cell_type": "code",
   "execution_count": 100,
   "metadata": {
    "colab": {
     "base_uri": "https://localhost:8080/",
     "height": 269
    },
    "id": "S5iqcHoEyxoR",
    "outputId": "fc9253c0-00bd-46c9-8e54-44e4f1c7aef9"
   },
   "outputs": [
    {
     "data": {
      "text/plain": "        汇总\n满意度       \n非常不满意    4\n比较不满意   31\n一般      56\n比较满意   132\n非常满意    77\n总计     300",
      "text/html": "<div>\n<style scoped>\n    .dataframe tbody tr th:only-of-type {\n        vertical-align: middle;\n    }\n\n    .dataframe tbody tr th {\n        vertical-align: top;\n    }\n\n    .dataframe thead th {\n        text-align: right;\n    }\n</style>\n<table border=\"1\" class=\"dataframe\">\n  <thead>\n    <tr style=\"text-align: right;\">\n      <th></th>\n      <th>汇总</th>\n    </tr>\n    <tr>\n      <th>满意度</th>\n      <th></th>\n    </tr>\n  </thead>\n  <tbody>\n    <tr>\n      <th>非常不满意</th>\n      <td>4</td>\n    </tr>\n    <tr>\n      <th>比较不满意</th>\n      <td>31</td>\n    </tr>\n    <tr>\n      <th>一般</th>\n      <td>56</td>\n    </tr>\n    <tr>\n      <th>比较满意</th>\n      <td>132</td>\n    </tr>\n    <tr>\n      <th>非常满意</th>\n      <td>77</td>\n    </tr>\n    <tr>\n      <th>总计</th>\n      <td>300</td>\n    </tr>\n  </tbody>\n</table>\n</div>"
     },
     "execution_count": 100,
     "metadata": {},
     "output_type": "execute_result"
    }
   ],
   "source": [
    "df1 = s1\n",
    "df1.index = s1.index.droplevel()\n",
    "df1.loc['总计'] = df1['汇总'].agg('sum')\n",
    "df1"
   ]
  },
  {
   "cell_type": "code",
   "execution_count": 101,
   "metadata": {
    "colab": {
     "base_uri": "https://localhost:8080/",
     "height": 300
    },
    "id": "PSgSs3bk2fvY",
    "outputId": "f51960ca-65bb-4b4b-e770-c727df502c9f"
   },
   "outputs": [
    {
     "data": {
      "text/plain": "            人数\n2500以下       2\n2500-4000   17\n4000-5500   12\n5500-7000    7\n7000-8500    3\n8500-10000   2\n10000以上      2\n总计          45",
      "text/html": "<div>\n<style scoped>\n    .dataframe tbody tr th:only-of-type {\n        vertical-align: middle;\n    }\n\n    .dataframe tbody tr th {\n        vertical-align: top;\n    }\n\n    .dataframe thead th {\n        text-align: right;\n    }\n</style>\n<table border=\"1\" class=\"dataframe\">\n  <thead>\n    <tr style=\"text-align: right;\">\n      <th></th>\n      <th>人数</th>\n    </tr>\n  </thead>\n  <tbody>\n    <tr>\n      <th>2500以下</th>\n      <td>2</td>\n    </tr>\n    <tr>\n      <th>2500-4000</th>\n      <td>17</td>\n    </tr>\n    <tr>\n      <th>4000-5500</th>\n      <td>12</td>\n    </tr>\n    <tr>\n      <th>5500-7000</th>\n      <td>7</td>\n    </tr>\n    <tr>\n      <th>7000-8500</th>\n      <td>3</td>\n    </tr>\n    <tr>\n      <th>8500-10000</th>\n      <td>2</td>\n    </tr>\n    <tr>\n      <th>10000以上</th>\n      <td>2</td>\n    </tr>\n    <tr>\n      <th>总计</th>\n      <td>45</td>\n    </tr>\n  </tbody>\n</table>\n</div>"
     },
     "execution_count": 101,
     "metadata": {},
     "output_type": "execute_result"
    }
   ],
   "source": [
    "bins = [0,2500,4000,5500,7000,8500,10000,1000000]\n",
    "labels = ['2500以下','2500-4000','4000-5500','5500-7000','7000-8500','8500-10000','10000以上']\n",
    "df2 = pd.cut(sheet2_wage['工资'],bins,right=False,labels=labels)\n",
    "df2 = pd.DataFrame(df2.value_counts(sort=False))  # sort=False 防止2500以下跑到中间去.（buzhi\n",
    "df2.columns = ['人数']\n",
    "df2.loc['总计'] = df2['人数'].agg('sum')\n",
    "df2"
   ]
  },
  {
   "cell_type": "code",
   "execution_count": 102,
   "metadata": {
    "colab": {
     "base_uri": "https://localhost:8080/",
     "height": 363
    },
    "id": "bc42duzbKHqW",
    "outputId": "ddf71e5e-44f0-40e9-8e3d-e524b379b244"
   },
   "outputs": [
    {
     "data": {
      "text/plain": "              计数\n等红灯的时候做什么       \n拿出手机，无目的地翻看   13\n打电话            6\n手机上网           6\n手机打游戏          2\n听音乐            7\n看报纸、杂志等        2\n静静等待红灯        85\n其他             5\n总计           126",
      "text/html": "<div>\n<style scoped>\n    .dataframe tbody tr th:only-of-type {\n        vertical-align: middle;\n    }\n\n    .dataframe tbody tr th {\n        vertical-align: top;\n    }\n\n    .dataframe thead th {\n        text-align: right;\n    }\n</style>\n<table border=\"1\" class=\"dataframe\">\n  <thead>\n    <tr style=\"text-align: right;\">\n      <th></th>\n      <th>计数</th>\n    </tr>\n    <tr>\n      <th>等红灯的时候做什么</th>\n      <th></th>\n    </tr>\n  </thead>\n  <tbody>\n    <tr>\n      <th>拿出手机，无目的地翻看</th>\n      <td>13</td>\n    </tr>\n    <tr>\n      <th>打电话</th>\n      <td>6</td>\n    </tr>\n    <tr>\n      <th>手机上网</th>\n      <td>6</td>\n    </tr>\n    <tr>\n      <th>手机打游戏</th>\n      <td>2</td>\n    </tr>\n    <tr>\n      <th>听音乐</th>\n      <td>7</td>\n    </tr>\n    <tr>\n      <th>看报纸、杂志等</th>\n      <td>2</td>\n    </tr>\n    <tr>\n      <th>静静等待红灯</th>\n      <td>85</td>\n    </tr>\n    <tr>\n      <th>其他</th>\n      <td>5</td>\n    </tr>\n    <tr>\n      <th>总计</th>\n      <td>126</td>\n    </tr>\n  </tbody>\n</table>\n</div>"
     },
     "execution_count": 102,
     "metadata": {},
     "output_type": "execute_result"
    }
   ],
   "source": [
    "df3 = s3\n",
    "df3.index = s3.index.droplevel()\n",
    "df3.loc['总计'] = df3['计数'].agg('sum')\n",
    "df3"
   ]
  },
  {
   "cell_type": "markdown",
   "metadata": {
    "id": "VxXobWwlyn6v"
   },
   "source": [
    "### 1.3直方图"
   ]
  },
  {
   "cell_type": "code",
   "execution_count": 103,
   "metadata": {
    "colab": {
     "base_uri": "https://localhost:8080/",
     "height": 1000
    },
    "id": "-0G_D8e_yyHC",
    "outputId": "75823eda-563c-41a5-984f-6c7bb33ec09f"
   },
   "outputs": [],
   "source": [
    "import matplotlib.pyplot as plt\n",
    "from pylab import mpl\n",
    "mpl.rcParams['font.sans-serif'] = ['Microsoft YaHei'] # 指定默认字体\n",
    "mpl.rcParams['axes.unicode_minus'] = False # 解决保存图像是负号'-'显示为方块的问题"
   ]
  },
  {
   "cell_type": "code",
   "execution_count": 104,
   "metadata": {
    "pycharm": {
     "name": "#%%\n"
    }
   },
   "outputs": [
    {
     "data": {
      "text/plain": "(array([0, 1, 2, 3, 4]),\n [Text(0, 0, '非常不满意'),\n  Text(1, 0, '比较不满意'),\n  Text(2, 0, '一般'),\n  Text(3, 0, '比较满意'),\n  Text(4, 0, '非常满意')])"
     },
     "execution_count": 104,
     "metadata": {},
     "output_type": "execute_result"
    },
    {
     "data": {
      "text/plain": "<Figure size 432x288 with 1 Axes>",
      "image/png": "[encoded data removed]"
     },
     "metadata": {
      "needs_background": "light"
     },
     "output_type": "display_data"
    }
   ],
   "source": [
    "df1.iloc[:-1,0].plot(kind='bar')\n",
    "plt.xticks(rotation=45)"
   ]
  },
  {
   "cell_type": "code",
   "execution_count": 105,
   "outputs": [
    {
     "data": {
      "text/plain": "(array([0, 1, 2, 3, 4, 5, 6]),\n [Text(0, 0, '2500以下'),\n  Text(1, 0, '2500-4000'),\n  Text(2, 0, '4000-5500'),\n  Text(3, 0, '5500-7000'),\n  Text(4, 0, '7000-8500'),\n  Text(5, 0, '8500-10000'),\n  Text(6, 0, '10000以上')])"
     },
     "execution_count": 105,
     "metadata": {},
     "output_type": "execute_result"
    },
    {
     "data": {
      "text/plain": "<Figure size 432x288 with 1 Axes>",
      "image/png": "[encoded data removed]"
     },
     "metadata": {
      "needs_background": "light"
     },
     "output_type": "display_data"
    }
   ],
   "source": [
    "df2.iloc[:-1,0].plot(kind='bar')\n",
    "plt.xticks(rotation=45)"
   ],
   "metadata": {
    "collapsed": false,
    "pycharm": {
     "name": "#%%\n"
    }
   }
  },
  {
   "cell_type": "code",
   "execution_count": 106,
   "outputs": [
    {
     "data": {
      "text/plain": "(array([0, 1, 2, 3, 4, 5, 6, 7]),\n [Text(0, 0, '拿出手机，无目的地翻看'),\n  Text(1, 0, '打电话'),\n  Text(2, 0, '手机上网'),\n  Text(3, 0, '手机打游戏'),\n  Text(4, 0, '听音乐'),\n  Text(5, 0, '看报纸、杂志等'),\n  Text(6, 0, '静静等待红灯'),\n  Text(7, 0, '其他')])"
     },
     "execution_count": 106,
     "metadata": {},
     "output_type": "execute_result"
    },
    {
     "data": {
      "text/plain": "<Figure size 432x288 with 1 Axes>",
      "image/png": "[encoded data removed]"
     },
     "metadata": {
      "needs_background": "light"
     },
     "output_type": "display_data"
    }
   ],
   "source": [
    "df3.iloc[:-1,0].plot(kind='bar')\n",
    "plt.xticks(rotation=70)"
   ],
   "metadata": {
    "collapsed": false,
    "pycharm": {
     "name": "#%%\n"
    }
   }
  },
  {
   "cell_type": "markdown",
   "metadata": {
    "id": "9k-CwEf-ytVL"
   },
   "source": [
    "### 1.4频数编制\n",
    "频数编制的结果与分类汇总一致 <br>\n",
    "下面为数据分布直方图:"
   ]
  },
  {
   "cell_type": "code",
   "execution_count": 107,
   "metadata": {
    "id": "42hrvBoCyymM"
   },
   "outputs": [
    {
     "data": {
      "text/plain": "(array([-20.,   0.,  20.,  40.,  60.,  80., 100., 120., 140.]),\n [Text(0, 0, ''),\n  Text(0, 0, ''),\n  Text(0, 0, ''),\n  Text(0, 0, ''),\n  Text(0, 0, ''),\n  Text(0, 0, ''),\n  Text(0, 0, ''),\n  Text(0, 0, ''),\n  Text(0, 0, '')])"
     },
     "execution_count": 107,
     "metadata": {},
     "output_type": "execute_result"
    },
    {
     "data": {
      "text/plain": "<Figure size 432x288 with 1 Axes>",
      "image/png": "[encoded data removed]"
     },
     "metadata": {
      "needs_background": "light"
     },
     "output_type": "display_data"
    }
   ],
   "source": [
    "df1.iloc[:-1,0].plot(kind='hist',title='直方图1')\n",
    "plt.xticks(rotation=45)"
   ]
  },
  {
   "cell_type": "code",
   "execution_count": 108,
   "outputs": [
    {
     "data": {
      "text/plain": "(array([ 0.,  2.,  4.,  6.,  8., 10., 12., 14., 16., 18.]),\n [Text(0, 0, ''),\n  Text(0, 0, ''),\n  Text(0, 0, ''),\n  Text(0, 0, ''),\n  Text(0, 0, ''),\n  Text(0, 0, ''),\n  Text(0, 0, ''),\n  Text(0, 0, ''),\n  Text(0, 0, ''),\n  Text(0, 0, '')])"
     },
     "execution_count": 108,
     "metadata": {},
     "output_type": "execute_result"
    },
    {
     "data": {
      "text/plain": "<Figure size 432x288 with 1 Axes>",
      "image/png": "[encoded data removed]"
     },
     "metadata": {
      "needs_background": "light"
     },
     "output_type": "display_data"
    }
   ],
   "source": [
    "df2.iloc[:-1,0].plot(kind='hist',title='直方图2')\n",
    "plt.xticks(rotation=45)"
   ],
   "metadata": {
    "collapsed": false,
    "pycharm": {
     "name": "#%%\n"
    }
   }
  },
  {
   "cell_type": "code",
   "execution_count": 109,
   "outputs": [
    {
     "data": {
      "text/plain": "(array([-20.,   0.,  20.,  40.,  60.,  80., 100.]),\n [Text(0, 0, ''),\n  Text(0, 0, ''),\n  Text(0, 0, ''),\n  Text(0, 0, ''),\n  Text(0, 0, ''),\n  Text(0, 0, ''),\n  Text(0, 0, '')])"
     },
     "execution_count": 109,
     "metadata": {},
     "output_type": "execute_result"
    },
    {
     "data": {
      "text/plain": "<Figure size 432x288 with 1 Axes>",
      "image/png": "[encoded data removed]"
     },
     "metadata": {
      "needs_background": "light"
     },
     "output_type": "display_data"
    }
   ],
   "source": [
    "df3.iloc[:-1,0].plot(kind='hist',title='直方图3')\n",
    "plt.xticks(rotation=45)"
   ],
   "metadata": {
    "collapsed": false,
    "pycharm": {
     "name": "#%%\n"
    }
   }
  },
  {
   "cell_type": "markdown",
   "metadata": {
    "id": "MH4ZX3ASzEXk"
   },
   "source": [
    "## 2.Makeup2007"
   ]
  },
  {
   "cell_type": "markdown",
   "source": [
    "数据导入"
   ],
   "metadata": {
    "collapsed": false
   }
  },
  {
   "cell_type": "code",
   "execution_count": 110,
   "outputs": [
    {
     "data": {
      "text/plain": "   Transaction number      Name   Date     Product  Units     Dollars Location\n0                   1     Betsy  38078   lip gloss     45  137.204558    south\n1                   2  Hallagan  38056  foundation     50  152.007303  midwest\n2                   3    Ashley  38408    lipstick      9   28.719483  midwest\n3                   4  Hallagan  38859   lip gloss     55  167.075323     west\n4                   5     Zaret  38155   lip gloss     43  130.602872  midwest",
      "text/html": "<div>\n<style scoped>\n    .dataframe tbody tr th:only-of-type {\n        vertical-align: middle;\n    }\n\n    .dataframe tbody tr th {\n        vertical-align: top;\n    }\n\n    .dataframe thead th {\n        text-align: right;\n    }\n</style>\n<table border=\"1\" class=\"dataframe\">\n  <thead>\n    <tr style=\"text-align: right;\">\n      <th></th>\n      <th>Transaction number</th>\n      <th>Name</th>\n      <th>Date</th>\n      <th>Product</th>\n      <th>Units</th>\n      <th>Dollars</th>\n      <th>Location</th>\n    </tr>\n  </thead>\n  <tbody>\n    <tr>\n      <th>0</th>\n      <td>1</td>\n      <td>Betsy</td>\n      <td>38078</td>\n      <td>lip gloss</td>\n      <td>45</td>\n      <td>137.204558</td>\n      <td>south</td>\n    </tr>\n    <tr>\n      <th>1</th>\n      <td>2</td>\n      <td>Hallagan</td>\n      <td>38056</td>\n      <td>foundation</td>\n      <td>50</td>\n      <td>152.007303</td>\n      <td>midwest</td>\n    </tr>\n    <tr>\n      <th>2</th>\n      <td>3</td>\n      <td>Ashley</td>\n      <td>38408</td>\n      <td>lipstick</td>\n      <td>9</td>\n      <td>28.719483</td>\n      <td>midwest</td>\n    </tr>\n    <tr>\n      <th>3</th>\n      <td>4</td>\n      <td>Hallagan</td>\n      <td>38859</td>\n      <td>lip gloss</td>\n      <td>55</td>\n      <td>167.075323</td>\n      <td>west</td>\n    </tr>\n    <tr>\n      <th>4</th>\n      <td>5</td>\n      <td>Zaret</td>\n      <td>38155</td>\n      <td>lip gloss</td>\n      <td>43</td>\n      <td>130.602872</td>\n      <td>midwest</td>\n    </tr>\n  </tbody>\n</table>\n</div>"
     },
     "execution_count": 110,
     "metadata": {},
     "output_type": "execute_result"
    }
   ],
   "source": [
    "makeup_data = pd.read_excel('2、Makeup2007.xls')\n",
    "makeup_data.head()"
   ],
   "metadata": {
    "collapsed": false,
    "pycharm": {
     "name": "#%%\n"
    }
   }
  },
  {
   "cell_type": "markdown",
   "metadata": {
    "id": "Stqj4YI3y_U-"
   },
   "source": [
    "### 2.1\n",
    "汇总每位销售人员的销售产品数量和收入总额，以及每位销售人员销售每种产品的数量与销售额"
   ]
  },
  {
   "cell_type": "code",
   "execution_count": 111,
   "outputs": [],
   "source": [
    "import numpy as np"
   ],
   "metadata": {
    "collapsed": false,
    "pycharm": {
     "name": "#%%\n"
    }
   }
  },
  {
   "cell_type": "markdown",
   "source": [
    "#### 2.1.1 汇总每位销售人员的销售产品数量和收入总额"
   ],
   "metadata": {
    "collapsed": false,
    "pycharm": {
     "name": "#%% md\n"
    }
   }
  },
  {
   "cell_type": "code",
   "execution_count": 112,
   "metadata": {
    "id": "exMFnklb0Bq4"
   },
   "outputs": [
    {
     "data": {
      "text/plain": "           count           sum\n         Dollars       Dollars\nName                          \nAshley       197  25947.235264\nBetsy        217  28561.530281\nCici         230  27590.573172\nColleen      206  24890.655792\nCristina     207  23849.558721\nEmilee       203  25079.864154\nHallagan     200  28434.692781\nJen          217  28941.178422\nZaret        214  26617.385557",
      "text/html": "<div>\n<style scoped>\n    .dataframe tbody tr th:only-of-type {\n        vertical-align: middle;\n    }\n\n    .dataframe tbody tr th {\n        vertical-align: top;\n    }\n\n    .dataframe thead tr th {\n        text-align: left;\n    }\n\n    .dataframe thead tr:last-of-type th {\n        text-align: right;\n    }\n</style>\n<table border=\"1\" class=\"dataframe\">\n  <thead>\n    <tr>\n      <th></th>\n      <th>count</th>\n      <th>sum</th>\n    </tr>\n    <tr>\n      <th></th>\n      <th>Dollars</th>\n      <th>Dollars</th>\n    </tr>\n    <tr>\n      <th>Name</th>\n      <th></th>\n      <th></th>\n    </tr>\n  </thead>\n  <tbody>\n    <tr>\n      <th>Ashley</th>\n      <td>197</td>\n      <td>25947.235264</td>\n    </tr>\n    <tr>\n      <th>Betsy</th>\n      <td>217</td>\n      <td>28561.530281</td>\n    </tr>\n    <tr>\n      <th>Cici</th>\n      <td>230</td>\n      <td>27590.573172</td>\n    </tr>\n    <tr>\n      <th>Colleen</th>\n      <td>206</td>\n      <td>24890.655792</td>\n    </tr>\n    <tr>\n      <th>Cristina</th>\n      <td>207</td>\n      <td>23849.558721</td>\n    </tr>\n    <tr>\n      <th>Emilee</th>\n      <td>203</td>\n      <td>25079.864154</td>\n    </tr>\n    <tr>\n      <th>Hallagan</th>\n      <td>200</td>\n      <td>28434.692781</td>\n    </tr>\n    <tr>\n      <th>Jen</th>\n      <td>217</td>\n      <td>28941.178422</td>\n    </tr>\n    <tr>\n      <th>Zaret</th>\n      <td>214</td>\n      <td>26617.385557</td>\n    </tr>\n  </tbody>\n</table>\n</div>"
     },
     "execution_count": 112,
     "metadata": {},
     "output_type": "execute_result"
    }
   ],
   "source": [
    "sales_plot1 = makeup_data.pivot_table(index='Name',values=['Dollars'],aggfunc=['count',np.sum])\n",
    "sales_plot1"
   ]
  },
  {
   "cell_type": "markdown",
   "source": [
    "#### 2.1.2 汇总每位销售人员销售每种产品的数量与销售额"
   ],
   "metadata": {
    "collapsed": false
   }
  },
  {
   "cell_type": "code",
   "execution_count": 113,
   "outputs": [
    {
     "data": {
      "text/plain": "             count                                                       sum  \\\n           Dollars                                                   Dollars   \nProduct  eye liner foundation lip gloss lipstick mascara   All     eye liner   \nName                                                                           \nAshley          41         35        48       23      50   197   5844.948744   \nBetsy           43         49        53       30      42   217   6046.534282   \nCici            53         54        48       21      54   230   5982.823291   \nColleen         33         52        42       26      53   206   3389.625314   \nCristina        43         53        47       18      46   207   5397.273636   \nEmilee          57         41        48       15      42   203   7587.388980   \nHallagan        50         45        43       21      41   200   6964.621074   \nJen             54         46        42       29      46   217   7010.440514   \nZaret           62         51        41       24      36   214   8166.749063   \nAll            436        426       412      207     410  1891  56390.404898   \n\n                                                                  \\\n                                                                   \nProduct     foundation     lip gloss      lipstick       mascara   \nName                                                               \nAshley     4186.058628   6053.684565   3245.442978   6617.100349   \nBetsy      8043.486462   5675.650045   3968.605496   4827.253996   \nCici       6198.248632   5199.949201   3148.840650   7060.711397   \nColleen    6834.767608   5573.323725   2346.413777   6746.525368   \nCristina   5290.989935   5297.979810   2401.668343   5461.646997   \nEmilee     5313.787561   5270.250313   2189.137568   4719.299731   \nHallagan   6985.734333   5603.119378   3177.871325   5703.346670   \nJen        5628.648036   5461.614790   3953.300132   6887.174950   \nZaret      6451.650057   5670.329329   2448.707163   3879.949944   \nAll       54933.371253  49805.901157  26879.987434  51903.009403   \n\n                         \n                         \nProduct             All  \nName                     \nAshley     25947.235264  \nBetsy      28561.530281  \nCici       27590.573172  \nColleen    24890.655792  \nCristina   23849.558721  \nEmilee     25079.864154  \nHallagan   28434.692781  \nJen        28941.178422  \nZaret      26617.385557  \nAll       239912.674144  ",
      "text/html": "<div>\n<style scoped>\n    .dataframe tbody tr th:only-of-type {\n        vertical-align: middle;\n    }\n\n    .dataframe tbody tr th {\n        vertical-align: top;\n    }\n\n    .dataframe thead tr th {\n        text-align: left;\n    }\n\n    .dataframe thead tr:last-of-type th {\n        text-align: right;\n    }\n</style>\n<table border=\"1\" class=\"dataframe\">\n  <thead>\n    <tr>\n      <th></th>\n      <th colspan=\"6\" halign=\"left\">count</th>\n      <th colspan=\"6\" halign=\"left\">sum</th>\n    </tr>\n    <tr>\n      <th></th>\n      <th colspan=\"6\" halign=\"left\">Dollars</th>\n      <th colspan=\"6\" halign=\"left\">Dollars</th>\n    </tr>\n    <tr>\n      <th>Product</th>\n      <th>eye liner</th>\n      <th>foundation</th>\n      <th>lip gloss</th>\n      <th>lipstick</th>\n      <th>mascara</th>\n      <th>All</th>\n      <th>eye liner</th>\n      <th>foundation</th>\n      <th>lip gloss</th>\n      <th>lipstick</th>\n      <th>mascara</th>\n      <th>All</th>\n    </tr>\n    <tr>\n      <th>Name</th>\n      <th></th>\n      <th></th>\n      <th></th>\n      <th></th>\n      <th></th>\n      <th></th>\n      <th></th>\n      <th></th>\n      <th></th>\n      <th></th>\n      <th></th>\n      <th></th>\n    </tr>\n  </thead>\n  <tbody>\n    <tr>\n      <th>Ashley</th>\n      <td>41</td>\n      <td>35</td>\n      <td>48</td>\n      <td>23</td>\n      <td>50</td>\n      <td>197</td>\n      <td>5844.948744</td>\n      <td>4186.058628</td>\n      <td>6053.684565</td>\n      <td>3245.442978</td>\n      <td>6617.100349</td>\n      <td>25947.235264</td>\n    </tr>\n    <tr>\n      <th>Betsy</th>\n      <td>43</td>\n      <td>49</td>\n      <td>53</td>\n      <td>30</td>\n      <td>42</td>\n      <td>217</td>\n      <td>6046.534282</td>\n      <td>8043.486462</td>\n      <td>5675.650045</td>\n      <td>3968.605496</td>\n      <td>4827.253996</td>\n      <td>28561.530281</td>\n    </tr>\n    <tr>\n      <th>Cici</th>\n      <td>53</td>\n      <td>54</td>\n      <td>48</td>\n      <td>21</td>\n      <td>54</td>\n      <td>230</td>\n      <td>5982.823291</td>\n      <td>6198.248632</td>\n      <td>5199.949201</td>\n      <td>3148.840650</td>\n      <td>7060.711397</td>\n      <td>27590.573172</td>\n    </tr>\n    <tr>\n      <th>Colleen</th>\n      <td>33</td>\n      <td>52</td>\n      <td>42</td>\n      <td>26</td>\n      <td>53</td>\n      <td>206</td>\n      <td>3389.625314</td>\n      <td>6834.767608</td>\n      <td>5573.323725</td>\n      <td>2346.413777</td>\n      <td>6746.525368</td>\n      <td>24890.655792</td>\n    </tr>\n    <tr>\n      <th>Cristina</th>\n      <td>43</td>\n      <td>53</td>\n      <td>47</td>\n      <td>18</td>\n      <td>46</td>\n      <td>207</td>\n      <td>5397.273636</td>\n      <td>5290.989935</td>\n      <td>5297.979810</td>\n      <td>2401.668343</td>\n      <td>5461.646997</td>\n      <td>23849.558721</td>\n    </tr>\n    <tr>\n      <th>Emilee</th>\n      <td>57</td>\n      <td>41</td>\n      <td>48</td>\n      <td>15</td>\n      <td>42</td>\n      <td>203</td>\n      <td>7587.388980</td>\n      <td>5313.787561</td>\n      <td>5270.250313</td>\n      <td>2189.137568</td>\n      <td>4719.299731</td>\n      <td>25079.864154</td>\n    </tr>\n    <tr>\n      <th>Hallagan</th>\n      <td>50</td>\n      <td>45</td>\n      <td>43</td>\n      <td>21</td>\n      <td>41</td>\n      <td>200</td>\n      <td>6964.621074</td>\n      <td>6985.734333</td>\n      <td>5603.119378</td>\n      <td>3177.871325</td>\n      <td>5703.346670</td>\n      <td>28434.692781</td>\n    </tr>\n    <tr>\n      <th>Jen</th>\n      <td>54</td>\n      <td>46</td>\n      <td>42</td>\n      <td>29</td>\n      <td>46</td>\n      <td>217</td>\n      <td>7010.440514</td>\n      <td>5628.648036</td>\n      <td>5461.614790</td>\n      <td>3953.300132</td>\n      <td>6887.174950</td>\n      <td>28941.178422</td>\n    </tr>\n    <tr>\n      <th>Zaret</th>\n      <td>62</td>\n      <td>51</td>\n      <td>41</td>\n      <td>24</td>\n      <td>36</td>\n      <td>214</td>\n      <td>8166.749063</td>\n      <td>6451.650057</td>\n      <td>5670.329329</td>\n      <td>2448.707163</td>\n      <td>3879.949944</td>\n      <td>26617.385557</td>\n    </tr>\n    <tr>\n      <th>All</th>\n      <td>436</td>\n      <td>426</td>\n      <td>412</td>\n      <td>207</td>\n      <td>410</td>\n      <td>1891</td>\n      <td>56390.404898</td>\n      <td>54933.371253</td>\n      <td>49805.901157</td>\n      <td>26879.987434</td>\n      <td>51903.009403</td>\n      <td>239912.674144</td>\n    </tr>\n  </tbody>\n</table>\n</div>"
     },
     "execution_count": 113,
     "metadata": {},
     "output_type": "execute_result"
    }
   ],
   "source": [
    "sales_plot2 = makeup_data.pivot_table(index='Name',values=['Dollars'],columns=['Product'],aggfunc=['count',np.sum],margins=True) # margins=True汇总\n",
    "sales_plot2"
   ],
   "metadata": {
    "collapsed": false,
    "pycharm": {
     "name": "#%%\n"
    }
   }
  },
  {
   "cell_type": "markdown",
   "metadata": {
    "id": "FKladEwTzksz"
   },
   "source": [
    "### 2.2\n",
    "汇总各销售点每位销售人员的销量比例"
   ]
  },
  {
   "cell_type": "code",
   "execution_count": 114,
   "metadata": {
    "id": "HD_-bShR0BRJ"
   },
   "outputs": [
    {
     "name": "stdout",
     "output_type": "stream",
     "text": [
      "             count\n",
      "           Product\n",
      "Location          \n",
      "east      0.241142\n",
      "midwest   0.224220\n",
      "south     0.275516\n",
      "west      0.259122\n"
     ]
    },
    {
     "data": {
      "text/plain": "<Figure size 432x432 with 1 Axes>",
      "image/png": "[encoded data removed]"
     },
     "metadata": {},
     "output_type": "display_data"
    }
   ],
   "source": [
    "sales_place = makeup_data.pivot_table(index='Location',values=['Product'],aggfunc=['count'])\n",
    "propotion = sales_place.div(sales_place.sum(axis=0), axis=1)  # axis=1 这一行占总列的百分数\n",
    "propotion.plot(kind='pie',subplots=True,autopct='%.2f',figsize=(6, 6))\n",
    "print(propotion)"
   ]
  },
  {
   "cell_type": "markdown",
   "metadata": {
    "id": "ZHo1UxzMzphK"
   },
   "source": [
    "### 2.3 汇总各销售点每位销售人员的销售额和销售数量"
   ]
  },
  {
   "cell_type": "code",
   "execution_count": 115,
   "metadata": {
    "id": "KtHgBkj_0A2w"
   },
   "outputs": [
    {
     "data": {
      "text/plain": "           count                                                               \\\n         Dollars                                                                \nName      Ashley Betsy Cici Colleen Cristina Emilee Hallagan  Jen Zaret   All   \nLocation                                                                        \neast          51    65   50      46       40     50       42   53    59   456   \nmidwest       40    43   60      53       50     44       42   52    40   424   \nsouth         58    55   68      61       59     55       61   50    54   521   \nwest          48    54   52      46       58     54       55   62    61   490   \nAll          197   217  230     206      207    203      200  217   214  1891   \n\n                   sum                                            \\\n               Dollars                                             \nName            Ashley         Betsy          Cici       Colleen   \nLocation                                                           \neast       7772.704761   8767.431725   5956.320446   5713.069445   \nmidwest    4985.896509   4878.085848   8129.619289   6586.142169   \nsouth      7398.565792   7732.056980   7174.448975   7785.632708   \nwest       5790.068203   7183.955727   6330.184462   4805.811471   \nAll       25947.235264  28561.530281  27590.573172  24890.655792   \n\n                                                                  \\\n                                                                   \nName          Cristina        Emilee      Hallagan           Jen   \nLocation                                                           \neast       4126.268644   6295.472056   4965.615813   6949.209483   \nmidwest    5870.034488   5642.196163   7378.321391   6381.320681   \nsouth      5964.158473   6050.594346   8210.814251   7116.016774   \nwest       7889.097115   7091.601589   7879.941325   8494.631484   \nAll       23849.558721  25079.864154  28434.692781  28941.178422   \n\n                                       \n                                       \nName             Zaret            All  \nLocation                               \neast       6825.995148   57372.087521  \nmidwest    4953.797616   54805.414156  \nsouth      6864.065862   64296.354161  \nwest       7973.526930   63438.818306  \nAll       26617.385557  239912.674144  ",
      "text/html": "<div>\n<style scoped>\n    .dataframe tbody tr th:only-of-type {\n        vertical-align: middle;\n    }\n\n    .dataframe tbody tr th {\n        vertical-align: top;\n    }\n\n    .dataframe thead tr th {\n        text-align: left;\n    }\n\n    .dataframe thead tr:last-of-type th {\n        text-align: right;\n    }\n</style>\n<table border=\"1\" class=\"dataframe\">\n  <thead>\n    <tr>\n      <th></th>\n      <th colspan=\"10\" halign=\"left\">count</th>\n      <th colspan=\"10\" halign=\"left\">sum</th>\n    </tr>\n    <tr>\n      <th></th>\n      <th colspan=\"10\" halign=\"left\">Dollars</th>\n      <th colspan=\"10\" halign=\"left\">Dollars</th>\n    </tr>\n    <tr>\n      <th>Name</th>\n      <th>Ashley</th>\n      <th>Betsy</th>\n      <th>Cici</th>\n      <th>Colleen</th>\n      <th>Cristina</th>\n      <th>Emilee</th>\n      <th>Hallagan</th>\n      <th>Jen</th>\n      <th>Zaret</th>\n      <th>All</th>\n      <th>Ashley</th>\n      <th>Betsy</th>\n      <th>Cici</th>\n      <th>Colleen</th>\n      <th>Cristina</th>\n      <th>Emilee</th>\n      <th>Hallagan</th>\n      <th>Jen</th>\n      <th>Zaret</th>\n      <th>All</th>\n    </tr>\n    <tr>\n      <th>Location</th>\n      <th></th>\n      <th></th>\n      <th></th>\n      <th></th>\n      <th></th>\n      <th></th>\n      <th></th>\n      <th></th>\n      <th></th>\n      <th></th>\n      <th></th>\n      <th></th>\n      <th></th>\n      <th></th>\n      <th></th>\n      <th></th>\n      <th></th>\n      <th></th>\n      <th></th>\n      <th></th>\n    </tr>\n  </thead>\n  <tbody>\n    <tr>\n      <th>east</th>\n      <td>51</td>\n      <td>65</td>\n      <td>50</td>\n      <td>46</td>\n      <td>40</td>\n      <td>50</td>\n      <td>42</td>\n      <td>53</td>\n      <td>59</td>\n      <td>456</td>\n      <td>7772.704761</td>\n      <td>8767.431725</td>\n      <td>5956.320446</td>\n      <td>5713.069445</td>\n      <td>4126.268644</td>\n      <td>6295.472056</td>\n      <td>4965.615813</td>\n      <td>6949.209483</td>\n      <td>6825.995148</td>\n      <td>57372.087521</td>\n    </tr>\n    <tr>\n      <th>midwest</th>\n      <td>40</td>\n      <td>43</td>\n      <td>60</td>\n      <td>53</td>\n      <td>50</td>\n      <td>44</td>\n      <td>42</td>\n      <td>52</td>\n      <td>40</td>\n      <td>424</td>\n      <td>4985.896509</td>\n      <td>4878.085848</td>\n      <td>8129.619289</td>\n      <td>6586.142169</td>\n      <td>5870.034488</td>\n      <td>5642.196163</td>\n      <td>7378.321391</td>\n      <td>6381.320681</td>\n      <td>4953.797616</td>\n      <td>54805.414156</td>\n    </tr>\n    <tr>\n      <th>south</th>\n      <td>58</td>\n      <td>55</td>\n      <td>68</td>\n      <td>61</td>\n      <td>59</td>\n      <td>55</td>\n      <td>61</td>\n      <td>50</td>\n      <td>54</td>\n      <td>521</td>\n      <td>7398.565792</td>\n      <td>7732.056980</td>\n      <td>7174.448975</td>\n      <td>7785.632708</td>\n      <td>5964.158473</td>\n      <td>6050.594346</td>\n      <td>8210.814251</td>\n      <td>7116.016774</td>\n      <td>6864.065862</td>\n      <td>64296.354161</td>\n    </tr>\n    <tr>\n      <th>west</th>\n      <td>48</td>\n      <td>54</td>\n      <td>52</td>\n      <td>46</td>\n      <td>58</td>\n      <td>54</td>\n      <td>55</td>\n      <td>62</td>\n      <td>61</td>\n      <td>490</td>\n      <td>5790.068203</td>\n      <td>7183.955727</td>\n      <td>6330.184462</td>\n      <td>4805.811471</td>\n      <td>7889.097115</td>\n      <td>7091.601589</td>\n      <td>7879.941325</td>\n      <td>8494.631484</td>\n      <td>7973.526930</td>\n      <td>63438.818306</td>\n    </tr>\n    <tr>\n      <th>All</th>\n      <td>197</td>\n      <td>217</td>\n      <td>230</td>\n      <td>206</td>\n      <td>207</td>\n      <td>203</td>\n      <td>200</td>\n      <td>217</td>\n      <td>214</td>\n      <td>1891</td>\n      <td>25947.235264</td>\n      <td>28561.530281</td>\n      <td>27590.573172</td>\n      <td>24890.655792</td>\n      <td>23849.558721</td>\n      <td>25079.864154</td>\n      <td>28434.692781</td>\n      <td>28941.178422</td>\n      <td>26617.385557</td>\n      <td>239912.674144</td>\n    </tr>\n  </tbody>\n</table>\n</div>"
     },
     "execution_count": 115,
     "metadata": {},
     "output_type": "execute_result"
    }
   ],
   "source": [
    "place_salesman = makeup_data.pivot_table(index='Location',columns=['Name'],values=['Dollars'],aggfunc=['count',np.sum],margins=True)\n",
    "place_salesman"
   ]
  },
  {
   "cell_type": "markdown",
   "metadata": {
    "id": "7jogBWN-zpoM"
   },
   "source": [
    "## 3.Histogram\n",
    "计算蛋糕销售数量呈现的趋势，并用直方图描述"
   ]
  },
  {
   "cell_type": "code",
   "execution_count": 116,
   "metadata": {
    "id": "rR7mnyaV0AbK"
   },
   "outputs": [
    {
     "data": {
      "text/plain": "        Date  Cakes\n0 2013-01-01     79\n1 2013-01-02     91\n2 2013-01-03     47\n3 2013-01-04     89\n4 2013-01-05    112",
      "text/html": "<div>\n<style scoped>\n    .dataframe tbody tr th:only-of-type {\n        vertical-align: middle;\n    }\n\n    .dataframe tbody tr th {\n        vertical-align: top;\n    }\n\n    .dataframe thead th {\n        text-align: right;\n    }\n</style>\n<table border=\"1\" class=\"dataframe\">\n  <thead>\n    <tr style=\"text-align: right;\">\n      <th></th>\n      <th>Date</th>\n      <th>Cakes</th>\n    </tr>\n  </thead>\n  <tbody>\n    <tr>\n      <th>0</th>\n      <td>2013-01-01</td>\n      <td>79</td>\n    </tr>\n    <tr>\n      <th>1</th>\n      <td>2013-01-02</td>\n      <td>91</td>\n    </tr>\n    <tr>\n      <th>2</th>\n      <td>2013-01-03</td>\n      <td>47</td>\n    </tr>\n    <tr>\n      <th>3</th>\n      <td>2013-01-04</td>\n      <td>89</td>\n    </tr>\n    <tr>\n      <th>4</th>\n      <td>2013-01-05</td>\n      <td>112</td>\n    </tr>\n  </tbody>\n</table>\n</div>"
     },
     "execution_count": 116,
     "metadata": {},
     "output_type": "execute_result"
    }
   ],
   "source": [
    "cakes = pd.read_excel('3、Histogram.xlsx')\n",
    "cakes.head()  # 2013 - 2015 年的数据"
   ]
  },
  {
   "cell_type": "code",
   "execution_count": 117,
   "outputs": [
    {
     "name": "stdout",
     "output_type": "stream",
     "text": [
      "<class 'pandas.core.frame.DataFrame'>\n",
      "RangeIndex: 1095 entries, 0 to 1094\n",
      "Data columns (total 2 columns):\n",
      " #   Column  Non-Null Count  Dtype         \n",
      "---  ------  --------------  -----         \n",
      " 0   Date    1095 non-null   datetime64[ns]\n",
      " 1   Cakes   1095 non-null   int64         \n",
      "dtypes: datetime64[ns](1), int64(1)\n",
      "memory usage: 17.2 KB\n"
     ]
    }
   ],
   "source": [
    "cakes.info()"
   ],
   "metadata": {
    "collapsed": false,
    "pycharm": {
     "name": "#%%\n"
    }
   }
  },
  {
   "cell_type": "code",
   "execution_count": 118,
   "outputs": [
    {
     "name": "stdout",
     "output_type": "stream",
     "text": [
      "      Cakes\n",
      "Date       \n",
      "1      7726\n",
      "2      7089\n",
      "3      7848\n",
      "4      7601\n",
      "5      8360\n",
      "6      7760\n",
      "7      8085\n",
      "8      7898\n",
      "9      7842\n",
      "10     8041\n",
      "11     8045\n",
      "12     8182\n"
     ]
    }
   ],
   "source": [
    "# 将每个月份的合并在一起了\n",
    "print(cakes.groupby(cakes['Date'].apply(lambda x:x.month)).sum())"
   ],
   "metadata": {
    "collapsed": false,
    "pycharm": {
     "name": "#%%\n"
    }
   }
  },
  {
   "cell_type": "code",
   "source": [
    "plt.bar(cakes['Date'],cakes['Cakes'])\n",
    "plt.xticks(rotation=45)"
   ],
   "metadata": {
    "collapsed": false,
    "pycharm": {
     "name": "#%%\n"
    }
   },
   "execution_count": 119,
   "outputs": [
    {
     "data": {
      "text/plain": "(array([15706., 15826., 15949., 16071., 16191., 16314., 16436., 16556.,\n        16679., 16801.]),\n [Text(0, 0, ''),\n  Text(0, 0, ''),\n  Text(0, 0, ''),\n  Text(0, 0, ''),\n  Text(0, 0, ''),\n  Text(0, 0, ''),\n  Text(0, 0, ''),\n  Text(0, 0, ''),\n  Text(0, 0, ''),\n  Text(0, 0, '')])"
     },
     "execution_count": 119,
     "metadata": {},
     "output_type": "execute_result"
    },
    {
     "data": {
      "text/plain": "<Figure size 432x288 with 1 Axes>",
      "image/png": "[encoded data removed]"
     },
     "metadata": {
      "needs_background": "light"
     },
     "output_type": "display_data"
    }
   ]
  },
  {
   "cell_type": "code",
   "execution_count": 120,
   "outputs": [
    {
     "data": {
      "text/plain": "         Cakes\nDate          \n2013/01   2466\n2013/02   2175\n2013/03   2645\n2013/04   2442\n2013/05   2605\n2013/06   2423\n2013/07   2649\n2013/08   2333\n2013/09   2375\n2013/10   2507\n2013/11   2687\n2013/12   2566\n2014/01   2553\n2014/02   2323\n2014/03   2568\n2014/04   2644\n2014/05   2864\n2014/06   2589\n2014/07   2634\n2014/08   2833\n2014/09   2674\n2014/10   2709\n2014/11   2604\n2014/12   2724\n2015/01   2707\n2015/02   2591\n2015/03   2635\n2015/04   2515\n2015/05   2891\n2015/06   2748\n2015/07   2802\n2015/08   2732\n2015/09   2793\n2015/10   2825\n2015/11   2754\n2015/12   2892",
      "text/html": "<div>\n<style scoped>\n    .dataframe tbody tr th:only-of-type {\n        vertical-align: middle;\n    }\n\n    .dataframe tbody tr th {\n        vertical-align: top;\n    }\n\n    .dataframe thead th {\n        text-align: right;\n    }\n</style>\n<table border=\"1\" class=\"dataframe\">\n  <thead>\n    <tr style=\"text-align: right;\">\n      <th></th>\n      <th>Cakes</th>\n    </tr>\n    <tr>\n      <th>Date</th>\n      <th></th>\n    </tr>\n  </thead>\n  <tbody>\n    <tr>\n      <th>2013/01</th>\n      <td>2466</td>\n    </tr>\n    <tr>\n      <th>2013/02</th>\n      <td>2175</td>\n    </tr>\n    <tr>\n      <th>2013/03</th>\n      <td>2645</td>\n    </tr>\n    <tr>\n      <th>2013/04</th>\n      <td>2442</td>\n    </tr>\n    <tr>\n      <th>2013/05</th>\n      <td>2605</td>\n    </tr>\n    <tr>\n      <th>2013/06</th>\n      <td>2423</td>\n    </tr>\n    <tr>\n      <th>2013/07</th>\n      <td>2649</td>\n    </tr>\n    <tr>\n      <th>2013/08</th>\n      <td>2333</td>\n    </tr>\n    <tr>\n      <th>2013/09</th>\n      <td>2375</td>\n    </tr>\n    <tr>\n      <th>2013/10</th>\n      <td>2507</td>\n    </tr>\n    <tr>\n      <th>2013/11</th>\n      <td>2687</td>\n    </tr>\n    <tr>\n      <th>2013/12</th>\n      <td>2566</td>\n    </tr>\n    <tr>\n      <th>2014/01</th>\n      <td>2553</td>\n    </tr>\n    <tr>\n      <th>2014/02</th>\n      <td>2323</td>\n    </tr>\n    <tr>\n      <th>2014/03</th>\n      <td>2568</td>\n    </tr>\n    <tr>\n      <th>2014/04</th>\n      <td>2644</td>\n    </tr>\n    <tr>\n      <th>2014/05</th>\n      <td>2864</td>\n    </tr>\n    <tr>\n      <th>2014/06</th>\n      <td>2589</td>\n    </tr>\n    <tr>\n      <th>2014/07</th>\n      <td>2634</td>\n    </tr>\n    <tr>\n      <th>2014/08</th>\n      <td>2833</td>\n    </tr>\n    <tr>\n      <th>2014/09</th>\n      <td>2674</td>\n    </tr>\n    <tr>\n      <th>2014/10</th>\n      <td>2709</td>\n    </tr>\n    <tr>\n      <th>2014/11</th>\n      <td>2604</td>\n    </tr>\n    <tr>\n      <th>2014/12</th>\n      <td>2724</td>\n    </tr>\n    <tr>\n      <th>2015/01</th>\n      <td>2707</td>\n    </tr>\n    <tr>\n      <th>2015/02</th>\n      <td>2591</td>\n    </tr>\n    <tr>\n      <th>2015/03</th>\n      <td>2635</td>\n    </tr>\n    <tr>\n      <th>2015/04</th>\n      <td>2515</td>\n    </tr>\n    <tr>\n      <th>2015/05</th>\n      <td>2891</td>\n    </tr>\n    <tr>\n      <th>2015/06</th>\n      <td>2748</td>\n    </tr>\n    <tr>\n      <th>2015/07</th>\n      <td>2802</td>\n    </tr>\n    <tr>\n      <th>2015/08</th>\n      <td>2732</td>\n    </tr>\n    <tr>\n      <th>2015/09</th>\n      <td>2793</td>\n    </tr>\n    <tr>\n      <th>2015/10</th>\n      <td>2825</td>\n    </tr>\n    <tr>\n      <th>2015/11</th>\n      <td>2754</td>\n    </tr>\n    <tr>\n      <th>2015/12</th>\n      <td>2892</td>\n    </tr>\n  </tbody>\n</table>\n</div>"
     },
     "execution_count": 120,
     "metadata": {},
     "output_type": "execute_result"
    }
   ],
   "source": [
    "# df['日期'].apply(lambda x:x.strftime('%Y/%m')) # 将日期格式设置为年月\n",
    "# df.groupby(df['日期'].apply(lambda x:x.strftime('%Y/%m')))  # 按照年月groupby\n",
    "cakes_plot = cakes.groupby(cakes['Date'].apply(lambda x:x.strftime('%Y/%m'))).sum() # 每年每个月份分别求和\n",
    "cakes_plot"
   ],
   "metadata": {
    "collapsed": false,
    "pycharm": {
     "name": "#%%\n"
    }
   }
  },
  {
   "cell_type": "markdown",
   "source": [
    "折线图"
   ],
   "metadata": {
    "collapsed": false,
    "pycharm": {
     "name": "#%% md\n"
    }
   }
  },
  {
   "cell_type": "code",
   "execution_count": 121,
   "outputs": [
    {
     "data": {
      "text/plain": "<AxesSubplot:xlabel='Date'>"
     },
     "execution_count": 121,
     "metadata": {},
     "output_type": "execute_result"
    },
    {
     "data": {
      "text/plain": "<Figure size 432x288 with 1 Axes>",
      "image/png": "[encoded data removed]"
     },
     "metadata": {
      "needs_background": "light"
     },
     "output_type": "display_data"
    }
   ],
   "source": [
    "cakes_plot.plot()"
   ],
   "metadata": {
    "collapsed": false,
    "pycharm": {
     "name": "#%%\n"
    }
   }
  },
  {
   "cell_type": "markdown",
   "source": [
    "直方图"
   ],
   "metadata": {
    "collapsed": false
   }
  },
  {
   "cell_type": "code",
   "execution_count": 122,
   "outputs": [
    {
     "data": {
      "text/plain": "<AxesSubplot:xlabel='Date'>"
     },
     "execution_count": 122,
     "metadata": {},
     "output_type": "execute_result"
    },
    {
     "data": {
      "text/plain": "<Figure size 432x288 with 1 Axes>",
      "image/png": "[encoded data removed]"
     },
     "metadata": {
      "needs_background": "light"
     },
     "output_type": "display_data"
    }
   ],
   "source": [
    "cakes_plot.plot(kind='bar')"
   ],
   "metadata": {
    "collapsed": false,
    "pycharm": {
     "name": "#%%\n"
    }
   }
  },
  {
   "cell_type": "code",
   "execution_count": 123,
   "outputs": [
    {
     "data": {
      "text/plain": "<AxesSubplot:ylabel='Frequency'>"
     },
     "execution_count": 123,
     "metadata": {},
     "output_type": "execute_result"
    },
    {
     "data": {
      "text/plain": "<Figure size 432x288 with 1 Axes>",
      "image/png": "[encoded data removed]"
     },
     "metadata": {
      "needs_background": "light"
     },
     "output_type": "display_data"
    }
   ],
   "source": [
    "cakes_plot.plot(kind='hist')"
   ],
   "metadata": {
    "collapsed": false,
    "pycharm": {
     "name": "#%%\n"
    }
   }
  }
 ],
 "metadata": {
  "colab": {
   "collapsed_sections": [],
   "name": "homework_1.ipynb",
   "provenance": []
  },
  "kernelspec": {
   "display_name": "Python 3 (ipykernel)",
   "language": "python",
   "name": "python3"
  },
  "language_info": {
   "codemirror_mode": {
    "name": "ipython",
    "version": 3
   },
   "file_extension": ".py",
   "mimetype": "text/x-python",
   "name": "python",
   "nbconvert_exporter": "python",
   "pygments_lexer": "ipython3",
   "version": "3.8.2"
  }
 },
 "nbformat": 4,
 "nbformat_minor": 1
}