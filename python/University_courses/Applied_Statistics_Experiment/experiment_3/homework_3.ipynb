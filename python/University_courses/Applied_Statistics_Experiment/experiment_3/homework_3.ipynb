{
 "cells": [
  {
   "cell_type": "markdown",
   "metadata": {
    "collapsed": true,
    "pycharm": {
     "name": "#%% md\n"
    }
   },
   "source": [
    "# 实验三"
   ]
  },
  {
   "cell_type": "markdown",
   "metadata": {},
   "source": [
    "## 0.数据导入"
   ]
  },
  {
   "cell_type": "code",
   "execution_count": 1,
   "metadata": {
    "pycharm": {
     "name": "#%%\n"
    }
   },
   "outputs": [],
   "source": [
    "import pandas as pd\n",
    "import numpy as np\n",
    "import matplotlib.pyplot as plt\n",
    "from scipy import stats\n",
    "import math\n",
    "import random\n",
    "from pylab import rcParams\n",
    "from tkinter import _flatten\n",
    "rcParams['font.sans-serif'] = ['SimHei']\n",
    "rcParams['axes.unicode_minus'] = False"
   ]
  },
  {
   "cell_type": "code",
   "execution_count": 2,
   "metadata": {
    "pycharm": {
     "name": "#%%\n"
    }
   },
   "outputs": [],
   "source": [
    "data = pd.read_excel('第5章  抽样估计.xlsx',sheet_name=1)\n",
    "perfume_data = pd.read_excel('香水.xlsx')"
   ]
  },
  {
   "cell_type": "markdown",
   "metadata": {
    "pycharm": {
     "name": "#%% md\n"
    }
   },
   "source": [
    "## 1.第一题"
   ]
  },
  {
   "cell_type": "code",
   "execution_count": 3,
   "metadata": {
    "pycharm": {
     "name": "#%%\n"
    }
   },
   "outputs": [
    {
     "data": {
      "text/plain": "     学生编号  月消费支出额（元）\n0       1        410\n1       2        350\n2       3        466\n3       4        385\n4       5        500\n..    ...        ...\n105   106        811\n106   107       1109\n107   108       1276\n108   109        745\n109   110        678\n\n[110 rows x 2 columns]",
      "text/html": "<div>\n<style scoped>\n    .dataframe tbody tr th:only-of-type {\n        vertical-align: middle;\n    }\n\n    .dataframe tbody tr th {\n        vertical-align: top;\n    }\n\n    .dataframe thead th {\n        text-align: right;\n    }\n</style>\n<table border=\"1\" class=\"dataframe\">\n  <thead>\n    <tr style=\"text-align: right;\">\n      <th></th>\n      <th>学生编号</th>\n      <th>月消费支出额（元）</th>\n    </tr>\n  </thead>\n  <tbody>\n    <tr>\n      <th>0</th>\n      <td>1</td>\n      <td>410</td>\n    </tr>\n    <tr>\n      <th>1</th>\n      <td>2</td>\n      <td>350</td>\n    </tr>\n    <tr>\n      <th>2</th>\n      <td>3</td>\n      <td>466</td>\n    </tr>\n    <tr>\n      <th>3</th>\n      <td>4</td>\n      <td>385</td>\n    </tr>\n    <tr>\n      <th>4</th>\n      <td>5</td>\n      <td>500</td>\n    </tr>\n    <tr>\n      <th>...</th>\n      <td>...</td>\n      <td>...</td>\n    </tr>\n    <tr>\n      <th>105</th>\n      <td>106</td>\n      <td>811</td>\n    </tr>\n    <tr>\n      <th>106</th>\n      <td>107</td>\n      <td>1109</td>\n    </tr>\n    <tr>\n      <th>107</th>\n      <td>108</td>\n      <td>1276</td>\n    </tr>\n    <tr>\n      <th>108</th>\n      <td>109</td>\n      <td>745</td>\n    </tr>\n    <tr>\n      <th>109</th>\n      <td>110</td>\n      <td>678</td>\n    </tr>\n  </tbody>\n</table>\n<p>110 rows × 2 columns</p>\n</div>"
     },
     "execution_count": 3,
     "metadata": {},
     "output_type": "execute_result"
    }
   ],
   "source": [
    "data"
   ]
  },
  {
   "cell_type": "markdown",
   "metadata": {
    "pycharm": {
     "name": "#%% md\n"
    }
   },
   "source": [
    "### 1.1大样本条件下总体均值的区间估计\n",
    "计算110名学生的月平均消费额，并据此估计该校学生的月平均消费额，假设区间的置信水平为95%"
   ]
  },
  {
   "cell_type": "markdown",
   "metadata": {
    "pycharm": {
     "name": "#%% md\n"
    }
   },
   "source": [
    "#### 1.1.1计算样本均值和标准差"
   ]
  },
  {
   "cell_type": "code",
   "execution_count": 4,
   "metadata": {
    "pycharm": {
     "name": "#%%\n"
    }
   },
   "outputs": [
    {
     "name": "stdout",
     "output_type": "stream",
     "text": [
      "大样本均值为： 597.0181818181818\n"
     ]
    }
   ],
   "source": [
    "mean_avg = data['月消费支出额（元）'].mean()\n",
    "print(\"大样本均值为：\",mean_avg)"
   ]
  },
  {
   "cell_type": "code",
   "execution_count": 5,
   "metadata": {
    "pycharm": {
     "name": "#%%\n"
    }
   },
   "outputs": [
    {
     "name": "stdout",
     "output_type": "stream",
     "text": [
      "大样本标准差： 156.96291748229515\n"
     ]
    }
   ],
   "source": [
    "std_avg = data['月消费支出额（元）'].std()\n",
    "print(\"大样本标准差：\", std_avg)"
   ]
  },
  {
   "cell_type": "markdown",
   "metadata": {
    "pycharm": {
     "name": "#%% md\n"
    }
   },
   "source": [
    "#### 1.1.2计算边际误差或允许误差\n",
    "边际误差：$ E = |z_{\\frac \\alpha2}| \\frac s{\\sqrt n} $"
   ]
  },
  {
   "cell_type": "code",
   "execution_count": 6,
   "metadata": {
    "pycharm": {
     "name": "#%%\n"
    }
   },
   "outputs": [
    {
     "name": "stdout",
     "output_type": "stream",
     "text": [
      "边际误差E为：29.33\n"
     ]
    }
   ],
   "source": [
    "level = 0.95\n",
    "alpha = 1 - level\n",
    "n_sample = len(data)\n",
    "z = stats.norm.ppf(alpha / 2,loc=0,scale=1) # 均值为 0 且标准差为 1 的正态分布位数\n",
    "E = -z * std_avg / (math.sqrt(n_sample))\n",
    "print(\"边际误差E为：{:.2f}\".format(E))"
   ]
  },
  {
   "cell_type": "markdown",
   "metadata": {
    "pycharm": {
     "name": "#%% md\n"
    }
   },
   "source": [
    "#### 1.1.3确定总体均值的置信区间\n",
    "均值的置信区间： $ \\bar x \\pm z_{\\frac \\alpha2} \\frac \\sigma{\\sqrt n} $"
   ]
  },
  {
   "cell_type": "code",
   "execution_count": 7,
   "metadata": {
    "pycharm": {
     "name": "#%%\n"
    }
   },
   "outputs": [
    {
     "name": "stdout",
     "output_type": "stream",
     "text": [
      "置信区间为(567.69,626.35)\n"
     ]
    }
   ],
   "source": [
    "l = mean_avg - E\n",
    "r = mean_avg + E\n",
    "print(\"置信区间为({:.2f},{:.2f})\".format(l,r))"
   ]
  },
  {
   "cell_type": "markdown",
   "metadata": {
    "pycharm": {
     "name": "#%% md\n"
    }
   },
   "source": [
    "结论：<br>\n",
    "在置信水平为95%的条件下，110名学生的月销售额估计的该校学生的月销售额的置信区间为(567.69,626.35)"
   ]
  },
  {
   "cell_type": "markdown",
   "metadata": {
    "pycharm": {
     "name": "#%% md\n"
    }
   },
   "source": [
    "### 1.2小样本条件下总体均值的区间估计"
   ]
  },
  {
   "cell_type": "code",
   "execution_count": 8,
   "metadata": {
    "pycharm": {
     "name": "#%%\n"
    }
   },
   "outputs": [
    {
     "data": {
      "text/plain": "     学生编号  月消费支出额（元）\n27     28        464\n10     11        399\n5       6        550\n85     86        575\n105   106        811\n49     50        680\n32     33        617\n97     98        910\n8       9        470\n11     12        445\n90     91        511\n4       5        500\n1       2        350\n67     68        581\n101   102        779\n88     89        520\n29     30        678\n92     93        560\n74     75        492\n45     46        629",
      "text/html": "<div>\n<style scoped>\n    .dataframe tbody tr th:only-of-type {\n        vertical-align: middle;\n    }\n\n    .dataframe tbody tr th {\n        vertical-align: top;\n    }\n\n    .dataframe thead th {\n        text-align: right;\n    }\n</style>\n<table border=\"1\" class=\"dataframe\">\n  <thead>\n    <tr style=\"text-align: right;\">\n      <th></th>\n      <th>学生编号</th>\n      <th>月消费支出额（元）</th>\n    </tr>\n  </thead>\n  <tbody>\n    <tr>\n      <th>27</th>\n      <td>28</td>\n      <td>464</td>\n    </tr>\n    <tr>\n      <th>10</th>\n      <td>11</td>\n      <td>399</td>\n    </tr>\n    <tr>\n      <th>5</th>\n      <td>6</td>\n      <td>550</td>\n    </tr>\n    <tr>\n      <th>85</th>\n      <td>86</td>\n      <td>575</td>\n    </tr>\n    <tr>\n      <th>105</th>\n      <td>106</td>\n      <td>811</td>\n    </tr>\n    <tr>\n      <th>49</th>\n      <td>50</td>\n      <td>680</td>\n    </tr>\n    <tr>\n      <th>32</th>\n      <td>33</td>\n      <td>617</td>\n    </tr>\n    <tr>\n      <th>97</th>\n      <td>98</td>\n      <td>910</td>\n    </tr>\n    <tr>\n      <th>8</th>\n      <td>9</td>\n      <td>470</td>\n    </tr>\n    <tr>\n      <th>11</th>\n      <td>12</td>\n      <td>445</td>\n    </tr>\n    <tr>\n      <th>90</th>\n      <td>91</td>\n      <td>511</td>\n    </tr>\n    <tr>\n      <th>4</th>\n      <td>5</td>\n      <td>500</td>\n    </tr>\n    <tr>\n      <th>1</th>\n      <td>2</td>\n      <td>350</td>\n    </tr>\n    <tr>\n      <th>67</th>\n      <td>68</td>\n      <td>581</td>\n    </tr>\n    <tr>\n      <th>101</th>\n      <td>102</td>\n      <td>779</td>\n    </tr>\n    <tr>\n      <th>88</th>\n      <td>89</td>\n      <td>520</td>\n    </tr>\n    <tr>\n      <th>29</th>\n      <td>30</td>\n      <td>678</td>\n    </tr>\n    <tr>\n      <th>92</th>\n      <td>93</td>\n      <td>560</td>\n    </tr>\n    <tr>\n      <th>74</th>\n      <td>75</td>\n      <td>492</td>\n    </tr>\n    <tr>\n      <th>45</th>\n      <td>46</td>\n      <td>629</td>\n    </tr>\n  </tbody>\n</table>\n</div>"
     },
     "execution_count": 8,
     "metadata": {},
     "output_type": "execute_result"
    }
   ],
   "source": [
    "sample_data = data.iloc[random.sample(range(n_sample),20)]\n",
    "sample_data"
   ]
  },
  {
   "cell_type": "markdown",
   "metadata": {},
   "source": [
    "#### 1.2.1计算样本均值"
   ]
  },
  {
   "cell_type": "code",
   "execution_count": 9,
   "metadata": {
    "pycharm": {
     "name": "#%%\n"
    }
   },
   "outputs": [
    {
     "name": "stdout",
     "output_type": "stream",
     "text": [
      "小样本均值为： 597.0181818181818\n",
      "小样本标准差： 156.96291748229515\n"
     ]
    }
   ],
   "source": [
    "sample_mean = data['月消费支出额（元）'].mean()\n",
    "print(\"小样本均值为：\",sample_mean)\n",
    "sample_std = data['月消费支出额（元）'].std()\n",
    "print(\"小样本标准差：\", sample_std)"
   ]
  },
  {
   "cell_type": "markdown",
   "metadata": {},
   "source": [
    "#### 1.2.2计算边际误差或允许误差\n",
    "边际误差：$ E = t_{\\frac \\alpha2}(n - 1) \\frac s{\\sqrt n} $"
   ]
  },
  {
   "cell_type": "code",
   "execution_count": 10,
   "metadata": {
    "pycharm": {
     "name": "#%%\n"
    }
   },
   "outputs": [
    {
     "name": "stdout",
     "output_type": "stream",
     "text": [
      "边际误差E为：68.79\n"
     ]
    }
   ],
   "source": [
    "level = 0.95\n",
    "alpha = 1 - level\n",
    "random_sample_length = len(sample_data)\n",
    "t = stats.t.ppf(1 - alpha / 2,random_sample_length - 1) # (n - 1)的t分布位数\n",
    "E_sample = -z * sample_std / (math.sqrt(random_sample_length))\n",
    "print(\"边际误差E为：{:.2f}\".format(E_sample))"
   ]
  },
  {
   "cell_type": "markdown",
   "metadata": {},
   "source": [
    "#### 1.2.3确定总体均值的置信区间"
   ]
  },
  {
   "cell_type": "code",
   "execution_count": 11,
   "metadata": {
    "pycharm": {
     "name": "#%%\n"
    }
   },
   "outputs": [
    {
     "name": "stdout",
     "output_type": "stream",
     "text": [
      "小样本的置信区间为(528.23,665.81)\n"
     ]
    }
   ],
   "source": [
    "l_sample = sample_mean - E_sample\n",
    "r_sample = sample_mean + E_sample\n",
    "print(\"小样本的置信区间为({:.2f},{:.2f})\".format(l_sample,r_sample))"
   ]
  },
  {
   "cell_type": "markdown",
   "metadata": {
    "pycharm": {
     "name": "#%% md\n"
    }
   },
   "source": [
    "结论：<br>\n",
    "在置信水平为95%的条件下，由20名学生的月销售额估计的该校学生的月销售额的置信区间为(528.23,665.81)"
   ]
  },
  {
   "cell_type": "markdown",
   "metadata": {
    "pycharm": {
     "name": "#%% md\n"
    }
   },
   "source": [
    "### 1.3总体比例的区间估计\n",
    "计算月消费额超过600元的学生所占的比例"
   ]
  },
  {
   "cell_type": "code",
   "execution_count": 12,
   "metadata": {
    "pycharm": {
     "name": "#%%\n"
    }
   },
   "outputs": [
    {
     "name": "stdout",
     "output_type": "stream",
     "text": [
      "40\n"
     ]
    },
    {
     "data": {
      "text/plain": "     学生编号  月消费支出额（元）\n9      10        655\n15     16        660\n18     19        748\n29     30        678\n32     33        617\n38     39        779\n45     46        629\n47     48        710\n48     49        650\n49     50        680\n50     51        712\n53     54        655\n59     60        778\n60     61        644\n64     65        646\n65     66        668\n68     69        685\n71     72        620\n72     73        622\n73     74        758\n75     76        946\n76     77        720\n77     78        961\n78     79        821\n80     81        800\n83     84        798\n86     87        698\n94     95        836\n95     96        733\n97     98        910\n99    100        785\n101   102        779\n102   103        798\n103   104        663\n104   105        935\n105   106        811\n106   107       1109\n107   108       1276\n108   109        745\n109   110        678",
      "text/html": "<div>\n<style scoped>\n    .dataframe tbody tr th:only-of-type {\n        vertical-align: middle;\n    }\n\n    .dataframe tbody tr th {\n        vertical-align: top;\n    }\n\n    .dataframe thead th {\n        text-align: right;\n    }\n</style>\n<table border=\"1\" class=\"dataframe\">\n  <thead>\n    <tr style=\"text-align: right;\">\n      <th></th>\n      <th>学生编号</th>\n      <th>月消费支出额（元）</th>\n    </tr>\n  </thead>\n  <tbody>\n    <tr>\n      <th>9</th>\n      <td>10</td>\n      <td>655</td>\n    </tr>\n    <tr>\n      <th>15</th>\n      <td>16</td>\n      <td>660</td>\n    </tr>\n    <tr>\n      <th>18</th>\n      <td>19</td>\n      <td>748</td>\n    </tr>\n    <tr>\n      <th>29</th>\n      <td>30</td>\n      <td>678</td>\n    </tr>\n    <tr>\n      <th>32</th>\n      <td>33</td>\n      <td>617</td>\n    </tr>\n    <tr>\n      <th>38</th>\n      <td>39</td>\n      <td>779</td>\n    </tr>\n    <tr>\n      <th>45</th>\n      <td>46</td>\n      <td>629</td>\n    </tr>\n    <tr>\n      <th>47</th>\n      <td>48</td>\n      <td>710</td>\n    </tr>\n    <tr>\n      <th>48</th>\n      <td>49</td>\n      <td>650</td>\n    </tr>\n    <tr>\n      <th>49</th>\n      <td>50</td>\n      <td>680</td>\n    </tr>\n    <tr>\n      <th>50</th>\n      <td>51</td>\n      <td>712</td>\n    </tr>\n    <tr>\n      <th>53</th>\n      <td>54</td>\n      <td>655</td>\n    </tr>\n    <tr>\n      <th>59</th>\n      <td>60</td>\n      <td>778</td>\n    </tr>\n    <tr>\n      <th>60</th>\n      <td>61</td>\n      <td>644</td>\n    </tr>\n    <tr>\n      <th>64</th>\n      <td>65</td>\n      <td>646</td>\n    </tr>\n    <tr>\n      <th>65</th>\n      <td>66</td>\n      <td>668</td>\n    </tr>\n    <tr>\n      <th>68</th>\n      <td>69</td>\n      <td>685</td>\n    </tr>\n    <tr>\n      <th>71</th>\n      <td>72</td>\n      <td>620</td>\n    </tr>\n    <tr>\n      <th>72</th>\n      <td>73</td>\n      <td>622</td>\n    </tr>\n    <tr>\n      <th>73</th>\n      <td>74</td>\n      <td>758</td>\n    </tr>\n    <tr>\n      <th>75</th>\n      <td>76</td>\n      <td>946</td>\n    </tr>\n    <tr>\n      <th>76</th>\n      <td>77</td>\n      <td>720</td>\n    </tr>\n    <tr>\n      <th>77</th>\n      <td>78</td>\n      <td>961</td>\n    </tr>\n    <tr>\n      <th>78</th>\n      <td>79</td>\n      <td>821</td>\n    </tr>\n    <tr>\n      <th>80</th>\n      <td>81</td>\n      <td>800</td>\n    </tr>\n    <tr>\n      <th>83</th>\n      <td>84</td>\n      <td>798</td>\n    </tr>\n    <tr>\n      <th>86</th>\n      <td>87</td>\n      <td>698</td>\n    </tr>\n    <tr>\n      <th>94</th>\n      <td>95</td>\n      <td>836</td>\n    </tr>\n    <tr>\n      <th>95</th>\n      <td>96</td>\n      <td>733</td>\n    </tr>\n    <tr>\n      <th>97</th>\n      <td>98</td>\n      <td>910</td>\n    </tr>\n    <tr>\n      <th>99</th>\n      <td>100</td>\n      <td>785</td>\n    </tr>\n    <tr>\n      <th>101</th>\n      <td>102</td>\n      <td>779</td>\n    </tr>\n    <tr>\n      <th>102</th>\n      <td>103</td>\n      <td>798</td>\n    </tr>\n    <tr>\n      <th>103</th>\n      <td>104</td>\n      <td>663</td>\n    </tr>\n    <tr>\n      <th>104</th>\n      <td>105</td>\n      <td>935</td>\n    </tr>\n    <tr>\n      <th>105</th>\n      <td>106</td>\n      <td>811</td>\n    </tr>\n    <tr>\n      <th>106</th>\n      <td>107</td>\n      <td>1109</td>\n    </tr>\n    <tr>\n      <th>107</th>\n      <td>108</td>\n      <td>1276</td>\n    </tr>\n    <tr>\n      <th>108</th>\n      <td>109</td>\n      <td>745</td>\n    </tr>\n    <tr>\n      <th>109</th>\n      <td>110</td>\n      <td>678</td>\n    </tr>\n  </tbody>\n</table>\n</div>"
     },
     "execution_count": 12,
     "metadata": {},
     "output_type": "execute_result"
    }
   ],
   "source": [
    "df = data[data['月消费支出额（元）'] >= 600]\n",
    "print(len(df))\n",
    "df"
   ]
  },
  {
   "cell_type": "markdown",
   "metadata": {},
   "source": [
    "#### 1.3.1计算样本比例"
   ]
  },
  {
   "cell_type": "code",
   "execution_count": 13,
   "metadata": {
    "pycharm": {
     "name": "#%%\n"
    }
   },
   "outputs": [
    {
     "data": {
      "text/plain": "0.36363636363636365"
     },
     "execution_count": 13,
     "metadata": {},
     "output_type": "execute_result"
    }
   ],
   "source": [
    "propotion = len(df) / n_sample\n",
    "propotion"
   ]
  },
  {
   "cell_type": "markdown",
   "metadata": {},
   "source": [
    "#### 1.3.2计算样本比例的标准差"
   ]
  },
  {
   "cell_type": "code",
   "execution_count": 14,
   "metadata": {
    "pycharm": {
     "name": "#%%\n"
    }
   },
   "outputs": [
    {
     "data": {
      "text/plain": "0.48104569292083466"
     },
     "execution_count": 14,
     "metadata": {},
     "output_type": "execute_result"
    }
   ],
   "source": [
    "pro_std = math.sqrt(propotion * (1 - propotion))\n",
    "pro_std"
   ]
  },
  {
   "cell_type": "markdown",
   "metadata": {},
   "source": [
    "#### 1.3.3确定总体比例的置信区间"
   ]
  },
  {
   "cell_type": "code",
   "execution_count": 15,
   "metadata": {
    "pycharm": {
     "name": "#%%\n"
    }
   },
   "outputs": [
    {
     "name": "stdout",
     "output_type": "stream",
     "text": [
      "样本比例的区间估计为：(27.37%,45.35%)\n"
     ]
    }
   ],
   "source": [
    "z_p = stats.norm.ppf(alpha / 2,loc=0,scale=1)\n",
    "\n",
    "p_l = propotion - math.fabs(z_p) * pro_std / (math.sqrt(n_sample))\n",
    "p_r = propotion + math.fabs(z_p) * pro_std / (math.sqrt(n_sample))\n",
    "print(\"样本比例的区间估计为：({:.2f}%,{:.2f}%)\".format(p_l * 100,p_r * 100))"
   ]
  },
  {
   "cell_type": "markdown",
   "metadata": {
    "pycharm": {
     "name": "#%% md\n"
    }
   },
   "source": [
    "## 2.第二题"
   ]
  },
  {
   "cell_type": "code",
   "execution_count": 16,
   "metadata": {
    "pycharm": {
     "name": "#%%\n"
    }
   },
   "outputs": [
    {
     "name": "stdout",
     "output_type": "stream",
     "text": [
      "<class 'pandas.core.frame.DataFrame'>\n",
      "RangeIndex: 1009 entries, 0 to 1008\n",
      "Data columns (total 11 columns):\n",
      " #   Column  Non-Null Count  Dtype  \n",
      "---  ------  --------------  -----  \n",
      " 0   商品名称    1009 non-null   object \n",
      " 1   产品毛重    1009 non-null   object \n",
      " 2   商品产地    489 non-null    object \n",
      " 3   包装      1007 non-null   object \n",
      " 4   香调      1005 non-null   object \n",
      " 5   净含量     1007 non-null   object \n",
      " 6   分类      1008 non-null   object \n",
      " 7   性别      1009 non-null   object \n",
      " 8   适用场所    969 non-null    object \n",
      " 9   价格      1009 non-null   float64\n",
      " 10  评价      1009 non-null   object \n",
      "dtypes: float64(1), object(10)\n",
      "memory usage: 86.8+ KB\n"
     ]
    }
   ],
   "source": [
    "perfume_data.info()"
   ]
  },
  {
   "cell_type": "code",
   "execution_count": 17,
   "metadata": {
    "pycharm": {
     "name": "#%%\n"
    }
   },
   "outputs": [
    {
     "data": {
      "text/plain": "                                             商品名称     产品毛重    商品产地    包装  \\\n0                                冰希黎6956008601463   10.00g  中国大陆上海  Q版香水   \n1                                冰希黎6956008601432  200.00g  中国大陆上海  Q版香水   \n2          （免邮）上海老国货艾琳法国茉莉女士香水75ml EDP 持久淡香清新花香调   160.00g     NaN   独立装   \n3          法颂浪漫梦境女士香膏15g 持久淡香清新固体精油香水香体膏 女士持久淡香礼盒   15.00g     NaN  Q版香水   \n4                                            雅芳香水   30.00g    中国大陆   独立装   \n...                                           ...      ...     ...   ...   \n1004                                        香奈儿香水  300.00g      法国   独立装   \n1005   香奈儿机会/机遇/黄色邂逅女士香水50/100ML/持久淡香精EDP EDP50ml   20.00g     NaN   独立装   \n1006       Chanel香奈儿 COCO可可小姐 淡香水EDT 白色 EDP 100ml  200.00g     NaN  礼品套装   \n1007            Dior克丽丝汀迪奥女士香水套装 魅惑+花漾+真我各50ml三件套  200.00g     NaN   独立装   \n1008  香奈儿机会/机遇/黄色邂逅女士香水50/100ML/持久淡香精EDP EDP100ml   20.00g     NaN   独立装   \n\n        香调         净含量       分类 性别                    适用场所      价格     评价  \n0     花果香调    1ml-15ml   浓香水EDP  女  日常，约会，情趣，商务，party聚会，旅行     9.9  1.9万+  \n1     混合香调    1ml-15ml   浓香水EDP  女     日常，约会，party聚会，运动，旅行     9.9  1.9万+  \n2     花果香调  31ml-100ml   浓香水EDP  女     日常，约会，商务，party聚会，旅行    18.0    90+  \n3     花果香调    1ml-15ml  固体香水/香膏  女  日常，约会，商务，party聚会，运动，旅行    22.0    30+  \n4     东方香调    1ml-15ml   淡香水EDT  女  日常，约会，商务，party聚会，运动，旅行    23.9  3.9万+  \n...    ...         ...      ... ..                     ...     ...    ...  \n1004  花果香调  31ml-100ml   浓香水EDP  女     日常，约会，商务，party聚会，旅行  1420.0  5000+  \n1005  花果香调  31ml-100ml   浓香水EDP  女                      约会  1850.0      3  \n1006  花果香调  31ml-100ml   淡香水EDT  女                   日常，约会  1996.0      0  \n1007  东方香调  31ml-100ml   淡香水EDT  女  日常，约会，商务，party聚会，运动，旅行  2200.0    10+  \n1008  花果香调  31ml-100ml   浓香水EDP  女                      约会  2212.0      3  \n\n[1009 rows x 11 columns]",
      "text/html": "<div>\n<style scoped>\n    .dataframe tbody tr th:only-of-type {\n        vertical-align: middle;\n    }\n\n    .dataframe tbody tr th {\n        vertical-align: top;\n    }\n\n    .dataframe thead th {\n        text-align: right;\n    }\n</style>\n<table border=\"1\" class=\"dataframe\">\n  <thead>\n    <tr style=\"text-align: right;\">\n      <th></th>\n      <th>商品名称</th>\n      <th>产品毛重</th>\n      <th>商品产地</th>\n      <th>包装</th>\n      <th>香调</th>\n      <th>净含量</th>\n      <th>分类</th>\n      <th>性别</th>\n      <th>适用场所</th>\n      <th>价格</th>\n      <th>评价</th>\n    </tr>\n  </thead>\n  <tbody>\n    <tr>\n      <th>0</th>\n      <td>冰希黎6956008601463</td>\n      <td>10.00g</td>\n      <td>中国大陆上海</td>\n      <td>Q版香水</td>\n      <td>花果香调</td>\n      <td>1ml-15ml</td>\n      <td>浓香水EDP</td>\n      <td>女</td>\n      <td>日常，约会，情趣，商务，party聚会，旅行</td>\n      <td>9.9</td>\n      <td>1.9万+</td>\n    </tr>\n    <tr>\n      <th>1</th>\n      <td>冰希黎6956008601432</td>\n      <td>200.00g</td>\n      <td>中国大陆上海</td>\n      <td>Q版香水</td>\n      <td>混合香调</td>\n      <td>1ml-15ml</td>\n      <td>浓香水EDP</td>\n      <td>女</td>\n      <td>日常，约会，party聚会，运动，旅行</td>\n      <td>9.9</td>\n      <td>1.9万+</td>\n    </tr>\n    <tr>\n      <th>2</th>\n      <td>（免邮）上海老国货艾琳法国茉莉女士香水75ml EDP 持久淡香清新花香调</td>\n      <td>160.00g</td>\n      <td>NaN</td>\n      <td>独立装</td>\n      <td>花果香调</td>\n      <td>31ml-100ml</td>\n      <td>浓香水EDP</td>\n      <td>女</td>\n      <td>日常，约会，商务，party聚会，旅行</td>\n      <td>18.0</td>\n      <td>90+</td>\n    </tr>\n    <tr>\n      <th>3</th>\n      <td>法颂浪漫梦境女士香膏15g 持久淡香清新固体精油香水香体膏 女士持久淡香礼盒</td>\n      <td>15.00g</td>\n      <td>NaN</td>\n      <td>Q版香水</td>\n      <td>花果香调</td>\n      <td>1ml-15ml</td>\n      <td>固体香水/香膏</td>\n      <td>女</td>\n      <td>日常，约会，商务，party聚会，运动，旅行</td>\n      <td>22.0</td>\n      <td>30+</td>\n    </tr>\n    <tr>\n      <th>4</th>\n      <td>雅芳香水</td>\n      <td>30.00g</td>\n      <td>中国大陆</td>\n      <td>独立装</td>\n      <td>东方香调</td>\n      <td>1ml-15ml</td>\n      <td>淡香水EDT</td>\n      <td>女</td>\n      <td>日常，约会，商务，party聚会，运动，旅行</td>\n      <td>23.9</td>\n      <td>3.9万+</td>\n    </tr>\n    <tr>\n      <th>...</th>\n      <td>...</td>\n      <td>...</td>\n      <td>...</td>\n      <td>...</td>\n      <td>...</td>\n      <td>...</td>\n      <td>...</td>\n      <td>...</td>\n      <td>...</td>\n      <td>...</td>\n      <td>...</td>\n    </tr>\n    <tr>\n      <th>1004</th>\n      <td>香奈儿香水</td>\n      <td>300.00g</td>\n      <td>法国</td>\n      <td>独立装</td>\n      <td>花果香调</td>\n      <td>31ml-100ml</td>\n      <td>浓香水EDP</td>\n      <td>女</td>\n      <td>日常，约会，商务，party聚会，旅行</td>\n      <td>1420.0</td>\n      <td>5000+</td>\n    </tr>\n    <tr>\n      <th>1005</th>\n      <td>香奈儿机会/机遇/黄色邂逅女士香水50/100ML/持久淡香精EDP EDP50ml</td>\n      <td>20.00g</td>\n      <td>NaN</td>\n      <td>独立装</td>\n      <td>花果香调</td>\n      <td>31ml-100ml</td>\n      <td>浓香水EDP</td>\n      <td>女</td>\n      <td>约会</td>\n      <td>1850.0</td>\n      <td>3</td>\n    </tr>\n    <tr>\n      <th>1006</th>\n      <td>Chanel香奈儿 COCO可可小姐 淡香水EDT 白色 EDP 100ml</td>\n      <td>200.00g</td>\n      <td>NaN</td>\n      <td>礼品套装</td>\n      <td>花果香调</td>\n      <td>31ml-100ml</td>\n      <td>淡香水EDT</td>\n      <td>女</td>\n      <td>日常，约会</td>\n      <td>1996.0</td>\n      <td>0</td>\n    </tr>\n    <tr>\n      <th>1007</th>\n      <td>Dior克丽丝汀迪奥女士香水套装 魅惑+花漾+真我各50ml三件套</td>\n      <td>200.00g</td>\n      <td>NaN</td>\n      <td>独立装</td>\n      <td>东方香调</td>\n      <td>31ml-100ml</td>\n      <td>淡香水EDT</td>\n      <td>女</td>\n      <td>日常，约会，商务，party聚会，运动，旅行</td>\n      <td>2200.0</td>\n      <td>10+</td>\n    </tr>\n    <tr>\n      <th>1008</th>\n      <td>香奈儿机会/机遇/黄色邂逅女士香水50/100ML/持久淡香精EDP EDP100ml</td>\n      <td>20.00g</td>\n      <td>NaN</td>\n      <td>独立装</td>\n      <td>花果香调</td>\n      <td>31ml-100ml</td>\n      <td>浓香水EDP</td>\n      <td>女</td>\n      <td>约会</td>\n      <td>2212.0</td>\n      <td>3</td>\n    </tr>\n  </tbody>\n</table>\n<p>1009 rows × 11 columns</p>\n</div>"
     },
     "execution_count": 17,
     "metadata": {},
     "output_type": "execute_result"
    }
   ],
   "source": [
    "perfume_data"
   ]
  },
  {
   "cell_type": "markdown",
   "metadata": {
    "pycharm": {
     "name": "#%% md\n"
    }
   },
   "source": [
    "### 2.1香水种类"
   ]
  },
  {
   "cell_type": "code",
   "execution_count": 18,
   "metadata": {
    "pycharm": {
     "name": "#%%\n"
    }
   },
   "outputs": [
    {
     "data": {
      "text/plain": "           count\n            商品名称\n分类              \n其它            60\n发香雾           12\n古龙水            2\n固体香水/香膏        3\n浓香水EDP       265\n淡香水EDT       651\n淡香水EDT，古龙水     3\n香体走珠           6\n香精parfum       6",
      "text/html": "<div>\n<style scoped>\n    .dataframe tbody tr th:only-of-type {\n        vertical-align: middle;\n    }\n\n    .dataframe tbody tr th {\n        vertical-align: top;\n    }\n\n    .dataframe thead tr th {\n        text-align: left;\n    }\n\n    .dataframe thead tr:last-of-type th {\n        text-align: right;\n    }\n</style>\n<table border=\"1\" class=\"dataframe\">\n  <thead>\n    <tr>\n      <th></th>\n      <th>count</th>\n    </tr>\n    <tr>\n      <th></th>\n      <th>商品名称</th>\n    </tr>\n    <tr>\n      <th>分类</th>\n      <th></th>\n    </tr>\n  </thead>\n  <tbody>\n    <tr>\n      <th>其它</th>\n      <td>60</td>\n    </tr>\n    <tr>\n      <th>发香雾</th>\n      <td>12</td>\n    </tr>\n    <tr>\n      <th>古龙水</th>\n      <td>2</td>\n    </tr>\n    <tr>\n      <th>固体香水/香膏</th>\n      <td>3</td>\n    </tr>\n    <tr>\n      <th>浓香水EDP</th>\n      <td>265</td>\n    </tr>\n    <tr>\n      <th>淡香水EDT</th>\n      <td>651</td>\n    </tr>\n    <tr>\n      <th>淡香水EDT，古龙水</th>\n      <td>3</td>\n    </tr>\n    <tr>\n      <th>香体走珠</th>\n      <td>6</td>\n    </tr>\n    <tr>\n      <th>香精parfum</th>\n      <td>6</td>\n    </tr>\n  </tbody>\n</table>\n</div>"
     },
     "execution_count": 18,
     "metadata": {},
     "output_type": "execute_result"
    },
    {
     "data": {
      "text/plain": "<Figure size 432x288 with 1 Axes>",
      "image/png": "[encoded data removed]"
     },
     "metadata": {
      "needs_background": "light"
     },
     "output_type": "display_data"
    }
   ],
   "source": [
    "category = perfume_data.pivot_table(index=['分类'],values=['商品名称'],aggfunc=['count'])\n",
    "\n",
    "category.plot(kind='bar')\n",
    "plt.xticks(rotation=45)\n",
    "plt.title('香水种类统计')\n",
    "category"
   ]
  },
  {
   "cell_type": "markdown",
   "source": [
    "香水种类最多的为：淡香水EDT，其次是浓香水EDP"
   ],
   "metadata": {
    "collapsed": false,
    "pycharm": {
     "name": "#%% md\n"
    }
   }
  },
  {
   "cell_type": "markdown",
   "metadata": {
    "pycharm": {
     "name": "#%% md\n"
    }
   },
   "source": [
    "### 2.2香水产地"
   ]
  },
  {
   "cell_type": "code",
   "execution_count": 19,
   "outputs": [
    {
     "data": {
      "text/plain": "array(['中国大陆上海', nan, '中国大陆', '广州', '广东', '中国广东', '浙江义乌', '浙江', '法国',\n       '意大利', '英国', '德国', '美国', '德国/美国', '西班牙', '美国/法国', '法国  摩纳哥',\n       '法国/美国'], dtype=object)"
     },
     "execution_count": 19,
     "metadata": {},
     "output_type": "execute_result"
    }
   ],
   "source": [
    "perfume_data['商品产地'].unique()"
   ],
   "metadata": {
    "collapsed": false,
    "pycharm": {
     "name": "#%%\n"
    }
   }
  },
  {
   "cell_type": "code",
   "execution_count": 20,
   "outputs": [
    {
     "data": {
      "text/plain": "array(['中国', nan, '法国', '意大利', '英国', '德国', '美国', '德国/美国', '西班牙', '法国/美国'],\n      dtype=object)"
     },
     "execution_count": 20,
     "metadata": {},
     "output_type": "execute_result"
    }
   ],
   "source": [
    "China_place = ['中国大陆上海', '中国大陆', '广州', '广东', '中国广东', '浙江义乌', '浙江']\n",
    "Other_place = ['法国','意大利', '英国', '德国', '美国', '德国/美国', '西班牙','法国/美国']\n",
    "place_dict = {}\n",
    "for i in range(len(China_place)):\n",
    "    place_dict[China_place[i]] = '中国'\n",
    "for i in range(len(Other_place)):\n",
    "    place_dict[Other_place[i]] = Other_place[i]\n",
    "place_dict['美国/法国'] = '法国/美国'\n",
    "place_dict['法国  摩纳哥'] = '法国'\n",
    "# place_dict\n",
    "df = perfume_data\n",
    "df['商品产地'] = df['商品产地'].map(place_dict)\n",
    "df['商品产地'].unique()"
   ],
   "metadata": {
    "collapsed": false,
    "pycharm": {
     "name": "#%%\n"
    }
   }
  },
  {
   "cell_type": "code",
   "execution_count": 21,
   "metadata": {
    "pycharm": {
     "name": "#%%\n"
    }
   },
   "outputs": [
    {
     "data": {
      "text/plain": "array([<AxesSubplot:ylabel='(count, 商品名称)'>], dtype=object)"
     },
     "execution_count": 21,
     "metadata": {},
     "output_type": "execute_result"
    },
    {
     "data": {
      "text/plain": "<Figure size 720x720 with 1 Axes>",
      "image/png": "[encoded data removed]"
     },
     "metadata": {},
     "output_type": "display_data"
    }
   ],
   "source": [
    "place = df.pivot_table(index=['商品产地'],values=['商品名称'],aggfunc=['count'])\n",
    "\n",
    "val = list(place.values.flatten()) # val = [38, 13, 6, 92, 236, 3, 48, 38, 15]\n",
    "\n",
    "def make_autopct(values):\n",
    "    def my_autopct(pct):\n",
    "        total = sum(values)\n",
    "        val = int(round(pct*total/100.0))\n",
    "        return '{v:d}'.format(v=val)\n",
    "    return my_autopct\n",
    "\n",
    "# plt.pie(val,labels=place.index, autopct=make_autopct(val),shadow=True)\n",
    "place.plot(kind='pie',subplots=True,figsize=(10, 10),shadow=True,autopct=make_autopct(val))"
   ]
  },
  {
   "cell_type": "code",
   "execution_count": 22,
   "metadata": {
    "pycharm": {
     "name": "#%%\n"
    }
   },
   "outputs": [
    {
     "data": {
      "text/plain": "520"
     },
     "execution_count": 22,
     "metadata": {},
     "output_type": "execute_result"
    }
   ],
   "source": [
    "perfume_data['商品产地'].isnull().sum() # 产地缺失-520条记录"
   ]
  },
  {
   "cell_type": "markdown",
   "source": [
    "香水大多数来源于法国，其次是意大利、美国、中国"
   ],
   "metadata": {
    "collapsed": false,
    "pycharm": {
     "name": "#%% md\n"
    }
   }
  },
  {
   "cell_type": "markdown",
   "metadata": {
    "pycharm": {
     "name": "#%% md\n"
    }
   },
   "source": [
    "### 2.3香水价格"
   ]
  },
  {
   "cell_type": "code",
   "execution_count": 23,
   "outputs": [
    {
     "data": {
      "text/plain": "             计数\n100元以下      138\n100-300元    261\n300-500元    271\n500-1000元   296\n1000-1500元   39\n1500-2000元    2\n2000元以上       2",
      "text/html": "<div>\n<style scoped>\n    .dataframe tbody tr th:only-of-type {\n        vertical-align: middle;\n    }\n\n    .dataframe tbody tr th {\n        vertical-align: top;\n    }\n\n    .dataframe thead th {\n        text-align: right;\n    }\n</style>\n<table border=\"1\" class=\"dataframe\">\n  <thead>\n    <tr style=\"text-align: right;\">\n      <th></th>\n      <th>计数</th>\n    </tr>\n  </thead>\n  <tbody>\n    <tr>\n      <th>100元以下</th>\n      <td>138</td>\n    </tr>\n    <tr>\n      <th>100-300元</th>\n      <td>261</td>\n    </tr>\n    <tr>\n      <th>300-500元</th>\n      <td>271</td>\n    </tr>\n    <tr>\n      <th>500-1000元</th>\n      <td>296</td>\n    </tr>\n    <tr>\n      <th>1000-1500元</th>\n      <td>39</td>\n    </tr>\n    <tr>\n      <th>1500-2000元</th>\n      <td>2</td>\n    </tr>\n    <tr>\n      <th>2000元以上</th>\n      <td>2</td>\n    </tr>\n  </tbody>\n</table>\n</div>"
     },
     "execution_count": 23,
     "metadata": {},
     "output_type": "execute_result"
    },
    {
     "data": {
      "text/plain": "<Figure size 432x288 with 1 Axes>",
      "image/png": "[encoded data removed]"
     },
     "metadata": {
      "needs_background": "light"
     },
     "output_type": "display_data"
    }
   ],
   "source": [
    "# perfume_price = perfume_data.pivot_table(index=['价格'],values=['商品名称'],aggfunc=['count'])\n",
    "\n",
    "bins = [0,100,300,500,1000,1500,2000,3000]\n",
    "labels = ['100元以下','100-300元','300-500元','500-1000元','1000-1500元','1500-2000元','2000元以上']\n",
    "df_price = pd.cut(perfume_data['价格'],bins,right=False,labels=labels)\n",
    "df_price = pd.DataFrame(df_price.value_counts(sort=False))  # sort=False 防止2500以下跑到中间去.（buzhi\n",
    "df_price.columns = ['计数']\n",
    "df_price.plot(kind='bar')\n",
    "plt.xticks(rotation=45)\n",
    "plt.title('香水价格统计')\n",
    "df_price"
   ],
   "metadata": {
    "collapsed": false,
    "pycharm": {
     "name": "#%%\n"
    }
   }
  },
  {
   "cell_type": "markdown",
   "source": [
    "香水价格主要为500-1000元之间，100-500价位的顾客也偏多<br>\n",
    "这说明香水作为奢侈品，大多数会选择价格稍微偏高一点的产品"
   ],
   "metadata": {
    "collapsed": false,
    "pycharm": {
     "name": "#%% md\n"
    }
   }
  },
  {
   "cell_type": "markdown",
   "source": [
    "### 2.4香水净含量、香调、包装"
   ],
   "metadata": {
    "collapsed": false,
    "pycharm": {
     "name": "#%% md\n"
    }
   }
  },
  {
   "cell_type": "code",
   "execution_count": 24,
   "outputs": [
    {
     "data": {
      "text/plain": "Text(0.5, 1.0, '香水净含量统计')"
     },
     "execution_count": 24,
     "metadata": {},
     "output_type": "execute_result"
    },
    {
     "data": {
      "text/plain": "<Figure size 432x288 with 1 Axes>",
      "image/png": "[encoded data removed]"
     },
     "metadata": {
      "needs_background": "light"
     },
     "output_type": "display_data"
    }
   ],
   "source": [
    "perfume_content = perfume_data.pivot_table(index=['净含量'],values=['商品名称'],aggfunc=['count'])\n",
    "\n",
    "perfume_content.columns = ['含量']\n",
    "perfume_content.sort_values(by=['含量'],ascending=False).plot(kind='bar')\n",
    "\n",
    "plt.xticks(rotation=45)\n",
    "plt.title('香水净含量统计')"
   ],
   "metadata": {
    "collapsed": false,
    "pycharm": {
     "name": "#%%\n"
    }
   }
  },
  {
   "cell_type": "code",
   "execution_count": 25,
   "outputs": [
    {
     "data": {
      "text/plain": "                 统计\n香调                 \n东方香调             60\n其它               68\n木质香调             46\n木质香调，东方香调，混合香调    1\n海洋香调              3\n混合香调            121\n花果香调            702\n花果香调，东方香调         1\n花果香调，混合香调         3",
      "text/html": "<div>\n<style scoped>\n    .dataframe tbody tr th:only-of-type {\n        vertical-align: middle;\n    }\n\n    .dataframe tbody tr th {\n        vertical-align: top;\n    }\n\n    .dataframe thead th {\n        text-align: right;\n    }\n</style>\n<table border=\"1\" class=\"dataframe\">\n  <thead>\n    <tr style=\"text-align: right;\">\n      <th></th>\n      <th>统计</th>\n    </tr>\n    <tr>\n      <th>香调</th>\n      <th></th>\n    </tr>\n  </thead>\n  <tbody>\n    <tr>\n      <th>东方香调</th>\n      <td>60</td>\n    </tr>\n    <tr>\n      <th>其它</th>\n      <td>68</td>\n    </tr>\n    <tr>\n      <th>木质香调</th>\n      <td>46</td>\n    </tr>\n    <tr>\n      <th>木质香调，东方香调，混合香调</th>\n      <td>1</td>\n    </tr>\n    <tr>\n      <th>海洋香调</th>\n      <td>3</td>\n    </tr>\n    <tr>\n      <th>混合香调</th>\n      <td>121</td>\n    </tr>\n    <tr>\n      <th>花果香调</th>\n      <td>702</td>\n    </tr>\n    <tr>\n      <th>花果香调，东方香调</th>\n      <td>1</td>\n    </tr>\n    <tr>\n      <th>花果香调，混合香调</th>\n      <td>3</td>\n    </tr>\n  </tbody>\n</table>\n</div>"
     },
     "execution_count": 25,
     "metadata": {},
     "output_type": "execute_result"
    },
    {
     "data": {
      "text/plain": "<Figure size 432x288 with 1 Axes>",
      "image/png": "[encoded data removed]"
     },
     "metadata": {
      "needs_background": "light"
     },
     "output_type": "display_data"
    }
   ],
   "source": [
    "fragrance_note = perfume_data.pivot_table(index=['香调'],values=['商品名称'],aggfunc=['count'])\n",
    "\n",
    "fragrance_note.columns = ['统计']\n",
    "fragrance_note.sort_values(by=['统计'],ascending=False).plot(kind='bar')\n",
    "\n",
    "plt.xticks(rotation=45)\n",
    "plt.title('香水香调统计')\n",
    "fragrance_note"
   ],
   "metadata": {
    "collapsed": false,
    "pycharm": {
     "name": "#%%\n"
    }
   }
  },
  {
   "cell_type": "code",
   "execution_count": 26,
   "outputs": [
    {
     "data": {
      "text/plain": "       统计\n包装       \nQ版香水   56\n其它     44\n独立装   795\n礼品套装   72\n组合装    20\n限量版装   20",
      "text/html": "<div>\n<style scoped>\n    .dataframe tbody tr th:only-of-type {\n        vertical-align: middle;\n    }\n\n    .dataframe tbody tr th {\n        vertical-align: top;\n    }\n\n    .dataframe thead th {\n        text-align: right;\n    }\n</style>\n<table border=\"1\" class=\"dataframe\">\n  <thead>\n    <tr style=\"text-align: right;\">\n      <th></th>\n      <th>统计</th>\n    </tr>\n    <tr>\n      <th>包装</th>\n      <th></th>\n    </tr>\n  </thead>\n  <tbody>\n    <tr>\n      <th>Q版香水</th>\n      <td>56</td>\n    </tr>\n    <tr>\n      <th>其它</th>\n      <td>44</td>\n    </tr>\n    <tr>\n      <th>独立装</th>\n      <td>795</td>\n    </tr>\n    <tr>\n      <th>礼品套装</th>\n      <td>72</td>\n    </tr>\n    <tr>\n      <th>组合装</th>\n      <td>20</td>\n    </tr>\n    <tr>\n      <th>限量版装</th>\n      <td>20</td>\n    </tr>\n  </tbody>\n</table>\n</div>"
     },
     "execution_count": 26,
     "metadata": {},
     "output_type": "execute_result"
    },
    {
     "data": {
      "text/plain": "<Figure size 432x288 with 1 Axes>",
      "image/png": "[encoded data removed]"
     },
     "metadata": {
      "needs_background": "light"
     },
     "output_type": "display_data"
    }
   ],
   "source": [
    "fragrance_pack = perfume_data.pivot_table(index=['包装'],values=['商品名称'],aggfunc=['count'])\n",
    "\n",
    "fragrance_pack.columns = ['统计']\n",
    "fragrance_pack.sort_values(by=['统计'],ascending=False).plot(kind='bar')\n",
    "\n",
    "plt.xticks(rotation=45)\n",
    "plt.title('香水包装统计')\n",
    "fragrance_pack"
   ],
   "metadata": {
    "collapsed": false,
    "pycharm": {
     "name": "#%%\n"
    }
   }
  },
  {
   "cell_type": "markdown",
   "source": [
    "香水市场偏好：净含量在31ml-100ml、花果香调的独立包装香水占据主流市场"
   ],
   "metadata": {
    "collapsed": false,
    "pycharm": {
     "name": "#%% md\n"
    }
   }
  },
  {
   "cell_type": "markdown",
   "source": [
    "### 2.5香水适用场所"
   ],
   "metadata": {
    "collapsed": false,
    "pycharm": {
     "name": "#%% md\n"
    }
   }
  },
  {
   "cell_type": "code",
   "execution_count": 27,
   "outputs": [],
   "source": [
    "sites = pd.DataFrame(perfume_data['适用场所'])\n",
    "sites = sites['适用场所'].str.split('，',expand=True).stack().reset_index(level=0).set_index('level_0').rename(columns={0:'适用场所'}).join(sites.drop('适用场所',axis=1))\n",
    "\n",
    "sites['辅助'] = int(1)\n",
    "\n",
    "df2 = sites.pivot_table(columns='适用场所',values='辅助',aggfunc='count')\n",
    "# df2"
   ],
   "metadata": {
    "collapsed": false,
    "pycharm": {
     "name": "#%%\n"
    }
   }
  },
  {
   "cell_type": "code",
   "execution_count": 28,
   "outputs": [
    {
     "data": {
      "text/plain": "Text(0.5, 1.0, '适用场所')"
     },
     "execution_count": 28,
     "metadata": {},
     "output_type": "execute_result"
    },
    {
     "data": {
      "text/plain": "<Figure size 432x288 with 1 Axes>",
      "image/png": "[encoded data removed]"
     },
     "metadata": {
      "needs_background": "light"
     },
     "output_type": "display_data"
    }
   ],
   "source": [
    "df3 = df2.unstack().reset_index(level=1).drop('level_1',axis=1).rename(columns={0:'次数'})\n",
    "df3 = df3.sort_values(by=['次数'],ascending=False)\n",
    "plt.bar(range(len(df3)), df3['次数'], color=plt.cm.Paired(np.arange(len(df3))))\n",
    "xlabel = ['日常', '约会', 'party聚会', '旅行', '商务', '运动', '情趣', '其它']\n",
    "plt.xticks(range(len(xlabel)),xlabel)\n",
    "plt.title('适用场所')\n",
    "\n",
    "# df3.T.plot(kind='bar', label='index')"
   ],
   "metadata": {
    "collapsed": false,
    "pycharm": {
     "name": "#%%\n"
    }
   }
  }
 ],
 "metadata": {
  "kernelspec": {
   "display_name": "Python 3 (ipykernel)",
   "language": "python",
   "name": "python3"
  },
  "language_info": {
   "codemirror_mode": {
    "name": "ipython",
    "version": 3
   },
   "file_extension": ".py",
   "mimetype": "text/x-python",
   "name": "python",
   "nbconvert_exporter": "python",
   "pygments_lexer": "ipython3",
   "version": "3.8.2"
  }
 },
 "nbformat": 4,
 "nbformat_minor": 1
}