{
 "cells": [
  {
   "cell_type": "code",
   "execution_count": 4,
   "metadata": {
    "collapsed": true
   },
   "outputs": [],
   "source": [
    "import cv2\n",
    "import numpy as np\n"
   ]
  },
  {
   "cell_type": "code",
   "execution_count": 5,
   "outputs": [],
   "source": [
    "img = cv2.imread('1.jpg')\n",
    "img = cv2.resize(img,(640,640))\n",
    "img_copy = img.copy()\n",
    "mask = np.zeros(img.shape[:2], np.uint8) # 创建掩码\n",
    "\n",
    "bgdModel = np.zeros((1,65), np.float64)\n",
    "fgdModel = np.zeros((1,65), np.float64)"
   ],
   "metadata": {
    "collapsed": false,
    "pycharm": {
     "name": "#%%\n"
    }
   }
  },
  {
   "cell_type": "code",
   "execution_count": 6,
   "outputs": [
    {
     "data": {
      "text/plain": "(array([[0, 0, 0, ..., 0, 0, 0],\n        [0, 0, 0, ..., 0, 0, 0],\n        [0, 0, 0, ..., 0, 0, 0],\n        ...,\n        [0, 0, 0, ..., 0, 0, 0],\n        [0, 0, 0, ..., 0, 0, 0],\n        [0, 0, 0, ..., 0, 0, 0]], dtype=uint8),\n array([[ 8.40699374e-02,  1.08574983e-01,  3.95492022e-01,\n          4.36851468e-02,  3.68177910e-01,  1.72396437e+02,\n          2.20992507e+02,  2.25846788e+02,  4.00180995e+01,\n          3.22609838e+01,  2.06231244e+02,  2.33657166e+02,\n          2.25505395e+02,  2.21263752e+02,  6.93679485e+01,\n          5.61790314e+01,  5.73334845e+01,  2.03885028e+02,\n          1.94047941e+02,  1.94144565e+02,  1.17487295e+03,\n         -1.86351853e+02, -3.84512804e+02, -1.86351853e+02,\n          4.20388416e+02,  4.50378747e+02, -3.84512804e+02,\n          4.50378747e+02,  5.49469386e+02,  3.31911072e+02,\n          2.94114274e+02,  4.14726292e+02,  2.94114274e+02,\n          2.70749067e+02,  3.61870645e+02,  4.14726292e+02,\n          3.61870645e+02,  6.65760605e+02,  9.91769021e+01,\n          1.16722600e+02,  1.11994902e+02,  1.16722600e+02,\n          1.42288520e+02,  1.35822823e+02,  1.11994902e+02,\n          1.35822823e+02,  1.30222077e+02,  2.62114368e+03,\n          2.28466068e+03,  2.08964720e+03,  2.28466068e+03,\n          2.05212938e+03,  1.92114164e+03,  2.08964720e+03,\n          1.92114164e+03,  1.93933945e+03,  4.50106467e+02,\n          5.05387780e+02,  4.66937150e+02,  5.05387780e+02,\n          5.82441416e+02,  5.33005186e+02,  4.66937150e+02,\n          5.33005186e+02,  4.98535990e+02]]),\n array([[8.20595027e-03, 3.42118153e-01, 1.57802332e-01, 3.41742842e-01,\n         1.50130723e-01, 1.77295349e+02, 1.91165891e+02, 2.24495349e+02,\n         3.91632145e+01, 1.87702019e+01, 1.85824439e+02, 4.22737534e+01,\n         3.97038739e+01, 5.09973395e+01, 8.88045158e+01, 8.04171770e+01,\n         7.76216518e+01, 6.99532223e+01, 7.81365196e+01, 1.76208720e+02,\n         8.64480986e+02, 7.68894415e+02, 4.99835095e+02, 7.68894415e+02,\n         7.71797286e+02, 6.50665888e+02, 4.99835095e+02, 6.50665888e+02,\n         8.56956955e+02, 1.53791999e+02, 1.34512052e+02, 2.27680861e+02,\n         1.34512052e+02, 1.24951934e+02, 1.90695776e+02, 2.27680861e+02,\n         1.90695776e+02, 4.14876843e+02, 6.54010559e+02, 5.95707018e+02,\n         5.49645304e+02, 5.95707018e+02, 6.13323282e+02, 6.54172107e+02,\n         5.49645304e+02, 6.54172107e+02, 9.01228275e+02, 4.59869796e+02,\n         4.54443445e+02, 4.20177700e+02, 4.54443445e+02, 4.51203846e+02,\n         4.16681282e+02, 4.20177700e+02, 4.16681282e+02, 3.88667976e+02,\n         1.58737360e+03, 2.00973699e+03, 1.30194485e+03, 2.00973699e+03,\n         2.77289082e+03, 1.56301824e+03, 1.30194485e+03, 1.56301824e+03,\n         1.69602931e+03]]))"
     },
     "execution_count": 6,
     "metadata": {},
     "output_type": "execute_result"
    }
   ],
   "source": [
    "rect = cv2.selectROI(img)  # 选择ROI\n",
    "\n",
    "x,y,w,h = rect  #\n",
    "\n",
    "# 绘制矩形\n",
    "cv2.rectangle(img_copy, (x, y), (x + w, y + h), (0,0,255), 3)\n",
    "\n",
    "# 保存图像\n",
    "cv2.imwrite('2.png', img_copy)\n",
    "\n",
    "cv2.grabCut(img, mask, rect, bgdModel, fgdModel,5,cv2.GC_INIT_WITH_RECT)"
   ],
   "metadata": {
    "collapsed": false,
    "pycharm": {
     "name": "#%%\n"
    }
   }
  },
  {
   "cell_type": "code",
   "execution_count": 7,
   "outputs": [],
   "source": [
    "mask2 = np.where((mask==2) | (mask==0), 0,1).astype('uint8')"
   ],
   "metadata": {
    "collapsed": false,
    "pycharm": {
     "name": "#%%\n"
    }
   }
  },
  {
   "cell_type": "code",
   "execution_count": 8,
   "outputs": [],
   "source": [
    "cv2.imshow(\"Mask\", mask * 80)\n",
    "\n",
    "cv2.imshow(\"Mask2\", mask2 * 255)\n",
    "\n",
    "# cv2.imwrite(\"mask_1.png\", mask * 80)\n",
    "# cv2.imwrite(\"mask2_1.png\", mask * 255)\n",
    "\n",
    "cv2.waitKey(0)\n",
    "\n",
    "cv2.destroyAllWindows()"
   ],
   "metadata": {
    "collapsed": false,
    "pycharm": {
     "name": "#%%\n"
    }
   }
  },
  {
   "cell_type": "code",
   "execution_count": 9,
   "outputs": [],
   "source": [
    "img = img * mask2[:,:,np.newaxis]\n",
    "\n",
    "img_mask = img.copy()\n",
    "\n",
    "mask2 = mask2 * 255\n",
    "mask_copy = mask2.copy()"
   ],
   "metadata": {
    "collapsed": false,
    "pycharm": {
     "name": "#%%\n"
    }
   }
  },
  {
   "cell_type": "code",
   "execution_count": 10,
   "outputs": [],
   "source": [
    "class Sketcher:\n",
    "  def __init__(self, windowname, dests, colors_func):\n",
    "    self.prev_pt = None\n",
    "    self.windowname = windowname\n",
    "    self.dests = dests\n",
    "    self.colors_func = colors_func\n",
    "    self.dirty = False\n",
    "    self.show()\n",
    "    cv2.setMouseCallback(self.windowname, self.on_mouse)\n",
    "\n",
    "  def show(self):\n",
    "    cv2.imshow(self.windowname, self.dests[0])\n",
    "    cv2.imshow(self.windowname + \":mask\", self.dests[1])\n",
    "\n",
    "  # 鼠标处理\n",
    "  def on_mouse(self, event, x, y, flags, param):\n",
    "    pt = (x,y)\n",
    "    if event == cv2.EVENT_LBUTTONDOWN:\n",
    "      self.prev_pt = pt\n",
    "    elif event == cv2.EVENT_LBUTTONUP:\n",
    "      self.prev_pt = None\n",
    "    if self.prev_pt and flags & cv2.EVENT_FLAG_LBUTTON:\n",
    "      for dst, color in zip(self.dests, self.colors_func()):\n",
    "        cv2.line(dst, self.prev_pt, pt, color, 5)\n",
    "      self.dirty = True\n",
    "      self.prev_pt = pt\n",
    "      self.show()"
   ],
   "metadata": {
    "collapsed": false,
    "pycharm": {
     "name": "#%%\n"
    }
   }
  },
  {
   "cell_type": "code",
   "execution_count": 11,
   "outputs": [],
   "source": [
    "sketch = Sketcher('image', [img_mask, mask2], lambda : ((255,0,0),255))"
   ],
   "metadata": {
    "collapsed": false,
    "pycharm": {
     "name": "#%%\n"
    }
   }
  },
  {
   "cell_type": "code",
   "execution_count": 13,
   "outputs": [
    {
     "data": {
      "text/plain": "True"
     },
     "execution_count": 13,
     "metadata": {},
     "output_type": "execute_result"
    }
   ],
   "source": [
    "cv2.imwrite(\"img_mask_res.png\",img_mask)"
   ],
   "metadata": {
    "collapsed": false,
    "pycharm": {
     "name": "#%%\n"
    }
   }
  },
  {
   "cell_type": "code",
   "execution_count": 12,
   "outputs": [
    {
     "name": "stdout",
     "output_type": "stream",
     "text": [
      "exiting....\n"
     ]
    }
   ],
   "source": [
    "while True:\n",
    "  ch = cv2.waitKey()\n",
    "  if ch == 27:\n",
    "    print(\"exiting....\")\n",
    "    cv2.imwrite(\"img_mask_res.png\",img_mask)\n",
    "    cv2.imwrite(\"mask_res.png\",mask2)\n",
    "    break\n",
    "  \n",
    "  elif ch == ord('r'):\n",
    "    print(\"reseting...\")\n",
    "    img_mask = img.copy()\n",
    "    mask2 = mask_copy.copy()\n",
    "    sketch = Sketcher('image', [img_mask, mask2], lambda : ((255,0,0),255))\n",
    "    sketch.show()\n",
    "\n",
    "  elif ch == ord('b'):\n",
    "    print(\"drawing background...\")\n",
    "    sketch = Sketcher('image', [img_mask, mask2], lambda : ((0,0,255),0))\n",
    "    sketch.show()\n",
    "\n",
    "  elif ch == ord('f'):\n",
    "    print(\"drawing foreground...\")\n",
    "    sketch = Sketcher('image', [img_mask, mask2], lambda : ((255,0,0),255))\n",
    "    sketch.show()\n",
    "\n",
    "  else:\n",
    "    print(\"performing grabcut...\")\n",
    "    mask2 = mask2 // 255\n",
    "    cv2.grabCut(img, mask2, None, bgdModel, fgdModel,5,cv2.GC_INIT_WITH_MASK)\n",
    "    mask2 = np.where((mask==2) | (mask==0), 0,1).astype('uint8')\n",
    "    img_mask = img * mask2[:,:,np.newaxis]\n",
    "    maks2 = mask2 * 255\n",
    "    print(\"switching back to foreground...\")\n",
    "    sketch = Sketcher('image', [img_mask, mask2], lambda : ((255,0,0),255))\n",
    "    sketch.show()"
   ],
   "metadata": {
    "collapsed": false,
    "pycharm": {
     "name": "#%%\n"
    }
   }
  },
  {
   "cell_type": "code",
   "execution_count": 12,
   "outputs": [],
   "source": [],
   "metadata": {
    "collapsed": false,
    "pycharm": {
     "name": "#%%\n"
    }
   }
  }
 ],
 "metadata": {
  "kernelspec": {
   "display_name": "Python 3",
   "language": "python",
   "name": "python3"
  },
  "language_info": {
   "codemirror_mode": {
    "name": "ipython",
    "version": 2
   },
   "file_extension": ".py",
   "mimetype": "text/x-python",
   "name": "python",
   "nbconvert_exporter": "python",
   "pygments_lexer": "ipython2",
   "version": "2.7.6"
  }
 },
 "nbformat": 4,
 "nbformat_minor": 0
}