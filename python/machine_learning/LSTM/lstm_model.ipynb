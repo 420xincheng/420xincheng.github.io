{
 "cells": [
  {
   "cell_type": "markdown",
   "metadata": {},
   "source": [
    "# Part1: Dta pre-processing"
   ]
  },
  {
   "cell_type": "code",
   "execution_count": 6,
   "metadata": {},
   "outputs": [
    {
     "name": "stderr",
     "output_type": "stream",
     "text": [
      "UsageError: Line magic function `%matplot` not found.\n"
     ]
    }
   ],
   "source": [
    "import numpy as np\n",
    "import pandas as pd\n",
    "import matplotlib.pyplot as plt\n",
    "from datetime import datetime\n",
    "import datetime as dt\n",
    "\n",
    "from keras.callbacks import EarlyStopping, ReduceLROnPlateau,ModelCheckpoint, TensorBoard\n",
    "%matplot inline"
   ]
  },
  {
   "cell_type": "markdown",
   "metadata": {},
   "source": [
    "### Step1: Read Data"
   ]
  },
  {
   "cell_type": "code",
   "execution_count": 7,
   "metadata": {
    "pycharm": {
     "name": "#%%\n"
    }
   },
   "outputs": [
    {
     "name": "stdout",
     "output_type": "stream",
     "text": [
      "Traing set shape == (254, 7)\n",
      "all timestamps == 254\n",
      "featured selecte: ['Open', 'High', 'Low', 'Close', 'Adj Close']\n"
     ]
    }
   ],
   "source": [
    "dataset_train = pd.read_csv('GOOG.csv')\n",
    "cols = list(dataset_train)[1:6]\n",
    "\n",
    "# extract dates will be used in visualization\n",
    "datelist_train = list(dataset_train['Date'])\n",
    "datelist_train = [dt.datetime.strptime(date, '%Y-%m-%d').date() for date in datelist_train]\n",
    "\n",
    "print('Traing set shape == {}'.format(dataset_train.shape))\n",
    "print('all timestamps == {}'.format(len(datelist_train)))\n",
    "print('featured selecte: {}'.format(cols))"
   ]
  },
  {
   "cell_type": "markdown",
   "metadata": {},
   "source": [
    "### Step2: Data pre-processing"
   ]
  },
  {
   "cell_type": "code",
   "execution_count": 8,
   "metadata": {
    "pycharm": {
     "name": "#%%\n"
    }
   },
   "outputs": [
    {
     "name": "stdout",
     "output_type": "stream",
     "text": [
      "shape of traing set == (254, 5)\n"
     ]
    },
    {
     "data": {
      "text/plain": [
       "array([[2276.97998 , 2306.596924, 2266.      , 2296.659912, 2296.659912],\n",
       "       [2303.      , 2306.439941, 2284.449951, 2297.76001 , 2297.76001 ],\n",
       "       [2291.97998 , 2318.449951, 2287.844971, 2302.399902, 2302.399902],\n",
       "       ...,\n",
       "       [2648.469971, 2648.469971, 2551.52002 , 2567.48999 , 2567.48999 ],\n",
       "       [2572.530029, 2613.11499 , 2568.771973, 2605.719971, 2605.719971],\n",
       "       [2612.98999 , 2614.205078, 2542.22998 , 2545.060059, 2545.060059]])"
      ]
     },
     "execution_count": 8,
     "metadata": {},
     "output_type": "execute_result"
    }
   ],
   "source": [
    "dataset_train = dataset_train[cols].astype(str)\n",
    "for i in cols:\n",
    "    for j in range(0, len(dataset_train)):\n",
    "        dataset_train[i][j] = dataset_train[i][j].replace(',','')\n",
    "dataset_train = dataset_train.astype(float)\n",
    "\n",
    "training_set = dataset_train.values\n",
    "\n",
    "print('shape of traing set == {}'.format(training_set.shape))   # 五个特征 --,High,Low,Close,Adj Close,Volume\n",
    "\n",
    "training_set"
   ]
  },
  {
   "cell_type": "code",
   "execution_count": 9,
   "metadata": {
    "pycharm": {
     "name": "#%%\n"
    }
   },
   "outputs": [
    {
     "data": {
      "text/plain": [
       "array([[-2.20076602],\n",
       "       [-2.06743785],\n",
       "       [-2.1239051 ],\n",
       "       [-2.04238174],\n",
       "       [-2.15838993],\n",
       "       [-2.11750003],\n",
       "       [-2.16751091],\n",
       "       [-1.98068784],\n",
       "       [-1.89834383],\n",
       "       [-1.5337924 ],\n",
       "       [-1.51747197],\n",
       "       [-1.54739694],\n",
       "       [-1.55646662],\n",
       "       [-1.72545806],\n",
       "       [-1.73222217],\n",
       "       [-1.82332813],\n",
       "       [-1.57040392],\n",
       "       [-1.69906964],\n",
       "       [-2.12451934],\n",
       "       [-2.27901053],\n",
       "       [-2.2821868 ],\n",
       "       [-2.12467321],\n",
       "       [-2.03505343],\n",
       "       [-1.8937014 ],\n",
       "       [-2.26522711],\n",
       "       [-1.93913116],\n",
       "       [-1.74467329],\n",
       "       [-1.73949794],\n",
       "       [-1.4679227 ],\n",
       "       [-1.5046368 ],\n",
       "       [-1.38112141],\n",
       "       [-1.45787974],\n",
       "       [-1.45767458],\n",
       "       [-1.38947302],\n",
       "       [-1.59592164],\n",
       "       [-1.45500996],\n",
       "       [-1.30743676],\n",
       "       [-1.16099194],\n",
       "       [-1.06055984],\n",
       "       [-1.08869089],\n",
       "       [-0.93030661],\n",
       "       [-0.98938718],\n",
       "       [-0.90202169],\n",
       "       [-0.93015274],\n",
       "       [-1.00440033],\n",
       "       [-0.98569676],\n",
       "       [-0.98216146],\n",
       "       [-0.90940004],\n",
       "       [-0.89915192],\n",
       "       [-0.84755227],\n",
       "       [-0.85744261],\n",
       "       [-0.85303537],\n",
       "       [-0.8763501 ],\n",
       "       [-0.99102098],\n",
       "       [-1.07339502],\n",
       "       [-0.8694834 ],\n",
       "       [-0.60200767],\n",
       "       [-0.51064526],\n",
       "       [-0.72493384],\n",
       "       [-0.65376118],\n",
       "       [-0.56265523],\n",
       "       [-0.4552551 ],\n",
       "       [-0.35072351],\n",
       "       [-0.28938865],\n",
       "       [-0.37741967],\n",
       "       [-0.4271741 ],\n",
       "       [-0.54518138],\n",
       "       [-0.46493903],\n",
       "       [-0.27401646],\n",
       "       [-0.00654073],\n",
       "       [ 0.29987838],\n",
       "       [ 0.48034766],\n",
       "       [ 0.33185247],\n",
       "       [ 0.10830029],\n",
       "       [ 0.01918216],\n",
       "       [ 0.01646626],\n",
       "       [ 0.06929563],\n",
       "       [ 0.09486464],\n",
       "       [ 0.07221669],\n",
       "       [ 0.09952709],\n",
       "       [ 0.16655021],\n",
       "       [ 0.28240578],\n",
       "       [ 0.30325981],\n",
       "       [ 0.24484601],\n",
       "       [ 0.31089461],\n",
       "       [ 0.27425807],\n",
       "       [ 0.29383234],\n",
       "       [ 0.18361373],\n",
       "       [ 0.01472488],\n",
       "       [ 0.18028234],\n",
       "       [ 0.37658542],\n",
       "       [ 0.63740088],\n",
       "       [ 0.77467343],\n",
       "       [ 0.7475682 ],\n",
       "       [ 0.6957121 ],\n",
       "       [ 0.96134388],\n",
       "       [ 1.08227097],\n",
       "       [ 1.05823942],\n",
       "       [ 1.0889325 ],\n",
       "       [ 0.90410726],\n",
       "       [ 0.96595503],\n",
       "       [ 1.03195359],\n",
       "       [ 0.97968716],\n",
       "       [ 1.03707765],\n",
       "       [ 0.80726301],\n",
       "       [ 0.90564473],\n",
       "       [ 0.86444708],\n",
       "       [ 1.00402646],\n",
       "       [ 0.86849529],\n",
       "       [ 0.37675931],\n",
       "       [ 0.49121127],\n",
       "       [ 0.48439587],\n",
       "       [ 0.64416374],\n",
       "       [ 0.57616735],\n",
       "       [ 0.64170429],\n",
       "       [ 0.38580899],\n",
       "       [ 0.18301951],\n",
       "       [-0.10236042],\n",
       "       [-0.18132175],\n",
       "       [ 0.03849997],\n",
       "       [-0.13566681],\n",
       "       [-0.07156476],\n",
       "       [ 0.36269942],\n",
       "       [ 0.46958788],\n",
       "       [ 0.45872427],\n",
       "       [ 0.44207107],\n",
       "       [ 0.24863777],\n",
       "       [ 0.47430162],\n",
       "       [ 0.70467921],\n",
       "       [ 0.60358158],\n",
       "       [ 0.81653786],\n",
       "       [ 0.91194723],\n",
       "       [ 0.70385981],\n",
       "       [ 0.51519153],\n",
       "       [ 0.3573189 ],\n",
       "       [ 0.54132474],\n",
       "       [ 0.46922885],\n",
       "       [ 1.22723085],\n",
       "       [ 1.04491636],\n",
       "       [ 1.31597995],\n",
       "       [ 0.97209364],\n",
       "       [ 1.12229019],\n",
       "       [ 1.21708532],\n",
       "       [ 1.43777898],\n",
       "       [ 1.50403274],\n",
       "       [ 1.47800211],\n",
       "       [ 1.30006983],\n",
       "       [ 1.20755401],\n",
       "       [ 1.28180161],\n",
       "       [ 1.50403274],\n",
       "       [ 1.41902411],\n",
       "       [ 1.42502011],\n",
       "       [ 1.41651337],\n",
       "       [ 1.60651396],\n",
       "       [ 1.51855925],\n",
       "       [ 1.2081695 ],\n",
       "       [ 1.12997628],\n",
       "       [ 0.99321539],\n",
       "       [ 0.9197359 ],\n",
       "       [ 1.0377682 ],\n",
       "       [ 0.91092266],\n",
       "       [ 0.66614616],\n",
       "       [ 0.9399244 ],\n",
       "       [ 0.8454883 ],\n",
       "       [ 1.08898379],\n",
       "       [ 1.33304222],\n",
       "       [ 1.31710709],\n",
       "       [ 1.41179964],\n",
       "       [ 1.34457136],\n",
       "       [ 0.96805544],\n",
       "       [ 0.92665388],\n",
       "       [ 1.30696155],\n",
       "       [ 0.75740599],\n",
       "       [ 0.54886697],\n",
       "       [ 0.80203637],\n",
       "       [ 0.89939353],\n",
       "       [ 1.20576134],\n",
       "       [ 1.24408922],\n",
       "       [ 1.33744946],\n",
       "       [ 1.13812398],\n",
       "       [ 1.1402244 ],\n",
       "       [ 1.04737581],\n",
       "       [ 0.93787528],\n",
       "       [ 1.04804259],\n",
       "       [ 0.90769511],\n",
       "       [ 0.22276101],\n",
       "       [ 0.26452286],\n",
       "       [-0.02304005],\n",
       "       [ 0.29275648],\n",
       "       [ 0.63852803],\n",
       "       [ 0.66783751],\n",
       "       [ 0.22301746],\n",
       "       [ 0.13078436],\n",
       "       [ 0.16547436],\n",
       "       [ 0.12197113],\n",
       "       [-0.23691831],\n",
       "       [-0.95269811],\n",
       "       [-0.70592377],\n",
       "       [-0.48487108],\n",
       "       [-0.40611491],\n",
       "       [-0.5455917 ],\n",
       "       [-0.11537573],\n",
       "       [ 0.25734842],\n",
       "       [ 1.6950066 ],\n",
       "       [ 1.02185809],\n",
       "       [ 0.78840681],\n",
       "       [ 0.85932302],\n",
       "       [ 0.37584233],\n",
       "       [ 0.56630454],\n",
       "       [ 0.42797991],\n",
       "       [ 0.35111899],\n",
       "       [-0.20069085],\n",
       "       [ 0.2200964 ],\n",
       "       [ 0.11341434],\n",
       "       [ 0.08466781],\n",
       "       [-0.23430499],\n",
       "       [-0.54712917],\n",
       "       [-0.43506536],\n",
       "       [-1.05799781],\n",
       "       [-0.1842941 ],\n",
       "       [-0.20899243],\n",
       "       [-0.08647533],\n",
       "       [-0.07333241],\n",
       "       [ 0.06709263],\n",
       "       [-0.19894947],\n",
       "       [-0.35046706],\n",
       "       [-0.92984499],\n",
       "       [-0.40211799],\n",
       "       [-0.39571292],\n",
       "       [-0.13571811],\n",
       "       [-0.48687016],\n",
       "       [-0.77704514],\n",
       "       [-0.44311048],\n",
       "       [-0.20525196],\n",
       "       [-0.14755498],\n",
       "       [ 0.15614821],\n",
       "       [ 0.12053624],\n",
       "       [ 0.39093305],\n",
       "       [ 0.40466518],\n",
       "       [ 0.65897298],\n",
       "       [ 0.54936861],\n",
       "       [ 0.80311222],\n",
       "       [ 0.77334112],\n",
       "       [ 0.73014564],\n",
       "       [ 0.48024508],\n",
       "       [ 0.56371623],\n",
       "       [ 0.82760538],\n",
       "       [ 0.39328991],\n",
       "       [ 0.13262957],\n",
       "       [ 0.09491593],\n",
       "       [-0.24839616],\n",
       "       [-0.29722861],\n",
       "       [-0.68634951],\n",
       "       [-0.4790302 ]])"
      ]
     },
     "execution_count": 9,
     "metadata": {},
     "output_type": "execute_result"
    }
   ],
   "source": [
    "# feature scaling\n",
    "from sklearn.preprocessing import StandardScaler\n",
    "\n",
    "sc = StandardScaler()\n",
    "training_set_scaled = sc.fit_transform(training_set)\n",
    "\n",
    "sc_predict = StandardScaler()\n",
    "sc_predict.fit_transform(training_set[:,0:1])  # Open列"
   ]
  },
  {
   "cell_type": "code",
   "execution_count": 10,
   "metadata": {
    "pycharm": {
     "name": "#%%\n"
    }
   },
   "outputs": [
    {
     "name": "stdout",
     "output_type": "stream",
     "text": [
      "x_train shape == (105, 90, 4)\n",
      "y_train shape == (105, 1)\n"
     ]
    }
   ],
   "source": [
    "# create a data structure with 90 timestampes and  1 output\n",
    "X_train = []\n",
    "Y_train = []\n",
    "\n",
    "n_future = 60 # number of days we want to predict into the future\n",
    "n_past = 90 # number of days we want to use to predict the future\n",
    "\n",
    "for i in range(n_past, len(training_set_scaled) - n_future + 1):\n",
    "    X_train.append(training_set_scaled[i - n_past : i, 0 : dataset_train.shape[1] - 1])\n",
    "    Y_train.append(training_set_scaled[i + n_future - 1: i + n_future, 0])\n",
    "\n",
    "X_train, Y_train = np.array(X_train), np.array(Y_train)\n",
    "\n",
    "print('x_train shape == {}'.format(X_train.shape))\n",
    "print('y_train shape == {}'.format(Y_train.shape))"
   ]
  },
  {
   "cell_type": "markdown",
   "metadata": {},
   "source": [
    "# Part2:Create a model.Training"
   ]
  },
  {
   "cell_type": "markdown",
   "metadata": {},
   "source": [
    "### Step3:Buliding-up the LSTM based Neural Network"
   ]
  },
  {
   "cell_type": "code",
   "execution_count": 11,
   "metadata": {
    "pycharm": {
     "name": "#%%\n"
    }
   },
   "outputs": [],
   "source": [
    "from tensorflow import keras\n",
    "from keras.models import Sequential\n",
    "from keras.layers import Dense\n",
    "from keras.layers import LSTM\n",
    "from keras.layers import Dropout\n",
    "# from keras.optimizers import Adam"
   ]
  },
  {
   "cell_type": "code",
   "execution_count": 12,
   "metadata": {
    "pycharm": {
     "name": "#%%\n"
    }
   },
   "outputs": [],
   "source": [
    "model = Sequential()\n",
    "# add 1st LSTM layer\n",
    "model.add(LSTM(units=64, return_sequences=True, input_shape=(n_past, dataset_train.shape[1] - 1)))\n",
    "# add 2nd LSTM layer\n",
    "model.add(LSTM(units=10, return_sequences=False))\n",
    "# add Dropout\n",
    "model.add(Dropout(0.25))\n",
    "# Output layer\n",
    "model.add(Dense(units=1,activation='linear'))\n",
    "# compiling the Neural Network\n",
    "opt = keras.optimizers.Adam(learning_rate=0.01)\n",
    "model.compile(optimizer=opt, loss='mean_squared_error')"
   ]
  },
  {
   "cell_type": "markdown",
   "metadata": {},
   "source": [
    "### Step4: Start training"
   ]
  },
  {
   "cell_type": "code",
   "execution_count": 13,
   "metadata": {
    "pycharm": {
     "name": "#%%\n"
    }
   },
   "outputs": [
    {
     "name": "stdout",
     "output_type": "stream",
     "text": [
      "Epoch 1/30\n",
      "1/1 [==============================] - ETA: 0s - loss: 0.7751\n",
      "Epoch 1: val_loss improved from inf to 0.39384, saving model to weights.h5\n",
      "1/1 [==============================] - 5s 5s/step - loss: 0.7751 - val_loss: 0.3938 - lr: 0.0100\n",
      "Epoch 2/30\n",
      "1/1 [==============================] - ETA: 0s - loss: 0.6362\n",
      "Epoch 2: val_loss improved from 0.39384 to 0.23911, saving model to weights.h5\n",
      "1/1 [==============================] - 0s 174ms/step - loss: 0.6362 - val_loss: 0.2391 - lr: 0.0100\n",
      "Epoch 3/30\n",
      "1/1 [==============================] - ETA: 0s - loss: 0.5207\n",
      "Epoch 3: val_loss improved from 0.23911 to 0.19657, saving model to weights.h5\n",
      "1/1 [==============================] - 0s 199ms/step - loss: 0.5207 - val_loss: 0.1966 - lr: 0.0100\n",
      "Epoch 4/30\n",
      "1/1 [==============================] - ETA: 0s - loss: 0.5164\n",
      "Epoch 4: val_loss did not improve from 0.19657\n",
      "1/1 [==============================] - 0s 172ms/step - loss: 0.5164 - val_loss: 0.2004 - lr: 0.0100\n",
      "Epoch 5/30\n",
      "1/1 [==============================] - ETA: 0s - loss: 0.5148\n",
      "Epoch 5: val_loss did not improve from 0.19657\n",
      "1/1 [==============================] - 0s 198ms/step - loss: 0.5148 - val_loss: 0.2139 - lr: 0.0100\n",
      "Epoch 6/30\n",
      "1/1 [==============================] - ETA: 0s - loss: 0.5094\n",
      "Epoch 6: val_loss did not improve from 0.19657\n",
      "1/1 [==============================] - 0s 205ms/step - loss: 0.5094 - val_loss: 0.2334 - lr: 0.0100\n",
      "Epoch 7/30\n",
      "1/1 [==============================] - ETA: 0s - loss: 0.5225\n",
      "Epoch 7: val_loss did not improve from 0.19657\n",
      "1/1 [==============================] - 0s 177ms/step - loss: 0.5225 - val_loss: 0.2539 - lr: 0.0100\n",
      "Epoch 8/30\n",
      "1/1 [==============================] - ETA: 0s - loss: 0.4902\n",
      "Epoch 8: val_loss did not improve from 0.19657\n",
      "1/1 [==============================] - 0s 150ms/step - loss: 0.4902 - val_loss: 0.2792 - lr: 0.0100\n",
      "Epoch 9/30\n",
      "1/1 [==============================] - ETA: 0s - loss: 0.4932\n",
      "Epoch 9: val_loss did not improve from 0.19657\n",
      "1/1 [==============================] - 0s 182ms/step - loss: 0.4932 - val_loss: 0.2945 - lr: 0.0100\n",
      "Epoch 10/30\n",
      "1/1 [==============================] - ETA: 0s - loss: 0.4674\n",
      "Epoch 10: val_loss did not improve from 0.19657\n",
      "1/1 [==============================] - 0s 183ms/step - loss: 0.4674 - val_loss: 0.2856 - lr: 0.0100\n",
      "Epoch 11/30\n",
      "1/1 [==============================] - ETA: 0s - loss: 0.4569\n",
      "Epoch 11: val_loss did not improve from 0.19657\n",
      "1/1 [==============================] - 0s 153ms/step - loss: 0.4569 - val_loss: 0.2622 - lr: 0.0100\n",
      "Epoch 12/30\n",
      "1/1 [==============================] - ETA: 0s - loss: 0.4733\n",
      "Epoch 12: val_loss did not improve from 0.19657\n",
      "1/1 [==============================] - 0s 161ms/step - loss: 0.4733 - val_loss: 0.2481 - lr: 0.0100\n",
      "Epoch 13/30\n",
      "1/1 [==============================] - ETA: 0s - loss: 0.4521\n",
      "Epoch 13: ReduceLROnPlateau reducing learning rate to 0.004999999888241291.\n",
      "\n",
      "Epoch 13: val_loss did not improve from 0.19657\n",
      "1/1 [==============================] - 0s 193ms/step - loss: 0.4521 - val_loss: 0.2786 - lr: 0.0100\n",
      "Epoch 13: early stopping\n"
     ]
    }
   ],
   "source": [
    "es = EarlyStopping(monitor='val_loss',min_delta=1e-10, patience=10, verbose=1)\n",
    "rlr = ReduceLROnPlateau(monitor='val_loss', factor=0.5, patience=10, verbose=1)\n",
    "mcp = ModelCheckpoint(filepath='weights.h5', monitor='val_loss', verbose=1,save_best_only=True, save_weights_only=True)\n",
    "\n",
    "tb = TensorBoard('logs')\n",
    "\n",
    "history = model.fit(X_train,Y_train,shuffle=True, epochs=30, callbacks=[es, rlr, mcp, tb], validation_split=0.2, verbose=1, batch_size=256)"
   ]
  },
  {
   "cell_type": "markdown",
   "metadata": {},
   "source": [
    "# Part3: Make future prediction"
   ]
  },
  {
   "cell_type": "markdown",
   "metadata": {},
   "source": [
    "### Step5: Make predictions for future date"
   ]
  },
  {
   "cell_type": "code",
   "execution_count": 22,
   "metadata": {
    "pycharm": {
     "name": "#%%\n"
    }
   },
   "outputs": [
    {
     "name": "stdout",
     "output_type": "stream",
     "text": [
      "                   Open\n",
      "2022-04-14  2834.471436\n",
      "2022-04-15  2834.889893\n",
      "2022-04-16  2828.117188\n",
      "2022-04-17  2818.269043\n",
      "2022-04-18  2807.967773\n"
     ]
    },
    {
     "data": {
      "text/html": [
       "<div>\n",
       "<style scoped>\n",
       "    .dataframe tbody tr th:only-of-type {\n",
       "        vertical-align: middle;\n",
       "    }\n",
       "\n",
       "    .dataframe tbody tr th {\n",
       "        vertical-align: top;\n",
       "    }\n",
       "\n",
       "    .dataframe thead th {\n",
       "        text-align: right;\n",
       "    }\n",
       "</style>\n",
       "<table border=\"1\" class=\"dataframe\">\n",
       "  <thead>\n",
       "    <tr style=\"text-align: right;\">\n",
       "      <th></th>\n",
       "      <th>Open</th>\n",
       "    </tr>\n",
       "  </thead>\n",
       "  <tbody>\n",
       "    <tr>\n",
       "      <th>2022-03-25</th>\n",
       "      <td>2761.388672</td>\n",
       "    </tr>\n",
       "    <tr>\n",
       "      <th>2022-03-28</th>\n",
       "      <td>2761.208984</td>\n",
       "    </tr>\n",
       "    <tr>\n",
       "      <th>2022-03-29</th>\n",
       "      <td>2761.727051</td>\n",
       "    </tr>\n",
       "    <tr>\n",
       "      <th>2022-03-30</th>\n",
       "      <td>2762.612305</td>\n",
       "    </tr>\n",
       "    <tr>\n",
       "      <th>2022-03-31</th>\n",
       "      <td>2762.944092</td>\n",
       "    </tr>\n",
       "  </tbody>\n",
       "</table>\n",
       "</div>"
      ],
      "text/plain": [
       "                   Open\n",
       "2022-03-25  2761.388672\n",
       "2022-03-28  2761.208984\n",
       "2022-03-29  2761.727051\n",
       "2022-03-30  2762.612305\n",
       "2022-03-31  2762.944092"
      ]
     },
     "execution_count": 22,
     "metadata": {},
     "output_type": "execute_result"
    }
   ],
   "source": [
    "# generate list of sequence of days for predictions\n",
    "datelist_future = pd.date_range(datelist_train[-1], periods=n_future).tolist()\n",
    "\n",
    "# convert pandas timestamp to datatime objeect  -->  future\n",
    "datelist_future_ = []\n",
    "for this_timestamp in datelist_future:\n",
    "    datelist_future_.append(this_timestamp.date())\n",
    "\n",
    "# perform prediction\n",
    "predictions_future = model.predict(X_train[-n_future:])\n",
    "\n",
    "predictions_train = model.predict(X_train[n_past:])\n",
    "\n",
    "# inverse the predictions to original measurements\n",
    "def datetime_to_timestamp(x):\n",
    "    \"\"\"\n",
    "    x : a given datetime value\n",
    "    \"\"\"\n",
    "    return datetime.strptime(x.strftime('%Y%m%d'),'%Y%m%d')\n",
    "\n",
    "y_pre_future = sc_predict.inverse_transform(predictions_future)\n",
    "y_pred_train = sc_predict.inverse_transform(predictions_train)\n",
    "\n",
    "PREDICTIONS_FUTURE = pd.DataFrame(y_pre_future, columns=['Open']).set_index(pd.Series(datelist_future))\n",
    "PREDICTIONS_TRAIN = pd.DataFrame(y_pred_train, columns=['Open']).set_index(pd.Series(datelist_train[2 * n_past + n_future - 1 : ]))\n",
    "\n",
    "# convert <datetime.date> to <timestamp> for PREDICTION_TRAIN\n",
    "# PREDICTIONS_TRAIN.index = PREDICTIONS_TRAIN.index.to_series().apply(datetime_to_timestamp)\n",
    "\n",
    "print(PREDICTIONS_FUTURE.head())\n",
    "PREDICTIONS_TRAIN.head()"
   ]
  },
  {
   "cell_type": "markdown",
   "metadata": {},
   "source": [
    "### Step 6: Visiualize the Predicion"
   ]
  },
  {
   "cell_type": "code",
   "execution_count": 23,
   "metadata": {
    "pycharm": {
     "name": "#%%\n"
    }
   },
   "outputs": [],
   "source": [
    "# parse training srt timestamp fo better visualization\n",
    "dataset_train = pd.DataFrame(dataset_train, columns=cols)\n",
    "dataset_train.index = datelist_train\n",
    "dataset_train.index = pd.to_datetime(dataset_train.index)"
   ]
  },
  {
   "cell_type": "code",
   "execution_count": 32,
   "metadata": {
    "pycharm": {
     "name": "#%%\n"
    }
   },
   "outputs": [
    {
     "data": {
      "text/plain": [
       "(array([18748., 18809., 18871., 18932., 18993., 19052., 19113., 19174.]),\n",
       " [Text(0, 0, ''),\n",
       "  Text(0, 0, ''),\n",
       "  Text(0, 0, ''),\n",
       "  Text(0, 0, ''),\n",
       "  Text(0, 0, ''),\n",
       "  Text(0, 0, ''),\n",
       "  Text(0, 0, ''),\n",
       "  Text(0, 0, '')])"
      ]
     },
     "execution_count": 32,
     "metadata": {},
     "output_type": "execute_result"
    },
    {
     "data": {
      "image/png": "[encoded data removed]",
      "text/plain": [
       "<Figure size 1008x360 with 1 Axes>"
      ]
     },
     "metadata": {
      "needs_background": "light"
     },
     "output_type": "display_data"
    }
   ],
   "source": [
    "# set plot size\n",
    "from pylab import rcParams\n",
    "rcParams['figure.figsize'] = 14,5\n",
    "\n",
    "# plot parameters\n",
    "START_DATE_FOR_PLOTTING = '2021-03-25'\n",
    "\n",
    "plt.plot(PREDICTIONS_FUTURE.index, PREDICTIONS_FUTURE['Open'], color='r', label='Predicted Stock Price')\n",
    "# plt.plot(PREDICTIONS_TRAIN['Open'])\n",
    "# plt.plot(PREDICTIONS_TRAIN.loc[START_DATE_FOR_PLOTTING:].index, PREDICTIONS_FUTURE.loc[START_DATE_FOR_PLOTTING])\n",
    "\n",
    "plt.plot(dataset_train.loc[START_DATE_FOR_PLOTTING:].index, dataset_train.loc[START_DATE_FOR_PLOTTING:]['Open'], color='b', label='Actual Stock Price')\n",
    "\n",
    "plt.axvline(x = min(PREDICTIONS_FUTURE.index), color='green', linewidth=2, linestyle='--')\n",
    "\n",
    "plt.grid(which='major', color='#cccccc',alpha=0.5)\n",
    "\n",
    "plt.legend(shadow=True)\n",
    "plt.title('Predictions and Actual Stock Prices', family='Arial', fontsize=12)\n",
    "plt.xlabel('Timeline', family='Arial', fontsize=10)\n",
    "plt.ylabel('Stock Price Value', family='Arial', fontsize=10)\n",
    "plt.xticks(rotation=45, fontsize=8)"
   ]
  },
  {
   "cell_type": "code",
   "execution_count": null,
   "metadata": {},
   "outputs": [],
   "source": []
  }
 ],
 "metadata": {
  "kernelspec": {
   "display_name": "Python 3 (ipykernel)",
   "language": "python",
   "name": "python3"
  },
  "language_info": {
   "codemirror_mode": {
    "name": "ipython",
    "version": 3
   },
   "file_extension": ".py",
   "mimetype": "text/x-python",
   "name": "python",
   "nbconvert_exporter": "python",
   "pygments_lexer": "ipython3",
   "version": "3.8.2"
  }
 },
 "nbformat": 4,
 "nbformat_minor": 1
}
