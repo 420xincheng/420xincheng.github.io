{
 "cells": [
  {
   "cell_type": "code",
   "execution_count": 1,
   "metadata": {},
   "outputs": [
    {
     "name": "stderr",
     "output_type": "stream",
     "text": [
      "UsageError: Line magic function `%matplot` not found.\n"
     ]
    }
   ],
   "source": [
    "import numpy as np\n",
    "import pandas as pd\n",
    "\n",
    "import matplotlib.pyplot as plt\n",
    "\n",
    "from datetime import datetime\n",
    "import datetime as dt\n",
    "\n",
    "from sklearn.preprocessing import StandardScaler\n",
    "from sklearn.model_selection import train_test_split\n",
    "\n",
    "from keras.callbacks import EarlyStopping, ReduceLROnPlateau,ModelCheckpoint, TensorBoard\n",
    "from keras.models import Sequential\n",
    "from keras.layers import LSTM, Dense, Dropout\n",
    "\n",
    "from collections import deque\n",
    "from pylab import rcParams\n",
    "\n",
    "\n",
    "%matplot inline"
   ]
  },
  {
   "cell_type": "code",
   "execution_count": null,
   "metadata": {
    "pycharm": {
     "name": "#%%\n"
    }
   },
   "outputs": [],
   "source": []
  },
  {
   "cell_type": "code",
   "execution_count": 54,
   "metadata": {},
   "outputs": [
    {
     "name": "stdout",
     "output_type": "stream",
     "text": [
      "1339\n",
      "     datetime       zero_t\n",
      "0  2018-01-01  244033.7682\n",
      "1  2018-01-02  207655.1990\n",
      "2  2018-01-03  248503.4810\n",
      "3  2018-01-04  253310.1506\n",
      "4  2018-01-05  251749.1014\n",
      "     datetime  high_temp  low_temp  daytime  night  weather1  weather2\n",
      "0  2018-01-01         22        12       24     24         3         3\n",
      "1  2018-01-01         22        12       24     24         3         3\n",
      "2  2018-01-02         22        15       24     24         3         3\n",
      "3  2018-01-03         23        15       24     24         3        13\n",
      "4  2018-01-04         21        16       24     24         3         7\n",
      "Traing set shape == (1345, 8)\n",
      "all timestamps == 1345\n",
      "featured selecte: ['zero_t', 'high_temp', 'low_temp', 'daytime', 'night', 'weather1', 'weather2']\n",
      "<class 'pandas.core.frame.DataFrame'>\n",
      "Int64Index: 1345 entries, 0 to 1344\n",
      "Data columns (total 8 columns):\n",
      " #   Column     Non-Null Count  Dtype  \n",
      "---  ------     --------------  -----  \n",
      " 0   datetime   1345 non-null   object \n",
      " 1   zero_t     1345 non-null   float64\n",
      " 2   high_temp  1345 non-null   int64  \n",
      " 3   low_temp   1345 non-null   int64  \n",
      " 4   daytime    1345 non-null   int64  \n",
      " 5   night      1345 non-null   int64  \n",
      " 6   weather1   1345 non-null   int64  \n",
      " 7   weather2   1345 non-null   int64  \n",
      "dtypes: float64(1), int64(6), object(1)\n",
      "memory usage: 94.6+ KB\n",
      "None\n"
     ]
    },
    {
     "data": {
      "text/html": [
       "<div>\n",
       "<style scoped>\n",
       "    .dataframe tbody tr th:only-of-type {\n",
       "        vertical-align: middle;\n",
       "    }\n",
       "\n",
       "    .dataframe tbody tr th {\n",
       "        vertical-align: top;\n",
       "    }\n",
       "\n",
       "    .dataframe thead th {\n",
       "        text-align: right;\n",
       "    }\n",
       "</style>\n",
       "<table border=\"1\" class=\"dataframe\">\n",
       "  <thead>\n",
       "    <tr style=\"text-align: right;\">\n",
       "      <th></th>\n",
       "      <th>datetime</th>\n",
       "      <th>zero_t</th>\n",
       "      <th>high_temp</th>\n",
       "      <th>low_temp</th>\n",
       "      <th>daytime</th>\n",
       "      <th>night</th>\n",
       "      <th>weather1</th>\n",
       "      <th>weather2</th>\n",
       "    </tr>\n",
       "  </thead>\n",
       "  <tbody>\n",
       "    <tr>\n",
       "      <th>0</th>\n",
       "      <td>2018-01-01</td>\n",
       "      <td>244033.7682</td>\n",
       "      <td>22</td>\n",
       "      <td>12</td>\n",
       "      <td>24</td>\n",
       "      <td>24</td>\n",
       "      <td>3</td>\n",
       "      <td>3</td>\n",
       "    </tr>\n",
       "    <tr>\n",
       "      <th>1</th>\n",
       "      <td>2018-01-01</td>\n",
       "      <td>244033.7682</td>\n",
       "      <td>22</td>\n",
       "      <td>12</td>\n",
       "      <td>24</td>\n",
       "      <td>24</td>\n",
       "      <td>3</td>\n",
       "      <td>3</td>\n",
       "    </tr>\n",
       "    <tr>\n",
       "      <th>2</th>\n",
       "      <td>2018-01-02</td>\n",
       "      <td>207655.1990</td>\n",
       "      <td>22</td>\n",
       "      <td>15</td>\n",
       "      <td>24</td>\n",
       "      <td>24</td>\n",
       "      <td>3</td>\n",
       "      <td>3</td>\n",
       "    </tr>\n",
       "    <tr>\n",
       "      <th>3</th>\n",
       "      <td>2018-01-03</td>\n",
       "      <td>248503.4810</td>\n",
       "      <td>23</td>\n",
       "      <td>15</td>\n",
       "      <td>24</td>\n",
       "      <td>24</td>\n",
       "      <td>3</td>\n",
       "      <td>13</td>\n",
       "    </tr>\n",
       "    <tr>\n",
       "      <th>4</th>\n",
       "      <td>2018-01-04</td>\n",
       "      <td>253310.1506</td>\n",
       "      <td>21</td>\n",
       "      <td>16</td>\n",
       "      <td>24</td>\n",
       "      <td>24</td>\n",
       "      <td>3</td>\n",
       "      <td>7</td>\n",
       "    </tr>\n",
       "  </tbody>\n",
       "</table>\n",
       "</div>"
      ],
      "text/plain": [
       "     datetime       zero_t  high_temp  low_temp  daytime  night  weather1  \\\n",
       "0  2018-01-01  244033.7682         22        12       24     24         3   \n",
       "1  2018-01-01  244033.7682         22        12       24     24         3   \n",
       "2  2018-01-02  207655.1990         22        15       24     24         3   \n",
       "3  2018-01-03  248503.4810         23        15       24     24         3   \n",
       "4  2018-01-04  253310.1506         21        16       24     24         3   \n",
       "\n",
       "   weather2  \n",
       "0         3  \n",
       "1         3  \n",
       "2         3  \n",
       "3        13  \n",
       "4         7  "
      ]
     },
     "execution_count": 54,
     "metadata": {},
     "output_type": "execute_result"
    }
   ],
   "source": [
    "ele_data = pd.read_csv('./process_data/processed_data.csv')\n",
    "weather_data = pd.read_csv('./process_data/weather.csv')\n",
    "\n",
    "ele_data = ele_data.iloc[:,:2]\n",
    "ele_data.columns = ['datetime','zero_t']\n",
    "print(len(ele_data))\n",
    "print(ele_data.head())\n",
    "print(weather_data.head())\n",
    "dataset_train = pd.merge(ele_data,weather_data,how='inner',on='datetime')\n",
    "dataset_train.head()\n",
    "\n",
    "cols = list(dataset_train)[1:8]\n",
    "\n",
    "# extract dates will be used in visualization\n",
    "datelist_train = list(dataset_train['datetime'])\n",
    "datelist_train = [dt.datetime.strptime(date, '%Y-%m-%d').date() for date in datelist_train]\n",
    "\n",
    "print('Traing set shape == {}'.format(dataset_train.shape))\n",
    "print('all timestamps == {}'.format(len(datelist_train)))\n",
    "print('featured selecte: {}'.format(cols))\n",
    "print(dataset_train.info())\n",
    "dataset_train.head()"
   ]
  },
  {
   "cell_type": "code",
   "execution_count": 55,
   "metadata": {
    "pycharm": {
     "name": "#%%\n"
    }
   },
   "outputs": [
    {
     "name": "stdout",
     "output_type": "stream",
     "text": [
      "1339\n",
      "     datetime       zero_t\n",
      "0  2018-01-01  244033.7682\n",
      "1  2018-01-02  207655.1990\n",
      "2  2018-01-03  248503.4810\n",
      "3  2018-01-04  253310.1506\n",
      "4  2018-01-05  251749.1014\n",
      "     datetime  high_temp  low_temp  daytime  night  weather1  weather2\n",
      "0  2018-01-01         22        12       24     24         3         3\n",
      "1  2018-01-01         22        12       24     24         3         3\n",
      "2  2018-01-02         22        15       24     24         3         3\n",
      "3  2018-01-03         23        15       24     24         3        13\n",
      "4  2018-01-04         21        16       24     24         3         7\n",
      "Traing set shape == (1345, 8)\n",
      "all timestamps == 1345\n",
      "featured selecte: ['zero_t', 'high_temp', 'low_temp', 'daytime', 'night', 'weather1', 'weather2']\n",
      "<class 'pandas.core.frame.DataFrame'>\n",
      "Int64Index: 1345 entries, 0 to 1344\n",
      "Data columns (total 8 columns):\n",
      " #   Column     Non-Null Count  Dtype  \n",
      "---  ------     --------------  -----  \n",
      " 0   datetime   1345 non-null   object \n",
      " 1   zero_t     1345 non-null   float64\n",
      " 2   high_temp  1345 non-null   int64  \n",
      " 3   low_temp   1345 non-null   int64  \n",
      " 4   daytime    1345 non-null   int64  \n",
      " 5   night      1345 non-null   int64  \n",
      " 6   weather1   1345 non-null   int64  \n",
      " 7   weather2   1345 non-null   int64  \n",
      "dtypes: float64(1), int64(6), object(1)\n",
      "memory usage: 94.6+ KB\n",
      "None\n"
     ]
    },
    {
     "data": {
      "text/html": [
       "<div>\n",
       "<style scoped>\n",
       "    .dataframe tbody tr th:only-of-type {\n",
       "        vertical-align: middle;\n",
       "    }\n",
       "\n",
       "    .dataframe tbody tr th {\n",
       "        vertical-align: top;\n",
       "    }\n",
       "\n",
       "    .dataframe thead th {\n",
       "        text-align: right;\n",
       "    }\n",
       "</style>\n",
       "<table border=\"1\" class=\"dataframe\">\n",
       "  <thead>\n",
       "    <tr style=\"text-align: right;\">\n",
       "      <th></th>\n",
       "      <th>datetime</th>\n",
       "      <th>zero_t</th>\n",
       "      <th>high_temp</th>\n",
       "      <th>low_temp</th>\n",
       "      <th>daytime</th>\n",
       "      <th>night</th>\n",
       "      <th>weather1</th>\n",
       "      <th>weather2</th>\n",
       "    </tr>\n",
       "  </thead>\n",
       "  <tbody>\n",
       "    <tr>\n",
       "      <th>0</th>\n",
       "      <td>2018-01-01</td>\n",
       "      <td>244033.7682</td>\n",
       "      <td>22</td>\n",
       "      <td>12</td>\n",
       "      <td>24</td>\n",
       "      <td>24</td>\n",
       "      <td>3</td>\n",
       "      <td>3</td>\n",
       "    </tr>\n",
       "    <tr>\n",
       "      <th>1</th>\n",
       "      <td>2018-01-01</td>\n",
       "      <td>244033.7682</td>\n",
       "      <td>22</td>\n",
       "      <td>12</td>\n",
       "      <td>24</td>\n",
       "      <td>24</td>\n",
       "      <td>3</td>\n",
       "      <td>3</td>\n",
       "    </tr>\n",
       "    <tr>\n",
       "      <th>2</th>\n",
       "      <td>2018-01-02</td>\n",
       "      <td>207655.1990</td>\n",
       "      <td>22</td>\n",
       "      <td>15</td>\n",
       "      <td>24</td>\n",
       "      <td>24</td>\n",
       "      <td>3</td>\n",
       "      <td>3</td>\n",
       "    </tr>\n",
       "    <tr>\n",
       "      <th>3</th>\n",
       "      <td>2018-01-03</td>\n",
       "      <td>248503.4810</td>\n",
       "      <td>23</td>\n",
       "      <td>15</td>\n",
       "      <td>24</td>\n",
       "      <td>24</td>\n",
       "      <td>3</td>\n",
       "      <td>13</td>\n",
       "    </tr>\n",
       "    <tr>\n",
       "      <th>4</th>\n",
       "      <td>2018-01-04</td>\n",
       "      <td>253310.1506</td>\n",
       "      <td>21</td>\n",
       "      <td>16</td>\n",
       "      <td>24</td>\n",
       "      <td>24</td>\n",
       "      <td>3</td>\n",
       "      <td>7</td>\n",
       "    </tr>\n",
       "  </tbody>\n",
       "</table>\n",
       "</div>"
      ],
      "text/plain": [
       "     datetime       zero_t  high_temp  low_temp  daytime  night  weather1  \\\n",
       "0  2018-01-01  244033.7682         22        12       24     24         3   \n",
       "1  2018-01-01  244033.7682         22        12       24     24         3   \n",
       "2  2018-01-02  207655.1990         22        15       24     24         3   \n",
       "3  2018-01-03  248503.4810         23        15       24     24         3   \n",
       "4  2018-01-04  253310.1506         21        16       24     24         3   \n",
       "\n",
       "   weather2  \n",
       "0         3  \n",
       "1         3  \n",
       "2         3  \n",
       "3        13  \n",
       "4         7  "
      ]
     },
     "execution_count": 55,
     "metadata": {},
     "output_type": "execute_result"
    }
   ],
   "source": [
    "ele_data = pd.read_csv('./process_data/processed_data.csv')\n",
    "weather_data = pd.read_csv('./process_data/weather.csv')\n",
    "\n",
    "ele_data = ele_data.iloc[:,:2]\n",
    "ele_data.columns = ['datetime','zero_t']\n",
    "print(len(ele_data))\n",
    "print(ele_data.head())\n",
    "print(weather_data.head())\n",
    "dataset_train = pd.merge(ele_data,weather_data,how='inner',on='datetime')\n",
    "dataset_train.head()\n",
    "\n",
    "cols = list(dataset_train)[1:8]\n",
    "\n",
    "# extract dates will be used in visualization\n",
    "datelist_train = list(dataset_train['datetime'])\n",
    "datelist_train = [dt.datetime.strptime(date, '%Y-%m-%d').date() for date in datelist_train]\n",
    "\n",
    "print('Traing set shape == {}'.format(dataset_train.shape))\n",
    "print('all timestamps == {}'.format(len(datelist_train)))\n",
    "print('featured selecte: {}'.format(cols))\n",
    "print(dataset_train.info())\n",
    "dataset_train.head()"
   ]
  },
  {
   "cell_type": "code",
   "execution_count": 56,
   "metadata": {},
   "outputs": [
    {
     "data": {
      "text/html": [
       "<div>\n",
       "<style scoped>\n",
       "    .dataframe tbody tr th:only-of-type {\n",
       "        vertical-align: middle;\n",
       "    }\n",
       "\n",
       "    .dataframe tbody tr th {\n",
       "        vertical-align: top;\n",
       "    }\n",
       "\n",
       "    .dataframe thead th {\n",
       "        text-align: right;\n",
       "    }\n",
       "</style>\n",
       "<table border=\"1\" class=\"dataframe\">\n",
       "  <thead>\n",
       "    <tr style=\"text-align: right;\">\n",
       "      <th></th>\n",
       "      <th>zero_t</th>\n",
       "      <th>high_temp</th>\n",
       "      <th>low_temp</th>\n",
       "      <th>daytime</th>\n",
       "      <th>night</th>\n",
       "      <th>weather1</th>\n",
       "      <th>weather2</th>\n",
       "    </tr>\n",
       "    <tr>\n",
       "      <th>datetime</th>\n",
       "      <th></th>\n",
       "      <th></th>\n",
       "      <th></th>\n",
       "      <th></th>\n",
       "      <th></th>\n",
       "      <th></th>\n",
       "      <th></th>\n",
       "    </tr>\n",
       "  </thead>\n",
       "  <tbody>\n",
       "    <tr>\n",
       "      <th>2018-01-01</th>\n",
       "      <td>244033.7682</td>\n",
       "      <td>22</td>\n",
       "      <td>12</td>\n",
       "      <td>24</td>\n",
       "      <td>24</td>\n",
       "      <td>3</td>\n",
       "      <td>3</td>\n",
       "    </tr>\n",
       "    <tr>\n",
       "      <th>2018-01-01</th>\n",
       "      <td>244033.7682</td>\n",
       "      <td>22</td>\n",
       "      <td>12</td>\n",
       "      <td>24</td>\n",
       "      <td>24</td>\n",
       "      <td>3</td>\n",
       "      <td>3</td>\n",
       "    </tr>\n",
       "    <tr>\n",
       "      <th>2018-01-02</th>\n",
       "      <td>207655.1990</td>\n",
       "      <td>22</td>\n",
       "      <td>15</td>\n",
       "      <td>24</td>\n",
       "      <td>24</td>\n",
       "      <td>3</td>\n",
       "      <td>3</td>\n",
       "    </tr>\n",
       "    <tr>\n",
       "      <th>2018-01-03</th>\n",
       "      <td>248503.4810</td>\n",
       "      <td>23</td>\n",
       "      <td>15</td>\n",
       "      <td>24</td>\n",
       "      <td>24</td>\n",
       "      <td>3</td>\n",
       "      <td>13</td>\n",
       "    </tr>\n",
       "    <tr>\n",
       "      <th>2018-01-04</th>\n",
       "      <td>253310.1506</td>\n",
       "      <td>21</td>\n",
       "      <td>16</td>\n",
       "      <td>24</td>\n",
       "      <td>24</td>\n",
       "      <td>3</td>\n",
       "      <td>7</td>\n",
       "    </tr>\n",
       "    <tr>\n",
       "      <th>...</th>\n",
       "      <td>...</td>\n",
       "      <td>...</td>\n",
       "      <td>...</td>\n",
       "      <td>...</td>\n",
       "      <td>...</td>\n",
       "      <td>...</td>\n",
       "      <td>...</td>\n",
       "    </tr>\n",
       "    <tr>\n",
       "      <th>2021-08-27</th>\n",
       "      <td>223670.7666</td>\n",
       "      <td>35</td>\n",
       "      <td>26</td>\n",
       "      <td>12</td>\n",
       "      <td>12</td>\n",
       "      <td>15</td>\n",
       "      <td>15</td>\n",
       "    </tr>\n",
       "    <tr>\n",
       "      <th>2021-08-28</th>\n",
       "      <td>223349.5616</td>\n",
       "      <td>33</td>\n",
       "      <td>26</td>\n",
       "      <td>12</td>\n",
       "      <td>12</td>\n",
       "      <td>15</td>\n",
       "      <td>3</td>\n",
       "    </tr>\n",
       "    <tr>\n",
       "      <th>2021-08-29</th>\n",
       "      <td>222113.3896</td>\n",
       "      <td>32</td>\n",
       "      <td>25</td>\n",
       "      <td>12</td>\n",
       "      <td>12</td>\n",
       "      <td>15</td>\n",
       "      <td>15</td>\n",
       "    </tr>\n",
       "    <tr>\n",
       "      <th>2021-08-30</th>\n",
       "      <td>219580.2939</td>\n",
       "      <td>34</td>\n",
       "      <td>26</td>\n",
       "      <td>12</td>\n",
       "      <td>12</td>\n",
       "      <td>14</td>\n",
       "      <td>14</td>\n",
       "    </tr>\n",
       "    <tr>\n",
       "      <th>2021-08-31</th>\n",
       "      <td>219718.5977</td>\n",
       "      <td>32</td>\n",
       "      <td>26</td>\n",
       "      <td>12</td>\n",
       "      <td>12</td>\n",
       "      <td>15</td>\n",
       "      <td>14</td>\n",
       "    </tr>\n",
       "  </tbody>\n",
       "</table>\n",
       "<p>1345 rows × 7 columns</p>\n",
       "</div>"
      ],
      "text/plain": [
       "                 zero_t  high_temp  low_temp  daytime  night  weather1  \\\n",
       "datetime                                                                 \n",
       "2018-01-01  244033.7682         22        12       24     24         3   \n",
       "2018-01-01  244033.7682         22        12       24     24         3   \n",
       "2018-01-02  207655.1990         22        15       24     24         3   \n",
       "2018-01-03  248503.4810         23        15       24     24         3   \n",
       "2018-01-04  253310.1506         21        16       24     24         3   \n",
       "...                 ...        ...       ...      ...    ...       ...   \n",
       "2021-08-27  223670.7666         35        26       12     12        15   \n",
       "2021-08-28  223349.5616         33        26       12     12        15   \n",
       "2021-08-29  222113.3896         32        25       12     12        15   \n",
       "2021-08-30  219580.2939         34        26       12     12        14   \n",
       "2021-08-31  219718.5977         32        26       12     12        15   \n",
       "\n",
       "            weather2  \n",
       "datetime              \n",
       "2018-01-01         3  \n",
       "2018-01-01         3  \n",
       "2018-01-02         3  \n",
       "2018-01-03        13  \n",
       "2018-01-04         7  \n",
       "...              ...  \n",
       "2021-08-27        15  \n",
       "2021-08-28         3  \n",
       "2021-08-29        15  \n",
       "2021-08-30        14  \n",
       "2021-08-31        14  \n",
       "\n",
       "[1345 rows x 7 columns]"
      ]
     },
     "execution_count": 56,
     "metadata": {},
     "output_type": "execute_result"
    }
   ],
   "source": [
    "dataset_train.index = dataset_train['datetime']\n",
    "del dataset_train['datetime']\n",
    "dataset_train"
   ]
  },
  {
   "cell_type": "code",
   "execution_count": 57,
   "metadata": {},
   "outputs": [],
   "source": [
    "dataset_train.to_csv('zero.csv')"
   ]
  },
  {
   "cell_type": "code",
   "execution_count": 58,
   "metadata": {},
   "outputs": [
    {
     "data": {
      "text/plain": [
       "<AxesSubplot:xlabel='datetime'>"
      ]
     },
     "execution_count": 58,
     "metadata": {},
     "output_type": "execute_result"
    },
    {
     "data": {
      "image/png": "[encoded data removed]",
      "text/plain": [
       "<Figure size 1008x360 with 1 Axes>"
      ]
     },
     "metadata": {
      "needs_background": "light"
     },
     "output_type": "display_data"
    }
   ],
   "source": [
    "rcParams['figure.figsize'] = 14,5\n",
    "dataset_train['zero_t'].plot()"
   ]
  },
  {
   "cell_type": "code",
   "execution_count": 59,
   "metadata": {},
   "outputs": [
    {
     "name": "stdout",
     "output_type": "stream",
     "text": [
      "1345\n",
      "1335\n"
     ]
    },
    {
     "data": {
      "text/html": [
       "<div>\n",
       "<style scoped>\n",
       "    .dataframe tbody tr th:only-of-type {\n",
       "        vertical-align: middle;\n",
       "    }\n",
       "\n",
       "    .dataframe tbody tr th {\n",
       "        vertical-align: top;\n",
       "    }\n",
       "\n",
       "    .dataframe thead th {\n",
       "        text-align: right;\n",
       "    }\n",
       "</style>\n",
       "<table border=\"1\" class=\"dataframe\">\n",
       "  <thead>\n",
       "    <tr style=\"text-align: right;\">\n",
       "      <th></th>\n",
       "      <th>zero_t</th>\n",
       "      <th>high_temp</th>\n",
       "      <th>low_temp</th>\n",
       "      <th>daytime</th>\n",
       "      <th>night</th>\n",
       "      <th>weather1</th>\n",
       "      <th>weather2</th>\n",
       "      <th>label</th>\n",
       "    </tr>\n",
       "    <tr>\n",
       "      <th>datetime</th>\n",
       "      <th></th>\n",
       "      <th></th>\n",
       "      <th></th>\n",
       "      <th></th>\n",
       "      <th></th>\n",
       "      <th></th>\n",
       "      <th></th>\n",
       "      <th></th>\n",
       "    </tr>\n",
       "  </thead>\n",
       "  <tbody>\n",
       "    <tr>\n",
       "      <th>2018-01-01</th>\n",
       "      <td>244033.7682</td>\n",
       "      <td>22</td>\n",
       "      <td>12</td>\n",
       "      <td>24</td>\n",
       "      <td>24</td>\n",
       "      <td>3</td>\n",
       "      <td>3</td>\n",
       "      <td>259171.2066</td>\n",
       "    </tr>\n",
       "    <tr>\n",
       "      <th>2018-01-01</th>\n",
       "      <td>244033.7682</td>\n",
       "      <td>22</td>\n",
       "      <td>12</td>\n",
       "      <td>24</td>\n",
       "      <td>24</td>\n",
       "      <td>3</td>\n",
       "      <td>3</td>\n",
       "      <td>257756.5801</td>\n",
       "    </tr>\n",
       "    <tr>\n",
       "      <th>2018-01-02</th>\n",
       "      <td>207655.1990</td>\n",
       "      <td>22</td>\n",
       "      <td>15</td>\n",
       "      <td>24</td>\n",
       "      <td>24</td>\n",
       "      <td>3</td>\n",
       "      <td>3</td>\n",
       "      <td>257279.1719</td>\n",
       "    </tr>\n",
       "    <tr>\n",
       "      <th>2018-01-03</th>\n",
       "      <td>248503.4810</td>\n",
       "      <td>23</td>\n",
       "      <td>15</td>\n",
       "      <td>24</td>\n",
       "      <td>24</td>\n",
       "      <td>3</td>\n",
       "      <td>13</td>\n",
       "      <td>257543.3267</td>\n",
       "    </tr>\n",
       "    <tr>\n",
       "      <th>2018-01-04</th>\n",
       "      <td>253310.1506</td>\n",
       "      <td>21</td>\n",
       "      <td>16</td>\n",
       "      <td>24</td>\n",
       "      <td>24</td>\n",
       "      <td>3</td>\n",
       "      <td>7</td>\n",
       "      <td>254620.2619</td>\n",
       "    </tr>\n",
       "  </tbody>\n",
       "</table>\n",
       "</div>"
      ],
      "text/plain": [
       "                 zero_t  high_temp  low_temp  daytime  night  weather1  \\\n",
       "datetime                                                                 \n",
       "2018-01-01  244033.7682         22        12       24     24         3   \n",
       "2018-01-01  244033.7682         22        12       24     24         3   \n",
       "2018-01-02  207655.1990         22        15       24     24         3   \n",
       "2018-01-03  248503.4810         23        15       24     24         3   \n",
       "2018-01-04  253310.1506         21        16       24     24         3   \n",
       "\n",
       "            weather2        label  \n",
       "datetime                           \n",
       "2018-01-01         3  259171.2066  \n",
       "2018-01-01         3  257756.5801  \n",
       "2018-01-02         3  257279.1719  \n",
       "2018-01-03        13  257543.3267  \n",
       "2018-01-04         7  254620.2619  "
      ]
     },
     "execution_count": 59,
     "metadata": {},
     "output_type": "execute_result"
    }
   ],
   "source": [
    "n_predict = 10\n",
    "mem_day = 5\n",
    "dataset_train['label'] = dataset_train['zero_t'].shift(-n_predict)\n",
    "print(len(dataset_train))\n",
    "dataset_train.dropna(inplace=True)  # 前十天没了...，label将第一列数据往下移动10天\n",
    "print(len(dataset_train))\n",
    "dataset_train.head()"
   ]
  },
  {
   "cell_type": "code",
   "execution_count": 60,
   "metadata": {},
   "outputs": [
    {
     "data": {
      "text/plain": [
       "(1335, 7)"
      ]
     },
     "execution_count": 60,
     "metadata": {},
     "output_type": "execute_result"
    }
   ],
   "source": [
    "df = dataset_train\n",
    "sc = StandardScaler()\n",
    "sca_x_train = sc.fit_transform(df.iloc[:,:-1])\n",
    "sca_x_train.shape"
   ]
  },
  {
   "cell_type": "code",
   "execution_count": null,
   "metadata": {},
   "outputs": [],
   "source": []
  },
  {
   "cell_type": "code",
   "execution_count": 61,
   "metadata": {},
   "outputs": [],
   "source": [
    "def lstm_precessing(dataset_train, mem_day, n_predict):\n",
    "    scaler = StandardScaler()\n",
    "    sca_X = scaler.fit_transform(dataset_train.iloc[:,:-1])\n",
    "\n",
    "    deq  = deque(maxlen=mem_day)\n",
    "\n",
    "    X = []\n",
    "    for i in sca_X:\n",
    "        deq.append(list(i))  # list(i) 7个特征\n",
    "        if len(deq) == mem_day:  # 滑动窗口大小为mem_day    X.append([[,,,,,,],[],[],..,[][]])\n",
    "            X.append(list(deq))\n",
    "\n",
    "    X_lately = X[-n_predict:]\n",
    "    X = X[:-n_predict]\n",
    "\n",
    "    y = dataset_train['label'].values[mem_day - 1 : -n_predict] \n",
    "\n",
    "    X = np.array(X)\n",
    "    y = np.array(y)\n",
    "\n",
    "    return X,y,X_lately"
   ]
  },
  {
   "cell_type": "code",
   "execution_count": 62,
   "metadata": {},
   "outputs": [
    {
     "name": "stdout",
     "output_type": "stream",
     "text": [
      "x_train shape == (1321, 5, 7)\n",
      "y_train shape == (1321,)\n",
      "x_lately shape == 10\n"
     ]
    }
   ],
   "source": [
    "X,y,X_lately = lstm_precessing(dataset_train,mem_day,n_predict)\n",
    "\n",
    "print('x_train shape == {}'.format(X.shape))\n",
    "print('y_train shape == {}'.format(y.shape))\n",
    "print('x_lately shape == {}'.format(len(X_lately)))"
   ]
  },
  {
   "cell_type": "code",
   "execution_count": 63,
   "metadata": {},
   "outputs": [
    {
     "name": "stdout",
     "output_type": "stream",
     "text": [
      "Epoch 1/50\n",
      "38/38 [==============================] - ETA: 0s - loss: 44380725248.0000 - mape: 99.9998INFO:tensorflow:Assets written to: ./models\\100.00_01_men_1_lstm_1_dense_1_unit_32\\assets\n"
     ]
    },
    {
     "name": "stderr",
     "output_type": "stream",
     "text": [
      "INFO:tensorflow:Assets written to: ./models\\100.00_01_men_1_lstm_1_dense_1_unit_32\\assets\n",
      "WARNING:absl:<keras.layers.recurrent.LSTMCell object at 0x000002315D4FA880> has the same name 'LSTMCell' as a built-in Keras object. Consider renaming <class 'keras.layers.recurrent.LSTMCell'> to avoid naming conflicts when loading with `tf.keras.models.load_model`. If renaming is not possible, pass the object in the `custom_objects` parameter of the load function.\n",
      "WARNING:absl:<keras.layers.recurrent.LSTMCell object at 0x000002315F737FD0> has the same name 'LSTMCell' as a built-in Keras object. Consider renaming <class 'keras.layers.recurrent.LSTMCell'> to avoid naming conflicts when loading with `tf.keras.models.load_model`. If renaming is not possible, pass the object in the `custom_objects` parameter of the load function.\n",
      "WARNING:absl:<keras.layers.recurrent.LSTMCell object at 0x000002315F7188E0> has the same name 'LSTMCell' as a built-in Keras object. Consider renaming <class 'keras.layers.recurrent.LSTMCell'> to avoid naming conflicts when loading with `tf.keras.models.load_model`. If renaming is not possible, pass the object in the `custom_objects` parameter of the load function.\n"
     ]
    },
    {
     "name": "stdout",
     "output_type": "stream",
     "text": [
      "38/38 [==============================] - 27s 326ms/step - loss: 44380725248.0000 - mape: 99.9998 - val_loss: 48856195072.0000 - val_mape: 99.9992\n",
      "Epoch 2/50\n",
      "37/38 [============================>.] - ETA: 0s - loss: 43999395840.0000 - mape: 99.6663INFO:tensorflow:Assets written to: ./models\\98.97_02_men_1_lstm_1_dense_1_unit_32\\assets\n"
     ]
    },
    {
     "name": "stderr",
     "output_type": "stream",
     "text": [
      "INFO:tensorflow:Assets written to: ./models\\98.97_02_men_1_lstm_1_dense_1_unit_32\\assets\n",
      "WARNING:absl:<keras.layers.recurrent.LSTMCell object at 0x000002315D4FA880> has the same name 'LSTMCell' as a built-in Keras object. Consider renaming <class 'keras.layers.recurrent.LSTMCell'> to avoid naming conflicts when loading with `tf.keras.models.load_model`. If renaming is not possible, pass the object in the `custom_objects` parameter of the load function.\n",
      "WARNING:absl:<keras.layers.recurrent.LSTMCell object at 0x000002315F737FD0> has the same name 'LSTMCell' as a built-in Keras object. Consider renaming <class 'keras.layers.recurrent.LSTMCell'> to avoid naming conflicts when loading with `tf.keras.models.load_model`. If renaming is not possible, pass the object in the `custom_objects` parameter of the load function.\n",
      "WARNING:absl:<keras.layers.recurrent.LSTMCell object at 0x000002315F7188E0> has the same name 'LSTMCell' as a built-in Keras object. Consider renaming <class 'keras.layers.recurrent.LSTMCell'> to avoid naming conflicts when loading with `tf.keras.models.load_model`. If renaming is not possible, pass the object in the `custom_objects` parameter of the load function.\n"
     ]
    },
    {
     "name": "stdout",
     "output_type": "stream",
     "text": [
      "38/38 [==============================] - 9s 246ms/step - loss: 44031606784.0000 - mape: 99.6591 - val_loss: 47841996800.0000 - val_mape: 98.9715\n",
      "Epoch 3/50\n",
      "38/38 [==============================] - ETA: 0s - loss: 23576920064.0000 - mape: 70.6797INFO:tensorflow:Assets written to: ./models\\81.26_03_men_1_lstm_1_dense_1_unit_32\\assets\n"
     ]
    },
    {
     "name": "stderr",
     "output_type": "stream",
     "text": [
      "INFO:tensorflow:Assets written to: ./models\\81.26_03_men_1_lstm_1_dense_1_unit_32\\assets\n",
      "WARNING:absl:<keras.layers.recurrent.LSTMCell object at 0x000002315D4FA880> has the same name 'LSTMCell' as a built-in Keras object. Consider renaming <class 'keras.layers.recurrent.LSTMCell'> to avoid naming conflicts when loading with `tf.keras.models.load_model`. If renaming is not possible, pass the object in the `custom_objects` parameter of the load function.\n",
      "WARNING:absl:<keras.layers.recurrent.LSTMCell object at 0x000002315F737FD0> has the same name 'LSTMCell' as a built-in Keras object. Consider renaming <class 'keras.layers.recurrent.LSTMCell'> to avoid naming conflicts when loading with `tf.keras.models.load_model`. If renaming is not possible, pass the object in the `custom_objects` parameter of the load function.\n",
      "WARNING:absl:<keras.layers.recurrent.LSTMCell object at 0x000002315F7188E0> has the same name 'LSTMCell' as a built-in Keras object. Consider renaming <class 'keras.layers.recurrent.LSTMCell'> to avoid naming conflicts when loading with `tf.keras.models.load_model`. If renaming is not possible, pass the object in the `custom_objects` parameter of the load function.\n"
     ]
    },
    {
     "name": "stdout",
     "output_type": "stream",
     "text": [
      "38/38 [==============================] - 10s 259ms/step - loss: 23576920064.0000 - mape: 70.6797 - val_loss: 32738246656.0000 - val_mape: 81.2613\n",
      "Epoch 4/50\n",
      "36/38 [===========================>..] - ETA: 0s - loss: 8289566720.0000 - mape: 38.7321INFO:tensorflow:Assets written to: ./models\\53.46_04_men_1_lstm_1_dense_1_unit_32\\assets\n"
     ]
    },
    {
     "name": "stderr",
     "output_type": "stream",
     "text": [
      "INFO:tensorflow:Assets written to: ./models\\53.46_04_men_1_lstm_1_dense_1_unit_32\\assets\n",
      "WARNING:absl:<keras.layers.recurrent.LSTMCell object at 0x000002315D4FA880> has the same name 'LSTMCell' as a built-in Keras object. Consider renaming <class 'keras.layers.recurrent.LSTMCell'> to avoid naming conflicts when loading with `tf.keras.models.load_model`. If renaming is not possible, pass the object in the `custom_objects` parameter of the load function.\n",
      "WARNING:absl:<keras.layers.recurrent.LSTMCell object at 0x000002315F737FD0> has the same name 'LSTMCell' as a built-in Keras object. Consider renaming <class 'keras.layers.recurrent.LSTMCell'> to avoid naming conflicts when loading with `tf.keras.models.load_model`. If renaming is not possible, pass the object in the `custom_objects` parameter of the load function.\n",
      "WARNING:absl:<keras.layers.recurrent.LSTMCell object at 0x000002315F7188E0> has the same name 'LSTMCell' as a built-in Keras object. Consider renaming <class 'keras.layers.recurrent.LSTMCell'> to avoid naming conflicts when loading with `tf.keras.models.load_model`. If renaming is not possible, pass the object in the `custom_objects` parameter of the load function.\n"
     ]
    },
    {
     "name": "stdout",
     "output_type": "stream",
     "text": [
      "38/38 [==============================] - 9s 238ms/step - loss: 8199498752.0000 - mape: 38.6420 - val_loss: 14685378560.0000 - val_mape: 53.4647\n",
      "Epoch 5/50\n",
      "35/38 [==========================>...] - ETA: 0s - loss: 4256604416.0000 - mape: 29.0314INFO:tensorflow:Assets written to: ./models\\22.48_05_men_1_lstm_1_dense_1_unit_32\\assets\n"
     ]
    },
    {
     "name": "stderr",
     "output_type": "stream",
     "text": [
      "INFO:tensorflow:Assets written to: ./models\\22.48_05_men_1_lstm_1_dense_1_unit_32\\assets\n",
      "WARNING:absl:<keras.layers.recurrent.LSTMCell object at 0x000002315D4FA880> has the same name 'LSTMCell' as a built-in Keras object. Consider renaming <class 'keras.layers.recurrent.LSTMCell'> to avoid naming conflicts when loading with `tf.keras.models.load_model`. If renaming is not possible, pass the object in the `custom_objects` parameter of the load function.\n",
      "WARNING:absl:<keras.layers.recurrent.LSTMCell object at 0x000002315F737FD0> has the same name 'LSTMCell' as a built-in Keras object. Consider renaming <class 'keras.layers.recurrent.LSTMCell'> to avoid naming conflicts when loading with `tf.keras.models.load_model`. If renaming is not possible, pass the object in the `custom_objects` parameter of the load function.\n",
      "WARNING:absl:<keras.layers.recurrent.LSTMCell object at 0x000002315F7188E0> has the same name 'LSTMCell' as a built-in Keras object. Consider renaming <class 'keras.layers.recurrent.LSTMCell'> to avoid naming conflicts when loading with `tf.keras.models.load_model`. If renaming is not possible, pass the object in the `custom_objects` parameter of the load function.\n"
     ]
    },
    {
     "name": "stdout",
     "output_type": "stream",
     "text": [
      "38/38 [==============================] - 9s 248ms/step - loss: 4198800128.0000 - mape: 28.7739 - val_loss: 3307186944.0000 - val_mape: 22.4849\n",
      "Epoch 6/50\n",
      "34/38 [=========================>....] - ETA: 0s - loss: 3144248320.0000 - mape: 24.7070INFO:tensorflow:Assets written to: ./models\\21.84_06_men_1_lstm_1_dense_1_unit_32\\assets\n"
     ]
    },
    {
     "name": "stderr",
     "output_type": "stream",
     "text": [
      "INFO:tensorflow:Assets written to: ./models\\21.84_06_men_1_lstm_1_dense_1_unit_32\\assets\n",
      "WARNING:absl:<keras.layers.recurrent.LSTMCell object at 0x000002315D4FA880> has the same name 'LSTMCell' as a built-in Keras object. Consider renaming <class 'keras.layers.recurrent.LSTMCell'> to avoid naming conflicts when loading with `tf.keras.models.load_model`. If renaming is not possible, pass the object in the `custom_objects` parameter of the load function.\n",
      "WARNING:absl:<keras.layers.recurrent.LSTMCell object at 0x000002315F737FD0> has the same name 'LSTMCell' as a built-in Keras object. Consider renaming <class 'keras.layers.recurrent.LSTMCell'> to avoid naming conflicts when loading with `tf.keras.models.load_model`. If renaming is not possible, pass the object in the `custom_objects` parameter of the load function.\n",
      "WARNING:absl:<keras.layers.recurrent.LSTMCell object at 0x000002315F7188E0> has the same name 'LSTMCell' as a built-in Keras object. Consider renaming <class 'keras.layers.recurrent.LSTMCell'> to avoid naming conflicts when loading with `tf.keras.models.load_model`. If renaming is not possible, pass the object in the `custom_objects` parameter of the load function.\n"
     ]
    },
    {
     "name": "stdout",
     "output_type": "stream",
     "text": [
      "38/38 [==============================] - 9s 230ms/step - loss: 3154564352.0000 - mape: 24.6810 - val_loss: 3026287104.0000 - val_mape: 21.8351\n",
      "Epoch 7/50\n",
      "38/38 [==============================] - 1s 15ms/step - loss: 2855902464.0000 - mape: 24.3251 - val_loss: 3587384064.0000 - val_mape: 24.6778\n",
      "Epoch 8/50\n",
      "38/38 [==============================] - 1s 14ms/step - loss: 2708348672.0000 - mape: 23.2508 - val_loss: 3008481536.0000 - val_mape: 22.5170\n",
      "Epoch 9/50\n",
      "38/38 [==============================] - 1s 14ms/step - loss: 2408621312.0000 - mape: 22.0999 - val_loss: 2976045824.0000 - val_mape: 22.5553\n",
      "Epoch 10/50\n",
      "37/38 [============================>.] - ETA: 0s - loss: 2263962368.0000 - mape: 21.5272INFO:tensorflow:Assets written to: ./models\\16.97_10_men_1_lstm_1_dense_1_unit_32\\assets\n"
     ]
    },
    {
     "name": "stderr",
     "output_type": "stream",
     "text": [
      "INFO:tensorflow:Assets written to: ./models\\16.97_10_men_1_lstm_1_dense_1_unit_32\\assets\n",
      "WARNING:absl:<keras.layers.recurrent.LSTMCell object at 0x000002315D4FA880> has the same name 'LSTMCell' as a built-in Keras object. Consider renaming <class 'keras.layers.recurrent.LSTMCell'> to avoid naming conflicts when loading with `tf.keras.models.load_model`. If renaming is not possible, pass the object in the `custom_objects` parameter of the load function.\n",
      "WARNING:absl:<keras.layers.recurrent.LSTMCell object at 0x000002315F737FD0> has the same name 'LSTMCell' as a built-in Keras object. Consider renaming <class 'keras.layers.recurrent.LSTMCell'> to avoid naming conflicts when loading with `tf.keras.models.load_model`. If renaming is not possible, pass the object in the `custom_objects` parameter of the load function.\n",
      "WARNING:absl:<keras.layers.recurrent.LSTMCell object at 0x000002315F7188E0> has the same name 'LSTMCell' as a built-in Keras object. Consider renaming <class 'keras.layers.recurrent.LSTMCell'> to avoid naming conflicts when loading with `tf.keras.models.load_model`. If renaming is not possible, pass the object in the `custom_objects` parameter of the load function.\n"
     ]
    },
    {
     "name": "stdout",
     "output_type": "stream",
     "text": [
      "38/38 [==============================] - 8s 224ms/step - loss: 2262164736.0000 - mape: 21.5053 - val_loss: 1836503040.0000 - val_mape: 16.9685\n",
      "Epoch 11/50\n",
      "38/38 [==============================] - 1s 14ms/step - loss: 2070299392.0000 - mape: 20.2582 - val_loss: 2122486400.0000 - val_mape: 18.7868\n",
      "Epoch 12/50\n",
      "34/38 [=========================>....] - ETA: 0s - loss: 1994789760.0000 - mape: 20.9186INFO:tensorflow:Assets written to: ./models\\14.80_12_men_1_lstm_1_dense_1_unit_32\\assets\n"
     ]
    },
    {
     "name": "stderr",
     "output_type": "stream",
     "text": [
      "INFO:tensorflow:Assets written to: ./models\\14.80_12_men_1_lstm_1_dense_1_unit_32\\assets\n",
      "WARNING:absl:<keras.layers.recurrent.LSTMCell object at 0x000002315D4FA880> has the same name 'LSTMCell' as a built-in Keras object. Consider renaming <class 'keras.layers.recurrent.LSTMCell'> to avoid naming conflicts when loading with `tf.keras.models.load_model`. If renaming is not possible, pass the object in the `custom_objects` parameter of the load function.\n",
      "WARNING:absl:<keras.layers.recurrent.LSTMCell object at 0x000002315F737FD0> has the same name 'LSTMCell' as a built-in Keras object. Consider renaming <class 'keras.layers.recurrent.LSTMCell'> to avoid naming conflicts when loading with `tf.keras.models.load_model`. If renaming is not possible, pass the object in the `custom_objects` parameter of the load function.\n",
      "WARNING:absl:<keras.layers.recurrent.LSTMCell object at 0x000002315F7188E0> has the same name 'LSTMCell' as a built-in Keras object. Consider renaming <class 'keras.layers.recurrent.LSTMCell'> to avoid naming conflicts when loading with `tf.keras.models.load_model`. If renaming is not possible, pass the object in the `custom_objects` parameter of the load function.\n"
     ]
    },
    {
     "name": "stdout",
     "output_type": "stream",
     "text": [
      "38/38 [==============================] - 9s 253ms/step - loss: 2015517056.0000 - mape: 20.7329 - val_loss: 1437535872.0000 - val_mape: 14.7963\n",
      "Epoch 13/50\n",
      "34/38 [=========================>....] - ETA: 0s - loss: 1900566656.0000 - mape: 19.8783INFO:tensorflow:Assets written to: ./models\\13.26_13_men_1_lstm_1_dense_1_unit_32\\assets\n"
     ]
    },
    {
     "name": "stderr",
     "output_type": "stream",
     "text": [
      "INFO:tensorflow:Assets written to: ./models\\13.26_13_men_1_lstm_1_dense_1_unit_32\\assets\n",
      "WARNING:absl:<keras.layers.recurrent.LSTMCell object at 0x000002315D4FA880> has the same name 'LSTMCell' as a built-in Keras object. Consider renaming <class 'keras.layers.recurrent.LSTMCell'> to avoid naming conflicts when loading with `tf.keras.models.load_model`. If renaming is not possible, pass the object in the `custom_objects` parameter of the load function.\n",
      "WARNING:absl:<keras.layers.recurrent.LSTMCell object at 0x000002315F737FD0> has the same name 'LSTMCell' as a built-in Keras object. Consider renaming <class 'keras.layers.recurrent.LSTMCell'> to avoid naming conflicts when loading with `tf.keras.models.load_model`. If renaming is not possible, pass the object in the `custom_objects` parameter of the load function.\n",
      "WARNING:absl:<keras.layers.recurrent.LSTMCell object at 0x000002315F7188E0> has the same name 'LSTMCell' as a built-in Keras object. Consider renaming <class 'keras.layers.recurrent.LSTMCell'> to avoid naming conflicts when loading with `tf.keras.models.load_model`. If renaming is not possible, pass the object in the `custom_objects` parameter of the load function.\n"
     ]
    },
    {
     "name": "stdout",
     "output_type": "stream",
     "text": [
      "38/38 [==============================] - 10s 262ms/step - loss: 1868143616.0000 - mape: 19.4377 - val_loss: 1189624960.0000 - val_mape: 13.2642\n",
      "Epoch 14/50\n",
      "38/38 [==============================] - 1s 18ms/step - loss: 1858307200.0000 - mape: 19.2741 - val_loss: 1304955904.0000 - val_mape: 14.3373\n",
      "Epoch 15/50\n",
      "38/38 [==============================] - 1s 18ms/step - loss: 1802494976.0000 - mape: 19.4508 - val_loss: 1831010560.0000 - val_mape: 17.6702\n",
      "Epoch 16/50\n",
      "38/38 [==============================] - 1s 19ms/step - loss: 1573152640.0000 - mape: 18.6662 - val_loss: 1399277568.0000 - val_mape: 15.3319\n",
      "Epoch 17/50\n",
      "38/38 [==============================] - 1s 14ms/step - loss: 1646542080.0000 - mape: 18.6770 - val_loss: 1223819520.0000 - val_mape: 14.1513\n",
      "Epoch 18/50\n",
      "37/38 [============================>.] - ETA: 0s - loss: 1463984384.0000 - mape: 17.7929INFO:tensorflow:Assets written to: ./models\\12.33_18_men_1_lstm_1_dense_1_unit_32\\assets\n"
     ]
    },
    {
     "name": "stderr",
     "output_type": "stream",
     "text": [
      "INFO:tensorflow:Assets written to: ./models\\12.33_18_men_1_lstm_1_dense_1_unit_32\\assets\n",
      "WARNING:absl:<keras.layers.recurrent.LSTMCell object at 0x000002315D4FA880> has the same name 'LSTMCell' as a built-in Keras object. Consider renaming <class 'keras.layers.recurrent.LSTMCell'> to avoid naming conflicts when loading with `tf.keras.models.load_model`. If renaming is not possible, pass the object in the `custom_objects` parameter of the load function.\n",
      "WARNING:absl:<keras.layers.recurrent.LSTMCell object at 0x000002315F737FD0> has the same name 'LSTMCell' as a built-in Keras object. Consider renaming <class 'keras.layers.recurrent.LSTMCell'> to avoid naming conflicts when loading with `tf.keras.models.load_model`. If renaming is not possible, pass the object in the `custom_objects` parameter of the load function.\n",
      "WARNING:absl:<keras.layers.recurrent.LSTMCell object at 0x000002315F7188E0> has the same name 'LSTMCell' as a built-in Keras object. Consider renaming <class 'keras.layers.recurrent.LSTMCell'> to avoid naming conflicts when loading with `tf.keras.models.load_model`. If renaming is not possible, pass the object in the `custom_objects` parameter of the load function.\n"
     ]
    },
    {
     "name": "stdout",
     "output_type": "stream",
     "text": [
      "38/38 [==============================] - 9s 230ms/step - loss: 1460889728.0000 - mape: 17.7616 - val_loss: 949087744.0000 - val_mape: 12.3277\n",
      "Epoch 19/50\n",
      "38/38 [==============================] - ETA: 0s - loss: 1496142208.0000 - mape: 17.7612INFO:tensorflow:Assets written to: ./models\\11.25_19_men_1_lstm_1_dense_1_unit_32\\assets\n"
     ]
    },
    {
     "name": "stderr",
     "output_type": "stream",
     "text": [
      "INFO:tensorflow:Assets written to: ./models\\11.25_19_men_1_lstm_1_dense_1_unit_32\\assets\n",
      "WARNING:absl:<keras.layers.recurrent.LSTMCell object at 0x000002315D4FA880> has the same name 'LSTMCell' as a built-in Keras object. Consider renaming <class 'keras.layers.recurrent.LSTMCell'> to avoid naming conflicts when loading with `tf.keras.models.load_model`. If renaming is not possible, pass the object in the `custom_objects` parameter of the load function.\n",
      "WARNING:absl:<keras.layers.recurrent.LSTMCell object at 0x000002315F737FD0> has the same name 'LSTMCell' as a built-in Keras object. Consider renaming <class 'keras.layers.recurrent.LSTMCell'> to avoid naming conflicts when loading with `tf.keras.models.load_model`. If renaming is not possible, pass the object in the `custom_objects` parameter of the load function.\n",
      "WARNING:absl:<keras.layers.recurrent.LSTMCell object at 0x000002315F7188E0> has the same name 'LSTMCell' as a built-in Keras object. Consider renaming <class 'keras.layers.recurrent.LSTMCell'> to avoid naming conflicts when loading with `tf.keras.models.load_model`. If renaming is not possible, pass the object in the `custom_objects` parameter of the load function.\n"
     ]
    },
    {
     "name": "stdout",
     "output_type": "stream",
     "text": [
      "38/38 [==============================] - 9s 251ms/step - loss: 1496142208.0000 - mape: 17.7612 - val_loss: 797766720.0000 - val_mape: 11.2461\n",
      "Epoch 20/50\n",
      "38/38 [==============================] - 1s 14ms/step - loss: 1441257984.0000 - mape: 17.5336 - val_loss: 1211549312.0000 - val_mape: 14.2471\n",
      "Epoch 21/50\n",
      "36/38 [===========================>..] - ETA: 0s - loss: 1482129152.0000 - mape: 17.9562INFO:tensorflow:Assets written to: ./models\\10.06_21_men_1_lstm_1_dense_1_unit_32\\assets\n"
     ]
    },
    {
     "name": "stderr",
     "output_type": "stream",
     "text": [
      "INFO:tensorflow:Assets written to: ./models\\10.06_21_men_1_lstm_1_dense_1_unit_32\\assets\n",
      "WARNING:absl:<keras.layers.recurrent.LSTMCell object at 0x000002315D4FA880> has the same name 'LSTMCell' as a built-in Keras object. Consider renaming <class 'keras.layers.recurrent.LSTMCell'> to avoid naming conflicts when loading with `tf.keras.models.load_model`. If renaming is not possible, pass the object in the `custom_objects` parameter of the load function.\n",
      "WARNING:absl:<keras.layers.recurrent.LSTMCell object at 0x000002315F737FD0> has the same name 'LSTMCell' as a built-in Keras object. Consider renaming <class 'keras.layers.recurrent.LSTMCell'> to avoid naming conflicts when loading with `tf.keras.models.load_model`. If renaming is not possible, pass the object in the `custom_objects` parameter of the load function.\n",
      "WARNING:absl:<keras.layers.recurrent.LSTMCell object at 0x000002315F7188E0> has the same name 'LSTMCell' as a built-in Keras object. Consider renaming <class 'keras.layers.recurrent.LSTMCell'> to avoid naming conflicts when loading with `tf.keras.models.load_model`. If renaming is not possible, pass the object in the `custom_objects` parameter of the load function.\n"
     ]
    },
    {
     "name": "stdout",
     "output_type": "stream",
     "text": [
      "38/38 [==============================] - 8s 228ms/step - loss: 1462666112.0000 - mape: 17.7575 - val_loss: 656872832.0000 - val_mape: 10.0645\n",
      "Epoch 22/50\n",
      "38/38 [==============================] - 1s 15ms/step - loss: 1434000256.0000 - mape: 17.6344 - val_loss: 814682240.0000 - val_mape: 11.5063\n",
      "Epoch 23/50\n",
      "38/38 [==============================] - 1s 14ms/step - loss: 1327182976.0000 - mape: 16.8449 - val_loss: 776308864.0000 - val_mape: 11.2101\n",
      "Epoch 24/50\n",
      "36/38 [===========================>..] - ETA: 0s - loss: 1458460288.0000 - mape: 17.6622INFO:tensorflow:Assets written to: ./models\\7.39_24_men_1_lstm_1_dense_1_unit_32\\assets\n"
     ]
    },
    {
     "name": "stderr",
     "output_type": "stream",
     "text": [
      "INFO:tensorflow:Assets written to: ./models\\7.39_24_men_1_lstm_1_dense_1_unit_32\\assets\n",
      "WARNING:absl:<keras.layers.recurrent.LSTMCell object at 0x000002315D4FA880> has the same name 'LSTMCell' as a built-in Keras object. Consider renaming <class 'keras.layers.recurrent.LSTMCell'> to avoid naming conflicts when loading with `tf.keras.models.load_model`. If renaming is not possible, pass the object in the `custom_objects` parameter of the load function.\n",
      "WARNING:absl:<keras.layers.recurrent.LSTMCell object at 0x000002315F737FD0> has the same name 'LSTMCell' as a built-in Keras object. Consider renaming <class 'keras.layers.recurrent.LSTMCell'> to avoid naming conflicts when loading with `tf.keras.models.load_model`. If renaming is not possible, pass the object in the `custom_objects` parameter of the load function.\n",
      "WARNING:absl:<keras.layers.recurrent.LSTMCell object at 0x000002315F7188E0> has the same name 'LSTMCell' as a built-in Keras object. Consider renaming <class 'keras.layers.recurrent.LSTMCell'> to avoid naming conflicts when loading with `tf.keras.models.load_model`. If renaming is not possible, pass the object in the `custom_objects` parameter of the load function.\n"
     ]
    },
    {
     "name": "stdout",
     "output_type": "stream",
     "text": [
      "38/38 [==============================] - 8s 224ms/step - loss: 1469605248.0000 - mape: 17.5773 - val_loss: 424589312.0000 - val_mape: 7.3930\n",
      "Epoch 25/50\n",
      "38/38 [==============================] - 1s 13ms/step - loss: 1356971264.0000 - mape: 17.1523 - val_loss: 659588736.0000 - val_mape: 10.2891\n",
      "Epoch 26/50\n",
      "38/38 [==============================] - 1s 14ms/step - loss: 1350286720.0000 - mape: 17.3577 - val_loss: 671163328.0000 - val_mape: 10.3705\n",
      "Epoch 27/50\n",
      "38/38 [==============================] - 1s 14ms/step - loss: 1278088704.0000 - mape: 16.8763 - val_loss: 759909184.0000 - val_mape: 11.1145\n",
      "Epoch 28/50\n",
      "38/38 [==============================] - 1s 14ms/step - loss: 1287614336.0000 - mape: 17.2118 - val_loss: 413160192.0000 - val_mape: 7.6967\n",
      "Epoch 29/50\n",
      "38/38 [==============================] - 1s 14ms/step - loss: 1240679680.0000 - mape: 16.6616 - val_loss: 599954432.0000 - val_mape: 9.8540\n",
      "Epoch 30/50\n",
      "37/38 [============================>.] - ETA: 0s - loss: 1227814528.0000 - mape: 16.4411INFO:tensorflow:Assets written to: ./models\\6.98_30_men_1_lstm_1_dense_1_unit_32\\assets\n"
     ]
    },
    {
     "name": "stderr",
     "output_type": "stream",
     "text": [
      "INFO:tensorflow:Assets written to: ./models\\6.98_30_men_1_lstm_1_dense_1_unit_32\\assets\n",
      "WARNING:absl:<keras.layers.recurrent.LSTMCell object at 0x000002315D4FA880> has the same name 'LSTMCell' as a built-in Keras object. Consider renaming <class 'keras.layers.recurrent.LSTMCell'> to avoid naming conflicts when loading with `tf.keras.models.load_model`. If renaming is not possible, pass the object in the `custom_objects` parameter of the load function.\n",
      "WARNING:absl:<keras.layers.recurrent.LSTMCell object at 0x000002315F737FD0> has the same name 'LSTMCell' as a built-in Keras object. Consider renaming <class 'keras.layers.recurrent.LSTMCell'> to avoid naming conflicts when loading with `tf.keras.models.load_model`. If renaming is not possible, pass the object in the `custom_objects` parameter of the load function.\n",
      "WARNING:absl:<keras.layers.recurrent.LSTMCell object at 0x000002315F7188E0> has the same name 'LSTMCell' as a built-in Keras object. Consider renaming <class 'keras.layers.recurrent.LSTMCell'> to avoid naming conflicts when loading with `tf.keras.models.load_model`. If renaming is not possible, pass the object in the `custom_objects` parameter of the load function.\n"
     ]
    },
    {
     "name": "stdout",
     "output_type": "stream",
     "text": [
      "38/38 [==============================] - 11s 287ms/step - loss: 1226534656.0000 - mape: 16.4154 - val_loss: 367298560.0000 - val_mape: 6.9824\n",
      "Epoch 31/50\n",
      "38/38 [==============================] - 1s 19ms/step - loss: 1188952320.0000 - mape: 16.0830 - val_loss: 463241472.0000 - val_mape: 8.4396\n",
      "Epoch 32/50\n",
      "38/38 [==============================] - 1s 18ms/step - loss: 1287135488.0000 - mape: 16.5829 - val_loss: 535354176.0000 - val_mape: 9.1888\n",
      "Epoch 33/50\n",
      "38/38 [==============================] - 1s 18ms/step - loss: 1124046976.0000 - mape: 15.2176 - val_loss: 656942848.0000 - val_mape: 10.4253\n",
      "Epoch 34/50\n",
      "38/38 [==============================] - 1s 15ms/step - loss: 1151936384.0000 - mape: 15.7161 - val_loss: 382259488.0000 - val_mape: 7.3640\n",
      "Epoch 35/50\n",
      "38/38 [==============================] - 1s 13ms/step - loss: 1199449728.0000 - mape: 16.1918 - val_loss: 426003680.0000 - val_mape: 7.9677\n",
      "Epoch 36/50\n",
      "38/38 [==============================] - 1s 14ms/step - loss: 1206617216.0000 - mape: 15.9331 - val_loss: 483489472.0000 - val_mape: 8.7157\n",
      "Epoch 37/50\n",
      "38/38 [==============================] - 0s 13ms/step - loss: 1179155968.0000 - mape: 16.0831 - val_loss: 510756704.0000 - val_mape: 8.9630\n",
      "Epoch 38/50\n",
      "37/38 [============================>.] - ETA: 0s - loss: 1221152384.0000 - mape: 16.0882INFO:tensorflow:Assets written to: ./models\\4.74_38_men_1_lstm_1_dense_1_unit_32\\assets\n"
     ]
    },
    {
     "name": "stderr",
     "output_type": "stream",
     "text": [
      "INFO:tensorflow:Assets written to: ./models\\4.74_38_men_1_lstm_1_dense_1_unit_32\\assets\n",
      "WARNING:absl:<keras.layers.recurrent.LSTMCell object at 0x000002315D4FA880> has the same name 'LSTMCell' as a built-in Keras object. Consider renaming <class 'keras.layers.recurrent.LSTMCell'> to avoid naming conflicts when loading with `tf.keras.models.load_model`. If renaming is not possible, pass the object in the `custom_objects` parameter of the load function.\n",
      "WARNING:absl:<keras.layers.recurrent.LSTMCell object at 0x000002315F737FD0> has the same name 'LSTMCell' as a built-in Keras object. Consider renaming <class 'keras.layers.recurrent.LSTMCell'> to avoid naming conflicts when loading with `tf.keras.models.load_model`. If renaming is not possible, pass the object in the `custom_objects` parameter of the load function.\n",
      "WARNING:absl:<keras.layers.recurrent.LSTMCell object at 0x000002315F7188E0> has the same name 'LSTMCell' as a built-in Keras object. Consider renaming <class 'keras.layers.recurrent.LSTMCell'> to avoid naming conflicts when loading with `tf.keras.models.load_model`. If renaming is not possible, pass the object in the `custom_objects` parameter of the load function.\n"
     ]
    },
    {
     "name": "stdout",
     "output_type": "stream",
     "text": [
      "38/38 [==============================] - 10s 262ms/step - loss: 1218855552.0000 - mape: 16.0709 - val_loss: 249127136.0000 - val_mape: 4.7435\n",
      "Epoch 39/50\n",
      "38/38 [==============================] - 1s 17ms/step - loss: 1304160896.0000 - mape: 16.9600 - val_loss: 561479872.0000 - val_mape: 9.7084\n",
      "Epoch 40/50\n",
      "38/38 [==============================] - 1s 17ms/step - loss: 1143117184.0000 - mape: 16.1075 - val_loss: 424601952.0000 - val_mape: 8.0417\n",
      "Epoch 41/50\n",
      "38/38 [==============================] - 1s 15ms/step - loss: 1171511296.0000 - mape: 15.9778 - val_loss: 278034592.0000 - val_mape: 5.3008\n",
      "Epoch 42/50\n",
      "38/38 [==============================] - 1s 15ms/step - loss: 1207323008.0000 - mape: 16.3926 - val_loss: 506355040.0000 - val_mape: 9.1042\n",
      "Epoch 43/50\n",
      "37/38 [============================>.] - ETA: 0s - loss: 1134813824.0000 - mape: 15.7289INFO:tensorflow:Assets written to: ./models\\4.72_43_men_1_lstm_1_dense_1_unit_32\\assets\n"
     ]
    },
    {
     "name": "stderr",
     "output_type": "stream",
     "text": [
      "INFO:tensorflow:Assets written to: ./models\\4.72_43_men_1_lstm_1_dense_1_unit_32\\assets\n",
      "WARNING:absl:<keras.layers.recurrent.LSTMCell object at 0x000002315D4FA880> has the same name 'LSTMCell' as a built-in Keras object. Consider renaming <class 'keras.layers.recurrent.LSTMCell'> to avoid naming conflicts when loading with `tf.keras.models.load_model`. If renaming is not possible, pass the object in the `custom_objects` parameter of the load function.\n",
      "WARNING:absl:<keras.layers.recurrent.LSTMCell object at 0x000002315F737FD0> has the same name 'LSTMCell' as a built-in Keras object. Consider renaming <class 'keras.layers.recurrent.LSTMCell'> to avoid naming conflicts when loading with `tf.keras.models.load_model`. If renaming is not possible, pass the object in the `custom_objects` parameter of the load function.\n",
      "WARNING:absl:<keras.layers.recurrent.LSTMCell object at 0x000002315F7188E0> has the same name 'LSTMCell' as a built-in Keras object. Consider renaming <class 'keras.layers.recurrent.LSTMCell'> to avoid naming conflicts when loading with `tf.keras.models.load_model`. If renaming is not possible, pass the object in the `custom_objects` parameter of the load function.\n"
     ]
    },
    {
     "name": "stdout",
     "output_type": "stream",
     "text": [
      "38/38 [==============================] - 13s 354ms/step - loss: 1131820032.0000 - mape: 15.6980 - val_loss: 243962128.0000 - val_mape: 4.7182\n",
      "Epoch 44/50\n",
      "38/38 [==============================] - 1s 17ms/step - loss: 1094286080.0000 - mape: 15.8387 - val_loss: 384388160.0000 - val_mape: 7.4886\n",
      "Epoch 45/50\n",
      "38/38 [==============================] - 1s 20ms/step - loss: 1075906432.0000 - mape: 15.6038 - val_loss: 501216448.0000 - val_mape: 8.9716\n",
      "Epoch 46/50\n",
      "38/38 [==============================] - 1s 17ms/step - loss: 1124686464.0000 - mape: 15.8064 - val_loss: 534077056.0000 - val_mape: 9.4880\n",
      "Epoch 47/50\n",
      "38/38 [==============================] - 1s 23ms/step - loss: 1148974208.0000 - mape: 15.4528 - val_loss: 336030208.0000 - val_mape: 6.7687\n",
      "Epoch 48/50\n",
      "38/38 [==============================] - 1s 18ms/step - loss: 1144912128.0000 - mape: 15.6656 - val_loss: 353238880.0000 - val_mape: 7.0908\n",
      "Epoch 49/50\n",
      "38/38 [==============================] - 1s 19ms/step - loss: 1076404352.0000 - mape: 15.8371 - val_loss: 382709568.0000 - val_mape: 7.5565\n",
      "Epoch 50/50\n",
      "38/38 [==============================] - 1s 18ms/step - loss: 1165643136.0000 - mape: 16.1951 - val_loss: 535402624.0000 - val_mape: 9.5516\n"
     ]
    }
   ],
   "source": [
    "pre_days = 10\n",
    "mem_days = [5]\n",
    "lstm_layers = [1]\n",
    "dense_layer = [1]\n",
    "units = [32]\n",
    "for the_mem_days in mem_days:\n",
    "    for the_lstm_layers in lstm_layers:\n",
    "        for the_dense_layers in dense_layer:\n",
    "            for the_units in units:\n",
    "                filepath = './models/{val_mape:.2f}_{epoch:02d}_'+f'men_{the_lstm_layers}_lstm_{the_lstm_layers}_dense_{the_lstm_layers}_unit_{the_units}'\n",
    "                checkpoint = ModelCheckpoint(filepath=filepath,\n",
    "                                             save_weights_only = False,\n",
    "                                             monitor='val_mape',\n",
    "                                             mode='min',\n",
    "                                             save_best_only=True)\n",
    "                # print(filepath)\n",
    "                X,y,X_lately = lstm_precessing(dataset_train,the_mem_days,pre_days)\n",
    "                X_train, X_test, y_train, y_test = train_test_split(X,y,shuffle=False,test_size=0.1)\n",
    "                model = Sequential()\n",
    "                # 第一层\n",
    "                model.add(LSTM(the_units, input_shape=X.shape[1:], activation='relu',return_sequences=True)) # 10个神经元   回归性质return_sequences=True\n",
    "                model.add(Dropout(0.1)) # 防止过拟合，删除0.1%的神经元\n",
    "\n",
    "                # 构建第二层\n",
    "                for i in range(the_lstm_layers):\n",
    "                    model.add(LSTM(the_units, activation='relu',return_sequences=True))\n",
    "                    model.add(Dropout(0.1))\n",
    "\n",
    "                # 第三层\n",
    "                model.add(LSTM(the_units, activation='relu'))\n",
    "                model.add(Dropout(0.1))\n",
    "\n",
    "                # 输出层\n",
    "                for i in range(the_dense_layers):\n",
    "                    model.add(Dense(the_units,activation='relu'))\n",
    "                    model.add(Dropout(0.1))\n",
    "\n",
    "                model.add(Dense(1))\n",
    "                # 编译\n",
    "                model.compile(optimizer='adam', loss='mse', metrics=['mape'])\n",
    "\n",
    "                model.fit(X_train, y_train,batch_size=32,epochs=50, validation_data=(X_test,y_test),callbacks=checkpoint)"
   ]
  },
  {
   "cell_type": "code",
   "execution_count": 64,
   "metadata": {
    "scrolled": true
   },
   "outputs": [
    {
     "name": "stdout",
     "output_type": "stream",
     "text": [
      "Model: \"sequential_1\"\n",
      "_________________________________________________________________\n",
      " Layer (type)                Output Shape              Param #   \n",
      "=================================================================\n",
      " lstm_3 (LSTM)               (None, 5, 32)             5120      \n",
      "                                                                 \n",
      " dropout_4 (Dropout)         (None, 5, 32)             0         \n",
      "                                                                 \n",
      " lstm_4 (LSTM)               (None, 5, 32)             8320      \n",
      "                                                                 \n",
      " dropout_5 (Dropout)         (None, 5, 32)             0         \n",
      "                                                                 \n",
      " lstm_5 (LSTM)               (None, 32)                8320      \n",
      "                                                                 \n",
      " dropout_6 (Dropout)         (None, 32)                0         \n",
      "                                                                 \n",
      " dense_2 (Dense)             (None, 32)                1056      \n",
      "                                                                 \n",
      " dropout_7 (Dropout)         (None, 32)                0         \n",
      "                                                                 \n",
      " dense_3 (Dense)             (None, 1)                 33        \n",
      "                                                                 \n",
      "=================================================================\n",
      "Total params: 22,849\n",
      "Trainable params: 22,849\n",
      "Non-trainable params: 0\n",
      "_________________________________________________________________\n"
     ]
    }
   ],
   "source": [
    "from keras.models import load_model\n",
    "best_model = load_model('./models/4.72_43_men_1_lstm_1_dense_1_unit_32')\n",
    "best_model.summary()"
   ]
  },
  {
   "cell_type": "code",
   "execution_count": 65,
   "metadata": {},
   "outputs": [
    {
     "name": "stdout",
     "output_type": "stream",
     "text": [
      "133\n",
      "5/5 [==============================] - 1s 6ms/step - loss: 243962128.0000 - mape: 4.7182\n"
     ]
    },
    {
     "data": {
      "text/plain": [
       "Index(['2021-04-13', '2021-04-14', '2021-04-15', '2021-04-16', '2021-04-17',\n",
       "       '2021-04-18', '2021-04-19', '2021-04-20', '2021-04-21', '2021-04-22',\n",
       "       ...\n",
       "       '2021-08-12', '2021-08-13', '2021-08-14', '2021-08-15', '2021-08-16',\n",
       "       '2021-08-17', '2021-08-18', '2021-08-19', '2021-08-20', '2021-08-21'],\n",
       "      dtype='object', name='datetime', length=133)"
      ]
     },
     "execution_count": 65,
     "metadata": {},
     "output_type": "execute_result"
    }
   ],
   "source": [
    "pre = best_model.predict(X_test)\n",
    "print(len(pre))\n",
    "best_model.evaluate(X_test,y_test)\n",
    "\n",
    "df_time = dataset_train.index[-len(y_test):]\n",
    "df_time"
   ]
  },
  {
   "cell_type": "code",
   "execution_count": 45,
   "metadata": {},
   "outputs": [
    {
     "data": {
      "text/plain": [
       "array([[[ 0.10136643, -0.90997872, -0.22706025, ..., -1.34374147,\n",
       "          0.94319619,  1.11196404],\n",
       "        [ 0.14042542, -0.4295589 , -0.22706025, ..., -1.34374147,\n",
       "          0.94319619, -0.88544177],\n",
       "        [ 0.09843362,  0.05086092, -0.22706025, ..., -1.34374147,\n",
       "          0.94319619, -0.88544177],\n",
       "        [ 0.12872281,  0.21100086,  0.10153101, ..., -1.34374147,\n",
       "          0.94319619, -0.88544177],\n",
       "        [ 0.2953595 ,  0.3711408 ,  0.26582664, ..., -1.34374147,\n",
       "         -0.98922694, -0.88544177]],\n",
       "\n",
       "       [[ 0.14042542, -0.4295589 , -0.22706025, ..., -1.34374147,\n",
       "          0.94319619, -0.88544177],\n",
       "        [ 0.09843362,  0.05086092, -0.22706025, ..., -1.34374147,\n",
       "          0.94319619, -0.88544177],\n",
       "        [ 0.12872281,  0.21100086,  0.10153101, ..., -1.34374147,\n",
       "          0.94319619, -0.88544177],\n",
       "        [ 0.2953595 ,  0.3711408 ,  0.26582664, ..., -1.34374147,\n",
       "         -0.98922694, -0.88544177],\n",
       "        [ 0.34747889,  0.53128075,  0.43012226, ..., -1.34374147,\n",
       "         -0.98922694,  1.51144521]],\n",
       "\n",
       "       [[ 0.09843362,  0.05086092, -0.22706025, ..., -1.34374147,\n",
       "          0.94319619, -0.88544177],\n",
       "        [ 0.12872281,  0.21100086,  0.10153101, ..., -1.34374147,\n",
       "          0.94319619, -0.88544177],\n",
       "        [ 0.2953595 ,  0.3711408 ,  0.26582664, ..., -1.34374147,\n",
       "         -0.98922694, -0.88544177],\n",
       "        [ 0.34747889,  0.53128075,  0.43012226, ..., -1.34374147,\n",
       "         -0.98922694,  1.51144521],\n",
       "        [ 0.33303962, -0.10927902,  0.10153101, ..., -1.34374147,\n",
       "          0.74995388, -1.28492293]],\n",
       "\n",
       "       ...,\n",
       "\n",
       "       [[ 0.25412159,  0.69142069,  0.75871352, ..., -1.34374147,\n",
       "         -1.37571157,  1.51144521],\n",
       "        [ 0.02270863,  0.85156063,  0.75871352, ..., -1.34374147,\n",
       "          1.32968082, -0.88544177],\n",
       "        [ 0.26902263,  1.01170057,  1.08730478, ..., -1.34374147,\n",
       "         -0.98922694, -0.88544177],\n",
       "        [ 0.41139855,  1.33198045,  1.08730478, ..., -1.34374147,\n",
       "          1.32968082,  1.11196404],\n",
       "        [ 0.32914549,  0.85156063,  0.75871352, ..., -1.34374147,\n",
       "          1.32968082, -0.88544177]],\n",
       "\n",
       "       [[ 0.02270863,  0.85156063,  0.75871352, ..., -1.34374147,\n",
       "          1.32968082, -0.88544177],\n",
       "        [ 0.26902263,  1.01170057,  1.08730478, ..., -1.34374147,\n",
       "         -0.98922694, -0.88544177],\n",
       "        [ 0.41139855,  1.33198045,  1.08730478, ..., -1.34374147,\n",
       "          1.32968082,  1.11196404],\n",
       "        [ 0.32914549,  0.85156063,  0.75871352, ..., -1.34374147,\n",
       "          1.32968082, -0.88544177],\n",
       "        [ 0.32682252,  1.17184051,  0.92300915, ..., -1.34374147,\n",
       "         -0.98922694, -0.88544177]],\n",
       "\n",
       "       [[ 0.26902263,  1.01170057,  1.08730478, ..., -1.34374147,\n",
       "         -0.98922694, -0.88544177],\n",
       "        [ 0.41139855,  1.33198045,  1.08730478, ..., -1.34374147,\n",
       "          1.32968082,  1.11196404],\n",
       "        [ 0.32914549,  0.85156063,  0.75871352, ..., -1.34374147,\n",
       "          1.32968082, -0.88544177],\n",
       "        [ 0.32682252,  1.17184051,  0.92300915, ..., -1.34374147,\n",
       "         -0.98922694, -0.88544177],\n",
       "        [ 0.36464024,  1.33198045,  1.08730478, ..., -1.34374147,\n",
       "          0.36346925,  0.5127423 ]]])"
      ]
     },
     "execution_count": 45,
     "metadata": {},
     "output_type": "execute_result"
    }
   ],
   "source": [
    "X_test"
   ]
  },
  {
   "cell_type": "code",
   "execution_count": 66,
   "metadata": {},
   "outputs": [
    {
     "data": {
      "text/plain": [
       "array([219978.3269, 222067.7546, 221488.8949, 217688.21  , 215244.8495,\n",
       "       215680.5334, 206932.3235, 213464.3468, 214640.4619, 217668.2547,\n",
       "       221243.2293, 220814.3059, 217351.5691, 210133.7971, 195984.4511,\n",
       "       194827.1843, 193739.2753, 193752.7208, 181785.0107, 148128.4075,\n",
       "       160130.0401, 209234.8122, 214531.9956, 219035.3919, 222598.3261,\n",
       "       226968.5548, 227256.2277, 225380.0523, 227305.9541, 227691.5087,\n",
       "       231244.4309, 231446.4402, 228851.932 , 224510.5347, 223559.8981,\n",
       "       231762.9234, 232804.4018, 232726.4285, 231173.2772, 232607.563 ,\n",
       "       228768.9338, 230691.8396, 220418.8638, 232667.4904, 227747.1988,\n",
       "       231324.5978, 230517.9803, 224557.5021, 227000.9944, 221530.0045,\n",
       "       220036.2106, 223042.7094, 228026.154 , 228026.154 , 228026.154 ,\n",
       "       221036.1864, 220750.3849, 223065.4583, 225219.7091, 226138.3983,\n",
       "       224665.567 , 225071.4845, 224239.9671, 219788.0002, 209546.4107,\n",
       "       185500.0182, 223023.2659, 227009.2726, 224804.5586, 227816.4669,\n",
       "       227734.9093, 222447.362 , 223654.5195, 224198.3938, 219161.7759,\n",
       "       223090.7299, 222452.3594, 221211.0423, 217867.2617, 224411.885 ,\n",
       "       224482.1198, 220274.2374, 223446.0648, 226068.168 , 226826.5229,\n",
       "       225892.3331, 227096.7131, 229853.4808, 227564.2832, 228843.6438,\n",
       "       227707.9301, 227743.8917, 221067.0515, 229517.8257, 230172.2073,\n",
       "       230580.668 , 228283.5523, 221101.9343, 221580.2879, 220153.8831,\n",
       "       225089.132 , 225102.8433, 221200.1621, 223890.8457, 227325.12  ,\n",
       "       223997.5567, 223746.7195, 227512.2194, 229205.1971, 227728.8012,\n",
       "       225145.771 , 224755.741 , 213977.2514, 209270.0348, 221241.1736,\n",
       "       218677.9453, 221052.7084, 220190.9815, 221476.0038, 217962.9607,\n",
       "       217660.4926, 216230.4143, 217440.573 , 217639.7663, 221503.3738,\n",
       "       221573.5938, 218325.1298, 209047.9569, 218922.5017, 224630.246 ,\n",
       "       221332.782 , 221239.6561, 222755.7402])"
      ]
     },
     "execution_count": 66,
     "metadata": {},
     "output_type": "execute_result"
    }
   ],
   "source": [
    "y_test  # 2021-08-21    len = 133"
   ]
  },
  {
   "cell_type": "code",
   "execution_count": 73,
   "metadata": {},
   "outputs": [
    {
     "data": {
      "text/plain": [
       "Index(['2021-04-13', '2021-04-14', '2021-04-15', '2021-04-16', '2021-04-17',\n",
       "       '2021-04-18', '2021-04-19', '2021-04-20', '2021-04-21', '2021-04-22',\n",
       "       ...\n",
       "       '2021-07-29', '2021-07-30', '2021-07-31', '2021-08-01', '2021-08-02',\n",
       "       '2021-08-03', '2021-08-04', '2021-08-05', '2021-08-06', '2021-08-07'],\n",
       "      dtype='object', name='datetime', length=119)"
      ]
     },
     "execution_count": 73,
     "metadata": {},
     "output_type": "execute_result"
    }
   ],
   "source": [
    "y_draw_test = y_test[:-14]\n",
    "y_draw_predict = pre[14:]\n",
    "df_draw_time = dataset_train.index[-len(y_test):-14]\n",
    "df_draw_time "
   ]
  },
  {
   "cell_type": "code",
   "execution_count": 77,
   "metadata": {},
   "outputs": [
    {
     "data": {
      "text/plain": [
       "Text(0.5, 1.0, 'TEST')"
      ]
     },
     "execution_count": 77,
     "metadata": {},
     "output_type": "execute_result"
    },
    {
     "data": {
      "image/png": "[encoded data removed]",
      "text/plain": [
       "<Figure size 1008x360 with 1 Axes>"
      ]
     },
     "metadata": {
      "needs_background": "light"
     },
     "output_type": "display_data"
    }
   ],
   "source": [
    "rcParams['figure.figsize'] = 14,5\n",
    "rcParams['font.sans-serif'] = ['SimHei']\n",
    "plt.rcParams['axes.unicode_minus']=False\n",
    "plt.plot(df_draw_time , y_draw_test,color='b',label='actual')\n",
    "plt.plot(df_draw_time , y_draw_predict,color='r',label='predict')\n",
    "plt.xticks(range(0,113,10),rotation=45, fontsize=10)\n",
    "plt.grid(which='major', color='#cccccc',alpha=0.5)\n",
    "plt.xlabel('Timeline', family='Arial', fontsize=15)\n",
    "plt.ylabel('Power Load Value', family='Arial', fontsize=15)\n",
    "plt.legend(fontsize=15,shadow=True)\n",
    "\n",
    "plt.title(\"TEST\", family='Arial', fontsize=15)"
   ]
  },
  {
   "cell_type": "code",
   "execution_count": 78,
   "metadata": {},
   "outputs": [
    {
     "name": "stdout",
     "output_type": "stream",
     "text": [
      "训练集上的MAE/MSE/MAPE\n",
      "6121.074871218488\n",
      "69517401.33527972\n",
      "5.120414323150268\n"
     ]
    }
   ],
   "source": [
    "from sklearn.metrics import mean_absolute_error\n",
    "from sklearn.metrics import mean_squared_error\n",
    "import math\n",
    "def mape(y_true, y_pred):\n",
    "    return np.mean(np.abs((y_pred - y_true) / y_true)) * 100\n",
    "print('训练集上的MAE/MSE/MAPE')\n",
    "print(mean_absolute_error(y_draw_predict, y_draw_test))\n",
    "print(mean_squared_error(y_draw_predict, y_draw_test) )\n",
    "print(mape(y_draw_predict, y_draw_test) )"
   ]
  },
  {
   "cell_type": "code",
   "execution_count": 67,
   "metadata": {
    "scrolled": false
   },
   "outputs": [
    {
     "data": {
      "text/plain": [
       "Text(0.5, 1.0, 'TEST')"
      ]
     },
     "execution_count": 67,
     "metadata": {},
     "output_type": "execute_result"
    },
    {
     "data": {
      "image/png": "[encoded data removed]",
      "text/plain": [
       "<Figure size 1440x432 with 1 Axes>"
      ]
     },
     "metadata": {
      "needs_background": "light"
     },
     "output_type": "display_data"
    }
   ],
   "source": [
    "rcParams['figure.figsize'] = 20,6\n",
    "rcParams['font.sans-serif'] = ['SimHei']\n",
    "plt.rcParams['axes.unicode_minus']=False\n",
    "plt.plot(df_time, y_test,color='b',label='actual')\n",
    "plt.plot(df_time, pre,color='r',label='predict')\n",
    "plt.xticks(range(0,133,10),rotation=45, fontsize=8)\n",
    "plt.legend(fontsize=14)\n",
    "plt.title(\"TEST\")"
   ]
  },
  {
   "cell_type": "code",
   "execution_count": 53,
   "metadata": {},
   "outputs": [
    {
     "data": {
      "text/html": [
       "<div>\n",
       "<style scoped>\n",
       "    .dataframe tbody tr th:only-of-type {\n",
       "        vertical-align: middle;\n",
       "    }\n",
       "\n",
       "    .dataframe tbody tr th {\n",
       "        vertical-align: top;\n",
       "    }\n",
       "\n",
       "    .dataframe thead th {\n",
       "        text-align: right;\n",
       "    }\n",
       "</style>\n",
       "<table border=\"1\" class=\"dataframe\">\n",
       "  <thead>\n",
       "    <tr style=\"text-align: right;\">\n",
       "      <th></th>\n",
       "      <th>real</th>\n",
       "      <th>predict</th>\n",
       "    </tr>\n",
       "  </thead>\n",
       "  <tbody>\n",
       "    <tr>\n",
       "      <th>0</th>\n",
       "      <td>218272.8558</td>\n",
       "      <td>204735.906250</td>\n",
       "    </tr>\n",
       "    <tr>\n",
       "      <th>1</th>\n",
       "      <td>198095.4471</td>\n",
       "      <td>207267.093750</td>\n",
       "    </tr>\n",
       "    <tr>\n",
       "      <th>2</th>\n",
       "      <td>176500.0678</td>\n",
       "      <td>208498.875000</td>\n",
       "    </tr>\n",
       "    <tr>\n",
       "      <th>3</th>\n",
       "      <td>201305.0987</td>\n",
       "      <td>206965.781250</td>\n",
       "    </tr>\n",
       "    <tr>\n",
       "      <th>4</th>\n",
       "      <td>213546.5440</td>\n",
       "      <td>210610.093750</td>\n",
       "    </tr>\n",
       "    <tr>\n",
       "      <th>...</th>\n",
       "      <td>...</td>\n",
       "      <td>...</td>\n",
       "    </tr>\n",
       "    <tr>\n",
       "      <th>128</th>\n",
       "      <td>221476.0038</td>\n",
       "      <td>220383.687500</td>\n",
       "    </tr>\n",
       "    <tr>\n",
       "      <th>129</th>\n",
       "      <td>217962.9607</td>\n",
       "      <td>218186.453125</td>\n",
       "    </tr>\n",
       "    <tr>\n",
       "      <th>130</th>\n",
       "      <td>217660.4926</td>\n",
       "      <td>219382.718750</td>\n",
       "    </tr>\n",
       "    <tr>\n",
       "      <th>131</th>\n",
       "      <td>216230.4143</td>\n",
       "      <td>215881.109375</td>\n",
       "    </tr>\n",
       "    <tr>\n",
       "      <th>132</th>\n",
       "      <td>217440.5730</td>\n",
       "      <td>211276.203125</td>\n",
       "    </tr>\n",
       "  </tbody>\n",
       "</table>\n",
       "<p>133 rows × 2 columns</p>\n",
       "</div>"
      ],
      "text/plain": [
       "            real        predict\n",
       "0    218272.8558  204735.906250\n",
       "1    198095.4471  207267.093750\n",
       "2    176500.0678  208498.875000\n",
       "3    201305.0987  206965.781250\n",
       "4    213546.5440  210610.093750\n",
       "..           ...            ...\n",
       "128  221476.0038  220383.687500\n",
       "129  217962.9607  218186.453125\n",
       "130  217660.4926  219382.718750\n",
       "131  216230.4143  215881.109375\n",
       "132  217440.5730  211276.203125\n",
       "\n",
       "[133 rows x 2 columns]"
      ]
     },
     "execution_count": 53,
     "metadata": {},
     "output_type": "execute_result"
    }
   ],
   "source": [
    "draw=pd.concat([pd.DataFrame(y_test),pd.DataFrame(pre)],axis=1);\n",
    "draw.columns = ['real','predict']\n",
    "draw"
   ]
  },
  {
   "cell_type": "code",
   "execution_count": null,
   "metadata": {},
   "outputs": [],
   "source": [
    "from sklearn.metrics import mean_absolute_error\n",
    "from sklearn.metrics import mean_squared_error\n",
    "\n"
   ]
  }
 ],
 "metadata": {
  "kernelspec": {
   "display_name": "Python 3 (ipykernel)",
   "language": "python",
   "name": "python3"
  },
  "language_info": {
   "codemirror_mode": {
    "name": "ipython",
    "version": 3
   },
   "file_extension": ".py",
   "mimetype": "text/x-python",
   "name": "python",
   "nbconvert_exporter": "python",
   "pygments_lexer": "ipython3",
   "version": "3.8.2"
  }
 },
 "nbformat": 4,
 "nbformat_minor": 1
}
